{
 "cells": [
  {
   "cell_type": "markdown",
   "id": "318c7440-bea6-4cdd-bd38-6b9f645cd4a6",
   "metadata": {},
   "source": [
    "# List"
   ]
  },
  {
   "cell_type": "raw",
   "id": "f53f33dd-3343-426d-84e7-4e6f9b90df86",
   "metadata": {},
   "source": [
    "All data structures are built from lists. A dict is a pair of lists, a table is a special dictionary, akeyed table is a apair of tables."
   ]
  },
  {
   "cell_type": "code",
   "execution_count": 1,
   "id": "7c2c86b9-11d3-45c0-b823-bb495297c350",
   "metadata": {},
   "outputs": [
    {
     "data": {
      "text/plain": [
       "1 2\n"
      ]
     },
     "execution_count": 1,
     "metadata": {},
     "output_type": "execute_result"
    },
    {
     "data": {
      "text/plain": [
       "1 2\n"
      ]
     },
     "execution_count": 1,
     "metadata": {},
     "output_type": "execute_result"
    },
    {
     "data": {
      "text/plain": [
       "1\n",
       "1.1\n",
       "2.3e+07\n"
      ]
     },
     "execution_count": 1,
     "metadata": {},
     "output_type": "execute_result"
    }
   ],
   "source": [
    "/List is an ordered collection of data.\n",
    "/Lists encloses items with ( and ) and uses ; as separator\n",
    "G:(1;2)\n",
    "G\n",
    "G:(1 ; 2)\n",
    "G\n",
    "\n",
    "/List can have different types within it\n",
    "GG:(1 ; 1.1 ; 2.3e7)\n",
    "GG"
   ]
  },
  {
   "cell_type": "code",
   "execution_count": 2,
   "id": "695157d3-8d21-4ded-8d24-0672ca37a9f1",
   "metadata": {},
   "outputs": [
    {
     "data": {
      "text/plain": [
       "\"List of list\"\n"
      ]
     },
     "execution_count": 2,
     "metadata": {},
     "output_type": "execute_result"
    },
    {
     "data": {
      "text/plain": [
       "1 2\n",
       "3 4\n"
      ]
     },
     "execution_count": 2,
     "metadata": {},
     "output_type": "execute_result"
    },
    {
     "data": {
      "text/plain": [
       "1 2\n",
       "3 4\n",
       "5\n"
      ]
     },
     "execution_count": 2,
     "metadata": {},
     "output_type": "execute_result"
    }
   ],
   "source": [
    "\"List of list\"\n",
    "GGG:( (1 ; 2) ; (3 ; 4) )\n",
    "GGG /Displayed in matrix/array form making it easy to read\n",
    "\n",
    "/List of list with unequal form\n",
    "GGGG:( (1 ; 2) ; (3 ; 4) ; 5 )\n",
    "GGGG"
   ]
  },
  {
   "cell_type": "code",
   "execution_count": 4,
   "id": "03c4d53b-a99b-4096-8c43-be5cbecf7e93",
   "metadata": {},
   "outputs": [
    {
     "data": {
      "text/plain": [
       "\"Simple List\"\n"
      ]
     },
     "execution_count": 4,
     "metadata": {},
     "output_type": "execute_result"
    },
    {
     "data": {
      "text/plain": [
       "1 2 3 4\n"
      ]
     },
     "execution_count": 4,
     "metadata": {},
     "output_type": "execute_result"
    }
   ],
   "source": [
    "\"Simple List\"\n",
    "/List can contain items of different types\n",
    "/If list has homogenous type of values then we can use its simpified form for defining\n",
    "/Simple form: no parenthesis and is separated by space\n",
    "H: 1 2 3 4\n",
    "H\n",
    "\n",
    "/Notice that GG, GGG, GGGG are displayed different in the console (i.e. they are displayed vertically)\n",
    "/The reason behind this is that they either do not have homogenous types within the list or are a list of list.\n",
    "/These are called general lists\n",
    "\n",
    "/G and H is what you would call a simple list since it has homogenous type\n",
    "/The syntax of intializing a simple list doesnt matter:"
   ]
  },
  {
   "cell_type": "code",
   "execution_count": 5,
   "id": "47aa678d-7a3e-4163-9be8-011597e8dc53",
   "metadata": {},
   "outputs": [
    {
     "data": {
      "text/plain": [
       "1b\n"
      ]
     },
     "execution_count": 5,
     "metadata": {},
     "output_type": "execute_result"
    }
   ],
   "source": [
    "/ ~ is used to check if the two lists are equal as a whole. Doesnt show by each element\n",
    "1 2 3 4 ~ (1 ; 2 ; 3 ; 4)"
   ]
  },
  {
   "cell_type": "code",
   "execution_count": 6,
   "id": "128395f2-7c0c-4f5c-925b-b11a4002ca6f",
   "metadata": {},
   "outputs": [
    {
     "data": {
      "text/plain": [
       "\"Hello\"\n"
      ]
     },
     "execution_count": 6,
     "metadata": {},
     "output_type": "execute_result"
    },
    {
     "data": {
      "text/plain": [
       "\"Hello\"\n"
      ]
     },
     "execution_count": 6,
     "metadata": {},
     "output_type": "execute_result"
    },
    {
     "data": {
      "text/plain": [
       "1b\n"
      ]
     },
     "execution_count": 6,
     "metadata": {},
     "output_type": "execute_result"
    }
   ],
   "source": [
    "/Simple char lists display as strings and in fact are strings\n",
    "S: (\"H\" ; \"e\" ; \"l\" ; \"l\" ; \"o\")\n",
    "S\n",
    "/Since a string is a list of chars, you cannot ask if two srings of different length are equal using =.\n",
    "/But you can ask if they are identical using ~\n",
    "/We can also intialize string using double quotations\n",
    "SS: \"Hello\"\n",
    "SS\n",
    "/SS = \"Hell\" /Error\n",
    "SS ~ S"
   ]
  },
  {
   "cell_type": "code",
   "execution_count": 7,
   "id": "91c7ae91-7be0-4054-8a1b-c94b9c44c889",
   "metadata": {},
   "outputs": [
    {
     "data": {
      "text/plain": [
       "\"Temporal Lists\"\n"
      ]
     },
     "execution_count": 7,
     "metadata": {},
     "output_type": "execute_result"
    },
    {
     "data": {
      "text/plain": [
       "1997.10.27\n",
       "1995.10.27D22:34:45.000000000\n"
      ]
     },
     "execution_count": 7,
     "metadata": {},
     "output_type": "execute_result"
    },
    {
     "data": {
      "text/plain": [
       "12:34\n",
       "01:02:03\n"
      ]
     },
     "execution_count": 7,
     "metadata": {},
     "output_type": "execute_result"
    }
   ],
   "source": [
    "\"Temporal Lists\"\n",
    "/General lists for temporal aka time and date type variables.\n",
    "/We can only have simple lists for temporal types so if you specify a general list all items get widened or narrowed to the first element type\n",
    "(1997.10.27 ; 1995.10.27D22:34:45)\n",
    "\n",
    "(12:34 ; 01:02:03)\n",
    "\n",
    "/It seems that it does not get forced to simple list. May have been updated since the book release."
   ]
  },
  {
   "cell_type": "code",
   "execution_count": 8,
   "id": "de6c5a63-33e7-4a55-bbc5-8973169a2d96",
   "metadata": {},
   "outputs": [
    {
     "data": {
      "text/plain": [
       "\"Empty list\"\n"
      ]
     },
     "execution_count": 8,
     "metadata": {},
     "output_type": "execute_result"
    }
   ],
   "source": [
    "\"Empty list\"\n",
    "/Open close parentheses with nothing in between. You can have optional whitespace.\n",
    "Empty: ()"
   ]
  },
  {
   "cell_type": "code",
   "execution_count": 10,
   "id": "8006bead-5a2f-430b-b74c-0a1e8d0c923c",
   "metadata": {},
   "outputs": [
    {
     "data": {
      "text/plain": [
       "\"Singleton lists\"\n"
      ]
     },
     "execution_count": 10,
     "metadata": {},
     "output_type": "execute_result"
    },
    {
     "data": {
      "text/plain": [
       ",\"S\"\n"
      ]
     },
     "execution_count": 10,
     "metadata": {},
     "output_type": "execute_result"
    },
    {
     "data": {
      "text/plain": [
       "0b\n"
      ]
     },
     "execution_count": 10,
     "metadata": {},
     "output_type": "execute_result"
    },
    {
     "data": {
      "text/plain": [
       "1 2 3 4\n"
      ]
     },
     "execution_count": 10,
     "metadata": {},
     "output_type": "execute_result"
    }
   ],
   "source": [
    "\"Singleton lists\"\n",
    "/A list containing a single item\n",
    "/We have to use the keyword enlist\n",
    "Single: enlist \"S\"\n",
    "Single\n",
    "\n",
    "/The enlist keyword doesnt just work on a single atom, it can be any q entity\n",
    "SS : ( (1;2) ; (3;4))\n",
    "SSS : enlist SS\n",
    "SSS ~ SS\n",
    "SSS\n",
    "/Note that it flattens a list of list. A useful feature to keep in mind"
   ]
  },
  {
   "cell_type": "code",
   "execution_count": 11,
   "id": "4b6c9464-4509-436f-9f55-6a918c331988",
   "metadata": {},
   "outputs": [
    {
     "data": {
      "text/plain": [
       "2\n",
       "`Hello\n",
       "1b\n",
       "4\n"
      ]
     },
     "execution_count": 11,
     "metadata": {},
     "output_type": "execute_result"
    }
   ],
   "source": [
    "/List construction can take place where we are calling other functions or existing variables\n",
    "A: 1 2 3 4\n",
    "AA: 2\n",
    "BB: `Hello\n",
    "CC: 1b\n",
    "L1: (AA ; BB ; CC ; count A)\n",
    "L1"
   ]
  },
  {
   "cell_type": "code",
   "execution_count": 13,
   "id": "0869144a-54e9-4e5f-8e11-cd64826bf736",
   "metadata": {},
   "outputs": [
    {
     "data": {
      "text/plain": [
       "\"A\"\n"
      ]
     },
     "execution_count": 13,
     "metadata": {},
     "output_type": "execute_result"
    },
    {
     "data": {
      "text/plain": [
       "\"A\"\n",
       "2\n"
      ]
     },
     "execution_count": 13,
     "metadata": {},
     "output_type": "execute_result"
    }
   ],
   "source": [
    "/Lists as maps\n",
    "/We can think of lists as a mathematical mapping provided by item indexing. \n",
    "/So the I/O table would be where I is the index and 0 is the list value\n",
    "i:(\"A\" ; 2 ; 4.2 ; 5) /Has the map i=0 for \"A\" and so on\n",
    "i[0]\n",
    "/For a nested list it is slightly different\n",
    "i:((\"A\" ; 2) ; (4.2 ; 5)) /Has the map i=0 for (\"A\" ; 2) and i=2 for (4.2 ; 5)\n",
    "i[0]"
   ]
  },
  {
   "cell_type": "code",
   "execution_count": 14,
   "id": "250d1ea1-d812-4404-8e72-a5b06b12edee",
   "metadata": {},
   "outputs": [
    {
     "data": {
      "text/plain": [
       "\"Nested lists\"\n"
      ]
     },
     "execution_count": 14,
     "metadata": {},
     "output_type": "execute_result"
    },
    {
     "data": {
      "text/plain": [
       "1\n"
      ]
     },
     "execution_count": 14,
     "metadata": {},
     "output_type": "execute_result"
    },
    {
     "data": {
      "text/plain": [
       "3\n"
      ]
     },
     "execution_count": 14,
     "metadata": {},
     "output_type": "execute_result"
    }
   ],
   "source": [
    "\"Nested lists\"\n",
    "/They have item themselves that are lists\n",
    "/The number of levels of nesting for a list is called its depth\n",
    "/Depth can be thought of as how much repeated indexing is needed to arrive at only atoms.\n",
    "/Atoms have depth 0 and simple lists have depth 1\n",
    "L1: (1 ; 2 ; (3 ; 4))\n",
    "L1[0]\n",
    "L1[2][0] /Depth of 2 to get to atoms."
   ]
  },
  {
   "cell_type": "code",
   "execution_count": 15,
   "id": "106b58fa-23eb-4629-b3da-4fe256b3a26e",
   "metadata": {},
   "outputs": [
    {
     "data": {
      "text/plain": [
       "\"Reshape\"\n"
      ]
     },
     "execution_count": 15,
     "metadata": {},
     "output_type": "execute_result"
    },
    {
     "data": {
      "text/plain": [
       "0 1 2 3 4\n",
       "5 6 7 8 9\n"
      ]
     },
     "execution_count": 15,
     "metadata": {},
     "output_type": "execute_result"
    },
    {
     "data": {
      "text/plain": [
       "0 1 2\n",
       "3 4 5\n",
       "6 7 8\n",
       ",9\n"
      ]
     },
     "execution_count": 15,
     "metadata": {},
     "output_type": "execute_result"
    }
   ],
   "source": [
    "\"Reshape\"\n",
    "/We can create an array of given number of rows and vectors using the reshape operator # by specifyinh 0N for the number of rows or columns left\n",
    "LL : 0 1 2 3 4 5 6 7 8 9\n",
    "/Specify rows and columns followed by # and the list\n",
    "2 0N#LL /Columns automatically calculated\n",
    "0N 3#LL /The rows do not need to be of same size"
   ]
  },
  {
   "cell_type": "code",
   "execution_count": 16,
   "id": "527202a2-cf7d-4f6f-93c3-7e01b1d186c9",
   "metadata": {},
   "outputs": [
    {
     "data": {
      "text/plain": [
       "\"Rectangular Lists\"\n"
      ]
     },
     "execution_count": 16,
     "metadata": {},
     "output_type": "execute_result"
    },
    {
     "data": {
      "text/plain": [
       "1         2         3        \n",
       "10   20   100  200  1000 2000\n"
      ]
     },
     "execution_count": 16,
     "metadata": {},
     "output_type": "execute_result"
    },
    {
     "data": {
      "text/plain": [
       "1 10 20    \n",
       "2 100 200  \n",
       "3 1000 2000\n"
      ]
     },
     "execution_count": 16,
     "metadata": {},
     "output_type": "execute_result"
    },
    {
     "data": {
      "text/plain": [
       "1 2   3 4   5 6  \n",
       "10 20 30 40 50 60\n"
      ]
     },
     "execution_count": 16,
     "metadata": {},
     "output_type": "execute_result"
    },
    {
     "data": {
      "text/plain": [
       "1 2\n",
       "3 4\n",
       "5 6\n"
      ]
     },
     "execution_count": 16,
     "metadata": {},
     "output_type": "execute_result"
    },
    {
     "data": {
      "text/plain": [
       "3 4\n"
      ]
     },
     "execution_count": 16,
     "metadata": {},
     "output_type": "execute_result"
    },
    {
     "data": {
      "text/plain": [
       "3\n"
      ]
     },
     "execution_count": 16,
     "metadata": {},
     "output_type": "execute_result"
    }
   ],
   "source": [
    "\"Rectangular Lists\"\n",
    "/A rectangular list is a list of lists all having the same count. Rectangular lists is not a matrix because it can have additional levels of nesting\n",
    "L:(1 2 3; (10 20; 100 200; 1000 2000))\n",
    "L\n",
    "/We can transpose a rectangular list using flip. \n",
    "/Note that it only flips the first two index levels i.e L[1,2] will become L[2,1] when flipped\n",
    "flip L\n",
    "\n",
    "/A matrix is a special case of recatngular lists but each dimension/level must have same length of lists\n",
    "mm:((1 2;3 4;5 6);(10 20;30 40;50 60)) /2x3x2 matrix\n",
    "mm\n",
    "mm[0]\n",
    "mm[0;1]\n",
    "mm[0;1;0]"
   ]
  },
  {
   "cell_type": "code",
   "execution_count": 17,
   "id": "6c02a609-2fa6-4134-b665-14519c20d607",
   "metadata": {
    "tags": []
   },
   "outputs": [
    {
     "data": {
      "text/plain": [
       "\"Indexing\"\n"
      ]
     },
     "execution_count": 17,
     "metadata": {},
     "output_type": "execute_result"
    },
    {
     "data": {
      "text/plain": [
       "1\n"
      ]
     },
     "execution_count": 17,
     "metadata": {},
     "output_type": "execute_result"
    },
    {
     "data": {
      "text/plain": [
       "5555\n"
      ]
     },
     "execution_count": 17,
     "metadata": {},
     "output_type": "execute_result"
    },
    {
     "data": {
      "text/plain": [
       "`\n"
      ]
     },
     "execution_count": 17,
     "metadata": {},
     "output_type": "execute_result"
    },
    {
     "data": {
      "text/plain": [
       "`Hello\n",
       "22\n",
       "2.2\n",
       "5555\n",
       "\"A\"\n"
      ]
     },
     "execution_count": 17,
     "metadata": {},
     "output_type": "execute_result"
    },
    {
     "data": {
      "text/plain": [
       "0N\n"
      ]
     },
     "execution_count": 17,
     "metadata": {},
     "output_type": "execute_result"
    },
    {
     "data": {
      "text/plain": [
       "1 2 3 4 5 6 7 8 9\n"
      ]
     },
     "execution_count": 17,
     "metadata": {},
     "output_type": "execute_result"
    },
    {
     "data": {
      "text/plain": [
       "1 2 3 4 5 6 7 8 9\n"
      ]
     },
     "execution_count": 17,
     "metadata": {},
     "output_type": "execute_result"
    }
   ],
   "source": [
    "\"Indexing\"\n",
    "\n",
    "A: 1 2 3 4 5 6 7 8 9\n",
    "B: 10 11 12 13\n",
    "C: (`Hello ; 2 ; 2.2 ; 5555 ;\"A\")\n",
    "D: (1 ; 2 ; ((1 ; 2) ; (3 ; 4)))\n",
    "\n",
    "/List is indexed from 0 to n-1 just like python\n",
    "A[0]\n",
    "C[3]\n",
    "/Out of bound index return null value\n",
    "C[6] /Null value shown is of the first element type\n",
    "\n",
    "/Items in list can be assigned via indexing\n",
    "C[1] : 22\n",
    "C\n",
    "\n",
    "/Simple lists are built to be fast thus they do not accept assignment to another type\n",
    "/A[0] : `Hell /Gives error\n",
    "\n",
    "/Negative indexing does not work unlike Python where it is very useful\n",
    "A[-1] /Gives null\n",
    "\n",
    "/Nothing in the index bounds return entire list\n",
    "A[]\n",
    "A[::] /:: denotes nil item so it results in empty index as above"
   ]
  },
  {
   "cell_type": "code",
   "execution_count": 18,
   "id": "97dc01d6-8369-4e3c-959a-7d014c2fe5f1",
   "metadata": {
    "tags": []
   },
   "outputs": [
    {
     "data": {
      "text/plain": [
       "\"Nested Indexing\"\n"
      ]
     },
     "execution_count": 18,
     "metadata": {},
     "output_type": "execute_result"
    },
    {
     "data": {
      "text/plain": [
       "1 2\n"
      ]
     },
     "execution_count": 18,
     "metadata": {},
     "output_type": "execute_result"
    },
    {
     "data": {
      "text/plain": [
       "2\n"
      ]
     },
     "execution_count": 18,
     "metadata": {},
     "output_type": "execute_result"
    },
    {
     "data": {
      "text/plain": [
       "1 2\n"
      ]
     },
     "execution_count": 18,
     "metadata": {},
     "output_type": "execute_result"
    },
    {
     "data": {
      "text/plain": [
       "2\n"
      ]
     },
     "execution_count": 18,
     "metadata": {},
     "output_type": "execute_result"
    },
    {
     "data": {
      "text/plain": [
       "1\n",
       "2\n",
       "(1 44444;3 4)\n"
      ]
     },
     "execution_count": 18,
     "metadata": {},
     "output_type": "execute_result"
    }
   ],
   "source": [
    "\"Nested Indexing\"\n",
    "\n",
    "/Nested indexing also called iterated indexing\n",
    "D[2][0] /Second level\n",
    "D[2][0][1] /Third level\n",
    "/Alternate notation for nested indexing called indexing at depth\n",
    "D[2;0]\n",
    "D[2;0;1]\n",
    "\n",
    "/Assignment works with indexing at depth but not iterated indexing\n",
    "D[2;0;1] : 44444\n",
    "D\n",
    "/D[2][0][1] : 44 /Gives error"
   ]
  },
  {
   "cell_type": "code",
   "execution_count": 19,
   "id": "3f9cad1c-911f-4518-94b5-80bb93dd8ee4",
   "metadata": {
    "tags": []
   },
   "outputs": [
    {
     "data": {
      "text/plain": [
       "\"Indexing with Lists\"\n"
      ]
     },
     "execution_count": 19,
     "metadata": {},
     "output_type": "execute_result"
    },
    {
     "data": {
      "text/plain": [
       "1 3\n"
      ]
     },
     "execution_count": 19,
     "metadata": {},
     "output_type": "execute_result"
    },
    {
     "data": {
      "text/plain": [
       "1 3\n"
      ]
     },
     "execution_count": 19,
     "metadata": {},
     "output_type": "execute_result"
    },
    {
     "data": {
      "text/plain": [
       "3 1 5 2\n"
      ]
     },
     "execution_count": 19,
     "metadata": {},
     "output_type": "execute_result"
    },
    {
     "data": {
      "text/plain": [
       "5 7 4 4 6 6 7 8 9\n"
      ]
     },
     "execution_count": 19,
     "metadata": {},
     "output_type": "execute_result"
    },
    {
     "data": {
      "text/plain": [
       "17 7 10 4 12 6 7 8 9\n"
      ]
     },
     "execution_count": 19,
     "metadata": {},
     "output_type": "execute_result"
    },
    {
     "data": {
      "text/plain": [
       "0 0 0 4 0 6 7 8 9\n"
      ]
     },
     "execution_count": 19,
     "metadata": {},
     "output_type": "execute_result"
    }
   ],
   "source": [
    "\"Indexing with Lists\"\n",
    "A[0 2] /List of (0;2) \n",
    "A[(0;2)]\n",
    "\n",
    "/Order doesnt matter thus we can use it to rearrange the list if need be\n",
    "A[2 0 4 1]\n",
    "\n",
    "/We can also use this for assignment but the length of the assigned needs to match the value it is being set to\n",
    "A[2 0 4 1] : 4 5 6 7\n",
    "A\n",
    "\n",
    "/What if an index is repeated? It is assigned from left to right so since the right is latest one read, the right value is used\n",
    "A[2 0 4 0] : 10 11 12 17 /A[0] will be 17\n",
    "A\n",
    "\n",
    "/You can also assign a single value to multiple items\n",
    "A[2 0 4 1] : 0\n",
    "A"
   ]
  },
  {
   "cell_type": "code",
   "execution_count": 20,
   "id": "e92e399e-d567-4cf9-8928-2ba14aea5dee",
   "metadata": {
    "tags": []
   },
   "outputs": [
    {
     "data": {
      "text/plain": [
       "\"Indexing via Variable\"\n"
      ]
     },
     "execution_count": 20,
     "metadata": {},
     "output_type": "execute_result"
    },
    {
     "data": {
      "text/plain": [
       "4\n"
      ]
     },
     "execution_count": 20,
     "metadata": {},
     "output_type": "execute_result"
    },
    {
     "data": {
      "text/plain": [
       "4 0 6 8\n"
      ]
     },
     "execution_count": 20,
     "metadata": {},
     "output_type": "execute_result"
    }
   ],
   "source": [
    "\"Indexing via Variable\"\n",
    "I1: 3\n",
    "I2: 3 1 5 7\n",
    "A[I1]\n",
    "A[I2]"
   ]
  },
  {
   "cell_type": "code",
   "execution_count": 21,
   "id": "8fb7307f-1175-47e9-89ae-e6ea2609d8c5",
   "metadata": {
    "tags": []
   },
   "outputs": [
    {
     "data": {
      "text/plain": [
       "\"Indexing with Nested Lists\"\n"
      ]
     },
     "execution_count": 21,
     "metadata": {},
     "output_type": "execute_result"
    },
    {
     "data": {
      "text/plain": [
       "3 1\n",
       "5 7\n"
      ]
     },
     "execution_count": 21,
     "metadata": {},
     "output_type": "execute_result"
    },
    {
     "data": {
      "text/plain": [
       "4 0\n",
       "6 8\n"
      ]
     },
     "execution_count": 21,
     "metadata": {},
     "output_type": "execute_result"
    }
   ],
   "source": [
    "\"Indexing with Nested Lists\"\n",
    "/The output from the indexing assumed the form and shape of the index\n",
    "/So when we have nested lists as index, the output is nested list\n",
    "I3: (3 1;5 7)\n",
    "I3\n",
    "A[I3]"
   ]
  },
  {
   "cell_type": "code",
   "execution_count": 22,
   "id": "5bb14fd2-ea13-4ac6-b339-4b92eaf6e374",
   "metadata": {
    "tags": []
   },
   "outputs": [
    {
     "data": {
      "text/plain": [
       "\"Juxtaposition\"\n"
      ]
     },
     "execution_count": 22,
     "metadata": {},
     "output_type": "execute_result"
    },
    {
     "data": {
      "text/plain": [
       "0\n"
      ]
     },
     "execution_count": 22,
     "metadata": {},
     "output_type": "execute_result"
    },
    {
     "data": {
      "text/plain": [
       "4 0 6 8\n"
      ]
     },
     "execution_count": 22,
     "metadata": {},
     "output_type": "execute_result"
    },
    {
     "data": {
      "text/plain": [
       "4 0 6 8\n"
      ]
     },
     "execution_count": 22,
     "metadata": {},
     "output_type": "execute_result"
    },
    {
     "data": {
      "text/plain": [
       "0 0 0 4 0 6 7 8 9\n"
      ]
     },
     "execution_count": 22,
     "metadata": {},
     "output_type": "execute_result"
    }
   ],
   "source": [
    "\"Juxtaposition\"\n",
    "/We dont need brackets to index lists. A white space and the same format as with brackets but with brackets removed works\n",
    "A 0 /A[0]\n",
    "A 3 1 5 7 /A[2 0 4 1]\n",
    "A I2 /A[I2]\n",
    "A :: /A[::]"
   ]
  },
  {
   "cell_type": "code",
   "execution_count": 23,
   "id": "d6006919-ab73-4d7f-aa2c-60a26d1c3a68",
   "metadata": {
    "tags": []
   },
   "outputs": [
    {
     "data": {
      "text/plain": [
       "\"Elided Indices\"\n"
      ]
     },
     "execution_count": 23,
     "metadata": {},
     "output_type": "execute_result"
    },
    {
     "data": {
      "text/plain": [
       "1 2  3  4 \n",
       "5 6  7  8 \n",
       "9 10 11 12\n"
      ]
     },
     "execution_count": 23,
     "metadata": {},
     "output_type": "execute_result"
    },
    {
     "data": {
      "text/plain": [
       "5 6 7 8\n"
      ]
     },
     "execution_count": 23,
     "metadata": {},
     "output_type": "execute_result"
    },
    {
     "data": {
      "text/plain": [
       "2 6 10\n"
      ]
     },
     "execution_count": 23,
     "metadata": {},
     "output_type": "execute_result"
    },
    {
     "data": {
      "text/plain": [
       "(1 2 3;4 5 6 7)\n",
       "(`a`b`c`d;`z`y`x`;`0`1`2)\n",
       "(\"now\";\"is\";\"the\")\n"
      ]
     },
     "execution_count": 23,
     "metadata": {},
     "output_type": "execute_result"
    },
    {
     "data": {
      "text/plain": [
       "4 5 6 7\n",
       "`z`y`x`\n",
       "\"is\"\n"
      ]
     },
     "execution_count": 23,
     "metadata": {},
     "output_type": "execute_result"
    },
    {
     "data": {
      "text/plain": [
       "3 6\n",
       "`c`x`2\n",
       "\"w e\"\n"
      ]
     },
     "execution_count": 23,
     "metadata": {},
     "output_type": "execute_result"
    },
    {
     "data": {
      "text/plain": [
       "(1 2;4 5)\n",
       "(\"no\";\"is\";\"th\")\n"
      ]
     },
     "execution_count": 23,
     "metadata": {},
     "output_type": "execute_result"
    }
   ],
   "source": [
    "\"Elided Indices\"\n",
    "M: (1 2 3 4;5 6 7 8;9 10 11 12)\n",
    "M\n",
    "/We can retrieve row or column by using partial indices for indexing at depth\n",
    "M[1;] /Row 1. Note row starts a 0\n",
    "M[;1] /Col 1. Note col starts at 0\n",
    "/Eliding the index just reduces it to the top level that is M[1;] means M[1]\n",
    "\n",
    "/Lets look at a harder example\n",
    "L:((1 2 3;4 5 6 7);(`a`b`c`d;`z`y`x`;`0`1`2);(\"now\";\"is\";\"the\"))\n",
    "L\n",
    "L[;1;]\n",
    "L[;;2]\n",
    "/L[3] had three values in the second level. The second value in second level does not have value at index 2 so we get w e\n",
    "\n",
    "/Nested elided indices\n",
    "L[0 2 ;; 0 1]"
   ]
  },
  {
   "cell_type": "code",
   "execution_count": 24,
   "id": "8a60e23a-e5d9-428b-b688-36561e015198",
   "metadata": {
    "tags": []
   },
   "outputs": [
    {
     "data": {
      "text/plain": [
       "\"------------------\"\n"
      ]
     },
     "execution_count": 24,
     "metadata": {},
     "output_type": "execute_result"
    },
    {
     "data": {
      "text/plain": [
       "\"Count\"\n"
      ]
     },
     "execution_count": 24,
     "metadata": {},
     "output_type": "execute_result"
    },
    {
     "data": {
      "text/plain": [
       "9\n"
      ]
     },
     "execution_count": 24,
     "metadata": {},
     "output_type": "execute_result"
    },
    {
     "data": {
      "text/plain": [
       "4\n"
      ]
     },
     "execution_count": 24,
     "metadata": {},
     "output_type": "execute_result"
    },
    {
     "data": {
      "text/plain": [
       "5\n"
      ]
     },
     "execution_count": 24,
     "metadata": {},
     "output_type": "execute_result"
    },
    {
     "data": {
      "text/plain": [
       "3\n"
      ]
     },
     "execution_count": 24,
     "metadata": {},
     "output_type": "execute_result"
    },
    {
     "data": {
      "text/plain": [
       "4\n"
      ]
     },
     "execution_count": 24,
     "metadata": {},
     "output_type": "execute_result"
    },
    {
     "data": {
      "text/plain": [
       "\"------------------\"\n"
      ]
     },
     "execution_count": 24,
     "metadata": {},
     "output_type": "execute_result"
    },
    {
     "data": {
      "text/plain": [
       "\"First and Last\"\n"
      ]
     },
     "execution_count": 24,
     "metadata": {},
     "output_type": "execute_result"
    },
    {
     "data": {
      "text/plain": [
       "1\n"
      ]
     },
     "execution_count": 24,
     "metadata": {},
     "output_type": "execute_result"
    },
    {
     "data": {
      "text/plain": [
       "`Hello\n"
      ]
     },
     "execution_count": 24,
     "metadata": {},
     "output_type": "execute_result"
    },
    {
     "data": {
      "text/plain": [
       "9\n"
      ]
     },
     "execution_count": 24,
     "metadata": {},
     "output_type": "execute_result"
    },
    {
     "data": {
      "text/plain": [
       "\"A\"\n"
      ]
     },
     "execution_count": 24,
     "metadata": {},
     "output_type": "execute_result"
    },
    {
     "data": {
      "text/plain": [
       "\"------------------\"\n"
      ]
     },
     "execution_count": 24,
     "metadata": {},
     "output_type": "execute_result"
    },
    {
     "data": {
      "text/plain": [
       "\"Til Operator aka Range operator\"\n"
      ]
     },
     "execution_count": 24,
     "metadata": {},
     "output_type": "execute_result"
    },
    {
     "data": {
      "text/plain": [
       "0 1 2 3 4 5 6 7\n"
      ]
     },
     "execution_count": 24,
     "metadata": {},
     "output_type": "execute_result"
    },
    {
     "data": {
      "text/plain": [
       "2 5 8 11\n"
      ]
     },
     "execution_count": 24,
     "metadata": {},
     "output_type": "execute_result"
    },
    {
     "data": {
      "text/plain": [
       "\"------------------\"\n"
      ]
     },
     "execution_count": 24,
     "metadata": {},
     "output_type": "execute_result"
    },
    {
     "data": {
      "text/plain": [
       "\"Concatenating/Join\"\n"
      ]
     },
     "execution_count": 24,
     "metadata": {},
     "output_type": "execute_result"
    },
    {
     "data": {
      "text/plain": [
       "1 2 3 4 5 6 7 8 9 10 11 12 13\n"
      ]
     },
     "execution_count": 24,
     "metadata": {},
     "output_type": "execute_result"
    },
    {
     "data": {
      "text/plain": [
       "1 2 3 4 44 55\n"
      ]
     },
     "execution_count": 24,
     "metadata": {},
     "output_type": "execute_result"
    },
    {
     "data": {
      "text/plain": [
       "\"------------------\"\n"
      ]
     },
     "execution_count": 24,
     "metadata": {},
     "output_type": "execute_result"
    },
    {
     "data": {
      "text/plain": [
       "\"Merging with ^ aka Coalesce\"\n"
      ]
     },
     "execution_count": 24,
     "metadata": {},
     "output_type": "execute_result"
    },
    {
     "data": {
      "text/plain": [
       "10 20 2\n"
      ]
     },
     "execution_count": 24,
     "metadata": {},
     "output_type": "execute_result"
    },
    {
     "data": {
      "text/plain": [
       "\"------------------\"\n"
      ]
     },
     "execution_count": 24,
     "metadata": {},
     "output_type": "execute_result"
    },
    {
     "data": {
      "text/plain": [
       "\"Find Operator ?\"\n"
      ]
     },
     "execution_count": 24,
     "metadata": {},
     "output_type": "execute_result"
    },
    {
     "data": {
      "text/plain": [
       "2\n"
      ]
     },
     "execution_count": 24,
     "metadata": {},
     "output_type": "execute_result"
    },
    {
     "data": {
      "text/plain": [
       "2 1\n"
      ]
     },
     "execution_count": 24,
     "metadata": {},
     "output_type": "execute_result"
    },
    {
     "data": {
      "text/plain": [
       "\"------------------\"\n"
      ]
     },
     "execution_count": 24,
     "metadata": {},
     "output_type": "execute_result"
    },
    {
     "data": {
      "text/plain": [
       "\"Distinct Operator\"\n"
      ]
     },
     "execution_count": 24,
     "metadata": {},
     "output_type": "execute_result"
    },
    {
     "data": {
      "text/plain": [
       "1 2 3 4 5 6 7 8 9\n"
      ]
     },
     "execution_count": 24,
     "metadata": {},
     "output_type": "execute_result"
    },
    {
     "data": {
      "text/plain": [
       "1\n",
       "2\n",
       "1 2 3 4\n"
      ]
     },
     "execution_count": 24,
     "metadata": {},
     "output_type": "execute_result"
    },
    {
     "data": {
      "text/plain": [
       "\"------------------\"\n"
      ]
     },
     "execution_count": 24,
     "metadata": {},
     "output_type": "execute_result"
    },
    {
     "data": {
      "text/plain": [
       "\"Where Operator\"\n"
      ]
     },
     "execution_count": 24,
     "metadata": {},
     "output_type": "execute_result"
    },
    {
     "data": {
      "text/plain": [
       "1 2 1 3 4 5 1\n"
      ]
     },
     "execution_count": 24,
     "metadata": {},
     "output_type": "execute_result"
    },
    {
     "data": {
      "text/plain": [
       "0 2 6\n"
      ]
     },
     "execution_count": 24,
     "metadata": {},
     "output_type": "execute_result"
    },
    {
     "data": {
      "text/plain": [
       "1 1 1\n"
      ]
     },
     "execution_count": 24,
     "metadata": {},
     "output_type": "execute_result"
    },
    {
     "data": {
      "text/plain": [
       "100 2 100 3 4 5 100\n"
      ]
     },
     "execution_count": 24,
     "metadata": {},
     "output_type": "execute_result"
    },
    {
     "data": {
      "text/plain": [
       "\"------------------\"\n"
      ]
     },
     "execution_count": 24,
     "metadata": {},
     "output_type": "execute_result"
    },
    {
     "data": {
      "text/plain": [
       "\"Group Operator\"\n"
      ]
     },
     "execution_count": 24,
     "metadata": {},
     "output_type": "execute_result"
    },
    {
     "data": {
      "text/plain": [
       "1| 0 2 6\n",
       "2| ,1\n",
       "3| ,3\n",
       "4| ,4\n",
       "5| ,5\n"
      ]
     },
     "execution_count": 24,
     "metadata": {},
     "output_type": "execute_result"
    },
    {
     "data": {
      "text/plain": [
       "1      | 0\n",
       "2      | 1\n",
       "1 2 3 4| 2\n"
      ]
     },
     "execution_count": 24,
     "metadata": {},
     "output_type": "execute_result"
    },
    {
     "data": {
      "text/plain": [
       "\"------------------\"\n"
      ]
     },
     "execution_count": 24,
     "metadata": {},
     "output_type": "execute_result"
    },
    {
     "data": {
      "text/plain": [
       "\"Take Operator aka Reshape Operator\"\n"
      ]
     },
     "execution_count": 24,
     "metadata": {},
     "output_type": "execute_result"
    },
    {
     "data": {
      "text/plain": [
       "1 2\n"
      ]
     },
     "execution_count": 24,
     "metadata": {},
     "output_type": "execute_result"
    },
    {
     "data": {
      "text/plain": [
       "8 9\n"
      ]
     },
     "execution_count": 24,
     "metadata": {},
     "output_type": "execute_result"
    },
    {
     "data": {
      "text/plain": [
       "1 2 3 4 5 6 7 8 9 1 2 3\n"
      ]
     },
     "execution_count": 24,
     "metadata": {},
     "output_type": "execute_result"
    },
    {
     "data": {
      "text/plain": [
       "15 15 15 15 15 15 15 15 15 15\n"
      ]
     },
     "execution_count": 24,
     "metadata": {},
     "output_type": "execute_result"
    }
   ],
   "source": [
    "/List and Vector operations\n",
    "A: 1 2 3 4 5 6 7 8 9\n",
    "B: 10 11 12 13\n",
    "C: (`Hello ; 2 ; 2.2 ; 5555 ;\"A\")\n",
    "D: (1 ; 2 ; (1 2 3 4))\n",
    "\n",
    "/Getting number of elements in vector\n",
    "\"------------------\"\n",
    "\"Count\"\n",
    "count A\n",
    "count B\n",
    "count C\n",
    "count D\n",
    "count D[2] /Nested count\n",
    "\n",
    "/We can get the first and last items in a list using the first and last named operators\n",
    "\"------------------\"\n",
    "\"First and Last\"\n",
    "first A\n",
    "first C\n",
    "last A\n",
    "last C\n",
    "\n",
    "\"------------------\"\n",
    "\"Til Operator aka Range operator\"\n",
    "/Get values from 0 upto and not including n\n",
    "/Simply the range from python\n",
    "til 8\n",
    "2 + 3*til 4\n",
    "\n",
    "\"------------------\"\n",
    "\"Concatenating/Join\"\n",
    "/We can join lists using ,\n",
    "/This is concatenation/appending\n",
    "CC: A,B\n",
    "CC\n",
    "/Note that simple list is initialized with just space so concatenating simple lists may look like this\n",
    "DD: 1 2 3 4, 44 55\n",
    "DD\n",
    "\n",
    "\"------------------\"\n",
    "\"Merging with ^ aka Coalesce\"\n",
    "/You can coalesce two lists of the same length by using ^\n",
    "/The right list prevails over the left list when both values are non NA\n",
    "10 10 0N ^ 0N 20 2\n",
    "/This would result in 10,20,2 list\n",
    "\n",
    "\"------------------\"\n",
    "\"Find Operator ?\"\n",
    "/Returns index of first occurence of the right operand in the left operand\n",
    "1 2 3 4 3?3\n",
    "/Aka the index of the first occurence\n",
    "/We can find the first index of multiple atoms by using a list as the right operand\n",
    "1 2 3 4 3?3 2\n",
    "\n",
    "\"------------------\"\n",
    "\"Distinct Operator\"\n",
    "/Returns unique values in list in order of first occurence\n",
    "distinct A\n",
    "/It takes place on level 1 so we can get a nested list back when it is called\n",
    "distinct D \n",
    "\n",
    "\"------------------\"\n",
    "\"Where Operator\"\n",
    "/Returns indices whee condition is true\n",
    "LL: 1 2 1 3 4 5 1\n",
    "LL\n",
    "where LL=1\n",
    "/We can use it to index\n",
    "LL[where LL=1]\n",
    "/Can also use it in assignment\n",
    "LL[where LL=1] : 100\n",
    "LL\n",
    "\n",
    "\"------------------\"\n",
    "\"Group Operator\"\n",
    "/Takes a list and returns a dicionary in which each disinct item of the argument is mapped to each indices of its occurence in order of occurence\n",
    "LL: 1 2 1 3 4 5 1\n",
    "group LL\n",
    "/Nested list: Takes place on level 1 just like distinct. So a list is one of the distinct items in nested list.\n",
    "group D\n",
    "\n",
    "\"------------------\"\n",
    "\"Take Operator aka Reshape Operator\"\n",
    "/Take operator. It takes n operator from front or back depending on sign\n",
    "/Negative sign is for taking from the back of the list. May remind you of pop function from python lists\n",
    "2 # A\n",
    "-2 # A\n",
    "/If you extract more items than length of list, it just restarts from the beginning of list and continues extracting\n",
    "12 # A\n",
    "/This repetition feature is very useful we can use this to get a list of size n of the same value. Eg 10 15s\n",
    "10#15"
   ]
  }
 ],
 "metadata": {
  "kernelspec": {
   "display_name": "Q (kdb+)",
   "language": "q",
   "name": "qpk"
  },
  "language_info": {
   "file_extension": ".q",
   "mimetype": "text/x-q",
   "name": "q",
   "version": "4.0"
  }
 },
 "nbformat": 4,
 "nbformat_minor": 5
}
