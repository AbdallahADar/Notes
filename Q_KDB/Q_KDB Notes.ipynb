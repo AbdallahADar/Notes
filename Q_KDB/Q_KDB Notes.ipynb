{
 "cells": [
  {
   "cell_type": "markdown",
   "id": "51ddd9b7-923d-43c6-94fb-99918cccf7fd",
   "metadata": {},
   "source": [
    "### These notes are from reading Q For Mortals"
   ]
  },
  {
   "cell_type": "code",
   "execution_count": 67,
   "id": "9ce8a9e2-b26d-4e31-881f-78fbfc641302",
   "metadata": {},
   "outputs": [],
   "source": [
    "/We can comment using a single forward slash\n",
    "/Q is a vectorized language with operations being optimized to handle vector operations\n",
    "/A simple list is just values separated by a space in Q so be careful"
   ]
  },
  {
   "cell_type": "markdown",
   "id": "ce1e383a-2e1d-49b9-8f00-034734792b99",
   "metadata": {
    "tags": []
   },
   "source": [
    "# Assigment"
   ]
  },
  {
   "cell_type": "code",
   "execution_count": 66,
   "id": "c2650a67-0792-4e32-8baf-fdcbddaaa2ff",
   "metadata": {},
   "outputs": [
    {
     "data": {
      "text/plain": [
       "2\n"
      ]
     },
     "execution_count": 66,
     "metadata": {},
     "output_type": "execute_result"
    },
    {
     "data": {
      "text/plain": [
       "5\n"
      ]
     },
     "execution_count": 66,
     "metadata": {},
     "output_type": "execute_result"
    },
    {
     "data": {
      "text/plain": [
       "4\n"
      ]
     },
     "execution_count": 66,
     "metadata": {},
     "output_type": "execute_result"
    },
    {
     "data": {
      "text/plain": [
       "110\n"
      ]
     },
     "execution_count": 66,
     "metadata": {},
     "output_type": "execute_result"
    },
    {
     "data": {
      "text/plain": [
       "100\n"
      ]
     },
     "execution_count": 66,
     "metadata": {},
     "output_type": "execute_result"
    }
   ],
   "source": [
    "/We use : for initialization\n",
    "/Spaces before or after colon do not matter\n",
    "\n",
    "/Initializing a value\n",
    "A:2\n",
    "A\n",
    "\n",
    "/Assignment does not have to be a standalone statement with assignment being on the left\n",
    "/We can assign variables in the middle of an expression\n",
    "1 + C:4\n",
    "C\n",
    "\n",
    "/A is assigned to 10 + 100 where b is assigned to a 100\n",
    "/So A is 110 and B is 100\n",
    "a:10 + b:100\n",
    "a\n",
    "b"
   ]
  },
  {
   "cell_type": "markdown",
   "id": "5e9deae0-fea2-4d01-97e5-ec0dea879ff7",
   "metadata": {},
   "source": [
    "# Data Types"
   ]
  },
  {
   "cell_type": "code",
   "execution_count": 46,
   "id": "acfcd358-4e51-45d3-b509-93a3ab02deda",
   "metadata": {},
   "outputs": [
    {
     "data": {
      "text/plain": [
       "2\n"
      ]
     },
     "execution_count": 46,
     "metadata": {},
     "output_type": "execute_result"
    },
    {
     "data": {
      "text/plain": [
       "2.5\n"
      ]
     },
     "execution_count": 46,
     "metadata": {},
     "output_type": "execute_result"
    },
    {
     "data": {
      "text/plain": [
       "1.235e+07\n"
      ]
     },
     "execution_count": 46,
     "metadata": {},
     "output_type": "execute_result"
    },
    {
     "data": {
      "text/plain": [
       "1.235e+07\n"
      ]
     },
     "execution_count": 46,
     "metadata": {},
     "output_type": "execute_result"
    },
    {
     "data": {
      "text/plain": [
       "1.235e-07\n"
      ]
     },
     "execution_count": 46,
     "metadata": {},
     "output_type": "execute_result"
    },
    {
     "data": {
      "text/plain": [
       "0b\n"
      ]
     },
     "execution_count": 46,
     "metadata": {},
     "output_type": "execute_result"
    },
    {
     "data": {
      "text/plain": [
       "1b\n"
      ]
     },
     "execution_count": 46,
     "metadata": {},
     "output_type": "execute_result"
    },
    {
     "data": {
      "text/plain": [
       "\"A\"\n"
      ]
     },
     "execution_count": 46,
     "metadata": {},
     "output_type": "execute_result"
    },
    {
     "data": {
      "text/plain": [
       "\"b\"\n"
      ]
     },
     "execution_count": 46,
     "metadata": {},
     "output_type": "execute_result"
    },
    {
     "data": {
      "text/plain": [
       "2010.01.01\n"
      ]
     },
     "execution_count": 46,
     "metadata": {},
     "output_type": "execute_result"
    },
    {
     "data": {
      "text/plain": [
       "1b\n"
      ]
     },
     "execution_count": 46,
     "metadata": {},
     "output_type": "execute_result"
    },
    {
     "data": {
      "text/plain": [
       "3653i\n"
      ]
     },
     "execution_count": 46,
     "metadata": {},
     "output_type": "execute_result"
    },
    {
     "data": {
      "text/plain": [
       "0D12:00:00.000000000\n"
      ]
     },
     "execution_count": 46,
     "metadata": {},
     "output_type": "execute_result"
    },
    {
     "data": {
      "text/plain": [
       "43200000i\n"
      ]
     },
     "execution_count": 46,
     "metadata": {},
     "output_type": "execute_result"
    },
    {
     "data": {
      "text/plain": [
       "43200000110000\n"
      ]
     },
     "execution_count": 46,
     "metadata": {},
     "output_type": "execute_result"
    },
    {
     "data": {
      "text/plain": [
       "2010.01.01D12:00:00.000000000\n"
      ]
     },
     "execution_count": 46,
     "metadata": {},
     "output_type": "execute_result"
    },
    {
     "data": {
      "text/plain": [
       "2010.01.01D12:00:00.000000000\n"
      ]
     },
     "execution_count": 46,
     "metadata": {},
     "output_type": "execute_result"
    },
    {
     "data": {
      "text/plain": [
       "0Wi\n"
      ]
     },
     "execution_count": 46,
     "metadata": {},
     "output_type": "execute_result"
    },
    {
     "data": {
      "text/plain": [
       "0Wi\n"
      ]
     },
     "execution_count": 46,
     "metadata": {},
     "output_type": "execute_result"
    },
    {
     "data": {
      "text/plain": [
       "315662400000000000\n"
      ]
     },
     "execution_count": 46,
     "metadata": {},
     "output_type": "execute_result"
    },
    {
     "data": {
      "text/plain": [
       "315662400000000000\n"
      ]
     },
     "execution_count": 46,
     "metadata": {},
     "output_type": "execute_result"
    },
    {
     "data": {
      "text/plain": [
       "2015.11m\n"
      ]
     },
     "execution_count": 46,
     "metadata": {},
     "output_type": "execute_result"
    },
    {
     "data": {
      "text/plain": [
       "190i\n"
      ]
     },
     "execution_count": 46,
     "metadata": {},
     "output_type": "execute_result"
    },
    {
     "data": {
      "text/plain": [
       "12:30\n"
      ]
     },
     "execution_count": 46,
     "metadata": {},
     "output_type": "execute_result"
    },
    {
     "data": {
      "text/plain": [
       "750i\n"
      ]
     },
     "execution_count": 46,
     "metadata": {},
     "output_type": "execute_result"
    },
    {
     "data": {
      "text/plain": [
       "1410i\n"
      ]
     },
     "execution_count": 46,
     "metadata": {},
     "output_type": "execute_result"
    },
    {
     "data": {
      "text/plain": [
       "1b\n"
      ]
     },
     "execution_count": 46,
     "metadata": {},
     "output_type": "execute_result"
    },
    {
     "data": {
      "text/plain": [
       "1b\n"
      ]
     },
     "execution_count": 46,
     "metadata": {},
     "output_type": "execute_result"
    },
    {
     "data": {
      "text/plain": [
       "0b\n"
      ]
     },
     "execution_count": 46,
     "metadata": {},
     "output_type": "execute_result"
    },
    {
     "data": {
      "text/plain": [
       "45012i\n"
      ]
     },
     "execution_count": 46,
     "metadata": {},
     "output_type": "execute_result"
    },
    {
     "data": {
      "text/plain": [
       "2010i\n"
      ]
     },
     "execution_count": 46,
     "metadata": {},
     "output_type": "execute_result"
    },
    {
     "data": {
      "text/plain": [
       "1i\n"
      ]
     },
     "execution_count": 46,
     "metadata": {},
     "output_type": "execute_result"
    },
    {
     "data": {
      "text/plain": [
       "1i\n"
      ]
     },
     "execution_count": 46,
     "metadata": {},
     "output_type": "execute_result"
    },
    {
     "data": {
      "text/plain": [
       "12i\n"
      ]
     },
     "execution_count": 46,
     "metadata": {},
     "output_type": "execute_result"
    },
    {
     "data": {
      "text/plain": [
       "0i\n"
      ]
     },
     "execution_count": 46,
     "metadata": {},
     "output_type": "execute_result"
    },
    {
     "data": {
      "text/plain": [
       "12i\n"
      ]
     },
     "execution_count": 46,
     "metadata": {},
     "output_type": "execute_result"
    },
    {
     "data": {
      "text/plain": [
       "2010i\n"
      ]
     },
     "execution_count": 46,
     "metadata": {},
     "output_type": "execute_result"
    },
    {
     "data": {
      "text/plain": [
       "2010.01m\n"
      ]
     },
     "execution_count": 46,
     "metadata": {},
     "output_type": "execute_result"
    },
    {
     "data": {
      "text/plain": [
       "1i\n"
      ]
     },
     "execution_count": 46,
     "metadata": {},
     "output_type": "execute_result"
    },
    {
     "data": {
      "text/plain": [
       "1i\n"
      ]
     },
     "execution_count": 46,
     "metadata": {},
     "output_type": "execute_result"
    },
    {
     "data": {
      "text/plain": [
       "12i\n"
      ]
     },
     "execution_count": 46,
     "metadata": {},
     "output_type": "execute_result"
    },
    {
     "data": {
      "text/plain": [
       "0i\n"
      ]
     },
     "execution_count": 46,
     "metadata": {},
     "output_type": "execute_result"
    },
    {
     "data": {
      "text/plain": [
       "12i\n"
      ]
     },
     "execution_count": 46,
     "metadata": {},
     "output_type": "execute_result"
    },
    {
     "data": {
      "text/plain": [
       "`HelloWorld\n"
      ]
     },
     "execution_count": 46,
     "metadata": {},
     "output_type": "execute_result"
    },
    {
     "data": {
      "text/plain": [
       "0W\n"
      ]
     },
     "execution_count": 46,
     "metadata": {},
     "output_type": "execute_result"
    },
    {
     "data": {
      "text/plain": [
       "1b\n"
      ]
     },
     "execution_count": 46,
     "metadata": {},
     "output_type": "execute_result"
    },
    {
     "data": {
      "text/plain": [
       "1b\n"
      ]
     },
     "execution_count": 46,
     "metadata": {},
     "output_type": "execute_result"
    },
    {
     "data": {
      "text/plain": [
       "`boolean$()\n"
      ]
     },
     "execution_count": 46,
     "metadata": {},
     "output_type": "execute_result"
    }
   ],
   "source": [
    "/As seen above we do not need to specify the type when initializing but we still need to know about them\n",
    "\n",
    "A:2 / Int\n",
    "A\n",
    "\n",
    "B:2.5 / Float or double\n",
    "B\n",
    "\n",
    "/Scientific notation of float\n",
    "1.235e07\n",
    "1.235e7\n",
    "1.235e-07\n",
    "\n",
    "/Getting ahead of ourseleves but = is equality comparison operator and we use it get bool\n",
    "C:2=3 / Boolean\n",
    "C\n",
    "/We can also get bool by trailing b after 0 or 1\n",
    "CC:1b\n",
    "CC\n",
    "\n",
    "/Char holds an individual ASCII character. Use double quotations.\n",
    "Ch:\"A\"\n",
    "Ch\n",
    "/Very similar to python and other languages that use ASCII, we denote special characters such as newline and tab by using \\n and \\t\n",
    "/You can also get an ASCII char by using \\ followed by its ASCII code\n",
    "/Eg b has code 142\n",
    "\"\\142\"\n",
    "\n",
    "D:2010.01.01 /This is date ype. Form YYYY.MM.DD\n",
    "/Date under the covers is days since millenium so 2000.01.01 under the covers is 0\n",
    "/A date before the start of millenium is displayed as a negative number\n",
    "D\n",
    "1999.12.31=-1 /Shows true\n",
    "/To get the under the cover value that is the days since millenium you can cast it to an int\n",
    "`int$D\n",
    "\n",
    "EE:12:00:00.0000 /This is time. Form HH:MM:SS.MMMM where M is anywhere from 1 to 4 digits\n",
    "E:12:00:00.000000000 /This is timespan. Form HH:MM:SS.NNNNN where N is anywhere from 5 to 9 digits\n",
    "/1-4 digits is of type time and 5-9 is timespan \n",
    "/Under the cover timespan is integer count of the number of nanoseconds since midnight.\n",
    "/Note that HH is in 24 hour clock format\n",
    "E\n",
    "/To get the milliseconds if you have 1-4 digits or to get nanosceond if you have 5+ digits, just cast to int for milliseconds and long for nanoseconds\n",
    "`int$12:00:00.000\n",
    "`long$12:00:00.00011\n",
    "\n",
    "/Timestamp is the lexical combination of a date and timespan sepaarted by D. Under the cover it is nanoseconds since millenium\n",
    "/Timestamp only has nanosecond version not millisecond version regardless of decimal places you have in seconds\n",
    "DD: 2010.01.01D12:00:00.00\n",
    "DD\n",
    "DDD: 2010.01.01D12:00:00.00000\n",
    "DD\n",
    "/Cast as int to get nanoseconds since millenium.\n",
    "`int$DD\n",
    "`int$DDD\n",
    "/Since it only works for nanoseconds we need to use long\n",
    "`long$DD\n",
    "`long$DDD\n",
    "\n",
    "/Month type. Denoted by YYYY.MM with trailing indicator m. It is the count of months since the beginning of the millenium 2000.01.01\n",
    "/If you dont have trailing m then its just a numeric float value\n",
    "M:2015.11m\n",
    "M\n",
    "/Cast to int to get number of months since millenium\n",
    "`int$M\n",
    "\n",
    "/Minute type. Denoted by HH:MM. It counts the number of minutes from midnight. It is in 24 hour clock format\n",
    "Mi: 12:30\n",
    "Mii: 23:30\n",
    "Mi\n",
    "/Cast to int to get minutes\n",
    "`int$Mi\n",
    "`int$Mii\n",
    "/It is equivalent to its time and timespan counterparts\n",
    "12:00:00.0000=12:00 /Gives true\n",
    "12:00:00.0000000=12:00 /Gives true\n",
    "12:00:00.0000001=12:00 /Gives false\n",
    "\n",
    "/Second type. Denoted by HH:MM:SS. It counts the number of seconds from midnight. It is in 24 hour clock format\n",
    "S: 12:30:12\n",
    "/Cast to int to get seconds\n",
    "`int$S\n",
    "/Just like minutes it is equivalent to time and timespan counterparts\n",
    "\n",
    "/We can extract the constituents for the various date and time types above by using dot\n",
    "D.year /Get year\n",
    "D.mm /Get month\n",
    "D.dd /Get day\n",
    "Mi.hh /Get hour\n",
    "E.mm /Get minutes. Same as month but depends on the type of variable we are running the code on.\n",
    "S.ss /Get seconds\n",
    "/The unfortuante news is that this dot notation doesnt work inside functions.\n",
    "/Good news is that we can work around that by simply casting these variables\n",
    "`year$D /Extracts year\n",
    "`month$D /Extract Month variable aka YYYY.MM\n",
    "`mm$D /Extracts the month\n",
    "`dd$D /Extracts the day\n",
    "`hh$Mi /Get hour\n",
    "`mm$E /Get minutes. \n",
    "`ss$S /Get seconds\n",
    "\n",
    "/Symbols in q are similar to varchar in SQL\n",
    "/q does have strings but they are something different so dont confuse them\n",
    "/Declare them by starting with `\n",
    "F:`HelloWorld\n",
    "F\n",
    "\n",
    "/Arithmeic infinities and nulls\n",
    "/0w is positive float infinity. Positive number divided by 0\n",
    "/20/0\n",
    "/-0w is negative float infinity. Negative number divided by 0\n",
    "/-20/0\n",
    "/0n is Null float; NaN; Not a number. One way to get this is 0 divided by 0.\n",
    "/0/0\n",
    "/0W is positive long infinity\n",
    "9223372036854775806+1\n",
    "/-0W is negative long infinity\n",
    "/0N is null long\n",
    "/Order is 0N < -0W < normal integer < 0W\n",
    "/We have unqiue null values for each type:\n",
    "    /0N for int\n",
    "    /0Nj for long\n",
    "    /0n for float\n",
    "    /\"\" for char\n",
    "    /0Np for timestamp\n",
    "    /0Nm for month\n",
    "    /0Nd for date\n",
    "    /0Nz for datetime\n",
    "    /0Nn for timespan\n",
    "    /0Nu for minute\n",
    "    /0Nv for second\n",
    "    /0Nt for time\n",
    "    /` for symbol\n",
    "/Thus to check null values for a type we need to check against the correct one\n",
    "/Since it is hard to keep traack of each null type of each type, we can simply use null to check if its null since it checks it against the appropriate value\n",
    "null 0N /Check value using null\n",
    "0N = 0N /Check value using correct type\n",
    "0Nd = \"\" /Check value using wrong type"
   ]
  },
  {
   "cell_type": "markdown",
   "id": "b7b55dca-36e1-4848-b10e-5d0d5f4973c1",
   "metadata": {},
   "source": [
    "# List"
   ]
  },
  {
   "cell_type": "raw",
   "id": "24592d01-8cfb-49b4-8829-8e37b9f7996b",
   "metadata": {},
   "source": [
    "All data structures are built from lists. A dict is a pair of lists, a table is a special dictionary, akeyed table is a apair of tables."
   ]
  },
  {
   "cell_type": "code",
   "execution_count": 128,
   "id": "2d99f253-0a8f-4877-8c79-7417c3b366dd",
   "metadata": {},
   "outputs": [
    {
     "data": {
      "text/plain": [
       "1 2\n"
      ]
     },
     "execution_count": 128,
     "metadata": {},
     "output_type": "execute_result"
    },
    {
     "data": {
      "text/plain": [
       "1 2\n"
      ]
     },
     "execution_count": 128,
     "metadata": {},
     "output_type": "execute_result"
    },
    {
     "data": {
      "text/plain": [
       "1\n",
       "1.1\n",
       "2.3e+07\n"
      ]
     },
     "execution_count": 128,
     "metadata": {},
     "output_type": "execute_result"
    },
    {
     "data": {
      "text/plain": [
       "1 2\n",
       "3 4\n"
      ]
     },
     "execution_count": 128,
     "metadata": {},
     "output_type": "execute_result"
    },
    {
     "data": {
      "text/plain": [
       "1 2\n",
       "3 4\n",
       "5\n"
      ]
     },
     "execution_count": 128,
     "metadata": {},
     "output_type": "execute_result"
    },
    {
     "data": {
      "text/plain": [
       "1 2 3 4\n"
      ]
     },
     "execution_count": 128,
     "metadata": {},
     "output_type": "execute_result"
    },
    {
     "data": {
      "text/plain": [
       "1b\n"
      ]
     },
     "execution_count": 128,
     "metadata": {},
     "output_type": "execute_result"
    },
    {
     "data": {
      "text/plain": [
       "\"Hello\"\n"
      ]
     },
     "execution_count": 128,
     "metadata": {},
     "output_type": "execute_result"
    },
    {
     "data": {
      "text/plain": [
       "\"Hello\"\n"
      ]
     },
     "execution_count": 128,
     "metadata": {},
     "output_type": "execute_result"
    },
    {
     "data": {
      "text/plain": [
       "1b\n"
      ]
     },
     "execution_count": 128,
     "metadata": {},
     "output_type": "execute_result"
    },
    {
     "data": {
      "text/plain": [
       "1997.10.27\n",
       "1995.10.27D22:34:45.000000000\n"
      ]
     },
     "execution_count": 128,
     "metadata": {},
     "output_type": "execute_result"
    },
    {
     "data": {
      "text/plain": [
       "12:34\n",
       "01:02:03\n"
      ]
     },
     "execution_count": 128,
     "metadata": {},
     "output_type": "execute_result"
    },
    {
     "data": {
      "text/plain": [
       ",\"S\"\n"
      ]
     },
     "execution_count": 128,
     "metadata": {},
     "output_type": "execute_result"
    },
    {
     "data": {
      "text/plain": [
       "0b\n"
      ]
     },
     "execution_count": 128,
     "metadata": {},
     "output_type": "execute_result"
    },
    {
     "data": {
      "text/plain": [
       "1 2 3 4\n"
      ]
     },
     "execution_count": 128,
     "metadata": {},
     "output_type": "execute_result"
    },
    {
     "data": {
      "text/plain": [
       "2\n",
       "`Hello\n",
       "1b\n",
       "9\n"
      ]
     },
     "execution_count": 128,
     "metadata": {},
     "output_type": "execute_result"
    },
    {
     "data": {
      "text/plain": [
       "\"A\"\n",
       "2\n",
       "4.2\n",
       "5\n"
      ]
     },
     "execution_count": 128,
     "metadata": {},
     "output_type": "execute_result"
    },
    {
     "data": {
      "text/plain": [
       "\"A\" 2\n",
       "4.2 5\n"
      ]
     },
     "execution_count": 128,
     "metadata": {},
     "output_type": "execute_result"
    },
    {
     "data": {
      "text/plain": [
       "1\n"
      ]
     },
     "execution_count": 128,
     "metadata": {},
     "output_type": "execute_result"
    },
    {
     "data": {
      "text/plain": [
       "3\n"
      ]
     },
     "execution_count": 128,
     "metadata": {},
     "output_type": "execute_result"
    },
    {
     "data": {
      "text/plain": [
       "0 1 2 3 4\n",
       "5 6 7 8 9\n"
      ]
     },
     "execution_count": 128,
     "metadata": {},
     "output_type": "execute_result"
    },
    {
     "data": {
      "text/plain": [
       "0 1 2\n",
       "3 4 5\n",
       "6 7 8\n",
       ",9\n"
      ]
     },
     "execution_count": 128,
     "metadata": {},
     "output_type": "execute_result"
    },
    {
     "data": {
      "text/plain": [
       "1         2         3        \n",
       "10   20   100  200  1000 2000\n"
      ]
     },
     "execution_count": 128,
     "metadata": {},
     "output_type": "execute_result"
    },
    {
     "data": {
      "text/plain": [
       "1 10 20    \n",
       "2 100 200  \n",
       "3 1000 2000\n"
      ]
     },
     "execution_count": 128,
     "metadata": {},
     "output_type": "execute_result"
    },
    {
     "data": {
      "text/plain": [
       "1 2   3 4   5 6  \n",
       "10 20 30 40 50 60\n"
      ]
     },
     "execution_count": 128,
     "metadata": {},
     "output_type": "execute_result"
    },
    {
     "data": {
      "text/plain": [
       "1 2\n",
       "3 4\n",
       "5 6\n"
      ]
     },
     "execution_count": 128,
     "metadata": {},
     "output_type": "execute_result"
    },
    {
     "data": {
      "text/plain": [
       "3 4\n"
      ]
     },
     "execution_count": 128,
     "metadata": {},
     "output_type": "execute_result"
    },
    {
     "data": {
      "text/plain": [
       "3\n"
      ]
     },
     "execution_count": 128,
     "metadata": {},
     "output_type": "execute_result"
    }
   ],
   "source": [
    "/List is an ordered collection of data.\n",
    "/Lists encloses items with ( and ) and uses ; as separator\n",
    "G:(1;2)\n",
    "G\n",
    "G:(1 ; 2)\n",
    "G\n",
    "\n",
    "/List can have different types within it\n",
    "GG:(1 ; 1.1 ; 2.3e7)\n",
    "GG\n",
    "\n",
    "/List of list\n",
    "GGG:( (1 ; 2) ; (3 ; 4) )\n",
    "GGG /Displayed in matrix/array form making it easy to read\n",
    "\n",
    "/List of list with unequal form\n",
    "GGGG:( (1 ; 2) ; (3 ; 4) ; 5 )\n",
    "GGGG\n",
    "\n",
    "/List can contain items of different types\n",
    "/If list has homogenous type of values then we can use its simpified form for defining\n",
    "/Simple form: no parenthesis and is separated by space\n",
    "H: 1 2 3 4\n",
    "H\n",
    "\n",
    "/Notice that GG, GGG, GGGG are displayed different in the console (i.e. they are displayed vertically)\n",
    "/The reason behind this is that they either do not have homogenous types within the list or are a list of list.\n",
    "/These are called general lists\n",
    "\n",
    "/G and H is what you would call a simple list since it has homogenous type\n",
    "/The syntax of intializing a simple list doesnt matter:\n",
    "/ ~ is used to check if the two lists are equal as a whole. Doesnt show by each element\n",
    "1 2 3 4 ~ (1 ; 2 ; 3 ; 4)\n",
    "\n",
    "/Simple char lists display as strings and in fact are strings\n",
    "S: (\"H\" ; \"e\" ; \"l\" ; \"l\" ; \"o\")\n",
    "S\n",
    "/Since a string is a list of chars, you cannot ask if two tsrings of different length are equal using =.\n",
    "/But you can ask if they are identical using ~\n",
    "/We can also intialize string using double quotations\n",
    "SS: \"Hello\"\n",
    "SS\n",
    "/SS = \"Hell\" /Error\n",
    "SS ~ S\n",
    "\n",
    "/General lists for temporal aka time and date type variables.\n",
    "/We can only have simple lists for temporal types so if you specify a general list all items get widened or narrowed to the first element type\n",
    "(1997.10.27 ; 1995.10.27D22:34:45)\n",
    "\n",
    "(12:34 ; 01:02:03)\n",
    "\n",
    "/It seems that it does not get forced to simple list. May have been updated since the book release.\n",
    "\n",
    "/Empty list. Open close parentheses with nothing in between. You can have optional whitespace.\n",
    "Empty: ()\n",
    "\n",
    "/Singleton lists\n",
    "/A list containing a single item\n",
    "/We have to use the keyword enlist\n",
    "Single: enlist \"S\"\n",
    "Single\n",
    "/The enlist keyword doesnt just work on a single atom, it can be any q entity\n",
    "SS : ( (1;2) ; (3;4))\n",
    "SSS : enlist SS\n",
    "SSS ~ SS\n",
    "SSS\n",
    "/Note that it flattens a list of list. A useful feature to keep in mind\n",
    "\n",
    "/List construction can take place where we are calling other functions or existing variables\n",
    "AA: 2\n",
    "BB: `Hello\n",
    "CC: 1b\n",
    "L1: (AA ; BB ; CC ; count A)\n",
    "L1\n",
    "\n",
    "/Lists as maps\n",
    "/We can think of lists as a mathematical mapping provided by item indexing. \n",
    "/So the I/O table would be where I is the index and 0 is the list value\n",
    "(\"A\" ; 2 ; 4.2 ; 5) /Has the map i=1 for \"A\" and so on\n",
    "/For a nested list it is slightly different\n",
    "((\"A\" ; 2) ; (4.2 ; 5)) /Has the map i=1 for (\"A\" ; 2) and i=2 for (4.2 ; 5)\n",
    "\n",
    "/Nested lists\n",
    "/They have item themselves that are lists\n",
    "/The number of levels of nesting for a list is called its depth\n",
    "/Depth can be thought of as how much repeated indexing is needed to arrive at only atoms.\n",
    "/Atoms have depth 0 and simple lists have depth 1\n",
    "L1: (1 ; 2 ; (3 ; 4))\n",
    "L1[0]\n",
    "L1[2][0] /Depth of 2 to get to atoms.\n",
    "\n",
    "/We can create an array of given number of rows and vectors using the reshape operator # by specifyinh 0N for the number of rows or columns left\n",
    "LL : 0 1 2 3 4 5 6 7 8 9\n",
    "/Specify rows and columns followed by # and the list\n",
    "2 0N#LL /Columns automatically calculated\n",
    "0N 3#LL /The rows do not need to be of same size\n",
    "\n",
    "\n",
    "/Rectangular Lists\n",
    "/A rectangular list is a list of lists all having the same count. Rectangular lists is not a matrix because it can have additional levels of nesting\n",
    "L:(1 2 3; (10 20; 100 200; 1000 2000))\n",
    "L\n",
    "/we can transpose a rectangular list using flip. \n",
    "/Note that it only flips the first two index levels i.e L[1,2] will become L[2,1] when flipped\n",
    "flip L\n",
    "\n",
    "/A matrix is a special case of recatngular lists but each dimension/level must have same length of lists\n",
    "mm:((1 2;3 4;5 6);(10 20;30 40;50 60)) /2x3x2 matrix\n",
    "mm\n",
    "mm[0]\n",
    "mm[0;1]\n",
    "mm[0;1;0]"
   ]
  },
  {
   "cell_type": "code",
   "execution_count": 124,
   "id": "80acbc67-dc97-4106-9e60-f00c01230324",
   "metadata": {
    "collapsed": true,
    "jupyter": {
     "outputs_hidden": true
    },
    "tags": []
   },
   "outputs": [
    {
     "data": {
      "text/plain": [
       "\"Indexing\"\n"
      ]
     },
     "execution_count": 124,
     "metadata": {},
     "output_type": "execute_result"
    },
    {
     "data": {
      "text/plain": [
       "1\n"
      ]
     },
     "execution_count": 124,
     "metadata": {},
     "output_type": "execute_result"
    },
    {
     "data": {
      "text/plain": [
       "5555\n"
      ]
     },
     "execution_count": 124,
     "metadata": {},
     "output_type": "execute_result"
    },
    {
     "data": {
      "text/plain": [
       "`\n"
      ]
     },
     "execution_count": 124,
     "metadata": {},
     "output_type": "execute_result"
    },
    {
     "data": {
      "text/plain": [
       "`Hello\n",
       "22\n",
       "2.2\n",
       "5555\n",
       "\"A\"\n"
      ]
     },
     "execution_count": 124,
     "metadata": {},
     "output_type": "execute_result"
    },
    {
     "data": {
      "text/plain": [
       "0N\n"
      ]
     },
     "execution_count": 124,
     "metadata": {},
     "output_type": "execute_result"
    },
    {
     "data": {
      "text/plain": [
       "1 2 3 4 5 6 7 8 9\n"
      ]
     },
     "execution_count": 124,
     "metadata": {},
     "output_type": "execute_result"
    },
    {
     "data": {
      "text/plain": [
       "1 2 3 4 5 6 7 8 9\n"
      ]
     },
     "execution_count": 124,
     "metadata": {},
     "output_type": "execute_result"
    },
    {
     "data": {
      "text/plain": [
       "\"Nested Indexing\"\n"
      ]
     },
     "execution_count": 124,
     "metadata": {},
     "output_type": "execute_result"
    },
    {
     "data": {
      "text/plain": [
       "1 2\n"
      ]
     },
     "execution_count": 124,
     "metadata": {},
     "output_type": "execute_result"
    },
    {
     "data": {
      "text/plain": [
       "2\n"
      ]
     },
     "execution_count": 124,
     "metadata": {},
     "output_type": "execute_result"
    },
    {
     "data": {
      "text/plain": [
       "1 2\n"
      ]
     },
     "execution_count": 124,
     "metadata": {},
     "output_type": "execute_result"
    },
    {
     "data": {
      "text/plain": [
       "2\n"
      ]
     },
     "execution_count": 124,
     "metadata": {},
     "output_type": "execute_result"
    },
    {
     "data": {
      "text/plain": [
       "1\n",
       "2\n",
       "(1 44444;3 4)\n"
      ]
     },
     "execution_count": 124,
     "metadata": {},
     "output_type": "execute_result"
    },
    {
     "data": {
      "text/plain": [
       "\"Indexing with Lists\"\n"
      ]
     },
     "execution_count": 124,
     "metadata": {},
     "output_type": "execute_result"
    },
    {
     "data": {
      "text/plain": [
       "1 3\n"
      ]
     },
     "execution_count": 124,
     "metadata": {},
     "output_type": "execute_result"
    },
    {
     "data": {
      "text/plain": [
       "1 3\n"
      ]
     },
     "execution_count": 124,
     "metadata": {},
     "output_type": "execute_result"
    },
    {
     "data": {
      "text/plain": [
       "3 1 5 2\n"
      ]
     },
     "execution_count": 124,
     "metadata": {},
     "output_type": "execute_result"
    },
    {
     "data": {
      "text/plain": [
       "5 7 4 4 6 6 7 8 9\n"
      ]
     },
     "execution_count": 124,
     "metadata": {},
     "output_type": "execute_result"
    },
    {
     "data": {
      "text/plain": [
       "17 7 10 4 12 6 7 8 9\n"
      ]
     },
     "execution_count": 124,
     "metadata": {},
     "output_type": "execute_result"
    },
    {
     "data": {
      "text/plain": [
       "0 0 0 4 0 6 7 8 9\n"
      ]
     },
     "execution_count": 124,
     "metadata": {},
     "output_type": "execute_result"
    },
    {
     "data": {
      "text/plain": [
       "\"Indexing via Variable\"\n"
      ]
     },
     "execution_count": 124,
     "metadata": {},
     "output_type": "execute_result"
    },
    {
     "data": {
      "text/plain": [
       "4\n"
      ]
     },
     "execution_count": 124,
     "metadata": {},
     "output_type": "execute_result"
    },
    {
     "data": {
      "text/plain": [
       "4 0 6 8\n"
      ]
     },
     "execution_count": 124,
     "metadata": {},
     "output_type": "execute_result"
    },
    {
     "data": {
      "text/plain": [
       "\"Indexing with Nested Lists\"\n"
      ]
     },
     "execution_count": 124,
     "metadata": {},
     "output_type": "execute_result"
    },
    {
     "data": {
      "text/plain": [
       "3 1\n",
       "5 7\n"
      ]
     },
     "execution_count": 124,
     "metadata": {},
     "output_type": "execute_result"
    },
    {
     "data": {
      "text/plain": [
       "4 0\n",
       "6 8\n"
      ]
     },
     "execution_count": 124,
     "metadata": {},
     "output_type": "execute_result"
    },
    {
     "data": {
      "text/plain": [
       "\"Juxtaposition\"\n"
      ]
     },
     "execution_count": 124,
     "metadata": {},
     "output_type": "execute_result"
    },
    {
     "data": {
      "text/plain": [
       "0\n"
      ]
     },
     "execution_count": 124,
     "metadata": {},
     "output_type": "execute_result"
    },
    {
     "data": {
      "text/plain": [
       "4 0 6 8\n"
      ]
     },
     "execution_count": 124,
     "metadata": {},
     "output_type": "execute_result"
    },
    {
     "data": {
      "text/plain": [
       "4 0 6 8\n"
      ]
     },
     "execution_count": 124,
     "metadata": {},
     "output_type": "execute_result"
    },
    {
     "data": {
      "text/plain": [
       "0 0 0 4 0 6 7 8 9\n"
      ]
     },
     "execution_count": 124,
     "metadata": {},
     "output_type": "execute_result"
    },
    {
     "data": {
      "text/plain": [
       "\"Elided Indices\"\n"
      ]
     },
     "execution_count": 124,
     "metadata": {},
     "output_type": "execute_result"
    },
    {
     "data": {
      "text/plain": [
       "1 2  3  4 \n",
       "5 6  7  8 \n",
       "9 10 11 12\n"
      ]
     },
     "execution_count": 124,
     "metadata": {},
     "output_type": "execute_result"
    },
    {
     "data": {
      "text/plain": [
       "5 6 7 8\n"
      ]
     },
     "execution_count": 124,
     "metadata": {},
     "output_type": "execute_result"
    },
    {
     "data": {
      "text/plain": [
       "2 6 10\n"
      ]
     },
     "execution_count": 124,
     "metadata": {},
     "output_type": "execute_result"
    },
    {
     "data": {
      "text/plain": [
       "(1 2 3;4 5 6 7)\n",
       "(`a`b`c`d;`z`y`x`;`0`1`2)\n",
       "(\"now\";\"is\";\"the\")\n"
      ]
     },
     "execution_count": 124,
     "metadata": {},
     "output_type": "execute_result"
    },
    {
     "data": {
      "text/plain": [
       "4 5 6 7\n",
       "`z`y`x`\n",
       "\"is\"\n"
      ]
     },
     "execution_count": 124,
     "metadata": {},
     "output_type": "execute_result"
    },
    {
     "data": {
      "text/plain": [
       "3 6\n",
       "`c`x`2\n",
       "\"w e\"\n"
      ]
     },
     "execution_count": 124,
     "metadata": {},
     "output_type": "execute_result"
    },
    {
     "data": {
      "text/plain": [
       "(1 2;4 5)\n",
       "(\"no\";\"is\";\"th\")\n"
      ]
     },
     "execution_count": 124,
     "metadata": {},
     "output_type": "execute_result"
    }
   ],
   "source": [
    "\"Indexing\"\n",
    "\n",
    "A: 1 2 3 4 5 6 7 8 9\n",
    "B: 10 11 12 13\n",
    "C: (`Hello ; 2 ; 2.2 ; 5555 ;\"A\")\n",
    "D: (1 ; 2 ; ((1 ; 2) ; (3 ; 4)))\n",
    "\n",
    "/List is indexed from 0 to n-1 just like python\n",
    "A[0]\n",
    "C[3]\n",
    "/Out of bound index return null value\n",
    "C[6] /Null value shown is of the first element type\n",
    "\n",
    "/Items in list can be assigned via indexing\n",
    "C[1] : 22\n",
    "C\n",
    "\n",
    "/Simple lists are built to be fast thus they do not accept assignment to another type\n",
    "/A[0] : `Hell /Gives error\n",
    "\n",
    "/Negative indexing does not work unlike Python where it is very useful\n",
    "A[-1] /Gives null\n",
    "\n",
    "/Nothing in the index bounds return entire list\n",
    "A[]\n",
    "A[::] /:: denotes nil item so it results in empty index as above\n",
    "\n",
    "\"Nested Indexing\"\n",
    "\n",
    "/Nested indexing also called iterated indexing\n",
    "D[2][0] /Second level\n",
    "D[2][0][1] /Third level\n",
    "/Alternate notation for nested indexing called indexing at depth\n",
    "D[2;0]\n",
    "D[2;0;1]\n",
    "\n",
    "/Assignment works with indexing at depth but not iterated indexing\n",
    "D[2;0;1] : 44444\n",
    "D\n",
    "/D[2][0][1] : 44 /Gives error\n",
    "\n",
    "\n",
    "\"Indexing with Lists\"\n",
    "A[0 2] /List of (0;2) \n",
    "A[(0;2)]\n",
    "\n",
    "/Order doesnt matter thus we can use it to rearrange the list if need be\n",
    "A[2 0 4 1]\n",
    "\n",
    "/We can also use this for assignment but the length of the assigned needs to match the value it is being set to\n",
    "A[2 0 4 1] : 4 5 6 7\n",
    "A\n",
    "\n",
    "/What if an index is repeated? It is assigned from left to right so since the right is latest one read, the right value is used\n",
    "A[2 0 4 0] : 10 11 12 17 /A[0] will be 17\n",
    "A\n",
    "\n",
    "/You can also assign a single value to multiple items\n",
    "A[2 0 4 1] : 0\n",
    "A\n",
    "\n",
    "\"Indexing via Variable\"\n",
    "I1: 3\n",
    "I2: 3 1 5 7\n",
    "A[I1]\n",
    "A[I2]\n",
    "\n",
    "\n",
    "\"Indexing with Nested Lists\"\n",
    "/The output from the indexing assumed the form and shape of the index\n",
    "/So when we have nested lists as index, the output is nested list\n",
    "I3: (3 1;5 7)\n",
    "I3\n",
    "A[I3]\n",
    "\n",
    "\n",
    "\"Juxtaposition\"\n",
    "/We dont need brackets to index lists. A white space and the same format as with brackets but with brackets removed works\n",
    "A 0 /A[0]\n",
    "A 3 1 5 7 /A[2 0 4 1]\n",
    "A I2 /A[I2]\n",
    "A :: /A[::]\n",
    "\n",
    "\n",
    "\"Elided Indices\"\n",
    "M: (1 2 3 4;5 6 7 8;9 10 11 12)\n",
    "M\n",
    "/We can retrieve row or column by using partial indices for indexing at depth\n",
    "M[1;] /Row 1. Note row starts a 0\n",
    "M[;1] /Col 1. Note col starts at 0\n",
    "/Eliding the index just reduces it to the top level that is M[1;] means M[1]\n",
    "\n",
    "/Lets look at a harder example\n",
    "L:((1 2 3;4 5 6 7);(`a`b`c`d;`z`y`x`;`0`1`2);(\"now\";\"is\";\"the\"))\n",
    "L\n",
    "L[;1;]\n",
    "L[;;2]\n",
    "/L[3] had three values in the second level. The second value in second level does not have value at index 2 so we get w e\n",
    "\n",
    "/Nested elided indices\n",
    "L[0 2 ;; 0 1]"
   ]
  },
  {
   "cell_type": "code",
   "execution_count": 138,
   "id": "fd871e36-5776-42f7-a84c-7c12653276a4",
   "metadata": {
    "collapsed": true,
    "jupyter": {
     "outputs_hidden": true
    },
    "tags": []
   },
   "outputs": [
    {
     "data": {
      "text/plain": [
       "\"------------------\"\n"
      ]
     },
     "execution_count": 138,
     "metadata": {},
     "output_type": "execute_result"
    },
    {
     "data": {
      "text/plain": [
       "\"Count\"\n"
      ]
     },
     "execution_count": 138,
     "metadata": {},
     "output_type": "execute_result"
    },
    {
     "data": {
      "text/plain": [
       "9\n"
      ]
     },
     "execution_count": 138,
     "metadata": {},
     "output_type": "execute_result"
    },
    {
     "data": {
      "text/plain": [
       "4\n"
      ]
     },
     "execution_count": 138,
     "metadata": {},
     "output_type": "execute_result"
    },
    {
     "data": {
      "text/plain": [
       "5\n"
      ]
     },
     "execution_count": 138,
     "metadata": {},
     "output_type": "execute_result"
    },
    {
     "data": {
      "text/plain": [
       "3\n"
      ]
     },
     "execution_count": 138,
     "metadata": {},
     "output_type": "execute_result"
    },
    {
     "data": {
      "text/plain": [
       "4\n"
      ]
     },
     "execution_count": 138,
     "metadata": {},
     "output_type": "execute_result"
    },
    {
     "data": {
      "text/plain": [
       "\"------------------\"\n"
      ]
     },
     "execution_count": 138,
     "metadata": {},
     "output_type": "execute_result"
    },
    {
     "data": {
      "text/plain": [
       "\"First and Last\"\n"
      ]
     },
     "execution_count": 138,
     "metadata": {},
     "output_type": "execute_result"
    },
    {
     "data": {
      "text/plain": [
       "1\n"
      ]
     },
     "execution_count": 138,
     "metadata": {},
     "output_type": "execute_result"
    },
    {
     "data": {
      "text/plain": [
       "`Hello\n"
      ]
     },
     "execution_count": 138,
     "metadata": {},
     "output_type": "execute_result"
    },
    {
     "data": {
      "text/plain": [
       "9\n"
      ]
     },
     "execution_count": 138,
     "metadata": {},
     "output_type": "execute_result"
    },
    {
     "data": {
      "text/plain": [
       "\"A\"\n"
      ]
     },
     "execution_count": 138,
     "metadata": {},
     "output_type": "execute_result"
    },
    {
     "data": {
      "text/plain": [
       "\"------------------\"\n"
      ]
     },
     "execution_count": 138,
     "metadata": {},
     "output_type": "execute_result"
    },
    {
     "data": {
      "text/plain": [
       "\"Til Operator aka Range operator\"\n"
      ]
     },
     "execution_count": 138,
     "metadata": {},
     "output_type": "execute_result"
    },
    {
     "data": {
      "text/plain": [
       "0 1 2 3 4 5 6 7\n"
      ]
     },
     "execution_count": 138,
     "metadata": {},
     "output_type": "execute_result"
    },
    {
     "data": {
      "text/plain": [
       "2 5 8 11\n"
      ]
     },
     "execution_count": 138,
     "metadata": {},
     "output_type": "execute_result"
    },
    {
     "data": {
      "text/plain": [
       "\"------------------\"\n"
      ]
     },
     "execution_count": 138,
     "metadata": {},
     "output_type": "execute_result"
    },
    {
     "data": {
      "text/plain": [
       "\"Concatenating/Join\"\n"
      ]
     },
     "execution_count": 138,
     "metadata": {},
     "output_type": "execute_result"
    },
    {
     "data": {
      "text/plain": [
       "1 2 3 4 5 6 7 8 9 10 11 12 13\n"
      ]
     },
     "execution_count": 138,
     "metadata": {},
     "output_type": "execute_result"
    },
    {
     "data": {
      "text/plain": [
       "1 2 3 4 44 55\n"
      ]
     },
     "execution_count": 138,
     "metadata": {},
     "output_type": "execute_result"
    },
    {
     "data": {
      "text/plain": [
       "\"------------------\"\n"
      ]
     },
     "execution_count": 138,
     "metadata": {},
     "output_type": "execute_result"
    },
    {
     "data": {
      "text/plain": [
       "\"Merging with ^ aka Coalesce\"\n"
      ]
     },
     "execution_count": 138,
     "metadata": {},
     "output_type": "execute_result"
    },
    {
     "data": {
      "text/plain": [
       "10 20 2\n"
      ]
     },
     "execution_count": 138,
     "metadata": {},
     "output_type": "execute_result"
    },
    {
     "data": {
      "text/plain": [
       "\"------------------\"\n"
      ]
     },
     "execution_count": 138,
     "metadata": {},
     "output_type": "execute_result"
    },
    {
     "data": {
      "text/plain": [
       "\"Find Operator ?\"\n"
      ]
     },
     "execution_count": 138,
     "metadata": {},
     "output_type": "execute_result"
    },
    {
     "data": {
      "text/plain": [
       "2\n"
      ]
     },
     "execution_count": 138,
     "metadata": {},
     "output_type": "execute_result"
    },
    {
     "data": {
      "text/plain": [
       "2 1\n"
      ]
     },
     "execution_count": 138,
     "metadata": {},
     "output_type": "execute_result"
    },
    {
     "data": {
      "text/plain": [
       "\"------------------\"\n"
      ]
     },
     "execution_count": 138,
     "metadata": {},
     "output_type": "execute_result"
    },
    {
     "data": {
      "text/plain": [
       "\"Distinct Operator\"\n"
      ]
     },
     "execution_count": 138,
     "metadata": {},
     "output_type": "execute_result"
    },
    {
     "data": {
      "text/plain": [
       "1 2 3 4 5 6 7 8 9\n"
      ]
     },
     "execution_count": 138,
     "metadata": {},
     "output_type": "execute_result"
    },
    {
     "data": {
      "text/plain": [
       "1\n",
       "2\n",
       "1 2 3 4\n"
      ]
     },
     "execution_count": 138,
     "metadata": {},
     "output_type": "execute_result"
    },
    {
     "data": {
      "text/plain": [
       "\"------------------\"\n"
      ]
     },
     "execution_count": 138,
     "metadata": {},
     "output_type": "execute_result"
    },
    {
     "data": {
      "text/plain": [
       "\"Where Operator\"\n"
      ]
     },
     "execution_count": 138,
     "metadata": {},
     "output_type": "execute_result"
    },
    {
     "data": {
      "text/plain": [
       "1 2 1 3 4 5 1\n"
      ]
     },
     "execution_count": 138,
     "metadata": {},
     "output_type": "execute_result"
    },
    {
     "data": {
      "text/plain": [
       "0 2 6\n"
      ]
     },
     "execution_count": 138,
     "metadata": {},
     "output_type": "execute_result"
    },
    {
     "data": {
      "text/plain": [
       "1 1 1\n"
      ]
     },
     "execution_count": 138,
     "metadata": {},
     "output_type": "execute_result"
    },
    {
     "data": {
      "text/plain": [
       "100 2 100 3 4 5 100\n"
      ]
     },
     "execution_count": 138,
     "metadata": {},
     "output_type": "execute_result"
    },
    {
     "data": {
      "text/plain": [
       "\"------------------\"\n"
      ]
     },
     "execution_count": 138,
     "metadata": {},
     "output_type": "execute_result"
    },
    {
     "data": {
      "text/plain": [
       "\"Group Operator\"\n"
      ]
     },
     "execution_count": 138,
     "metadata": {},
     "output_type": "execute_result"
    },
    {
     "data": {
      "text/plain": [
       "1| 0 2 6\n",
       "2| ,1\n",
       "3| ,3\n",
       "4| ,4\n",
       "5| ,5\n"
      ]
     },
     "execution_count": 138,
     "metadata": {},
     "output_type": "execute_result"
    },
    {
     "data": {
      "text/plain": [
       "1      | 0\n",
       "2      | 1\n",
       "1 2 3 4| 2\n"
      ]
     },
     "execution_count": 138,
     "metadata": {},
     "output_type": "execute_result"
    },
    {
     "data": {
      "text/plain": [
       "\"------------------\"\n"
      ]
     },
     "execution_count": 138,
     "metadata": {},
     "output_type": "execute_result"
    },
    {
     "data": {
      "text/plain": [
       "\"Take Operator aka Reshape Operator\"\n"
      ]
     },
     "execution_count": 138,
     "metadata": {},
     "output_type": "execute_result"
    },
    {
     "data": {
      "text/plain": [
       "1 2\n"
      ]
     },
     "execution_count": 138,
     "metadata": {},
     "output_type": "execute_result"
    },
    {
     "data": {
      "text/plain": [
       "8 9\n"
      ]
     },
     "execution_count": 138,
     "metadata": {},
     "output_type": "execute_result"
    },
    {
     "data": {
      "text/plain": [
       "1 2 3 4 5 6 7 8 9 1 2 3\n"
      ]
     },
     "execution_count": 138,
     "metadata": {},
     "output_type": "execute_result"
    },
    {
     "data": {
      "text/plain": [
       "15 15 15 15 15 15 15 15 15 15\n"
      ]
     },
     "execution_count": 138,
     "metadata": {},
     "output_type": "execute_result"
    },
    {
     "data": {
      "text/plain": [
       "\"Over\"\n"
      ]
     },
     "execution_count": 138,
     "metadata": {},
     "output_type": "execute_result"
    },
    {
     "data": {
      "text/plain": [
       "6\n"
      ]
     },
     "execution_count": 138,
     "metadata": {},
     "output_type": "execute_result"
    },
    {
     "data": {
      "text/plain": [
       "6\n"
      ]
     },
     "execution_count": 138,
     "metadata": {},
     "output_type": "execute_result"
    },
    {
     "data": {
      "text/plain": [
       "-4\n"
      ]
     },
     "execution_count": 138,
     "metadata": {},
     "output_type": "execute_result"
    },
    {
     "data": {
      "text/plain": [
       "6\n"
      ]
     },
     "execution_count": 138,
     "metadata": {},
     "output_type": "execute_result"
    },
    {
     "data": {
      "text/plain": [
       "0.1666667\n"
      ]
     },
     "execution_count": 138,
     "metadata": {},
     "output_type": "execute_result"
    },
    {
     "data": {
      "text/plain": [
       "4\n"
      ]
     },
     "execution_count": 138,
     "metadata": {},
     "output_type": "execute_result"
    },
    {
     "data": {
      "text/plain": [
       "1\n"
      ]
     },
     "execution_count": 138,
     "metadata": {},
     "output_type": "execute_result"
    },
    {
     "data": {
      "text/plain": [
       "6\n"
      ]
     },
     "execution_count": 138,
     "metadata": {},
     "output_type": "execute_result"
    },
    {
     "data": {
      "text/plain": [
       "6\n"
      ]
     },
     "execution_count": 138,
     "metadata": {},
     "output_type": "execute_result"
    },
    {
     "data": {
      "text/plain": [
       "4\n"
      ]
     },
     "execution_count": 138,
     "metadata": {},
     "output_type": "execute_result"
    },
    {
     "data": {
      "text/plain": [
       "1\n"
      ]
     },
     "execution_count": 138,
     "metadata": {},
     "output_type": "execute_result"
    },
    {
     "data": {
      "text/plain": [
       "\"Power Trick\"\n"
      ]
     },
     "execution_count": 138,
     "metadata": {},
     "output_type": "execute_result"
    },
    {
     "data": {
      "text/plain": [
       "100000\n"
      ]
     },
     "execution_count": 138,
     "metadata": {},
     "output_type": "execute_result"
    },
    {
     "data": {
      "text/plain": [
       "\"Scan\"\n"
      ]
     },
     "execution_count": 138,
     "metadata": {},
     "output_type": "execute_result"
    },
    {
     "data": {
      "text/plain": [
       "1 3 6\n"
      ]
     },
     "execution_count": 138,
     "metadata": {},
     "output_type": "execute_result"
    },
    {
     "data": {
      "text/plain": [
       "1 -1 -4\n"
      ]
     },
     "execution_count": 138,
     "metadata": {},
     "output_type": "execute_result"
    },
    {
     "data": {
      "text/plain": [
       "1 2 6\n"
      ]
     },
     "execution_count": 138,
     "metadata": {},
     "output_type": "execute_result"
    },
    {
     "data": {
      "text/plain": [
       "1\n",
       "0.5\n",
       "0.1666667\n"
      ]
     },
     "execution_count": 138,
     "metadata": {},
     "output_type": "execute_result"
    },
    {
     "data": {
      "text/plain": [
       "1 4 4\n"
      ]
     },
     "execution_count": 138,
     "metadata": {},
     "output_type": "execute_result"
    },
    {
     "data": {
      "text/plain": [
       "2 2 1\n"
      ]
     },
     "execution_count": 138,
     "metadata": {},
     "output_type": "execute_result"
    },
    {
     "data": {
      "text/plain": [
       "1 3 6\n"
      ]
     },
     "execution_count": 138,
     "metadata": {},
     "output_type": "execute_result"
    },
    {
     "data": {
      "text/plain": [
       "1 2 6\n"
      ]
     },
     "execution_count": 138,
     "metadata": {},
     "output_type": "execute_result"
    },
    {
     "data": {
      "text/plain": [
       "1 4 4\n"
      ]
     },
     "execution_count": 138,
     "metadata": {},
     "output_type": "execute_result"
    },
    {
     "data": {
      "text/plain": [
       "2 2 1\n"
      ]
     },
     "execution_count": 138,
     "metadata": {},
     "output_type": "execute_result"
    }
   ],
   "source": [
    "/List and Vector operations\n",
    "\n",
    "A: 1 2 3 4 5 6 7 8 9\n",
    "B: 10 11 12 13\n",
    "C: (`Hello ; 2 ; 2.2 ; 5555 ;\"A\")\n",
    "D: (1 ; 2 ; (1 2 3 4))\n",
    "\n",
    "\n",
    "/Getting number of elements in vector\n",
    "\"------------------\"\n",
    "\"Count\"\n",
    "count A\n",
    "count B\n",
    "count C\n",
    "count D\n",
    "count D[2] /Nested count\n",
    "\n",
    "/We can get the first and last items in a list using the first and last named operators\n",
    "\"------------------\"\n",
    "\"First and Last\"\n",
    "first A\n",
    "first C\n",
    "last A\n",
    "last C\n",
    "\n",
    "\"------------------\"\n",
    "\"Til Operator aka Range operator\"\n",
    "/Get values from 0 upto and not including n\n",
    "/Simply the range from python\n",
    "til 8\n",
    "2 + 3*til 4\n",
    "\n",
    "\"------------------\"\n",
    "\"Concatenating/Join\"\n",
    "/We can join lists using ,\n",
    "/This is concatenation/appending\n",
    "CC: A,B\n",
    "CC\n",
    "/Note that simple list is initialized with just space so concatenating simple lists may look like this\n",
    "DD: 1 2 3 4, 44 55\n",
    "DD\n",
    "\n",
    "\"------------------\"\n",
    "\"Merging with ^ aka Coalesce\"\n",
    "/You can coalesce two lists of the same length by using ^\n",
    "/The right list prevails over the left list when both values are non NA\n",
    "10 10 0N ^ 0N 20 2\n",
    "/This would result in 10,20,2 list\n",
    "\n",
    "\"------------------\"\n",
    "\"Find Operator ?\"\n",
    "/Returns index of first occurence of the right operand in the left operand\n",
    "1 2 3 4 3?3\n",
    "/Aka the index of the first occurence\n",
    "/We can find the first index of multiple atoms by using a list as the right operand\n",
    "1 2 3 4 3?3 2\n",
    "\n",
    "\"------------------\"\n",
    "\"Distinct Operator\"\n",
    "/Returns unique values in list in order of first occurence\n",
    "distinct A\n",
    "/It takes place on level 1 so we can get a nested list back when it is called\n",
    "distinct D \n",
    "\n",
    "\"------------------\"\n",
    "\"Where Operator\"\n",
    "/Returns indices whee condition is true\n",
    "LL: 1 2 1 3 4 5 1\n",
    "LL\n",
    "where LL=1\n",
    "/We can use it to index\n",
    "LL[where LL=1]\n",
    "/Can also use it in assignment\n",
    "LL[where LL=1] : 100\n",
    "LL\n",
    "\n",
    "\n",
    "\"------------------\"\n",
    "\"Group Operator\"\n",
    "/Takes a list and returns a dicionary in which each disinct item of the argument is mapped to each indices of its occurence in order of occurence\n",
    "LL: 1 2 1 3 4 5 1\n",
    "group LL\n",
    "/Nested list: Takes place on level 1 just like distinct. So a list is one of the distinct items in nested list.\n",
    "group D\n",
    "\n",
    "\n",
    "\"------------------\"\n",
    "\"Take Operator aka Reshape Operator\"\n",
    "/Take operator. It takes n operator from front or back depending on sign\n",
    "/Negative sign is for taking from the back of the list. May remind you of pop function from python lists\n",
    "2 # A\n",
    "-2 # A\n",
    "/If you extract more items than length of list, it just restarts from the beginning of list and continues extracting\n",
    "12 # A\n",
    "/This repetition feature is very useful we can use this to get a list of size n of the same value. Eg 10 15s\n",
    "10#15"
   ]
  },
  {
   "cell_type": "markdown",
   "id": "38d47d8a-7d43-4e9d-8612-7cb2b15d672b",
   "metadata": {},
   "source": [
    "# Basic Operators"
   ]
  },
  {
   "cell_type": "code",
   "execution_count": 1,
   "id": "829de061-ae10-49b9-8ddd-d0263197da20",
   "metadata": {
    "collapsed": true,
    "jupyter": {
     "outputs_hidden": true
    },
    "tags": []
   },
   "outputs": [
    {
     "data": {
      "text/plain": [
       "\"Addition\"\n"
      ]
     },
     "execution_count": 1,
     "metadata": {},
     "output_type": "execute_result"
    },
    {
     "data": {
      "text/plain": [
       "5\n"
      ]
     },
     "execution_count": 1,
     "metadata": {},
     "output_type": "execute_result"
    },
    {
     "data": {
      "text/plain": [
       "5\n"
      ]
     },
     "execution_count": 1,
     "metadata": {},
     "output_type": "execute_result"
    },
    {
     "data": {
      "text/plain": [
       "15\n"
      ]
     },
     "execution_count": 1,
     "metadata": {},
     "output_type": "execute_result"
    },
    {
     "data": {
      "text/plain": [
       "68\n"
      ]
     },
     "execution_count": 1,
     "metadata": {},
     "output_type": "execute_result"
    },
    {
     "data": {
      "text/plain": [
       "3 4 5 6\n"
      ]
     },
     "execution_count": 1,
     "metadata": {},
     "output_type": "execute_result"
    },
    {
     "data": {
      "text/plain": [
       "5 5 5 5\n"
      ]
     },
     "execution_count": 1,
     "metadata": {},
     "output_type": "execute_result"
    },
    {
     "data": {
      "text/plain": [
       "101 102 103\n",
       "104 105 106\n"
      ]
     },
     "execution_count": 1,
     "metadata": {},
     "output_type": "execute_result"
    },
    {
     "data": {
      "text/plain": [
       "2010.01.11\n"
      ]
     },
     "execution_count": 1,
     "metadata": {},
     "output_type": "execute_result"
    },
    {
     "data": {
      "text/plain": [
       "0D12:00:00.000000001\n"
      ]
     },
     "execution_count": 1,
     "metadata": {},
     "output_type": "execute_result"
    },
    {
     "data": {
      "text/plain": [
       "0D12:00:00.000000001\n"
      ]
     },
     "execution_count": 1,
     "metadata": {},
     "output_type": "execute_result"
    },
    {
     "data": {
      "text/plain": [
       "12:00:00.001\n"
      ]
     },
     "execution_count": 1,
     "metadata": {},
     "output_type": "execute_result"
    },
    {
     "data": {
      "text/plain": [
       "\"------------------\"\n"
      ]
     },
     "execution_count": 1,
     "metadata": {},
     "output_type": "execute_result"
    },
    {
     "data": {
      "text/plain": [
       "\"Subtraction\"\n"
      ]
     },
     "execution_count": 1,
     "metadata": {},
     "output_type": "execute_result"
    },
    {
     "data": {
      "text/plain": [
       "-1\n"
      ]
     },
     "execution_count": 1,
     "metadata": {},
     "output_type": "execute_result"
    },
    {
     "data": {
      "text/plain": [
       "1 0 -1 -2\n"
      ]
     },
     "execution_count": 1,
     "metadata": {},
     "output_type": "execute_result"
    },
    {
     "data": {
      "text/plain": [
       "-3 -1 1 3\n"
      ]
     },
     "execution_count": 1,
     "metadata": {},
     "output_type": "execute_result"
    },
    {
     "data": {
      "text/plain": [
       "\"------------------\"\n"
      ]
     },
     "execution_count": 1,
     "metadata": {},
     "output_type": "execute_result"
    },
    {
     "data": {
      "text/plain": [
       "\"Multiplication\"\n"
      ]
     },
     "execution_count": 1,
     "metadata": {},
     "output_type": "execute_result"
    },
    {
     "data": {
      "text/plain": [
       "6\n"
      ]
     },
     "execution_count": 1,
     "metadata": {},
     "output_type": "execute_result"
    },
    {
     "data": {
      "text/plain": [
       "2 4 6 8\n"
      ]
     },
     "execution_count": 1,
     "metadata": {},
     "output_type": "execute_result"
    },
    {
     "data": {
      "text/plain": [
       "4 6 6 4\n"
      ]
     },
     "execution_count": 1,
     "metadata": {},
     "output_type": "execute_result"
    },
    {
     "data": {
      "text/plain": [
       "\"------------------\"\n"
      ]
     },
     "execution_count": 1,
     "metadata": {},
     "output_type": "execute_result"
    },
    {
     "data": {
      "text/plain": [
       "\"Division\"\n"
      ]
     },
     "execution_count": 1,
     "metadata": {},
     "output_type": "execute_result"
    },
    {
     "data": {
      "text/plain": [
       "0.6666667\n"
      ]
     },
     "execution_count": 1,
     "metadata": {},
     "output_type": "execute_result"
    },
    {
     "data": {
      "text/plain": [
       "2 1 0.6666667 0.5\n"
      ]
     },
     "execution_count": 1,
     "metadata": {},
     "output_type": "execute_result"
    },
    {
     "data": {
      "text/plain": [
       "0.5 1 1.5 2\n"
      ]
     },
     "execution_count": 1,
     "metadata": {},
     "output_type": "execute_result"
    },
    {
     "data": {
      "text/plain": [
       "0.25 0.6666667 1.5 4\n"
      ]
     },
     "execution_count": 1,
     "metadata": {},
     "output_type": "execute_result"
    },
    {
     "data": {
      "text/plain": [
       "\"------------------\"\n"
      ]
     },
     "execution_count": 1,
     "metadata": {},
     "output_type": "execute_result"
    },
    {
     "data": {
      "text/plain": [
       "\"Negation\"\n"
      ]
     },
     "execution_count": 1,
     "metadata": {},
     "output_type": "execute_result"
    },
    {
     "data": {
      "text/plain": [
       "-2\n"
      ]
     },
     "execution_count": 1,
     "metadata": {},
     "output_type": "execute_result"
    },
    {
     "data": {
      "text/plain": [
       "-1 -2 -3 -4\n"
      ]
     },
     "execution_count": 1,
     "metadata": {},
     "output_type": "execute_result"
    },
    {
     "data": {
      "text/plain": [
       "\"------------------\"\n"
      ]
     },
     "execution_count": 1,
     "metadata": {},
     "output_type": "execute_result"
    },
    {
     "data": {
      "text/plain": [
       "\"Match\"\n"
      ]
     },
     "execution_count": 1,
     "metadata": {},
     "output_type": "execute_result"
    },
    {
     "data": {
      "text/plain": [
       "1b\n"
      ]
     },
     "execution_count": 1,
     "metadata": {},
     "output_type": "execute_result"
    },
    {
     "data": {
      "text/plain": [
       "0b\n"
      ]
     },
     "execution_count": 1,
     "metadata": {},
     "output_type": "execute_result"
    },
    {
     "data": {
      "text/plain": [
       "1b\n"
      ]
     },
     "execution_count": 1,
     "metadata": {},
     "output_type": "execute_result"
    },
    {
     "data": {
      "text/plain": [
       "0b\n"
      ]
     },
     "execution_count": 1,
     "metadata": {},
     "output_type": "execute_result"
    },
    {
     "data": {
      "text/plain": [
       "0b\n"
      ]
     },
     "execution_count": 1,
     "metadata": {},
     "output_type": "execute_result"
    },
    {
     "data": {
      "text/plain": [
       "\"------------------\"\n"
      ]
     },
     "execution_count": 1,
     "metadata": {},
     "output_type": "execute_result"
    },
    {
     "data": {
      "text/plain": [
       "\"Equality\"\n"
      ]
     },
     "execution_count": 1,
     "metadata": {},
     "output_type": "execute_result"
    },
    {
     "data": {
      "text/plain": [
       "1b\n"
      ]
     },
     "execution_count": 1,
     "metadata": {},
     "output_type": "execute_result"
    },
    {
     "data": {
      "text/plain": [
       "0b\n"
      ]
     },
     "execution_count": 1,
     "metadata": {},
     "output_type": "execute_result"
    },
    {
     "data": {
      "text/plain": [
       "1b\n"
      ]
     },
     "execution_count": 1,
     "metadata": {},
     "output_type": "execute_result"
    },
    {
     "data": {
      "text/plain": [
       "\"------------------\"\n"
      ]
     },
     "execution_count": 1,
     "metadata": {},
     "output_type": "execute_result"
    },
    {
     "data": {
      "text/plain": [
       "\"Disequality\"\n"
      ]
     },
     "execution_count": 1,
     "metadata": {},
     "output_type": "execute_result"
    },
    {
     "data": {
      "text/plain": [
       "0b\n"
      ]
     },
     "execution_count": 1,
     "metadata": {},
     "output_type": "execute_result"
    },
    {
     "data": {
      "text/plain": [
       "1b\n"
      ]
     },
     "execution_count": 1,
     "metadata": {},
     "output_type": "execute_result"
    },
    {
     "data": {
      "text/plain": [
       "0b\n"
      ]
     },
     "execution_count": 1,
     "metadata": {},
     "output_type": "execute_result"
    },
    {
     "data": {
      "text/plain": [
       "1b\n"
      ]
     },
     "execution_count": 1,
     "metadata": {},
     "output_type": "execute_result"
    },
    {
     "data": {
      "text/plain": [
       "\"------------------\"\n"
      ]
     },
     "execution_count": 1,
     "metadata": {},
     "output_type": "execute_result"
    },
    {
     "data": {
      "text/plain": [
       "\"Not\"\n"
      ]
     },
     "execution_count": 1,
     "metadata": {},
     "output_type": "execute_result"
    },
    {
     "data": {
      "text/plain": [
       "0b\n"
      ]
     },
     "execution_count": 1,
     "metadata": {},
     "output_type": "execute_result"
    },
    {
     "data": {
      "text/plain": [
       "1b\n"
      ]
     },
     "execution_count": 1,
     "metadata": {},
     "output_type": "execute_result"
    },
    {
     "data": {
      "text/plain": [
       "0b\n"
      ]
     },
     "execution_count": 1,
     "metadata": {},
     "output_type": "execute_result"
    },
    {
     "data": {
      "text/plain": [
       "1b\n"
      ]
     },
     "execution_count": 1,
     "metadata": {},
     "output_type": "execute_result"
    },
    {
     "data": {
      "text/plain": [
       "0b\n"
      ]
     },
     "execution_count": 1,
     "metadata": {},
     "output_type": "execute_result"
    },
    {
     "data": {
      "text/plain": [
       "1b\n"
      ]
     },
     "execution_count": 1,
     "metadata": {},
     "output_type": "execute_result"
    },
    {
     "data": {
      "text/plain": [
       "1b\n"
      ]
     },
     "execution_count": 1,
     "metadata": {},
     "output_type": "execute_result"
    },
    {
     "data": {
      "text/plain": [
       "0b\n"
      ]
     },
     "execution_count": 1,
     "metadata": {},
     "output_type": "execute_result"
    },
    {
     "data": {
      "text/plain": [
       "\"------------------\"\n"
      ]
     },
     "execution_count": 1,
     "metadata": {},
     "output_type": "execute_result"
    },
    {
     "data": {
      "text/plain": [
       "\"Less than, Greater than\"\n"
      ]
     },
     "execution_count": 1,
     "metadata": {},
     "output_type": "execute_result"
    },
    {
     "data": {
      "text/plain": [
       "\"------------------\"\n"
      ]
     },
     "execution_count": 1,
     "metadata": {},
     "output_type": "execute_result"
    },
    {
     "data": {
      "text/plain": [
       "\"Modulus aka Remainder\"\n"
      ]
     },
     "execution_count": 1,
     "metadata": {},
     "output_type": "execute_result"
    },
    {
     "data": {
      "text/plain": [
       "2\n"
      ]
     },
     "execution_count": 1,
     "metadata": {},
     "output_type": "execute_result"
    },
    {
     "data": {
      "text/plain": [
       "0 0 2 2\n"
      ]
     },
     "execution_count": 1,
     "metadata": {},
     "output_type": "execute_result"
    },
    {
     "data": {
      "text/plain": [
       "1 0 1 0\n"
      ]
     },
     "execution_count": 1,
     "metadata": {},
     "output_type": "execute_result"
    },
    {
     "data": {
      "text/plain": [
       "1 2 1 0\n"
      ]
     },
     "execution_count": 1,
     "metadata": {},
     "output_type": "execute_result"
    },
    {
     "data": {
      "text/plain": [
       "\"------------------\"\n"
      ]
     },
     "execution_count": 1,
     "metadata": {},
     "output_type": "execute_result"
    },
    {
     "data": {
      "text/plain": [
       "\"Div aka Quotient\"\n"
      ]
     },
     "execution_count": 1,
     "metadata": {},
     "output_type": "execute_result"
    },
    {
     "data": {
      "text/plain": [
       "0\n"
      ]
     },
     "execution_count": 1,
     "metadata": {},
     "output_type": "execute_result"
    },
    {
     "data": {
      "text/plain": [
       "2 1 0 0\n"
      ]
     },
     "execution_count": 1,
     "metadata": {},
     "output_type": "execute_result"
    },
    {
     "data": {
      "text/plain": [
       "0 1 1 2\n"
      ]
     },
     "execution_count": 1,
     "metadata": {},
     "output_type": "execute_result"
    },
    {
     "data": {
      "text/plain": [
       "0 0 1 4\n"
      ]
     },
     "execution_count": 1,
     "metadata": {},
     "output_type": "execute_result"
    },
    {
     "data": {
      "text/plain": [
       "\"------------------\"\n"
      ]
     },
     "execution_count": 1,
     "metadata": {},
     "output_type": "execute_result"
    },
    {
     "data": {
      "text/plain": [
       "\"Power\"\n"
      ]
     },
     "execution_count": 1,
     "metadata": {},
     "output_type": "execute_result"
    },
    {
     "data": {
      "text/plain": [
       "8f\n"
      ]
     },
     "execution_count": 1,
     "metadata": {},
     "output_type": "execute_result"
    },
    {
     "data": {
      "text/plain": [
       "2 4 8 16f\n"
      ]
     },
     "execution_count": 1,
     "metadata": {},
     "output_type": "execute_result"
    },
    {
     "data": {
      "text/plain": [
       "1 4 9 16f\n"
      ]
     },
     "execution_count": 1,
     "metadata": {},
     "output_type": "execute_result"
    },
    {
     "data": {
      "text/plain": [
       "1 8 9 4f\n"
      ]
     },
     "execution_count": 1,
     "metadata": {},
     "output_type": "execute_result"
    },
    {
     "data": {
      "text/plain": [
       "\"------------------\"\n"
      ]
     },
     "execution_count": 1,
     "metadata": {},
     "output_type": "execute_result"
    },
    {
     "data": {
      "text/plain": [
       "\"Square Root\"\n"
      ]
     },
     "execution_count": 1,
     "metadata": {},
     "output_type": "execute_result"
    },
    {
     "data": {
      "text/plain": [
       "1.414214\n"
      ]
     },
     "execution_count": 1,
     "metadata": {},
     "output_type": "execute_result"
    },
    {
     "data": {
      "text/plain": [
       "1 1.414214 1.732051 2\n"
      ]
     },
     "execution_count": 1,
     "metadata": {},
     "output_type": "execute_result"
    },
    {
     "data": {
      "text/plain": [
       "\"------------------\"\n"
      ]
     },
     "execution_count": 1,
     "metadata": {},
     "output_type": "execute_result"
    },
    {
     "data": {
      "text/plain": [
       "\"E exponential\"\n"
      ]
     },
     "execution_count": 1,
     "metadata": {},
     "output_type": "execute_result"
    },
    {
     "data": {
      "text/plain": [
       "20.08554\n"
      ]
     },
     "execution_count": 1,
     "metadata": {},
     "output_type": "execute_result"
    },
    {
     "data": {
      "text/plain": [
       "2.718282 7.389056 20.08554 54.59815\n"
      ]
     },
     "execution_count": 1,
     "metadata": {},
     "output_type": "execute_result"
    },
    {
     "data": {
      "text/plain": [
       "\"------------------\"\n"
      ]
     },
     "execution_count": 1,
     "metadata": {},
     "output_type": "execute_result"
    },
    {
     "data": {
      "text/plain": [
       "\"Natural Log\"\n"
      ]
     },
     "execution_count": 1,
     "metadata": {},
     "output_type": "execute_result"
    },
    {
     "data": {
      "text/plain": [
       "0f\n"
      ]
     },
     "execution_count": 1,
     "metadata": {},
     "output_type": "execute_result"
    },
    {
     "data": {
      "text/plain": [
       "1.609438\n"
      ]
     },
     "execution_count": 1,
     "metadata": {},
     "output_type": "execute_result"
    },
    {
     "data": {
      "text/plain": [
       "0 0.6931472 1.098612 1.386294\n"
      ]
     },
     "execution_count": 1,
     "metadata": {},
     "output_type": "execute_result"
    },
    {
     "data": {
      "text/plain": [
       "\"------------------\"\n"
      ]
     },
     "execution_count": 1,
     "metadata": {},
     "output_type": "execute_result"
    },
    {
     "data": {
      "text/plain": [
       "\"Log\"\n"
      ]
     },
     "execution_count": 1,
     "metadata": {},
     "output_type": "execute_result"
    },
    {
     "data": {
      "text/plain": [
       "1.861353\n"
      ]
     },
     "execution_count": 1,
     "metadata": {},
     "output_type": "execute_result"
    },
    {
     "data": {
      "text/plain": [
       "1.609438\n"
      ]
     },
     "execution_count": 1,
     "metadata": {},
     "output_type": "execute_result"
    },
    {
     "data": {
      "text/plain": [
       "\"------------------\"\n"
      ]
     },
     "execution_count": 1,
     "metadata": {},
     "output_type": "execute_result"
    },
    {
     "data": {
      "text/plain": [
       "\"Higher Value\"\n"
      ]
     },
     "execution_count": 1,
     "metadata": {},
     "output_type": "execute_result"
    },
    {
     "data": {
      "text/plain": [
       "3\n"
      ]
     },
     "execution_count": 1,
     "metadata": {},
     "output_type": "execute_result"
    },
    {
     "data": {
      "text/plain": [
       "2 2 3 4\n"
      ]
     },
     "execution_count": 1,
     "metadata": {},
     "output_type": "execute_result"
    },
    {
     "data": {
      "text/plain": [
       "4 3 3 4\n"
      ]
     },
     "execution_count": 1,
     "metadata": {},
     "output_type": "execute_result"
    },
    {
     "data": {
      "text/plain": [
       "\"------------------\"\n"
      ]
     },
     "execution_count": 1,
     "metadata": {},
     "output_type": "execute_result"
    },
    {
     "data": {
      "text/plain": [
       "\"Lower Value\"\n"
      ]
     },
     "execution_count": 1,
     "metadata": {},
     "output_type": "execute_result"
    },
    {
     "data": {
      "text/plain": [
       "2\n"
      ]
     },
     "execution_count": 1,
     "metadata": {},
     "output_type": "execute_result"
    },
    {
     "data": {
      "text/plain": [
       "1 2 2 2\n"
      ]
     },
     "execution_count": 1,
     "metadata": {},
     "output_type": "execute_result"
    },
    {
     "data": {
      "text/plain": [
       "1 2 2 1\n"
      ]
     },
     "execution_count": 1,
     "metadata": {},
     "output_type": "execute_result"
    },
    {
     "data": {
      "text/plain": [
       "\"------------------\"\n"
      ]
     },
     "execution_count": 1,
     "metadata": {},
     "output_type": "execute_result"
    },
    {
     "data": {
      "text/plain": [
       "\"Operator Precedence\"\n"
      ]
     },
     "execution_count": 1,
     "metadata": {},
     "output_type": "execute_result"
    },
    {
     "data": {
      "text/plain": [
       "14\n"
      ]
     },
     "execution_count": 1,
     "metadata": {},
     "output_type": "execute_result"
    },
    {
     "data": {
      "text/plain": [
       "14\n"
      ]
     },
     "execution_count": 1,
     "metadata": {},
     "output_type": "execute_result"
    },
    {
     "data": {
      "text/plain": [
       "10\n"
      ]
     },
     "execution_count": 1,
     "metadata": {},
     "output_type": "execute_result"
    },
    {
     "data": {
      "text/plain": [
       "\"------------------\"\n"
      ]
     },
     "execution_count": 1,
     "metadata": {},
     "output_type": "execute_result"
    },
    {
     "data": {
      "text/plain": [
       "\"Amend operator\"\n"
      ]
     },
     "execution_count": 1,
     "metadata": {},
     "output_type": "execute_result"
    },
    {
     "data": {
      "text/plain": [
       "8\n"
      ]
     },
     "execution_count": 1,
     "metadata": {},
     "output_type": "execute_result"
    },
    {
     "data": {
      "text/plain": [
       "5\n"
      ]
     },
     "execution_count": 1,
     "metadata": {},
     "output_type": "execute_result"
    },
    {
     "data": {
      "text/plain": [
       "101 102 103 104\n"
      ]
     },
     "execution_count": 1,
     "metadata": {},
     "output_type": "execute_result"
    },
    {
     "data": {
      "text/plain": [
       "201 102 103 104\n"
      ]
     },
     "execution_count": 1,
     "metadata": {},
     "output_type": "execute_result"
    },
    {
     "data": {
      "text/plain": [
       "201 102 123 124\n"
      ]
     },
     "execution_count": 1,
     "metadata": {},
     "output_type": "execute_result"
    },
    {
     "data": {
      "text/plain": [
       "201 102 123 124 5\n"
      ]
     },
     "execution_count": 1,
     "metadata": {},
     "output_type": "execute_result"
    },
    {
     "data": {
      "text/plain": [
       "201 102 123 124 5 9 8 7\n"
      ]
     },
     "execution_count": 1,
     "metadata": {},
     "output_type": "execute_result"
    },
    {
     "data": {
      "text/plain": [
       "\"------------------\"\n"
      ]
     },
     "execution_count": 1,
     "metadata": {},
     "output_type": "execute_result"
    },
    {
     "data": {
      "text/plain": [
       "\"Signum\"\n"
      ]
     },
     "execution_count": 1,
     "metadata": {},
     "output_type": "execute_result"
    },
    {
     "data": {
      "text/plain": [
       "1i\n"
      ]
     },
     "execution_count": 1,
     "metadata": {},
     "output_type": "execute_result"
    },
    {
     "data": {
      "text/plain": [
       "-1i\n"
      ]
     },
     "execution_count": 1,
     "metadata": {},
     "output_type": "execute_result"
    },
    {
     "data": {
      "text/plain": [
       "1 1 1 -1 1 -1i\n"
      ]
     },
     "execution_count": 1,
     "metadata": {},
     "output_type": "execute_result"
    },
    {
     "data": {
      "text/plain": [
       "\"------------------\"\n"
      ]
     },
     "execution_count": 1,
     "metadata": {},
     "output_type": "execute_result"
    },
    {
     "data": {
      "text/plain": [
       "\"Reciprocal\"\n"
      ]
     },
     "execution_count": 1,
     "metadata": {},
     "output_type": "execute_result"
    },
    {
     "data": {
      "text/plain": [
       "0.5\n"
      ]
     },
     "execution_count": 1,
     "metadata": {},
     "output_type": "execute_result"
    },
    {
     "data": {
      "text/plain": [
       "0w\n"
      ]
     },
     "execution_count": 1,
     "metadata": {},
     "output_type": "execute_result"
    },
    {
     "data": {
      "text/plain": [
       "1b\n"
      ]
     },
     "execution_count": 1,
     "metadata": {},
     "output_type": "execute_result"
    },
    {
     "data": {
      "text/plain": [
       "\"------------------\"\n"
      ]
     },
     "execution_count": 1,
     "metadata": {},
     "output_type": "execute_result"
    },
    {
     "data": {
      "text/plain": [
       "\"Floor\"\n"
      ]
     },
     "execution_count": 1,
     "metadata": {},
     "output_type": "execute_result"
    },
    {
     "data": {
      "text/plain": [
       "4\n"
      ]
     },
     "execution_count": 1,
     "metadata": {},
     "output_type": "execute_result"
    },
    {
     "data": {
      "text/plain": [
       "4 4 4\n"
      ]
     },
     "execution_count": 1,
     "metadata": {},
     "output_type": "execute_result"
    },
    {
     "data": {
      "text/plain": [
       "4.1234\n"
      ]
     },
     "execution_count": 1,
     "metadata": {},
     "output_type": "execute_result"
    },
    {
     "data": {
      "text/plain": [
       "\"------------------\"\n"
      ]
     },
     "execution_count": 1,
     "metadata": {},
     "output_type": "execute_result"
    },
    {
     "data": {
      "text/plain": [
       "\"Ceiling\"\n"
      ]
     },
     "execution_count": 1,
     "metadata": {},
     "output_type": "execute_result"
    },
    {
     "data": {
      "text/plain": [
       "5\n"
      ]
     },
     "execution_count": 1,
     "metadata": {},
     "output_type": "execute_result"
    },
    {
     "data": {
      "text/plain": [
       "5 5 5\n"
      ]
     },
     "execution_count": 1,
     "metadata": {},
     "output_type": "execute_result"
    },
    {
     "data": {
      "text/plain": [
       "\"------------------\"\n"
      ]
     },
     "execution_count": 1,
     "metadata": {},
     "output_type": "execute_result"
    },
    {
     "data": {
      "text/plain": [
       "\"Absolute Value\"\n"
      ]
     },
     "execution_count": 1,
     "metadata": {},
     "output_type": "execute_result"
    },
    {
     "data": {
      "text/plain": [
       "4.2\n"
      ]
     },
     "execution_count": 1,
     "metadata": {},
     "output_type": "execute_result"
    },
    {
     "data": {
      "text/plain": [
       "4.2\n"
      ]
     },
     "execution_count": 1,
     "metadata": {},
     "output_type": "execute_result"
    },
    {
     "data": {
      "text/plain": [
       "4.2\n"
      ]
     },
     "execution_count": 1,
     "metadata": {},
     "output_type": "execute_result"
    },
    {
     "data": {
      "text/plain": [
       "4\n"
      ]
     },
     "execution_count": 1,
     "metadata": {},
     "output_type": "execute_result"
    },
    {
     "data": {
      "text/plain": [
       "1 2 3 4 5\n"
      ]
     },
     "execution_count": 1,
     "metadata": {},
     "output_type": "execute_result"
    },
    {
     "data": {
      "text/plain": [
       "\"------------------\"\n"
      ]
     },
     "execution_count": 1,
     "metadata": {},
     "output_type": "execute_result"
    },
    {
     "data": {
      "text/plain": [
       "\"Temporal Discussion\"\n"
      ]
     },
     "execution_count": 1,
     "metadata": {},
     "output_type": "execute_result"
    },
    {
     "data": {
      "text/plain": [
       "12:20:21\n"
      ]
     },
     "execution_count": 1,
     "metadata": {},
     "output_type": "execute_result"
    },
    {
     "data": {
      "text/plain": [
       "00:29:38\n"
      ]
     },
     "execution_count": 1,
     "metadata": {},
     "output_type": "execute_result"
    },
    {
     "data": {
      "text/plain": [
       "1b\n"
      ]
     },
     "execution_count": 1,
     "metadata": {},
     "output_type": "execute_result"
    },
    {
     "data": {
      "text/plain": [
       "0b\n"
      ]
     },
     "execution_count": 1,
     "metadata": {},
     "output_type": "execute_result"
    },
    {
     "data": {
      "text/plain": [
       "\"------------------\"\n"
      ]
     },
     "execution_count": 1,
     "metadata": {},
     "output_type": "execute_result"
    },
    {
     "data": {
      "text/plain": [
       "\"Alias\"\n"
      ]
     },
     "execution_count": 1,
     "metadata": {},
     "output_type": "execute_result"
    },
    {
     "data": {
      "text/plain": [
       "4\n"
      ]
     },
     "execution_count": 1,
     "metadata": {},
     "output_type": "execute_result"
    },
    {
     "data": {
      "text/plain": [
       "5\n"
      ]
     },
     "execution_count": 1,
     "metadata": {},
     "output_type": "execute_result"
    },
    {
     "data": {
      "text/plain": [
       "2\n"
      ]
     },
     "execution_count": 1,
     "metadata": {},
     "output_type": "execute_result"
    },
    {
     "data": {
      "text/plain": [
       "3\n"
      ]
     },
     "execution_count": 1,
     "metadata": {},
     "output_type": "execute_result"
    },
    {
     "data": {
      "text/plain": [
       "13\n"
      ]
     },
     "execution_count": 1,
     "metadata": {},
     "output_type": "execute_result"
    },
    {
     "data": {
      "text/plain": [
       "a| b  \n",
       "x| Fun\n",
       "y| Fun\n"
      ]
     },
     "execution_count": 1,
     "metadata": {},
     "output_type": "execute_result"
    },
    {
     "data": {
      "text/plain": [
       "a  | ,`b\n",
       "x  | `Fun`Fun2\n",
       "y  | ,`Fun\n",
       "Fun| ,`Fun2\n"
      ]
     },
     "execution_count": 1,
     "metadata": {},
     "output_type": "execute_result"
    },
    {
     "data": {
      "text/plain": [
       "c1 c2 c3   \n",
       "-----------\n",
       "a  20 99.5 \n",
       "b  15 99.45\n",
       "c  10 99.42\n",
       "a  20 99.4 \n"
      ]
     },
     "execution_count": 1,
     "metadata": {},
     "output_type": "execute_result"
    },
    {
     "data": {
      "text/plain": [
       "sym px  \n",
       "--------\n",
       "a   99.5\n",
       "a   99.4\n"
      ]
     },
     "execution_count": 1,
     "metadata": {},
     "output_type": "execute_result"
    },
    {
     "data": {
      "text/plain": [
       "`t\n"
      ]
     },
     "execution_count": 1,
     "metadata": {},
     "output_type": "execute_result"
    },
    {
     "data": {
      "text/plain": [
       "sym px\n",
       "------\n",
       "a   42\n",
       "a   42\n"
      ]
     },
     "execution_count": 1,
     "metadata": {},
     "output_type": "execute_result"
    },
    {
     "data": {
      "text/plain": [
       "a  | ,`b\n",
       "x  | `Fun`Fun2\n",
       "y  | ,`Fun\n",
       "Fun| ,`Fun2\n",
       "t  | ,`v\n"
      ]
     },
     "execution_count": 1,
     "metadata": {},
     "output_type": "execute_result"
    }
   ],
   "source": [
    "A:2\n",
    "B: 1 2 3 4\n",
    "C:3\n",
    "D: 4 3 2 1\n",
    "NL: ((1;2;3);(4,5,6))\n",
    "E: 2010.01.01\n",
    "F1:12:00:00.000000000\n",
    "F2:12:00:00.00000\n",
    "F3:12:00:00.0000\n",
    "\n",
    "\"Addition\"\n",
    "/Simple Addition b/w two numbers\n",
    "A+C\n",
    "\n",
    "/We are getting ahead of ourselves but just know that all operators in essence are functions\n",
    "/Thus they also follow the generic function syntax.\n",
    "/Function f with inputs a and b can be called with the syntax f[a;b]\n",
    "/Thus + can also be called using the following syntax\n",
    "+[A;C]\n",
    "/+[A;C;10] This wont work because the + function is built to take in two arguments\n",
    "/It can be written as:\n",
    "+[A;+[C;10]]\n",
    "\n",
    "/An even more comlicated way of doing this is using the functional notation along with the\n",
    "    /infix notation. A+B is the infix notation.\n",
    "(2+)[66]\n",
    "\n",
    "/Atomic functions aka +, - etc extend their actions to a list automatically\n",
    "/That is they extend to element wise operations\n",
    "\n",
    "/Addition b/w number and vector is just an element wise operation\n",
    "A+B\n",
    "\n",
    "/Addition b/w two vectors is element wise\n",
    "B+D\n",
    "\n",
    "/The element wise operations also works on nested lists\n",
    "100+NL\n",
    "\n",
    "/Adding days to a date by simply adding an integer to it because undercover date is days since millenium\n",
    "E+10\n",
    "\n",
    "/Adding seconds to a timespan is as simple as adding an integer but this is tricky\n",
    "/This where the different datatypes within timespan play a role\n",
    "/If the nanosecond digits are anywhere from 5-9 then adding 1 is adding a nanosecond aka 1 to 9th decimal place\n",
    "/If the nanosecond digits are anywhere from 1-4 then adding 1 is adding a millisecond aka 1 to 3rd decimal place\n",
    "F1+1\n",
    "F2+1\n",
    "F3+1\n",
    "\n",
    "/The above rules hold for subtraction, multiplication and division as well\n",
    "\"------------------\"\n",
    "\n",
    "\"Subtraction\"\n",
    "A-C\n",
    "A-B\n",
    "B-D\n",
    "\"------------------\"\n",
    "\n",
    "\"Multiplication\"\n",
    "A*C\n",
    "A*B\n",
    "B*D\n",
    "\"------------------\"\n",
    "\n",
    "\"Division\"\n",
    "/% is for division. This is confusing because other languages use it for modulo\n",
    "/Division always results in a float\n",
    "A%C\n",
    "A%B / A/B_i (A divided by each element)\n",
    "B%A / B_i/A (Each element divided by A)\n",
    "B%D\n",
    "\"------------------\"\n",
    "\n",
    "\"Negation\"\n",
    "neg A\n",
    "/Element wise operation\n",
    "neg B\n",
    "\"------------------\"\n",
    "\n",
    "\"Match\"\n",
    "\n",
    "/Non atomic nimary match operator returns true if the two are identical\n",
    "/For two to be identical, they must have the same shape, same type and same values but they\n",
    "    /can occupy separate storage locations\n",
    "\n",
    "5 ~ 5 /Match\n",
    "\n",
    "5 ~ 5.0 /Don't match\n",
    "\n",
    "(1;2;3)~1 2 3 /Match\n",
    "\n",
    "(1;2;3) ~ (3,2,1) /Dont match\n",
    "\n",
    "(1;2;3;4;5) ~((1;2;3);(4;5)) /Dont match\n",
    "\"------------------\"\n",
    "\n",
    "\"Equality\"\n",
    "\n",
    "/= is different from ~ because it is atomic and it checks for each element\n",
    "/In equality all atoms of numeric, temporal and char type are mutually compatible for equality\n",
    "/Symbols are only compatible with symbols\n",
    "/So this means that equality checks if the two atoms have the same value regardless of type\n",
    "5=5.0\n",
    "/5=`5 /But the symbol would return error\n",
    "5=\"5\" /False because char is converted to int to compare and the ASCII value is not 5\n",
    "42=\"*\" /True because ASCII value of char matches int\n",
    "\n",
    "\"------------------\"\n",
    "\n",
    "\"Disequality\"\n",
    "\n",
    "/We use the <> to check for disequality. It follows the same rules as equality\n",
    "\n",
    "5<>5.0 /False\n",
    "5<>\"5\" /True\n",
    "42<>\"*\" /False\n",
    "\n",
    "/Note that <> operator actually just does not A=B for A<>B\n",
    "/So we can do that directly as well\n",
    "not 5=\"5\" /Gives true\n",
    "\"------------------\"\n",
    "\n",
    "\"Not\"\n",
    "\n",
    "/Not is a unary atomic word that results on boolean and works on numeric, temporal and char types\n",
    "/Is not defined for symbol\n",
    "\n",
    "not 1b /Will give false\n",
    "\n",
    "not 0b /Will give true\n",
    "\n",
    "not 98.6 /Will give false beacuse any non zero numeric is true\n",
    "\n",
    "not 0 /Will give true\n",
    "\n",
    "not \"5\" /Will give false b/c ASCII value is non zero\n",
    "\n",
    "/Stroke of midnight is 0 for time vars and stroke of midnight at start of the millenium is 0 for dates\n",
    "\n",
    "not 2000.01.01 /This gives true because this is at midnight at start of millenium\n",
    "\n",
    "not 00:00:00 /This gives true b/c stroke of midnight is 0\n",
    "not 12:00:00 /This gives false b/c 12pm is not midnight so not 0\n",
    "\n",
    "\"------------------\"\n",
    "\n",
    "\"Less than, Greater than\"\n",
    "\n",
    "/We use the generic symbols >,<,<=,>=\n",
    "/They are atomic and defined for all compatible types with numerics \n",
    "    /and char types being compatible with eachother. Symbols are only compatible with themselves.\n",
    "\n",
    "\"------------------\"\n",
    "\n",
    "\"Modulus aka Remainder\"\n",
    "A mod C\n",
    "A mod B / A mod B_i (A mod by each element)\n",
    "B mod A / B_i mod A (Each element mod by A)\n",
    "B mod D\n",
    "\"------------------\"\n",
    "\n",
    "\"Div aka Quotient\"\n",
    "/Left operand is the dividend and right operator is the divisor\n",
    "/5 divided by 2 means 5 is dividend and 2 is divisor\n",
    "/Atomic function\n",
    "A div C\n",
    "A div B / A div B_i (A mod by each element)\n",
    "B div A / B_i div A (Each element mod by A)\n",
    "B div D\n",
    "\n",
    "\"------------------\"\n",
    "\n",
    "\"Power\"\n",
    "A xexp C\n",
    "A xexp B / A^B_i (A raised to each element)\n",
    "B xexp A / B_i^A (Each element raised to A)\n",
    "B xexp D\n",
    "/f after number or vector denotes floating point type even if it may seem like an int\n",
    "\"------------------\"\n",
    "\n",
    "\"Square Root\"\n",
    "/Atomic unary function\n",
    "sqrt 2\n",
    "\n",
    "sqrt B\n",
    "\n",
    "\"------------------\"\n",
    "\n",
    "\"E exponential\"\n",
    "/Atomic unary function\n",
    "exp C\n",
    "exp B / e^B_i (e raised to each element)\n",
    "\"------------------\"\n",
    "\n",
    "\"Natural Log\"\n",
    "/Atomic unary function\n",
    "/Natural logarithm aka ln\n",
    "\n",
    "log 1\n",
    "\n",
    "log 5\n",
    "\n",
    "log B\n",
    "\"------------------\"\n",
    "\n",
    "\"Log\"\n",
    "/Atomic unary function\n",
    "/Returns log of the right operand with respect to the base of the left operand\n",
    "\n",
    "5 xlog 20 /log 20 base 5\n",
    "\n",
    "(exp 1) xlog 5 /equivalent to ln 5\n",
    "\n",
    "\"------------------\"\n",
    "\n",
    "\"Higher Value\"\n",
    "/ | returns the higher value. They are atomic\n",
    "A | C\n",
    "A | B /A vs B_i\n",
    "B | D /b_i vs D_i\n",
    "\n",
    "/It reduces to logical or for binary operands\n",
    "\n",
    "\"------------------\"\n",
    "\n",
    "\"Lower Value\"\n",
    "/ | returns the higher value. They are atomic\n",
    "A & C\n",
    "A & B /A vs B_i\n",
    "B & D /b_i vs D_i\n",
    "\n",
    "/It reduces to logical and for binary operands\n",
    "\n",
    "\"------------------\"\n",
    "\n",
    "\"Operator Precedence\"\n",
    "\n",
    "/There is mo operator precedence. Thats why you need to add parenthesis when necessary\n",
    "/The expressions are evaluated from right to left. This is also called left of right.\n",
    "\n",
    "2*3+4 /Will be 3+4 then *2\n",
    "\n",
    "2*(3+4) /Equivalent to the above one\n",
    "\n",
    "(2*3)+4 /Different\n",
    "\n",
    "\"------------------\"\n",
    "\n",
    "\"Amend operator\"\n",
    "\n",
    "/This is similar to toher languages where x+=3 means x=x+3\n",
    "\n",
    "x: 3\n",
    "x +:5\n",
    "x\n",
    "\n",
    "/We can even amend a variable that hasnt been assigned yet.\n",
    "/No amend is taking place but we get no syntax error\n",
    "yyyyyyy+:5\n",
    "yyyyyyy\n",
    "\n",
    "/Amending with lists\n",
    "L:1 2 3 4\n",
    "\n",
    "L+:100\n",
    "L\n",
    "\n",
    "L[0]+:100\n",
    "L\n",
    "\n",
    "L[2 3]+: 20\n",
    "L\n",
    "\n",
    "/There is a shortcut for list append using amend\n",
    "L,:5\n",
    "L\n",
    "\n",
    "L,:(9;8;7)\n",
    "L\n",
    "\"------------------\"\n",
    "\n",
    "\"Signum\"\n",
    "\n",
    "/Atomic unary operator that returns int representing sign of its input\n",
    "/1i for positive and -1i for negative and 0i for 0\n",
    "\n",
    "signum 4\n",
    "\n",
    "signum -4\n",
    "\n",
    "signum 2 3 4 -5 6 -7\n",
    "\"------------------\"\n",
    "\n",
    "\"Reciprocal\"\n",
    "\n",
    "/Atomic unary that retruns the float result of 1 divided by the input\n",
    "\n",
    "reciprocal 2\n",
    "\n",
    "reciprocal 2 = (1%2) /0w. Why? Because it will do 1%2 to get 0.5 then do 2=1 to geth 0 and reciprocal of 0\n",
    "/To check reciprocal is doing what we thought use the below syntax\n",
    "(reciprocal 2) = (1%2) /True\n",
    "\"------------------\"\n",
    "\n",
    "\"Floor\"\n",
    "\n",
    "/Atomic unary function\n",
    "/Largest integer less than or equal to input\n",
    "\n",
    "floor 4.2\n",
    "\n",
    "floor (4.2;4.5;4.7)\n",
    "\n",
    "/Floor operator can be used to truncate or round floating values to a specific number of digits\n",
    "X: 4.123456789\n",
    "\n",
    "/Rounding to 4 decimal places\n",
    "0.0001 * floor 10000*X\n",
    "\n",
    "\"------------------\"\n",
    "\n",
    "\"Ceiling\"\n",
    "\n",
    "/Atomic unary function\n",
    "/Smallest integer greater than or equal to input\n",
    "\n",
    "ceiling 4.2\n",
    "\n",
    "ceiling (4.2;4.5;4.7)\n",
    "\n",
    "\"------------------\"\n",
    "\n",
    "\"Absolute Value\"\n",
    "\n",
    "/Atomic unary function\n",
    "/Returns absolute value\n",
    "\n",
    "abs -4.2 /Error because there is no unary -\n",
    "\n",
    "abs 0-4.2 /This works\n",
    "\n",
    "abs neg 4.2 /This is the correct way\n",
    "\n",
    "abs 4 /Returns as is\n",
    "\n",
    "abs (1;2;3;4;neg 5)\n",
    "\n",
    "\"------------------\"\n",
    "\n",
    "\"Temporal Discussion\"\n",
    "\n",
    "/It ends up being integer arithmetic from their underlying integer form.\n",
    "/If different temporal types, they are promoted to the wider one\n",
    "\n",
    "M: 12:20:22 /Integer form is seconds \n",
    "M-1 /So should be 12:120:21\n",
    "\n",
    "/Against a different type. The values get promoted to the wider type\n",
    "12:50-M\n",
    "\n",
    "/Note that Q handles the promotion\n",
    "/Doing it manually by casting them to int using `int$M would be problematic \n",
    "    /because integer values are of different units.\n",
    "\n",
    "/For comparison, they are promoted to the most granular type and then compared\n",
    "\n",
    "2000.01.01=2000.01.01D00:00:00.000000000 /True because we convert to wider form\n",
    "\n",
    "2000.01.01=2000.01.01D00:00:11.000000000 /False because convert to wider form and seconds would be off\n",
    "\n",
    "\"------------------\"\n",
    "\n",
    "\"Alias\"\n",
    "\n",
    "/Alias is a variable that is an expression and not the result of the expression\n",
    "/What does this mean? If b is set as alias of a and a is changed to 42 then b is also changed to 42\n",
    "    /whereas if b was set to a, it wouldn't have changed when a changed, it would've stayed original value\n",
    "a: 4\n",
    "b:: a /Left operand is alias of right operand\n",
    "c: a /Set equal to\n",
    "a: 5\n",
    "c /Will remain 4 because it was set to value of a at that time which was 4\n",
    "b /Will become 5 because b is reevaluated when it is called and uses latest value of a\n",
    "\n",
    "/Very useful as it can be used as a lambda function of sorts with global inputs\n",
    "/But changing the named variables in it chamges values\n",
    "\n",
    "Fun:: (x*x)+(y*y)\n",
    "x:2\n",
    "x\n",
    "y:3\n",
    "y\n",
    "Fun /Should be 13\n",
    "\n",
    "/Alias vs function:\n",
    "/Function takes arguments explicitly whereas you have to keep track in alias\n",
    "/Function recalculates itself when called again even if inputs havent changed\n",
    "\n",
    "/Alias have dependencies which can be hard to keep track of\n",
    "/Thankfully there's an easy way to do see all depdencies\n",
    "/The following syntax generates a list\n",
    "/The right column is the things that depend on something and left column is what they depend on\n",
    ".z.b\n",
    "\n",
    "/You can create another alias using an alias\n",
    "Fun2:: Fun+x\n",
    "/Lets look at dependency dict again\n",
    ".z.b\n",
    "/You'll see that Fun2 depends on Fun and x, it doesn't show y as well which it depends on indirectly\n",
    "/So we have this chain of dependency that we need to be mindful of and track ourseleves when generating nested dependencies\n",
    "\n",
    "/A dependency chain that would create a loop will be detected and result in an error\n",
    "\n",
    "/Another application of alias is Viewing\n",
    "/Aliasing is commonly used to provide a databse view by specifying a query as the expression\n",
    "\n",
    "/We are getting ahead of ourselves with table construction and queries and view but disregard that and focus on the magic of aliasing\n",
    "t:([]c1:`a`b`c`a;c2:20 15 10 20;c3:99.5 99.45 99.42 99.4) /Create table\n",
    "t\n",
    "\n",
    "v:: select sym:c1,px:c3 from t where c1=`a /Alias a query\n",
    "\n",
    "v\n",
    "\n",
    "/Change table\n",
    "update c3:42.0 from `t where c1=`a\n",
    "\n",
    "v /Result gets updated\n",
    "\n",
    "/Refreshed dependencies in .z.b\n",
    ".z.b\n"
   ]
  },
  {
   "cell_type": "markdown",
   "id": "e16c0158-50f8-46e1-aea5-b556c07ee791",
   "metadata": {},
   "source": [
    "# Dictionaries:"
   ]
  },
  {
   "cell_type": "code",
   "execution_count": 61,
   "id": "638866c6-27ae-44b0-abd3-698686206a6a",
   "metadata": {
    "tags": []
   },
   "outputs": [
    {
     "data": {
      "text/plain": [
       "10| 1.1\n",
       "20| 2.2\n",
       "30| 3.3\n"
      ]
     },
     "execution_count": 61,
     "metadata": {},
     "output_type": "execute_result"
    }
   ],
   "source": [
    "/A dict has an explicit key and value list.\n",
    "/Key list needs to be unique\n",
    "/It can be considered as key-value pairs but logically it is stored physically as\n",
    "    /a pair of lists\n",
    "\n",
    "/A dictionary is sometimes called an association\n",
    "/Syntax is: keys!values\n",
    "\n",
    "10 20 30!1.1 2.2 3.3"
   ]
  },
  {
   "cell_type": "code",
   "execution_count": 64,
   "id": "2a1fc9f9-7928-45da-8d49-867b4d78082a",
   "metadata": {
    "tags": []
   },
   "outputs": [
    {
     "data": {
      "text/plain": [
       "1001| Arthur Dent      \n",
       "1002| Zaphod Beeblebrox\n",
       "1003| Ford   Prefect   \n"
      ]
     },
     "execution_count": 64,
     "metadata": {},
     "output_type": "execute_result"
    },
    {
     "data": {
      "text/plain": [
       "a| 1\n",
       "b| 2\n",
       "c| 3\n"
      ]
     },
     "execution_count": 64,
     "metadata": {},
     "output_type": "execute_result"
    },
    {
     "data": {
      "text/plain": [
       "`a`b`c\n"
      ]
     },
     "execution_count": 64,
     "metadata": {},
     "output_type": "execute_result"
    },
    {
     "data": {
      "text/plain": [
       "1 2 3\n"
      ]
     },
     "execution_count": 64,
     "metadata": {},
     "output_type": "execute_result"
    },
    {
     "data": {
      "text/plain": [
       "3\n"
      ]
     },
     "execution_count": 64,
     "metadata": {},
     "output_type": "execute_result"
    }
   ],
   "source": [
    "/Neither keys nor values have to be simple lists\n",
    "1001 1002 1003!(`Arthur`Dent; `Zaphod`Beeblebrox; `Ford`Prefect)\n",
    "\n",
    "d: `a`b`c!1 2 3\n",
    "d\n",
    "\n",
    "/Decompose list into key and value using the keywords\n",
    "key d\n",
    "value d\n",
    "\n",
    "/Since the length of keys and values need to match, we can easily get count of pairs in dict\n",
    "count d"
   ]
  },
  {
   "cell_type": "code",
   "execution_count": 65,
   "id": "0dfaab8f-22de-40ef-9946-aa6f378d4d29",
   "metadata": {
    "tags": []
   },
   "outputs": [
    {
     "data": {
      "text/plain": [
       "0b\n"
      ]
     },
     "execution_count": 65,
     "metadata": {},
     "output_type": "execute_result"
    }
   ],
   "source": [
    "/Order of pairs is significant in dicts just as positional order is significant for lists\n",
    "/Not identical even though the pairs are matching, the wrong order cause them to not be identical\n",
    "(`a`b`c!1 2 3)~`a`c`b!1 3 2"
   ]
  },
  {
   "cell_type": "code",
   "execution_count": 68,
   "id": "4be92a55-f579-4d56-abf3-f7a3dcd0a76c",
   "metadata": {
    "tags": []
   },
   "outputs": [
    {
     "data": {
      "text/plain": []
     },
     "execution_count": 68,
     "metadata": {},
     "output_type": "execute_result"
    },
    {
     "data": {
      "text/plain": []
     },
     "execution_count": 68,
     "metadata": {},
     "output_type": "execute_result"
    },
    {
     "data": {
      "text/plain": [
       "x| 1\n"
      ]
     },
     "execution_count": 68,
     "metadata": {},
     "output_type": "execute_result"
    }
   ],
   "source": [
    "/Creating empty lists\n",
    "()!()\n",
    "\n",
    "/Create a typed empty dict using typed empty key and typed empty value list\n",
    "(`symbol$())!`float$()\n",
    "\n",
    "/Creating dict requires both key and values to be list\n",
    "/To create a dict with single pair we need to leverage the enlist function\n",
    "(enlist `x)!enlist 1\n",
    "\n",
    "/`x!1 will yield an enumerated value for a link column"
   ]
  },
  {
   "cell_type": "code",
   "execution_count": 69,
   "id": "6a00b93d-bc24-4cee-83b4-8f7bc0d05b64",
   "metadata": {
    "tags": []
   },
   "outputs": [
    {
     "data": {
      "text/plain": [
       "1\n"
      ]
     },
     "execution_count": 69,
     "metadata": {},
     "output_type": "execute_result"
    },
    {
     "data": {
      "text/plain": [
       "1\n"
      ]
     },
     "execution_count": 69,
     "metadata": {},
     "output_type": "execute_result"
    },
    {
     "data": {
      "text/plain": [
       "0N\n"
      ]
     },
     "execution_count": 69,
     "metadata": {},
     "output_type": "execute_result"
    },
    {
     "data": {
      "text/plain": [
       "1 3\n"
      ]
     },
     "execution_count": 69,
     "metadata": {},
     "output_type": "execute_result"
    },
    {
     "data": {
      "text/plain": [
       "1 3\n"
      ]
     },
     "execution_count": 69,
     "metadata": {},
     "output_type": "execute_result"
    }
   ],
   "source": [
    "/Lookup:\n",
    "d: `a`b`c!1 2 3\n",
    "/Look at the value using its key\n",
    "d[`a]\n",
    "/As with lists you can skip the brackets and use spaces\n",
    "d `a\n",
    "/Looking up a key that doesn not exist returns null\n",
    "d `x\n",
    "/Similar to list indexing where you can provide multiple indexes\n",
    "d[`a`c]\n",
    "/Set a list and use that as key input\n",
    "ks: `a`c\n",
    "d ks"
   ]
  },
  {
   "cell_type": "code",
   "execution_count": 70,
   "id": "04a7a69d-c0a3-4ef4-928d-276dd3b07315",
   "metadata": {
    "tags": []
   },
   "outputs": [
    {
     "data": {
      "text/plain": [
       "1\n"
      ]
     },
     "execution_count": 70,
     "metadata": {},
     "output_type": "execute_result"
    },
    {
     "data": {
      "text/plain": [
       "`a\n"
      ]
     },
     "execution_count": 70,
     "metadata": {},
     "output_type": "execute_result"
    },
    {
     "data": {
      "text/plain": [
       "`\n"
      ]
     },
     "execution_count": 70,
     "metadata": {},
     "output_type": "execute_result"
    }
   ],
   "source": [
    "/Recall that ? on alist returns the index of the first occurence\n",
    "10 20 30 20?20\n",
    "/We can extend this to dictionaries and use it to find the key for a value\n",
    "dd: (`a`b`c`d)!1 2 3 1\n",
    "/Note that if two keys have the same value it returns the first key\n",
    "dd?1\n",
    "/If a value has no key then we get null\n",
    "dd?45"
   ]
  },
  {
   "cell_type": "code",
   "execution_count": 71,
   "id": "54357df9-c610-47d6-b619-4b6f51cc2001",
   "metadata": {
    "tags": []
   },
   "outputs": [
    {
     "data": {
      "text/plain": [
       "10\n"
      ]
     },
     "execution_count": 71,
     "metadata": {},
     "output_type": "execute_result"
    },
    {
     "data": {
      "text/plain": [
       "10\n"
      ]
     },
     "execution_count": 71,
     "metadata": {},
     "output_type": "execute_result"
    },
    {
     "data": {
      "text/plain": [
       "20 30\n"
      ]
     },
     "execution_count": 71,
     "metadata": {},
     "output_type": "execute_result"
    },
    {
     "data": {
      "text/plain": [
       "20 30\n"
      ]
     },
     "execution_count": 71,
     "metadata": {},
     "output_type": "execute_result"
    },
    {
     "data": {
      "text/plain": [
       "0b\n"
      ]
     },
     "execution_count": 71,
     "metadata": {},
     "output_type": "execute_result"
    }
   ],
   "source": [
    "/Dict vs Lists\n",
    "/We can create a dict that very much works like an equivalent list\n",
    "L: 10 20 30\n",
    "d: 0 1 2!10 20 30\n",
    "L 0\n",
    "d 0\n",
    "L 1 2\n",
    "d 1 2\n",
    "d~L /Not same even though we aligned the index/keys"
   ]
  },
  {
   "cell_type": "code",
   "execution_count": 72,
   "id": "9109236a-3166-4de7-a760-134b3849b85d",
   "metadata": {
    "tags": []
   },
   "outputs": [
    {
     "data": {
      "text/plain": [
       "0    | 110\n",
       "100  | 20\n",
       "5000 | 30\n",
       "99   | 200\n",
       "10000| 300\n"
      ]
     },
     "execution_count": 72,
     "metadata": {},
     "output_type": "execute_result"
    }
   ],
   "source": [
    "/Adding two dicts\n",
    "/The operation is done based on matching keys\n",
    "d1: 0 100 5000!10 20 30\n",
    "d2: 0 99 10000!100 200 300\n",
    "d1+d2"
   ]
  },
  {
   "cell_type": "code",
   "execution_count": 73,
   "id": "eb13f566-494f-407f-80e0-86dc59219e20",
   "metadata": {
    "tags": []
   },
   "outputs": [
    {
     "data": {
      "text/plain": [
       "a| 10\n",
       "b| 20\n",
       "a| 30\n",
       "c| 20\n"
      ]
     },
     "execution_count": 73,
     "metadata": {},
     "output_type": "execute_result"
    },
    {
     "data": {
      "text/plain": [
       "`b`c\n"
      ]
     },
     "execution_count": 73,
     "metadata": {},
     "output_type": "execute_result"
    }
   ],
   "source": [
    "/Non unique keys and values\n",
    "/Technically you can have non-unique keys during initialization\n",
    "    /but lookup only looks at first occurence\n",
    "ddup:`a`b`a`c!10 20 30 20\n",
    "ddup\n",
    "/We can find all keys matching to a value by\n",
    "where ddup=20"
   ]
  },
  {
   "cell_type": "code",
   "execution_count": 74,
   "id": "09efc413-cbe0-427d-a76c-09f054a04d4e",
   "metadata": {
    "tags": []
   },
   "outputs": [
    {
     "data": {
      "text/plain": [
       "`a`b  | 10\n",
       "`c`d`e| 20\n",
       ",`f   | 30\n"
      ]
     },
     "execution_count": 74,
     "metadata": {},
     "output_type": "execute_result"
    },
    {
     "data": {
      "text/plain": [
       "30\n"
      ]
     },
     "execution_count": 74,
     "metadata": {},
     "output_type": "execute_result"
    },
    {
     "data": {
      "text/plain": [
       "`c`d`e\n"
      ]
     },
     "execution_count": 74,
     "metadata": {},
     "output_type": "execute_result"
    },
    {
     "data": {
      "text/plain": [
       "a| 10 20\n",
       "b| 30 40 50\n",
       "c| ,60\n"
      ]
     },
     "execution_count": 74,
     "metadata": {},
     "output_type": "execute_result"
    },
    {
     "data": {
      "text/plain": [
       "30 40 50\n"
      ]
     },
     "execution_count": 74,
     "metadata": {},
     "output_type": "execute_result"
    },
    {
     "data": {
      "text/plain": [
       "`b\n"
      ]
     },
     "execution_count": 74,
     "metadata": {},
     "output_type": "execute_result"
    },
    {
     "data": {
      "text/plain": [
       "0N\n"
      ]
     },
     "execution_count": 74,
     "metadata": {},
     "output_type": "execute_result"
    },
    {
     "data": {
      "text/plain": [
       "30\n"
      ]
     },
     "execution_count": 74,
     "metadata": {},
     "output_type": "execute_result"
    },
    {
     "data": {
      "text/plain": [
       "0N\n"
      ]
     },
     "execution_count": 74,
     "metadata": {},
     "output_type": "execute_result"
    },
    {
     "data": {
      "text/plain": [
       "30\n"
      ]
     },
     "execution_count": 74,
     "metadata": {},
     "output_type": "execute_result"
    }
   ],
   "source": [
    "/Neither keys nor values are required to be atoms or uniform\n",
    "/Either can be nested lists\n",
    "/Nested lists for keys\n",
    "d:(`a`b; `c`d`e; enlist `f)!10 20 30\n",
    "d\n",
    "d `f\n",
    "d?20\n",
    "/Nested lists for values\n",
    "d:`a`b`c!(10 20; 30 40 50; enlist 60)\n",
    "d\n",
    "d `b\n",
    "d? 30 40 50\n",
    "/An irregular key or value list will mess up looup and reverse lookup\n",
    "/An irregular list would be where we have nested lists but one is just a number\n",
    "d_irregular: (1 2; 3 4 5; 6; 7 8)!10 20 30 40\n",
    "/6 in the keys list does nto conform so returns null value\n",
    "d_irregular 6\n",
    "/Fix have enlist 6\n",
    "d_regular: (1 2; 3 4 5; enlist 6; 7 8)!10 20 30 40\n",
    "d_regular 6\n",
    "/Similar story for irregularity in value list and reverse lookup\n",
    "d_irregular:10 20 30 40!(1 2; 3 4 5; 6; 7 8)\n",
    "d_irregular?6 /Returns null\n",
    "d_regular:10 20 30 40!(1 2; 3 4 5; enlist 6; 7 8)\n",
    "d_regular?6"
   ]
  },
  {
   "cell_type": "code",
   "execution_count": 75,
   "id": "3d912888-746f-42d3-8c65-54a35eb2fe49",
   "metadata": {
    "tags": []
   },
   "outputs": [
    {
     "data": {
      "text/plain": [
       "a| 10\n",
       "b| 22\n",
       "c| 30\n",
       "x| 100\n"
      ]
     },
     "execution_count": 75,
     "metadata": {},
     "output_type": "execute_result"
    }
   ],
   "source": [
    "/Operations on dict\n",
    "/Just like with lists we can modify via assignment to a key. In the case of lists the key is the index\n",
    "d:`a`b`c!10 20 30\n",
    "d[`b]: 22\n",
    "/In contrast to lists, dicts can be extended via assignment\n",
    "d[`x]: 100\n",
    "d\n",
    "/So using an existing key is an update and using a new key is an insert.\n",
    "/This behavior is sometimes called upsert."
   ]
  },
  {
   "cell_type": "code",
   "execution_count": 76,
   "id": "70e2bffd-20cb-4d3c-926d-c9b506cf63b1",
   "metadata": {
    "tags": []
   },
   "outputs": [
    {
     "data": {
      "text/plain": [
       "10 30\n"
      ]
     },
     "execution_count": 76,
     "metadata": {},
     "output_type": "execute_result"
    },
    {
     "data": {
      "text/plain": [
       "a| 10\n",
       "c| 30\n"
      ]
     },
     "execution_count": 76,
     "metadata": {},
     "output_type": "execute_result"
    }
   ],
   "source": [
    "/Extracting sub-dictionary\n",
    "/We can extract both the key and values using the Take operator #\n",
    "/Left operand is a list of keys and right operand is source dict\n",
    "/It returns a sub-dict of the specific keys\n",
    "d:`a`b`c!10 20 30\n",
    "d `a`c\n",
    "`a`c#d\n",
    "/In the event of dup keys only first is extracted\n",
    "/It also works with non simple keys"
   ]
  },
  {
   "cell_type": "code",
   "execution_count": 77,
   "id": "57236e71-302b-46e1-9b58-ca2fd84fbce6",
   "metadata": {
    "tags": []
   },
   "outputs": [
    {
     "data": {
      "text/plain": [
       "b| 20\n"
      ]
     },
     "execution_count": 77,
     "metadata": {},
     "output_type": "execute_result"
    },
    {
     "data": {
      "text/plain": [
       "a| 10\n",
       "b| 20\n",
       "a| 40\n"
      ]
     },
     "execution_count": 77,
     "metadata": {},
     "output_type": "execute_result"
    },
    {
     "data": {
      "text/plain": [
       "b| 20\n"
      ]
     },
     "execution_count": 77,
     "metadata": {},
     "output_type": "execute_result"
    },
    {
     "data": {
      "text/plain": [
       "a| 10\n",
       "b| 20\n",
       "a| 40\n"
      ]
     },
     "execution_count": 77,
     "metadata": {},
     "output_type": "execute_result"
    },
    {
     "data": {
      "text/plain": [
       "b| 20\n",
       "c| 30\n",
       "a| 40\n"
      ]
     },
     "execution_count": 77,
     "metadata": {},
     "output_type": "execute_result"
    },
    {
     "data": {
      "text/plain": [
       "b| 20\n",
       "c| 30\n"
      ]
     },
     "execution_count": 77,
     "metadata": {},
     "output_type": "execute_result"
    }
   ],
   "source": [
    "/Removing entries\n",
    "/The operator _ removes key value pairs.\n",
    "/The left operand is keys to remove and right operand is dict\n",
    "/It returns thee dict obtained from removing key-value pairs of specified keys\n",
    "/Note that we need space before _ because _ can be a part of a symbol cauing syntax issues\n",
    "d:`a`b`c`a!10 20 30 40\n",
    "`a`c _ d\n",
    "/Keys that do not exist have no ee=ffect. No error for invalid key\n",
    "`x`c _ d\n",
    "/Note that for duplicate keys it removes all occurences\n",
    "/The binary keyword \"cut\" is the same as _\n",
    "`a`c cut d\n",
    "`x`c cut d\n",
    "/Another syntax for this which is seldom used is\n",
    "/Dict on the right and single key on the left\n",
    "/Doesnt work for more than one key\n",
    "d _ `a\n",
    "/Another key difference between the single remove vs the usual syntax\n",
    "/The single remove is built for removing single key-value pair\n",
    "/So it only removes first instance\n",
    "/Thus the above syntax remove one pair with key `a\n",
    "/whereas syntax below will remove both pairs with `a\n",
    "`a _ d"
   ]
  },
  {
   "cell_type": "code",
   "execution_count": 78,
   "id": "284f1065-128c-4a58-80f5-aa30fa2c5389",
   "metadata": {
    "tags": []
   },
   "outputs": [
    {
     "data": {
      "text/plain": [
       "1| -5\n",
       "2| -6\n",
       "3| -7\n",
       "4| -8\n"
      ]
     },
     "execution_count": 78,
     "metadata": {},
     "output_type": "execute_result"
    },
    {
     "data": {
      "text/plain": [
       "1| 10\n",
       "2| 12\n",
       "3| 14\n",
       "4| 16\n"
      ]
     },
     "execution_count": 78,
     "metadata": {},
     "output_type": "execute_result"
    },
    {
     "data": {
      "text/plain": [
       "1| 0\n",
       "2| 0\n",
       "3| 0\n",
       "4| 0\n"
      ]
     },
     "execution_count": 78,
     "metadata": {},
     "output_type": "execute_result"
    },
    {
     "data": {
      "text/plain": [
       "1| 25\n",
       "2| 36\n",
       "3| 49\n",
       "4| 64\n"
      ]
     },
     "execution_count": 78,
     "metadata": {},
     "output_type": "execute_result"
    },
    {
     "data": {
      "text/plain": [
       "1| 50\n",
       "2| 6\n",
       "3| 140\n",
       "4| 240\n",
       "5| 40\n"
      ]
     },
     "execution_count": 78,
     "metadata": {},
     "output_type": "execute_result"
    },
    {
     "data": {
      "text/plain": [
       "1| 15\n",
       "2| 6\n",
       "3| 27\n",
       "4| 38\n",
       "3| 9\n",
       "5| 40\n"
      ]
     },
     "execution_count": 78,
     "metadata": {},
     "output_type": "execute_result"
    },
    {
     "data": {
      "text/plain": [
       "1| 15\n",
       "3| 27\n",
       "4| 38\n",
       "5| 40\n",
       "2| 6\n"
      ]
     },
     "execution_count": 78,
     "metadata": {},
     "output_type": "execute_result"
    },
    {
     "data": {
      "text/plain": [
       "1| 15\n",
       "2| 6\n",
       "3| 27\n",
       "4| 38\n",
       "3| 9\n",
       "5| 40\n"
      ]
     },
     "execution_count": 78,
     "metadata": {},
     "output_type": "execute_result"
    },
    {
     "data": {
      "text/plain": [
       "1| 15\n",
       "3| 27\n",
       "4| 38\n",
       "5| 40\n",
       "3| 100\n",
       "2| 6\n"
      ]
     },
     "execution_count": 78,
     "metadata": {},
     "output_type": "execute_result"
    }
   ],
   "source": [
    "/Basic operations on dicts\n",
    "/Any function applied to dict applies to its value list\n",
    "/Recall with dict addition visted above, the keys are used to decide what values to add\n",
    "/The keys themselves never change\n",
    "d: 1 2 3 4!5 6 7 8\n",
    "d2: 1 3 4 5!10 20 30 40\n",
    "neg d /Only affects values\n",
    "2*d\n",
    "d=20\n",
    "d*d\n",
    "/When key list is different we get dict with union of the key lists\n",
    "/Operation only happens on matching keys\n",
    "/Nothing happens to unmacthed keys\n",
    "d*d2\n",
    "/What if their are duplicate keys in one of them\n",
    "d: 1 2 3 4 3!5 6 7 8 9\n",
    "d2: 1 3 4 5!10 20 30 40\n",
    "/If the first one has duplicates then operation happends only on first occurence\n",
    "d+d2\n",
    "/If the second one has duplicates then the non-first occurence is dropped\n",
    "d2+d\n",
    "/What id both have duplicate keys\n",
    "d: 1 2 3 4 3!5 6 7 8 9\n",
    "d2: 1 3 4 5 3!10 20 30 40 100\n",
    "/Operation only happens based on first occurence. Non first occurence of second dict is omitted\n",
    "d+d2\n",
    "/Operation only happens on first occurence. Non first occurence of second dict aka right operand are omitted\n",
    "d2+d"
   ]
  },
  {
   "cell_type": "code",
   "execution_count": 79,
   "id": "36152f92-aff5-460a-9cfb-6e800abc8512",
   "metadata": {
    "tags": []
   },
   "outputs": [
    {
     "data": {
      "text/plain": [
       "a| 100\n",
       "b| 20\n",
       "c| 200\n",
       "d| 300\n"
      ]
     },
     "execution_count": 79,
     "metadata": {},
     "output_type": "execute_result"
    },
    {
     "data": {
      "text/plain": [
       "a| 100\n",
       "b| 20\n",
       "c| 200\n",
       "a| 40\n",
       "d| 300\n"
      ]
     },
     "execution_count": 79,
     "metadata": {},
     "output_type": "execute_result"
    },
    {
     "data": {
      "text/plain": [
       "a| 100\n",
       "b| 20\n",
       "c| 400\n",
       "a| 40\n",
       "d| 300\n"
      ]
     },
     "execution_count": 79,
     "metadata": {},
     "output_type": "execute_result"
    },
    {
     "data": {
      "text/plain": [
       "a| 40\n",
       "c| 30\n",
       "d| 300\n",
       "c| 400\n",
       "b| 20\n"
      ]
     },
     "execution_count": 79,
     "metadata": {},
     "output_type": "execute_result"
    }
   ],
   "source": [
    "/Join operator merges two dicts\n",
    "/For overlapping keys b/w the two dicts the value of the right operand prevails\n",
    "/Syntax is same as lists\n",
    "d1:`a`b`c!10 20 30\n",
    "d2:`a`c`d!100 200 300\n",
    "d1,d2\n",
    "/Since we take the right operand values you can thing of this is each\n",
    "    /key value pair on the right being upserted into the left\n",
    "/Since we take the value of right operand in cases of overlap the order in joining matters\n",
    "/Again we think about duplicates\n",
    "/The result is very similar to how the other operators handled duplicates\n",
    "d1:`a`b`c`a!10 20 30 40\n",
    "d2:`a`c`d!100 200 300\n",
    "/If duplicate in left operand, we only perform potential coalesce on first occurence\n",
    "d1,d2\n",
    "/If duplicate on right operand we omit the non first occurence\n",
    "/If both have duplicates, things get tricky\n",
    "/But its easy to follow it if you break it down into the upserted calculations\n",
    "/If we have d1,d2\n",
    "/d1[key from d2] d2 value\n",
    "/If d1 has duplicate key, only first occurence changes b/c update operator can only retrieve first occurence\n",
    "/If d2 has duplicate keys `x for e.g\n",
    "/Then first we do d1[`x]=val1 and then we do d1[`x]=val2\n",
    "/Thus d1[`x] will have the last occurence because thats what we set\n",
    "d1:`a`b`c`a!10 20 30 40\n",
    "d2:`a`c`d`c!100 200 300 400\n",
    "/These follow the upsert chain as described above\n",
    "d1,d2\n",
    "d2,d1"
   ]
  },
  {
   "cell_type": "code",
   "execution_count": 80,
   "id": "4e3cd99f-73c2-4487-a8fb-426cbd029473",
   "metadata": {
    "tags": []
   },
   "outputs": [
    {
     "data": {
      "text/plain": [
       "a| 10\n",
       "b| 200\n",
       "c| 30\n",
       "d| 400\n"
      ]
     },
     "execution_count": 80,
     "metadata": {},
     "output_type": "execute_result"
    }
   ],
   "source": [
    "/Coalesce\n",
    "/The coalesce operator is similar to join in that it employs upsert semantics\n",
    "    /to merge two dicts\n",
    "/The difference is that the right values prevail over the left except for nulls\n",
    "d1:`a`b`c!10 0N 30\n",
    "d2:`b`c`d!200 0N 400\n",
    "d1^d2"
   ]
  },
  {
   "cell_type": "code",
   "execution_count": 81,
   "id": "74e515ef-425a-4c77-beab-586fcfa24308",
   "metadata": {
    "tags": []
   },
   "outputs": [
    {
     "data": {
      "text/plain": [
       "a| 0\n",
       "b| 1\n",
       "c| 0\n",
       "d| 0\n"
      ]
     },
     "execution_count": 81,
     "metadata": {},
     "output_type": "execute_result"
    },
    {
     "data": {
      "text/plain": [
       "a| 1\n",
       "b| 1\n",
       "c| 0\n",
       "d| 1\n"
      ]
     },
     "execution_count": 81,
     "metadata": {},
     "output_type": "execute_result"
    },
    {
     "data": {
      "text/plain": [
       "a| 1\n",
       "b| 1\n",
       "c| 0\n",
       "d| 1\n"
      ]
     },
     "execution_count": 81,
     "metadata": {},
     "output_type": "execute_result"
    },
    {
     "data": {
      "text/plain": [
       "a| 0\n",
       "b| 1\n",
       "c| 0\n",
       "d| 1\n"
      ]
     },
     "execution_count": 81,
     "metadata": {},
     "output_type": "execute_result"
    }
   ],
   "source": [
    "/Arithmetic and relational operators\n",
    "/In arithmetic operators, the operation is performed on common keys\n",
    "/Disjoint keys are kept as is\n",
    "/For equality and comparison, operation is performed over common keys\n",
    "/For disjoint keys the appropriate null value is returned\n",
    "/If a disjoint key has null value then it will show false\n",
    "/Because if we reference a non existing key in a dict we get null\n",
    "/So wehn comparing it to the dict that doesnt have it we will still get null for both resulting in True\n",
    "(`a`b`c!10 20 30)=`b`c`d!20 300 400 /b:20 is only key value pair matching\n",
    "(`a`b`c!0N 20 30)=`b`c`d!20 300 0N /b matches and a and d should return true because they are null and disjointed\n",
    "/Duplicate keys, what happens\n",
    "/Only first occurence is considered regardless of right or left operand\n",
    "/Non first occurence omitted\n",
    "(`a`b`c`a!10 20 30 10)=`b`c`d`a!20 300 0N 10\n",
    "/Both sides have duplicates? Still only first occurence checked and the rest omitted\n",
    "(`a`b`c`d`a!10 20 300 0N 20) = `a`b`c`a!20 20 30 10"
   ]
  },
  {
   "cell_type": "code",
   "execution_count": 90,
   "id": "c8a99fed-f2bf-43c0-9599-a79d2eaff5d6",
   "metadata": {
    "tags": []
   },
   "outputs": [
    {
     "data": {
      "text/plain": [
       "c1| a  b  c \n",
       "c2| 10 20 30\n"
      ]
     },
     "execution_count": 90,
     "metadata": {},
     "output_type": "execute_result"
    },
    {
     "data": {
      "text/plain": [
       "name| Dent Beeblebrox Prefect\n",
       "iq  | 42   98         126    \n"
      ]
     },
     "execution_count": 90,
     "metadata": {},
     "output_type": "execute_result"
    },
    {
     "data": {
      "text/plain": [
       "`Dent`Beeblebrox`Prefect\n"
      ]
     },
     "execution_count": 90,
     "metadata": {},
     "output_type": "execute_result"
    },
    {
     "data": {
      "text/plain": [
       "`Beeblebrox\n"
      ]
     },
     "execution_count": 90,
     "metadata": {},
     "output_type": "execute_result"
    },
    {
     "data": {
      "text/plain": [
       "`Beeblebrox\n"
      ]
     },
     "execution_count": 90,
     "metadata": {},
     "output_type": "execute_result"
    },
    {
     "data": {
      "text/plain": [
       "name| `Beeblebrox\n",
       "iq  | 98\n"
      ]
     },
     "execution_count": 90,
     "metadata": {},
     "output_type": "execute_result"
    },
    {
     "data": {
      "text/plain": [
       "c| 10 20 30\n"
      ]
     },
     "execution_count": 90,
     "metadata": {},
     "output_type": "execute_result"
    }
   ],
   "source": [
    "/Column Dictionary\n",
    "/A dictionary where each key corresponds to vector/list is called a column dictionary\n",
    "`c1`c2!(`a`b`c; 10 20 30)\n",
    "/We think of c1..cn:v1..vn where ci is column\n",
    "/Lets look at an example\n",
    "travelers:`name`iq!(`Dent`Beeblebrox`Prefect;42 98 126)\n",
    "travelers\n",
    "\n",
    "/Name column\n",
    "travelers[`name]\n",
    "\n",
    "/Get the specific value in columns\n",
    "travelers[`name][1]\n",
    "\n",
    "/Whenever we encounter repeated indexing, we can write is as indexing at depth\n",
    "travelers[`name;1]\n",
    "\n",
    "/We do not specify the column, just the position\n",
    "travelers[;1]\n",
    "\n",
    "/COlumn dict with single column\n",
    "(enlist `c)!enlist 10 20 30"
   ]
  },
  {
   "cell_type": "code",
   "execution_count": 91,
   "id": "b4526724-5d3a-421e-b859-744380fa0971",
   "metadata": {},
   "outputs": [
    {
     "data": {
      "text/plain": [
       "name       iq \n",
       "--------------\n",
       "Dent       42 \n",
       "Beeblebrox 98 \n",
       "Prefect    126\n"
      ]
     },
     "execution_count": 91,
     "metadata": {},
     "output_type": "execute_result"
    },
    {
     "data": {
      "text/plain": [
       "98\n"
      ]
     },
     "execution_count": 91,
     "metadata": {},
     "output_type": "execute_result"
    },
    {
     "data": {
      "text/plain": [
       "42 98 126\n"
      ]
     },
     "execution_count": 91,
     "metadata": {},
     "output_type": "execute_result"
    },
    {
     "data": {
      "text/plain": [
       "name| `Beeblebrox\n",
       "iq  | 98\n"
      ]
     },
     "execution_count": 91,
     "metadata": {},
     "output_type": "execute_result"
    }
   ],
   "source": [
    "/Transposing dictionaries\n",
    "/he columns become the vertical columns as we are used to seeing them\n",
    "/The inexes flip so column index comes second\n",
    "travelers:`name`iq!(`Dent`Beeblebrox`Prefect;42 98 126)\n",
    "t: flip travelers\n",
    "t\n",
    "\n",
    "/Get value\n",
    "t[1;`iq]\n",
    "\n",
    "/Get column\n",
    "t[;`iq]\n",
    "\n",
    "/Get row\n",
    "t[1;]"
   ]
  },
  {
   "cell_type": "markdown",
   "id": "4c5c2155-bc8c-42cf-ad7a-af15b7c50ae1",
   "metadata": {},
   "source": [
    "# Functions:"
   ]
  },
  {
   "cell_type": "code",
   "execution_count": 1,
   "id": "9ecd23fa-4260-444e-98f8-449d97b754dc",
   "metadata": {},
   "outputs": [
    {
     "data": {
      "text/plain": [
       "25\n"
      ]
     },
     "execution_count": 1,
     "metadata": {},
     "output_type": "execute_result"
    },
    {
     "data": {
      "text/plain": [
       "25\n"
      ]
     },
     "execution_count": 1,
     "metadata": {},
     "output_type": "execute_result"
    },
    {
     "data": {
      "text/plain": [
       "13\n"
      ]
     },
     "execution_count": 1,
     "metadata": {},
     "output_type": "execute_result"
    },
    {
     "data": {
      "text/plain": [
       "3\n"
      ]
     },
     "execution_count": 1,
     "metadata": {},
     "output_type": "execute_result"
    },
    {
     "data": {
      "text/plain": [
       "25\n"
      ]
     },
     "execution_count": 1,
     "metadata": {},
     "output_type": "execute_result"
    },
    {
     "data": {
      "text/plain": [
       "25\n"
      ]
     },
     "execution_count": 1,
     "metadata": {},
     "output_type": "execute_result"
    }
   ],
   "source": [
    "/Function definition is delimited by { } and immediately after the opening brace, the formal parameters are enclosed in [ ]\n",
    "/and separated by semi-colons\n",
    "/So for is Name:{[x;y] x+y}\n",
    "/We can have multiple expressions and separate them by ;\n",
    "/Value of final expression is returned as output value of the function\n",
    "/If we have semi colon after last expression we get not return value. It is used to suppress a return\n",
    "\n",
    "/Square function\n",
    "sq:{[x] x*x}\n",
    "\n",
    "/Sum of squares\n",
    "ssq:{[x;y] a:x*x; b:y*y; a+b}\n",
    "\n",
    "/Calling a function\n",
    "sq[5]\n",
    "sq 5\n",
    "ssq[2;3]\n",
    "ssq 2;3 /This does not work\n",
    "ssq 2 3 /This does not work either\n",
    "\n",
    "/Calling function without ever creating it\n",
    "{[x] x*x}[5]\n",
    "{[x] x*x} 5"
   ]
  },
  {
   "cell_type": "code",
   "execution_count": 5,
   "id": "d0219c04-1200-4dfa-a39b-ac2f287d1223",
   "metadata": {},
   "outputs": [
    {
     "ename": "\u001b[0;31mrank\u001b[0m",
     "evalue": "\u001b[0;31mrank\u001b[0m",
     "output_type": "error",
     "traceback": [
      "\u001b[0;31mevaluation error:\n\u001b[0m",
      "\u001b[0;31mrank\u001b[0m",
      "\u001b[0;31m\u001b[0m",
      "\u001b[0;31m  [0]  sq[1;2]\n       ^\n\u001b[0m"
     ]
    }
   ],
   "source": [
    "/Inputting more inputs than needed gives rank error\n",
    "sq:{[x] x*x}\n",
    "\n",
    "sq[1;2]"
   ]
  },
  {
   "cell_type": "code",
   "execution_count": 6,
   "id": "a030547a-1b66-4a27-8b6e-c5883bb100bb",
   "metadata": {},
   "outputs": [
    {
     "data": {
      "text/plain": [
       "4\n"
      ]
     },
     "execution_count": 6,
     "metadata": {},
     "output_type": "execute_result"
    }
   ],
   "source": [
    "/Inputting more inputs than needed in a function without inputs needed works and does not give error\n",
    "sq:{[] 2*2}\n",
    "\n",
    "sq[1]"
   ]
  },
  {
   "cell_type": "code",
   "execution_count": 8,
   "id": "84898e25-00c4-4320-8b10-afdc2b21d528",
   "metadata": {},
   "outputs": [],
   "source": [
    "/Functions without return value\n",
    "/We get nothing back, there is no error\n",
    "fvoid:{[x] `a set x;}\n",
    "\n",
    "fvoid 42"
   ]
  },
  {
   "cell_type": "code",
   "execution_count": 12,
   "id": "61d818a1-21c0-48ec-9677-34714bf3ab21",
   "metadata": {},
   "outputs": [
    {
     "data": {
      "text/plain": [
       "25\n"
      ]
     },
     "execution_count": 12,
     "metadata": {},
     "output_type": "execute_result"
    },
    {
     "data": {
      "text/plain": [
       "25\n"
      ]
     },
     "execution_count": 12,
     "metadata": {},
     "output_type": "execute_result"
    }
   ],
   "source": [
    "/When we save a named function\n",
    "/We can use the symbol name of the variable in place of the variable itself\n",
    "sq:{[x] x*x}\n",
    "\n",
    "sq[5]\n",
    "\n",
    "/Symbol name\n",
    "`sq 5"
   ]
  },
  {
   "cell_type": "code",
   "execution_count": 16,
   "id": "d28258f2-acb0-420e-b3a7-1b42183cd256",
   "metadata": {},
   "outputs": [
    {
     "data": {
      "text/plain": [
       "14\n"
      ]
     },
     "execution_count": 16,
     "metadata": {},
     "output_type": "execute_result"
    },
    {
     "data": {
      "text/plain": [
       "{x+z}[1;2]\n"
      ]
     },
     "execution_count": 16,
     "metadata": {},
     "output_type": "execute_result"
    },
    {
     "data": {
      "text/plain": [
       "4\n"
      ]
     },
     "execution_count": 16,
     "metadata": {},
     "output_type": "execute_result"
    }
   ],
   "source": [
    "/If you do not explicitly define input parameters q automatically considers x,y,z to be the first three inputs in that order\n",
    "/But nothing beyond that\n",
    "{a:x*x ; b:y*y ; c:z*z ; a+b+c} [1;2;3] /x is 1, y is 2 and z is 3\n",
    "\n",
    "/What if we use x and z?\n",
    "/Then we need to input y even if it is ignored because the default order is x,y,z\n",
    "s: {x+z}\n",
    "\n",
    "s[1;2] /Does not work because we need 3 inputs\n",
    "\n",
    "s[1;2;3] /Second input is ignored"
   ]
  },
  {
   "cell_type": "code",
   "execution_count": 18,
   "id": "361cb85e-ca53-4616-a5e9-027be9b86cd7",
   "metadata": {},
   "outputs": [
    {
     "data": {
      "text/plain": [
       "{x*x}\n"
      ]
     },
     "execution_count": 18,
     "metadata": {},
     "output_type": "execute_result"
    },
    {
     "data": {
      "text/plain": [
       "25\n"
      ]
     },
     "execution_count": 18,
     "metadata": {},
     "output_type": "execute_result"
    }
   ],
   "source": [
    "/Anonymous function\n",
    "/A function without a name is then called an anonymous function\n",
    "\n",
    "/We can use anonymous functions to dispatch functions in a container\n",
    "powers:({1}; {x}; {x*x}; {x*x*x})\n",
    "\n",
    "selected: 2\n",
    "\n",
    "/Just see the function. Follow this by input paameters to run it\n",
    "powers[selected]\n",
    "\n",
    "/Run the function after calling it\n",
    "powers[selected] 5"
   ]
  },
  {
   "cell_type": "code",
   "execution_count": 20,
   "id": "4952e12a-0cdc-439e-99b8-103fcb615925",
   "metadata": {},
   "outputs": [
    {
     "data": {
      "text/plain": [
       "42\n"
      ]
     },
     "execution_count": 20,
     "metadata": {},
     "output_type": "execute_result"
    },
    {
     "data": {
      "text/plain": [
       "`a`b`c\n"
      ]
     },
     "execution_count": 20,
     "metadata": {},
     "output_type": "execute_result"
    },
    {
     "data": {
      "text/plain": [
       "42\n"
      ]
     },
     "execution_count": 20,
     "metadata": {},
     "output_type": "execute_result"
    }
   ],
   "source": [
    "/Identity function\n",
    "/When :: is used with function application syntax, it is the identity function – i.e., \n",
    "    /it returns its input as output.\n",
    "/The naked identity function cannot be used with prefix syntax; it must be enclosed in parentheses.\n",
    "\n",
    "::[42]\n",
    "\n",
    "::[`a`b`c]\n",
    "\n",
    "/:: 42 / error\n",
    "\n",
    "(::) 42\n",
    "\n",
    "/Syntax is similar to alias"
   ]
  },
  {
   "cell_type": "code",
   "execution_count": 52,
   "id": "b5072f58-bdfe-4fa1-b1eb-31c656fcda93",
   "metadata": {},
   "outputs": [
    {
     "data": {
      "text/plain": [
       "{x*x}\n",
       "{2*x}\n"
      ]
     },
     "execution_count": 52,
     "metadata": {},
     "output_type": "execute_result"
    },
    {
     "data": {
      "text/plain": [
       "{2*x}\n"
      ]
     },
     "execution_count": 52,
     "metadata": {},
     "output_type": "execute_result"
    },
    {
     "data": {
      "text/plain": [
       "10\n"
      ]
     },
     "execution_count": 52,
     "metadata": {},
     "output_type": "execute_result"
    }
   ],
   "source": [
    "/As we've seen previously functions can easily be passed in containers as ints and floats are\n",
    "f:{x*x}\n",
    "g:{2*x}\n",
    "\n",
    "/List of functions\n",
    "(f; g)\n",
    "\n",
    "(f; g)[1] /Shows the function in the position\n",
    "\n",
    "/Run list of functions\n",
    "/First tells us which value to get and second tells us input\n",
    "/There is no second depth so the second value is fucntion input\n",
    "(f; g)[1;5]"
   ]
  },
  {
   "cell_type": "code",
   "execution_count": 54,
   "id": "47de1a91-2097-4a9a-b424-e27d6938c73a",
   "metadata": {},
   "outputs": [
    {
     "data": {
      "text/plain": [
       "25\n"
      ]
     },
     "execution_count": 54,
     "metadata": {},
     "output_type": "execute_result"
    },
    {
     "data": {
      "text/plain": [
       "25 4 9\n"
      ]
     },
     "execution_count": 54,
     "metadata": {},
     "output_type": "execute_result"
    }
   ],
   "source": [
    "/Apply functions can easily be created\n",
    "apply:{x y} /Apply x on input y\n",
    "\n",
    "sq:{x*x}\n",
    "\n",
    "apply[sq; 5]\n",
    "\n",
    "apply[sq; (5;2;3)]\n",
    "\n",
    "/A function that operates on other functions is called a higher-order function"
   ]
  },
  {
   "cell_type": "code",
   "execution_count": 63,
   "id": "d4dcd329-33cd-4ed4-8633-91688bf90181",
   "metadata": {},
   "outputs": [
    {
     "data": {
      "text/plain": [
       "42\n"
      ]
     },
     "execution_count": 63,
     "metadata": {},
     "output_type": "execute_result"
    },
    {
     "data": {
      "text/plain": [
       "`a\n"
      ]
     },
     "execution_count": 63,
     "metadata": {},
     "output_type": "execute_result"
    },
    {
     "data": {
      "text/plain": [
       "50\n"
      ]
     },
     "execution_count": 63,
     "metadata": {},
     "output_type": "execute_result"
    }
   ],
   "source": [
    "/Call by name\n",
    "/Ordinary function application in q uses call-by-value, meaning that arguments \n",
    "    /are reduced to values at the start of application. In the process, copies are \n",
    "    /made so that any original values are undisturbed. When the size of the input \n",
    "    /data is large, this copy may be prohibitive. In this case, there is an alternative \n",
    "    /method of application, call-by-name, in which names of (global) variables are passed \n",
    "    /instead of their values.\n",
    "\n",
    "a: 42\n",
    "\n",
    "/One example of a function that uses call-by-name is the built-in function get\n",
    "get `a\n",
    "\n",
    "/Another example is binary set, which does the actual work of global assignment. It expects \n",
    "    /the name of a global variable and the value to be assigned.\n",
    "`a set 50\n",
    "\n",
    "a"
   ]
  },
  {
   "cell_type": "code",
   "execution_count": 71,
   "id": "7ef24121-429c-4bca-890d-fc309a38f386",
   "metadata": {},
   "outputs": [
    {
     "data": {
      "text/plain": [
       "42\n"
      ]
     },
     "execution_count": 71,
     "metadata": {},
     "output_type": "execute_result"
    }
   ],
   "source": [
    "/Global Variable\n",
    "/A variable assigned outside any function definition is called a global \n",
    "    /variable. Global variables are visible inside any function body.\n",
    "b:7\n",
    "f:{b*x}\n",
    "\n",
    "f[6]"
   ]
  },
  {
   "cell_type": "code",
   "execution_count": 67,
   "id": "0b27186c-725f-4d0a-83ab-0fecffef515d",
   "metadata": {},
   "outputs": [
    {
     "data": {
      "text/plain": [
       "47\n"
      ]
     },
     "execution_count": 67,
     "metadata": {},
     "output_type": "execute_result"
    },
    {
     "data": {
      "text/plain": [
       "250\n"
      ]
     },
     "execution_count": 67,
     "metadata": {},
     "output_type": "execute_result"
    },
    {
     "data": {
      "text/plain": [
       "210\n"
      ]
     },
     "execution_count": 67,
     "metadata": {},
     "output_type": "execute_result"
    }
   ],
   "source": [
    "/Local variable\n",
    "/A variable that is assigned with : within a function body is called a local variable. \n",
    "    /For example, a is a local variable in the following function.\n",
    "f:{a:42; a+x}\n",
    "f 5\n",
    "\n",
    "/Q does not have lexicol scoping\n",
    "/Local variable a and local function helper\n",
    "g:{[p1] a:42; helper:{[p2] a*p2}; helper p1}\n",
    "g 5\n",
    "/Why is this 250 instead of 210 we expected? Because the local a does not enter local helper\n",
    "/Instead it ends up using global a which we defined as 43 in the previous cell\n",
    "\n",
    "/How to fix this? Have it be an input of the local function\n",
    "g2:{[p1] a:42; helper:{[a;p2] a*p2}; helper[a;p1]}\n",
    "g2 5"
   ]
  },
  {
   "cell_type": "code",
   "execution_count": 75,
   "id": "1f436ebc-f81e-466b-b823-9ff54661e37a",
   "metadata": {},
   "outputs": [
    {
     "data": {
      "text/plain": [
       "6\n"
      ]
     },
     "execution_count": 75,
     "metadata": {},
     "output_type": "execute_result"
    },
    {
     "data": {
      "text/plain": [
       "210\n"
      ]
     },
     "execution_count": 75,
     "metadata": {},
     "output_type": "execute_result"
    },
    {
     "data": {
      "text/plain": [
       "9\n"
      ]
     },
     "execution_count": 75,
     "metadata": {},
     "output_type": "execute_result"
    },
    {
     "data": {
      "text/plain": [
       "210\n"
      ]
     },
     "execution_count": 75,
     "metadata": {},
     "output_type": "execute_result"
    }
   ],
   "source": [
    "/Projection\n",
    "/Projection means specifying only some of the parameters in function application, resulting \n",
    "    /in a function of the remaining parameters.\n",
    "/So projection is when we input less input variables then required resulting in nothing\n",
    "/But we can then enter the remaining inputs and get an output\n",
    "plus:{x+y+z}\n",
    "\n",
    "/A projection.\n",
    "/If we add the last input then we will get output\n",
    "aa: plus[1;2]\n",
    "\n",
    "/We get aa[1;2;3]\n",
    "aa 3\n",
    "\n",
    "/We can use projection to make local function syntax even simpler\n",
    "/We will use the example from previous cell\n",
    "/Make the helper function a projection by adding a as an input right away\n",
    "g3:{[p1] a:42; helper:{[a;p2] a*p2}[a]; helper p1}\n",
    "g3 5\n",
    "\n",
    "/A chain of projections\n",
    "plus[2][3][4]\n",
    "\n",
    "/To make your code more readable, it is always recommended to use ; after the input when using a projection\n",
    "/This shows that there are more inputs remaining\n",
    "g4:{[p1] a:42; helper:{[a;p2] a*p2}[a;]; helper p1}\n",
    "g4 5"
   ]
  },
  {
   "cell_type": "code",
   "execution_count": 76,
   "id": "062f762b-fbbd-4753-934f-4109b2a9cd56",
   "metadata": {},
   "outputs": [
    {
     "data": {
      "text/plain": [
       "{x-y}[42;]\n"
      ]
     },
     "execution_count": 76,
     "metadata": {},
     "output_type": "execute_result"
    },
    {
     "data": {
      "text/plain": [
       "36\n"
      ]
     },
     "execution_count": 76,
     "metadata": {},
     "output_type": "execute_result"
    },
    {
     "data": {
      "text/plain": [
       "{x-y}[42;]\n"
      ]
     },
     "execution_count": 76,
     "metadata": {},
     "output_type": "execute_result"
    },
    {
     "data": {
      "text/plain": [
       "36\n"
      ]
     },
     "execution_count": 76,
     "metadata": {},
     "output_type": "execute_result"
    }
   ],
   "source": [
    "/The function body in a projection is captured at \n",
    "    /the time it is first encountered by the interpreter.\n",
    "/Thus if the underlying function is subsequently changed, the projection is not.\n",
    "\n",
    "f:{x-y}\n",
    "\n",
    "g:f[42;]\n",
    "\n",
    "g\n",
    "\n",
    "g[6]\n",
    "\n",
    "f:{x+y}\n",
    "\n",
    "g /Unchanged\n",
    "\n",
    "g[6] /Unchanged"
   ]
  },
  {
   "cell_type": "code",
   "execution_count": 73,
   "id": "d2ccb9b0-8f2a-48c1-bc40-96d6da159775",
   "metadata": {},
   "outputs": [
    {
     "data": {
      "text/plain": [
       "`a\n"
      ]
     },
     "execution_count": 73,
     "metadata": {},
     "output_type": "execute_result"
    },
    {
     "data": {
      "text/plain": [
       "20\n"
      ]
     },
     "execution_count": 73,
     "metadata": {},
     "output_type": "execute_result"
    }
   ],
   "source": [
    "/Assigning global variables within a function\n",
    "f:{a:98.6; `a set x}\n",
    "f 20\n",
    "a"
   ]
  },
  {
   "cell_type": "code",
   "execution_count": 79,
   "id": "b4ff21fc-dae9-4f8e-a3f0-cd2714f802a9",
   "metadata": {},
   "outputs": [
    {
     "data": {
      "text/plain": [
       "42\n"
      ]
     },
     "execution_count": 79,
     "metadata": {},
     "output_type": "execute_result"
    },
    {
     "data": {
      "text/plain": [
       "56\n"
      ]
     },
     "execution_count": 79,
     "metadata": {},
     "output_type": "execute_result"
    }
   ],
   "source": [
    "/Operator Projection\n",
    "\n",
    "/When used in infix form, a q operator can be projected by fixing its \n",
    "    /left operand (only). This requires parentheses. For example, the \n",
    "    /projection of * onto its right operand is:\n",
    "(7*) 6\n",
    "\n",
    "/Left projection?\n",
    "/We cant follow the same syntax as above to have a projection on to the left operand\n",
    "/Since each operator is a function we can use [] to specify right operand & create projection\n",
    "-[;42] 98"
   ]
  },
  {
   "cell_type": "code",
   "execution_count": 84,
   "id": "20916b0e-d0c5-4380-b6f3-8babc8b794f6",
   "metadata": {},
   "outputs": [
    {
     "data": {
      "text/plain": [
       "6\n"
      ]
     },
     "execution_count": 84,
     "metadata": {},
     "output_type": "execute_result"
    },
    {
     "data": {
      "text/plain": [
       "6\n"
      ]
     },
     "execution_count": 84,
     "metadata": {},
     "output_type": "execute_result"
    },
    {
     "data": {
      "text/plain": [
       "6\n"
      ]
     },
     "execution_count": 84,
     "metadata": {},
     "output_type": "execute_result"
    }
   ],
   "source": [
    "/Multiple Projections\n",
    "/We can project a function with more than two inputs (also called having greater than\n",
    "    /two valence) multiple ways\n",
    "\n",
    "/Project onto the second input\n",
    "{x+y+z}[1;;3] 2\n",
    "\n",
    "/Project onto second and third input\n",
    "{x+y+z}[1;;][2;3]\n",
    "\n",
    "{x+y+z}[1;;][;3] 2"
   ]
  },
  {
   "cell_type": "code",
   "execution_count": 101,
   "id": "2a91b757-e3dd-41a2-95c9-082fd51e41f1",
   "metadata": {},
   "outputs": [
    {
     "data": {
      "text/plain": [
       "4 25\n"
      ]
     },
     "execution_count": 101,
     "metadata": {},
     "output_type": "execute_result"
    },
    {
     "data": {
      "text/plain": [
       "4 25\n"
      ]
     },
     "execution_count": 101,
     "metadata": {},
     "output_type": "execute_result"
    },
    {
     "data": {
      "text/plain": [
       "9\n"
      ]
     },
     "execution_count": 101,
     "metadata": {},
     "output_type": "execute_result"
    },
    {
     "data": {
      "text/plain": [
       "8 29\n"
      ]
     },
     "execution_count": 101,
     "metadata": {},
     "output_type": "execute_result"
    },
    {
     "data": {
      "text/plain": [
       "{(x*x) + y}[2 5]\n"
      ]
     },
     "execution_count": 101,
     "metadata": {},
     "output_type": "execute_result"
    }
   ],
   "source": [
    "/Element wise operation\n",
    "/If we input a list when only on input was needed, we get elementwise\n",
    "f:{x*x}\n",
    "f[(2;5)]\n",
    "f[2 5]\n",
    "\n",
    "/But if there were two inputs then they are taken in as x and y\n",
    "f:{(x*x) + y}\n",
    "f[2;5]\n",
    "f[(2;5)] 4 /Doesnt work. Is a projection as (2;5) is seen as x inputs and 4 is y\n",
    "f[2 5] /Doesnt work\n",
    "\n",
    "/Notice the syntax difference as well\n",
    "/Input a list is element wise operations\n",
    "/Input ; separated then its inputs\n",
    "/ 2;5 is not a list. (2;5) is list or 2 5"
   ]
  },
  {
   "cell_type": "code",
   "execution_count": 107,
   "id": "e4679080-19c2-444d-99bc-e7b59987866a",
   "metadata": {},
   "outputs": [
    {
     "data": {
      "text/plain": [
       "-1 -2 -3 -4\n"
      ]
     },
     "execution_count": 107,
     "metadata": {},
     "output_type": "execute_result"
    },
    {
     "data": {
      "text/plain": [
       "11\n"
      ]
     },
     "execution_count": 107,
     "metadata": {},
     "output_type": "execute_result"
    },
    {
     "data": {
      "text/plain": [
       "11 21 31\n"
      ]
     },
     "execution_count": 107,
     "metadata": {},
     "output_type": "execute_result"
    },
    {
     "data": {
      "text/plain": [
       "11 21 31\n"
      ]
     },
     "execution_count": 107,
     "metadata": {},
     "output_type": "execute_result"
    },
    {
     "data": {
      "text/plain": [
       "11 22 33\n"
      ]
     },
     "execution_count": 107,
     "metadata": {},
     "output_type": "execute_result"
    },
    {
     "data": {
      "text/plain": [
       "-1\n"
      ]
     },
     "execution_count": 107,
     "metadata": {},
     "output_type": "execute_result"
    },
    {
     "data": {
      "text/plain": [
       "2 7 14 23 34\n"
      ]
     },
     "execution_count": 107,
     "metadata": {},
     "output_type": "execute_result"
    },
    {
     "data": {
      "text/plain": [
       "1.414214\n"
      ]
     },
     "execution_count": 107,
     "metadata": {},
     "output_type": "execute_result"
    },
    {
     "data": {
      "text/plain": [
       "1.414214 2.236068 3.162278\n"
      ]
     },
     "execution_count": 107,
     "metadata": {},
     "output_type": "execute_result"
    },
    {
     "data": {
      "text/plain": [
       "1.414214 2.828427 4.242641\n"
      ]
     },
     "execution_count": 107,
     "metadata": {},
     "output_type": "execute_result"
    }
   ],
   "source": [
    "/Atomic functions\n",
    "\n",
    "/Unary functions such as neg when applied to a list act as for each\n",
    "neg 1 2 3 4\n",
    "\n",
    "/Binary functions aka arithmetic, relational and comparison functions are atomic in boht operands\n",
    "/This leads to 4 cases:\n",
    "/1. atom with atom\n",
    "1+10\n",
    "/2. atom with list\n",
    "1+10 20 30\n",
    "/3. list with atom\n",
    "10 20 30 + 1\n",
    "/4. list with list\n",
    "1 2 3+10 20 30\n",
    "\n",
    "/Creating atomic functions?\n",
    "/Best way to build atomic functions is to use atomic functions to compose it\n",
    "/Unary atomic function created\n",
    "f:{(x*x)+(2*x)-1}\n",
    "f 0\n",
    "f 1 2 3 4 5\n",
    "/Binary atomic function created\n",
    "pyth:{sqrt (x*x)+y*y}\n",
    "pyth[1; 1]\n",
    "pyth[1; 1 2 3]\n",
    "pyth[1 2 3; 1 2 3]"
   ]
  },
  {
   "cell_type": "code",
   "execution_count": 117,
   "id": "f0b85bd7-a6dd-4073-89a5-e59bda4f822e",
   "metadata": {},
   "outputs": [
    {
     "data": {
      "text/plain": [
       "-1 -2 -3\n",
       "-4 -5\n"
      ]
     },
     "execution_count": 117,
     "metadata": {},
     "output_type": "execute_result"
    },
    {
     "data": {
      "text/plain": [
       "2\n"
      ]
     },
     "execution_count": 117,
     "metadata": {},
     "output_type": "execute_result"
    },
    {
     "data": {
      "text/plain": [
       "3 2\n"
      ]
     },
     "execution_count": 117,
     "metadata": {},
     "output_type": "execute_result"
    },
    {
     "data": {
      "text/plain": [
       "3 2\n"
      ]
     },
     "execution_count": 117,
     "metadata": {},
     "output_type": "execute_result"
    },
    {
     "data": {
      "text/plain": [
       "3 2\n",
       "2 3\n"
      ]
     },
     "execution_count": 117,
     "metadata": {},
     "output_type": "execute_result"
    },
    {
     "data": {
      "text/plain": [
       "3 2\n",
       "2 3\n"
      ]
     },
     "execution_count": 117,
     "metadata": {},
     "output_type": "execute_result"
    },
    {
     "data": {
      "text/plain": [
       "\"everything\"\n",
       "\"and\"\n",
       "\"universe\"\n",
       "\"the\"\n",
       "\"life\"\n"
      ]
     },
     "execution_count": 117,
     "metadata": {},
     "output_type": "execute_result"
    },
    {
     "data": {
      "text/plain": [
       "\"efil\"\n",
       "\"eht\"\n",
       "\"esrevinu\"\n",
       "\"dna\"\n",
       "\"gnihtyreve\"\n"
      ]
     },
     "execution_count": 117,
     "metadata": {},
     "output_type": "execute_result"
    },
    {
     "data": {
      "text/plain": [
       "1001\n",
       "1002\n",
       "1004\n",
       "1003\n"
      ]
     },
     "execution_count": 117,
     "metadata": {},
     "output_type": "execute_result"
    },
    {
     "data": {
      "text/plain": [
       "1001\n",
       "1002\n",
       "1004\n",
       "1003\n"
      ]
     },
     "execution_count": 117,
     "metadata": {},
     "output_type": "execute_result"
    }
   ],
   "source": [
    "/Iterators\n",
    "/Iterators are higher-order functions that modify the behavior of functions \n",
    "    /for application on lists.\n",
    "/Not every function is atomic, but we may still want to apply it to individual \n",
    "    /items of a data structure without loopy code. Iterators to the rescue.\n",
    "\n",
    "/We have seen that an atomic function automatically applies to the atoms in a nested list.\n",
    "neg (1 2 3; 4 5)\n",
    "\n",
    "/Clearly a function that aggregates a list into an atom cannot be atomic since it collapses \n",
    "    /the list structure. In particular, aggregate functions operate only at the top level of \n",
    "    /a nested list.\n",
    "count (10 20 30; 40 50)\n",
    "\n",
    "/Suppose instead that we want to count each of the two items in our nested list. \n",
    "/This is precisely what the each iterator does. It modifies a unary function so that it \n",
    "    /applies to each item in a list rather than to the list as a whole. When used infix, \n",
    "    /each follows the function after (required) whitespace.\n",
    "count each (10 20 30; 40 50)\n",
    "\n",
    "/Alternate syntax\n",
    "each[count] (10 20 30; 40 50)\n",
    "\n",
    "/We could say informally that each makes a non-atomic function act atomically… at least \n",
    "    /at one level. For deeply nested lists, you need to iterate each to apply a function \n",
    "    /at deeper levels.\n",
    "(count each) each ((1 2 3; 3 4); (100 200; 300 400 500))\n",
    "each[each[count]] ((1 2 3; 3 4); (100 200; 300 400 500))\n",
    "\n",
    "/Each can be used with any unary function\n",
    "reverse (\"life\"; \"the\"; \"universe\"; \"and\"; \"everything\")\n",
    "\n",
    "reverse each (\"life\"; \"the\"; \"universe\"; \"and\"; \"everything\")\n",
    "\n",
    "\n",
    "/Trick to get nx1 vector\n",
    "enlist each 1001 1002 1004 1003\n",
    "\n",
    "/Note that flip is faster\n",
    "flip enlist 1001 1002 1004 1003"
   ]
  },
  {
   "cell_type": "code",
   "execution_count": 128,
   "id": "053360c2-5263-467b-84d3-86e62ef75219",
   "metadata": {},
   "outputs": [
    {
     "data": {
      "text/plain": [
       "11 22 33\n"
      ]
     },
     "execution_count": 128,
     "metadata": {},
     "output_type": "execute_result"
    },
    {
     "data": {
      "text/plain": [
       "\"abcde\"\n"
      ]
     },
     "execution_count": 128,
     "metadata": {},
     "output_type": "execute_result"
    },
    {
     "data": {
      "text/plain": [
       "\"abc\"\n",
       "\"uv\"\n",
       "\"de\"\n",
       "\"xyz\"\n"
      ]
     },
     "execution_count": 128,
     "metadata": {},
     "output_type": "execute_result"
    },
    {
     "data": {
      "text/plain": [
       "\"abcde\"\n",
       "\"uvxyz\"\n"
      ]
     },
     "execution_count": 128,
     "metadata": {},
     "output_type": "execute_result"
    },
    {
     "data": {
      "text/plain": [
       "c1 c2\n",
       "-----\n",
       "1  a \n",
       "2  b \n",
       "3  c \n"
      ]
     },
     "execution_count": 128,
     "metadata": {},
     "output_type": "execute_result"
    },
    {
     "data": {
      "text/plain": [
       "\"abc>\"\n",
       "\"de>\"\n",
       "\"f>\"\n"
      ]
     },
     "execution_count": 128,
     "metadata": {},
     "output_type": "execute_result"
    },
    {
     "data": {
      "text/plain": [
       "\"</abc\"\n",
       "\"</de\"\n",
       "\"</f\"\n"
      ]
     },
     "execution_count": 128,
     "metadata": {},
     "output_type": "execute_result"
    }
   ],
   "source": [
    "/Iterators on binary functions\n",
    "\n",
    "/An atomic operator automatically applies to corresponding pairs of items \n",
    "    /when applied to lists of the same length.\n",
    "1 2 3+10 20 30\n",
    "\n",
    "/Binary join is not atomic\n",
    "\"abc\",\"de\"\n",
    "\n",
    "(\"abc\"; \"uv\"),(\"de\"; \"xyz\")\n",
    "\n",
    "/The iterator Each ' modifies a binary function (operator, keyword) to apply \n",
    "    /pairwise to corresponding list items.\n",
    "(\"abc\"; \"uv\"),'(\"de\"; \"xyz\")\n",
    "\n",
    "/A function modified by Each has the usual properties of atomic binary functions. \n",
    "/For example, you get a length error if arguments don't line up.\n",
    "/(\"abc\"; \"uv\"),'(\"de\"; \"xyz\"; \"uhoh\") /Error\n",
    "\n",
    "/Getting ahad of ourseleves but:\n",
    "/A nice example of ,' arises when both operands are tables. Since a table is a list of \n",
    "    /records, it is possible to apply ,' to tables with the same number of rows. The \n",
    "    /record dictionaries in each row are upserted, resulting in a sideways join of the \n",
    "    /tables, as in the following example. (Cbind of sorts)\n",
    "t1:([] c1:1 2 3)\n",
    "t2:([] c2:`a`b`c)\n",
    "t1,'t2\n",
    "\n",
    "\n",
    "/An atomic operator also extends an atom in the right operand to match a list on the left.\n",
    "/To achieve this we use Each left iterator \\:\n",
    "(\"abc\"; \"de\"; enlist \"f\") ,\\: \">\"\n",
    "\n",
    "/An atomic operator extends an atom in the left operand to match a list on the right.\n",
    "/To achieve this we use Each left iterator /:\n",
    "\"</\" ,/: (\"abc\"; \"de\"; enlist \"f\")\n",
    "\n",
    "/Recap:\n",
    "/List to list is operator followed by '\n",
    "/List to atom is \\:\n",
    "/Atom to list is /:"
   ]
  },
  {
   "cell_type": "code",
   "execution_count": 131,
   "id": "b46d5fad-2a5c-46ae-acb8-9f822d2b591d",
   "metadata": {},
   "outputs": [
    {
     "data": {
      "text/plain": [
       "1 10 1 20\n",
       "2 10 2 20\n",
       "3 10 3 20\n"
      ]
     },
     "execution_count": 131,
     "metadata": {},
     "output_type": "execute_result"
    },
    {
     "data": {
      "text/plain": [
       "1 10\n",
       "1 20\n",
       "2 10\n",
       "2 20\n",
       "3 10\n",
       "3 20\n"
      ]
     },
     "execution_count": 131,
     "metadata": {},
     "output_type": "execute_result"
    },
    {
     "data": {
      "text/plain": [
       "1 10\n",
       "1 20\n",
       "2 10\n",
       "2 20\n",
       "3 10\n",
       "3 20\n"
      ]
     },
     "execution_count": 131,
     "metadata": {},
     "output_type": "execute_result"
    }
   ],
   "source": [
    "/Cross Product\n",
    "/A cross (Cartesian) product of two lists pairs each item on the left with each \n",
    "    /item on the right.\n",
    "1 2 3,/:\\:10 20\n",
    "/If we compose Join with Each Right and Each Left, we are almost there, except that \n",
    "    /there is an extra level of nesting, which we eliminate with the built-in raze.\n",
    "raze 1 2 3,/:\\:10 20\n",
    "\n",
    "/The built-in operator cross computes this cross product.\n",
    "1 2 3 cross 10 20"
   ]
  },
  {
   "cell_type": "code",
   "execution_count": 132,
   "id": "a74d58fc-0181-4a58-94ca-f94eaec140dc",
   "metadata": {},
   "outputs": [
    {
     "data": {
      "text/plain": [
       "\"Over\"\n"
      ]
     },
     "execution_count": 132,
     "metadata": {},
     "output_type": "execute_result"
    },
    {
     "data": {
      "text/plain": [
       "6\n"
      ]
     },
     "execution_count": 132,
     "metadata": {},
     "output_type": "execute_result"
    },
    {
     "data": {
      "text/plain": [
       "6\n"
      ]
     },
     "execution_count": 132,
     "metadata": {},
     "output_type": "execute_result"
    },
    {
     "data": {
      "text/plain": [
       "-4\n"
      ]
     },
     "execution_count": 132,
     "metadata": {},
     "output_type": "execute_result"
    },
    {
     "data": {
      "text/plain": [
       "6\n"
      ]
     },
     "execution_count": 132,
     "metadata": {},
     "output_type": "execute_result"
    },
    {
     "data": {
      "text/plain": [
       "0.1666667\n"
      ]
     },
     "execution_count": 132,
     "metadata": {},
     "output_type": "execute_result"
    },
    {
     "data": {
      "text/plain": [
       "55\n"
      ]
     },
     "execution_count": 132,
     "metadata": {},
     "output_type": "execute_result"
    },
    {
     "data": {
      "text/plain": [
       "55\n"
      ]
     },
     "execution_count": 132,
     "metadata": {},
     "output_type": "execute_result"
    }
   ],
   "source": [
    "\"Over\"\n",
    "/The Over iterator / is a higher-order function that provides the principal mechanism for recursion in q. \n",
    "/In its simplest form it modifies a binary function to accumulate results over a list.\n",
    "\n",
    "/We know that we can do element wise operations in between two lists or a list and a number\n",
    "/But there is also a simple way to do basic iterative operations on a list\n",
    "/ +/ or any basic operator followed by / tells us that it is iterating over itself\n",
    "/In q this is called Over\n",
    "0 +/ 1 2 3 /We specify initial value in the accumulator and then modify + with iterator /\n",
    "/The initial accumulator value is the left operand and the list to accumulate over is the \n",
    "    /right operand. Under the covers, each item of the list is progressively added into the \n",
    "    /accumulator, moving across the list until the end is reached\n",
    "\n",
    "/Alternatively if we want the first item of the list to be to be the start then we do the following\n",
    "(+/) 1 2 3\n",
    "/Other basic operators\n",
    "(-/) 1 2 3\n",
    "(*/) 1 2 3\n",
    "(%/) 1 2 3\n",
    "\n",
    "/Alt syntax\n",
    "+/[0; 1 2 3 4 5 6 7 8 9 10] /With left operand\n",
    "+/[1 2 3 4 5 6 7 8 9 10] /Without left operand"
   ]
  },
  {
   "cell_type": "code",
   "execution_count": 133,
   "id": "6522fe96-1cf0-4250-aa32-702c27903950",
   "metadata": {},
   "outputs": [
    {
     "data": {
      "text/plain": [
       "4\n"
      ]
     },
     "execution_count": 133,
     "metadata": {},
     "output_type": "execute_result"
    },
    {
     "data": {
      "text/plain": [
       "1\n"
      ]
     },
     "execution_count": 133,
     "metadata": {},
     "output_type": "execute_result"
    }
   ],
   "source": [
    "/This is very useful technique because this way we can get max and min using advanced operators \n",
    "    /such as | and &\n",
    "(|/) 1 4 2 /Get maximum\n",
    "(&/) 2 4 1 /Get minimum"
   ]
  },
  {
   "cell_type": "code",
   "execution_count": 145,
   "id": "40e455dc-0432-4a33-b92b-1098f8161b59",
   "metadata": {},
   "outputs": [
    {
     "data": {
      "text/plain": [
       "822\n"
      ]
     },
     "execution_count": 145,
     "metadata": {},
     "output_type": "execute_result"
    },
    {
     "data": {
      "text/plain": [
       "822\n"
      ]
     },
     "execution_count": 145,
     "metadata": {},
     "output_type": "execute_result"
    }
   ],
   "source": [
    "/Over on custom functions\n",
    "\n",
    "f:{2*x+y}\n",
    "\n",
    "100 f/ 1 2 3\n",
    "/How does this work?\n",
    "ret1 : f[100;1]\n",
    "ret2 : f[ret1;2]\n",
    "f[ret2;3]"
   ]
  },
  {
   "cell_type": "code",
   "execution_count": 146,
   "id": "363bc1c1-d6c3-454c-ae8d-71bd63a9cc71",
   "metadata": {},
   "outputs": [
    {
     "data": {
      "text/plain": [
       "1 1 2 3 5 8 13 21 34 55 89 144\n"
      ]
     },
     "execution_count": 146,
     "metadata": {},
     "output_type": "execute_result"
    }
   ],
   "source": [
    "/We can use Over to do recursion on unary functions\n",
    "/In this version of /, the left operand is a natural number indicating how \n",
    "    /many times to perform the iteration and the right operand is the initial value.\n",
    "\n",
    "fib:{x,sum -2#x}\n",
    "\n",
    "/Left operand tells us how many times to recurse and ight operand is input\n",
    "10 fib/ 1 1"
   ]
  },
  {
   "cell_type": "code",
   "execution_count": 144,
   "id": "4bf10906-b386-4f80-b585-28dade74be6c",
   "metadata": {},
   "outputs": [
    {
     "data": {
      "text/plain": [
       "1.414214\n"
      ]
     },
     "execution_count": 144,
     "metadata": {},
     "output_type": "execute_result"
    },
    {
     "data": {
      "text/plain": [
       "1f\n"
      ]
     },
     "execution_count": 144,
     "metadata": {},
     "output_type": "execute_result"
    }
   ],
   "source": [
    "/Recursion until converegence\n",
    "/Another version of / runs the recursion until convergence, or until a loop is detected. \n",
    "\n",
    "/Example uses Newton Raphson Method\n",
    "f:{-2+x*x}\n",
    "secant:{[f;x;e] (f[x+e]-f x-e)%2*e}\n",
    "{x-f[x]%secant[f; x; 1e-6]}/[1.5]\n",
    "/How does q determine convergence? At each step the result is compared to that of the previous \n",
    "    /step. If the two agree within equality tolerance (10-14) the algorithm is considered to \n",
    "    /have converged and the recursion is complete; otherwise it continues.\n",
    "\n",
    "/Mathematically, it is possible to generate an infinite loop with Newton-Raphson. To wit, \n",
    "    /we select the function x3 – 2x + 2 and choose the initial value 0, which causes the \n",
    "    /algorithm to go into a cycle.\n",
    "newtcycle:{[xn] xn-((xn*xn*xn)+(-2*xn)+2)%-2+3*xn*xn}\n",
    "newtcycle/[0.0]\n",
    "/How did q detect the cycle and stop the iteration? At each step it compares the result with \n",
    "    /the initial value. If they match, a cycle has occurred and the recursion is halted; \n",
    "    /otherwise it continues."
   ]
  },
  {
   "cell_type": "code",
   "execution_count": 147,
   "id": "dae89dcf-a662-497b-bc98-d8f5f38b362f",
   "metadata": {},
   "outputs": [
    {
     "data": {
      "text/plain": [
       "1 1 2 3 5 8 13 21 34 55 89 144 233 377 610 987 1597\n"
      ]
     },
     "execution_count": 147,
     "metadata": {},
     "output_type": "execute_result"
    }
   ],
   "source": [
    "/While loop equivalent\n",
    "/The final overload of / is equivalent to a “while” loop in imperative programming. \n",
    "/It provides a declarative way to specify a test to end the iteration. Thinking functionally, \n",
    "    /we provide a predicate function that is applied to the result at each step. The iteration \n",
    "    /continues as long as the predicate result is 1b and stops otherwise. For example, we stop \n",
    "    /the computation of the Fibonacci sequence once it exceeds 1000 as follows.\n",
    "\n",
    "fib:{x,sum -2#x}\n",
    "fib/[{1000>last x}; 1 1]"
   ]
  },
  {
   "cell_type": "code",
   "execution_count": 148,
   "id": "cc3078b1-ff38-49bf-889d-d67c1da78182",
   "metadata": {},
   "outputs": [
    {
     "data": {
      "text/plain": [
       "6\n"
      ]
     },
     "execution_count": 148,
     "metadata": {},
     "output_type": "execute_result"
    },
    {
     "data": {
      "text/plain": [
       "6\n"
      ]
     },
     "execution_count": 148,
     "metadata": {},
     "output_type": "execute_result"
    },
    {
     "data": {
      "text/plain": [
       "4\n"
      ]
     },
     "execution_count": 148,
     "metadata": {},
     "output_type": "execute_result"
    },
    {
     "data": {
      "text/plain": [
       "1\n"
      ]
     },
     "execution_count": 148,
     "metadata": {},
     "output_type": "execute_result"
    }
   ],
   "source": [
    "/Some of these combos have named operations which are aliases\n",
    "sum 1 2 3 / +/\n",
    "prd 1 2 3 / */\n",
    "max 1 4 2 / |/\n",
    "min 2 4 1 / &/"
   ]
  },
  {
   "cell_type": "code",
   "execution_count": 149,
   "id": "5783b2ac-0380-4df5-b2fd-03edd36c256f",
   "metadata": {},
   "outputs": [
    {
     "data": {
      "text/plain": [
       "\"Power Trick\"\n"
      ]
     },
     "execution_count": 149,
     "metadata": {},
     "output_type": "execute_result"
    },
    {
     "data": {
      "text/plain": [
       "100000\n"
      ]
     },
     "execution_count": 149,
     "metadata": {},
     "output_type": "execute_result"
    }
   ],
   "source": [
    "\"Power Trick\"\n",
    "/This gives us a cool way to get power of a number\n",
    "/We use # and */ to do it\n",
    "/We know X#V is a list of X Vs\n",
    "/And if we (*/) that list then we have V^X\n",
    "(*/) 5#10"
   ]
  },
  {
   "cell_type": "code",
   "execution_count": 152,
   "id": "cfc5aea8-e737-42df-ace1-d2b4164ddc96",
   "metadata": {},
   "outputs": [
    {
     "data": {
      "text/plain": [
       "\"Scan\"\n"
      ]
     },
     "execution_count": 152,
     "metadata": {},
     "output_type": "execute_result"
    },
    {
     "data": {
      "text/plain": [
       "1 3 6\n"
      ]
     },
     "execution_count": 152,
     "metadata": {},
     "output_type": "execute_result"
    },
    {
     "data": {
      "text/plain": [
       "1 -1 -4\n"
      ]
     },
     "execution_count": 152,
     "metadata": {},
     "output_type": "execute_result"
    },
    {
     "data": {
      "text/plain": [
       "1 2 6\n"
      ]
     },
     "execution_count": 152,
     "metadata": {},
     "output_type": "execute_result"
    },
    {
     "data": {
      "text/plain": [
       "1\n",
       "0.5\n",
       "0.1666667\n"
      ]
     },
     "execution_count": 152,
     "metadata": {},
     "output_type": "execute_result"
    },
    {
     "data": {
      "text/plain": [
       "1 4 4\n"
      ]
     },
     "execution_count": 152,
     "metadata": {},
     "output_type": "execute_result"
    },
    {
     "data": {
      "text/plain": [
       "2 2 1\n"
      ]
     },
     "execution_count": 152,
     "metadata": {},
     "output_type": "execute_result"
    },
    {
     "data": {
      "text/plain": [
       "202 408 822\n"
      ]
     },
     "execution_count": 152,
     "metadata": {},
     "output_type": "execute_result"
    }
   ],
   "source": [
    "\"Scan\"\n",
    "/We know that Over aka operator followed by / gives us the final output, but if we \n",
    "    /want to get intermediate outputs as well we use its sibling called Scan which \n",
    "    /is operator followed by \\\n",
    "(+\\) 1 2 3\n",
    "(-\\) 1 2 3\n",
    "(*\\) 1 2 3\n",
    "(%\\) 1 2 3\n",
    "(|\\) 1 4 2 /Get maximum\n",
    "(&\\) 2 4 1 /Get minimum\n",
    "\n",
    "/All the variations of Over are also available with Scan. \n",
    "/Switching to Scan can be useful to see intermediate results of an accumulation.\n",
    "\n",
    "/See the intermediate operations on custom functions\n",
    "f:{2*x+y}\n",
    "100 f\\ 1 2 3"
   ]
  },
  {
   "cell_type": "code",
   "execution_count": 151,
   "id": "ee8203ea-b210-40cf-be00-99ffbcfe377e",
   "metadata": {},
   "outputs": [
    {
     "data": {
      "text/plain": [
       "1 3 6\n"
      ]
     },
     "execution_count": 151,
     "metadata": {},
     "output_type": "execute_result"
    },
    {
     "data": {
      "text/plain": [
       "1 2 6\n"
      ]
     },
     "execution_count": 151,
     "metadata": {},
     "output_type": "execute_result"
    },
    {
     "data": {
      "text/plain": [
       "1 4 4\n"
      ]
     },
     "execution_count": 151,
     "metadata": {},
     "output_type": "execute_result"
    },
    {
     "data": {
      "text/plain": [
       "2 2 1\n"
      ]
     },
     "execution_count": 151,
     "metadata": {},
     "output_type": "execute_result"
    }
   ],
   "source": [
    "/Just as for Over, Scan has named operations for some of these combos which are aliases\n",
    "sums 1 2 3 / +\\\n",
    "prds 1 2 3 / *\\\n",
    "maxs 1 4 2 / |\\\n",
    "mins 2 4 1 / &\\"
   ]
  },
  {
   "cell_type": "code",
   "execution_count": 154,
   "id": "5278fba0-4118-4772-9c3c-5599dd643c8d",
   "metadata": {},
   "outputs": [
    {
     "data": {
      "text/plain": [
       "0 -1 2 1 -1\n"
      ]
     },
     "execution_count": 154,
     "metadata": {},
     "output_type": "execute_result"
    },
    {
     "data": {
      "text/plain": [
       "100 -1 2 1 -1\n"
      ]
     },
     "execution_count": 154,
     "metadata": {},
     "output_type": "execute_result"
    }
   ],
   "source": [
    "/Each Prior\n",
    "/The iterator Each Prior ': provides a declarative way to perform a binary operation \n",
    "    /on each item of a list with its predecessor.\n",
    "\n",
    "/Since initial value does not have predecessor, we must provide one in the left operand\n",
    "100 -': 100 99 101 102 101\n",
    "\n",
    "/As with the other iterators, there is a unary form of Each Prior\n",
    "/It may come as a surprise that the unary form does not choose the initial item of the input \n",
    "    /list as the initial predecessor. Rather, it returns the initial item of the input as is\n",
    "(-':)100 99 101 102 101"
   ]
  },
  {
   "cell_type": "code",
   "execution_count": 159,
   "id": "51c9259c-7201-41c0-a1ea-f5e7b405227e",
   "metadata": {},
   "outputs": [
    {
     "data": {
      "text/plain": [
       "100 -1 2 1 -1\n"
      ]
     },
     "execution_count": 159,
     "metadata": {},
     "output_type": "execute_result"
    },
    {
     "data": {
      "text/plain": [
       "100 0.99 1.020202 1.009901 0.9901961\n"
      ]
     },
     "execution_count": 159,
     "metadata": {},
     "output_type": "execute_result"
    }
   ],
   "source": [
    "/Named versions of Each Prior\n",
    "/ -': is called deltas\n",
    "/It is only for the unary version\n",
    "deltas 100 99 101 102 101\n",
    "\n",
    "/%': is called ratios\n",
    "ratios 100 99 101 102 101"
   ]
  },
  {
   "cell_type": "code",
   "execution_count": 163,
   "id": "bf76ae6c-e15b-4fc0-89d8-058cb6bb0da2",
   "metadata": {},
   "outputs": [
    {
     "data": {
      "text/plain": [
       "011010001101b\n"
      ]
     },
     "execution_count": 163,
     "metadata": {},
     "output_type": "execute_result"
    },
    {
     "data": {
      "text/plain": [
       "100101110010b\n"
      ]
     },
     "execution_count": 163,
     "metadata": {},
     "output_type": "execute_result"
    },
    {
     "data": {
      "text/plain": [
       "100101110010b\n"
      ]
     },
     "execution_count": 163,
     "metadata": {},
     "output_type": "execute_result"
    },
    {
     "data": {
      "text/plain": [
       "0 3 5 6 7 10\n"
      ]
     },
     "execution_count": 163,
     "metadata": {},
     "output_type": "execute_result"
    },
    {
     "data": {
      "text/plain": [
       "1 1 1\n",
       "2 2\n",
       ",3\n",
       ",4\n",
       "5 5 5\n",
       "6 6\n"
      ]
     },
     "execution_count": 163,
     "metadata": {},
     "output_type": "execute_result"
    }
   ],
   "source": [
    "/A powerful idiom with Each Prior uses Match ~ to test if successive items are identical.\n",
    "(~':) 1 1 1 2 2 3 4 5 5 5 6 6\n",
    "\n",
    "not (~':) 1 1 1 2 2 3 4 5 5 5 6 6\n",
    "\n",
    "/not (~':) has a named version\n",
    "differ 1 1 1 2 2 3 4 5 5 5 6 6\n",
    "\n",
    "L:1 1 1 2 2 3 4 5 5 5 6 6\n",
    "where differ L\n",
    "\n",
    "/Observe that the 1b values in the result of differ are the start points for runs of identical \n",
    "    /items, so where yields their indices. Then use cut to split them out.\n",
    "(where differ L) cut L"
   ]
  },
  {
   "cell_type": "code",
   "execution_count": 164,
   "id": "ac23319b-0de4-4636-ab71-52a698ebe510",
   "metadata": {},
   "outputs": [
    {
     "data": {
      "text/plain": [
       "1 1 2\n"
      ]
     },
     "execution_count": 164,
     "metadata": {},
     "output_type": "execute_result"
    },
    {
     "data": {
      "text/plain": [
       "1 1 2 3 5 8 13 21 34 55 89 144\n"
      ]
     },
     "execution_count": 164,
     "metadata": {},
     "output_type": "execute_result"
    },
    {
     "data": {
      "text/plain": [
       "1 1 2 3 5 8 13 21 34 55 89 144\n"
      ]
     },
     "execution_count": 164,
     "metadata": {},
     "output_type": "execute_result"
    },
    {
     "data": {
      "text/plain": [
       "1 1 2 3 5 8 13 21 34 55 89 144\n"
      ]
     },
     "execution_count": 164,
     "metadata": {},
     "output_type": "execute_result"
    }
   ],
   "source": [
    "/Special function: Fibonacci sequence\n",
    "/We use what we learned about functions and the list operators to create a Fibonacci function\n",
    "/We know fibonacci starts with 1 1 with every subsequent element being a sum of the previous 2\n",
    "/Given a Fib sequence we give the next value in the sequence\n",
    "/No input specified so by default first input would be x\n",
    "/We have , because we want to display input aka x followed by next value in fibonacci sequence\n",
    "/ -2# takes last two values of list and sum adds them\n",
    "Fib:{x,sum -2#x}\n",
    "Fib 1 1\n",
    "/The above function is fairly limited since it has to give us the Fibonacci sequence before the desired point to get it\n",
    "/We know that 1 1 is the start, what if we could set this function recursively where the user only had to specify the\n",
    "/number of values he wanted from the Fibonacci sequence \n",
    "/There is an overload of / where we can specify number of time to resurse and the base case\n",
    "10 {x,sum -2#x}/ 1 1 /N {Func}/ [base case]\n",
    "/We can write this as a function which inputs number of recursions. NOte it will leverage nested functions\n",
    "Fib_new:{x {x,sum -2#x}/ 1 1} \n",
    "/Dont get confused by x being used twice for different values. For readability a better way to write it would be:\n",
    "Fib_new2:{[N] N {x,sum -2#x}/ 1 1} \n",
    "Fib_new 10\n",
    "Fib_new2 10"
   ]
  },
  {
   "cell_type": "code",
   "execution_count": 168,
   "id": "95fc9cd3-1312-4cf2-bdfd-7dac4107451c",
   "metadata": {},
   "outputs": [
    {
     "data": {
      "text/plain": [
       "20\n"
      ]
     },
     "execution_count": 168,
     "metadata": {},
     "output_type": "execute_result"
    },
    {
     "data": {
      "text/plain": [
       "4\n"
      ]
     },
     "execution_count": 168,
     "metadata": {},
     "output_type": "execute_result"
    },
    {
     "data": {
      "text/plain": [
       "4\n"
      ]
     },
     "execution_count": 168,
     "metadata": {},
     "output_type": "execute_result"
    },
    {
     "data": {
      "text/plain": [
       "100 400 900 1600\n"
      ]
     },
     "execution_count": 168,
     "metadata": {},
     "output_type": "execute_result"
    }
   ],
   "source": [
    "/Operator @\n",
    "/Basic application comprises retrieving a list item by index, looking up a dictionary \n",
    "    /value by key, or evaluating a unary function. These are all instances of application \n",
    "    /of a univalent mathematical mapping. These are to be distinguished from indexing at depth\n",
    "    /which uses operator apply\n",
    "/The higher-order function @ is the true form of basic application in q. \n",
    "/It applies a unary mapping to an argument.\n",
    "\n",
    "L:10 20 30 40\n",
    "\n",
    "L@1\n",
    "\n",
    "count@L\n",
    "@[count; L]\n",
    "\n",
    "{x*x}@L"
   ]
  },
  {
   "cell_type": "code",
   "execution_count": 180,
   "id": "fc2e9936-4cb9-4774-ac93-b693f4b4dd43",
   "metadata": {},
   "outputs": [
    {
     "data": {
      "text/plain": [
       "40 50\n",
       "10 20 30\n"
      ]
     },
     "execution_count": 180,
     "metadata": {},
     "output_type": "execute_result"
    },
    {
     "data": {
      "text/plain": [
       "40\n"
      ]
     },
     "execution_count": 180,
     "metadata": {},
     "output_type": "execute_result"
    },
    {
     "data": {
      "text/plain": [
       "40\n"
      ]
     },
     "execution_count": 180,
     "metadata": {},
     "output_type": "execute_result"
    },
    {
     "data": {
      "text/plain": [
       "44\n"
      ]
     },
     "execution_count": 180,
     "metadata": {},
     "output_type": "execute_result"
    },
    {
     "data": {
      "text/plain": [
       "3\n"
      ]
     },
     "execution_count": 180,
     "metadata": {},
     "output_type": "execute_result"
    },
    {
     "data": {
      "text/plain": [
       "3\n"
      ]
     },
     "execution_count": 180,
     "metadata": {},
     "output_type": "execute_result"
    },
    {
     "data": {
      "text/plain": [
       "3\n"
      ]
     },
     "execution_count": 180,
     "metadata": {},
     "output_type": "execute_result"
    }
   ],
   "source": [
    "/Operator Apply\n",
    "/Indexing a list at depth, retrieving a nested value from a dictionary and evaluating a function \n",
    "    /with multiple parameters are all instances of applying a multi-variate mapping. \n",
    "/The higher-order function . is the true form of multi-variate application in q. \n",
    "/It applies a multi-variate mapping to multiple arguments and can be written infix or prefix.\n",
    "\n",
    "/The right argument of . must be a list.\n",
    "\n",
    "L:(10 20 30; 40 50)\n",
    "\n",
    "L 1 0\n",
    "\n",
    "L[1; 0]\n",
    "\n",
    "L . 1 0\n",
    "\n",
    "\n",
    "d:`a`b`c!(10 20 30; 44 50; enlist 60)\n",
    "d . (`b; 0)\n",
    "\n",
    "\n",
    "g:{x+y}\n",
    "g[1; 2]\n",
    "g . 1 2\n",
    "\n",
    ".[g; 1 2]\n",
    "\n",
    "/We conclude that . can apply a function of any valence and that @ is actually unnecessary."
   ]
  },
  {
   "cell_type": "code",
   "execution_count": 183,
   "id": "2e05910c-7b22-4055-9237-f751f09e6329",
   "metadata": {},
   "outputs": [
    {
     "data": {
      "text/plain": [
       "a| -10\n",
       "b| 20\n",
       "c| -30\n"
      ]
     },
     "execution_count": 183,
     "metadata": {},
     "output_type": "execute_result"
    },
    {
     "data": {
      "text/plain": [
       "a| 10\n",
       "b| 20\n",
       "c| 30\n"
      ]
     },
     "execution_count": 183,
     "metadata": {},
     "output_type": "execute_result"
    },
    {
     "data": {
      "text/plain": [
       "`d\n"
      ]
     },
     "execution_count": 183,
     "metadata": {},
     "output_type": "execute_result"
    },
    {
     "data": {
      "text/plain": [
       "a| -10\n",
       "b| 20\n",
       "c| -30\n"
      ]
     },
     "execution_count": 183,
     "metadata": {},
     "output_type": "execute_result"
    }
   ],
   "source": [
    "/Applying a unary function at specific positions @ Operator\n",
    "d:`a`b`c!10 20 30\n",
    "ks:`a`c\n",
    "@[d; ks; neg]\n",
    "d\n",
    "\n",
    "/As you can see the original doesnt change since it uses a copy\n",
    "/If we want it to be an inline function, we use the following code\n",
    "@[`d; ks; neg]\n",
    "d"
   ]
  },
  {
   "cell_type": "code",
   "execution_count": 186,
   "id": "9c611036-acea-4d6d-aa48-2746d4b10d8a",
   "metadata": {},
   "outputs": [
    {
     "data": {
      "text/plain": [
       "110 220 30 40\n"
      ]
     },
     "execution_count": 186,
     "metadata": {},
     "output_type": "execute_result"
    }
   ],
   "source": [
    "/Applying a binary function at specific positions @ Operator\n",
    "L:10 20 30 40\n",
    "/Specifiy positions to get left operand and then the right opeand is specified\n",
    "@[L; 0 1; +; 100 200]\n",
    "\n",
    "\n",
    "/The general form of functional @ for a binary atomic function is:\n",
    "/@[L; I; g; v]\n",
    "/The notation is suggestive of lists, but L can be any data structure, viewed as a mapping. \n",
    "/Here I is a top-level sub-domain of L; g is a binary function; and v is an atom or list \n",
    "    /conforming to I."
   ]
  },
  {
   "cell_type": "code",
   "execution_count": 187,
   "id": "4906c5f3-618f-4939-9a79-a12a92fa1781",
   "metadata": {},
   "outputs": [
    {
     "data": {
      "text/plain": [
       "42 20 43 40\n"
      ]
     },
     "execution_count": 187,
     "metadata": {},
     "output_type": "execute_result"
    },
    {
     "data": {
      "text/plain": [
       "10 20 30 40\n"
      ]
     },
     "execution_count": 187,
     "metadata": {},
     "output_type": "execute_result"
    },
    {
     "data": {
      "text/plain": [
       "`L\n"
      ]
     },
     "execution_count": 187,
     "metadata": {},
     "output_type": "execute_result"
    },
    {
     "data": {
      "text/plain": [
       "42 20 43 40\n"
      ]
     },
     "execution_count": 187,
     "metadata": {},
     "output_type": "execute_result"
    }
   ],
   "source": [
    "/A useful case of binary application uses the assignment operator : to modify values along \n",
    "    /the sub-domain\n",
    "L:10 20 30 40\n",
    "@[L; 0 2; :; 42 43]\n",
    "L\n",
    "\n",
    "/As in the unary case, to apply to the original in place, instead of to a copy, use pass-by-name.\n",
    "@[`L; 0 2; :; 42 43]\n",
    "L"
   ]
  },
  {
   "cell_type": "code",
   "execution_count": 193,
   "id": "a1bdbe1b-79f4-49e0-8c04-ce99b8afac80",
   "metadata": {},
   "outputs": [
    {
     "data": {
      "text/plain": [
       "10  -20 30 \n",
       "100 200 300\n"
      ]
     },
     "execution_count": 193,
     "metadata": {},
     "output_type": "execute_result"
    },
    {
     "data": {
      "text/plain": [
       "10  20  30 \n",
       "100 200 300\n"
      ]
     },
     "execution_count": 193,
     "metadata": {},
     "output_type": "execute_result"
    },
    {
     "data": {
      "text/plain": [
       "`m\n"
      ]
     },
     "execution_count": 193,
     "metadata": {},
     "output_type": "execute_result"
    },
    {
     "data": {
      "text/plain": [
       "10  -20 30 \n",
       "100 200 300\n"
      ]
     },
     "execution_count": 193,
     "metadata": {},
     "output_type": "execute_result"
    },
    {
     "data": {
      "text/plain": [
       "-10 -20 -30\n",
       "100 200 300\n"
      ]
     },
     "execution_count": 193,
     "metadata": {},
     "output_type": "execute_result"
    },
    {
     "data": {
      "text/plain": [
       "-10 -20 -30\n",
       "100 200 300\n"
      ]
     },
     "execution_count": 193,
     "metadata": {},
     "output_type": "execute_result"
    }
   ],
   "source": [
    "/Applying a unary function at specific positions Apply Operator\n",
    "m:(10 20 30; 100 200 300)\n",
    "\n",
    ".[m; 0 1; neg]\n",
    "m\n",
    "\n",
    "/if we want it to be inplace\n",
    ".[`m; 0 1; neg]\n",
    "m\n",
    "\n",
    "/Ellided indices instead of enlist or incomplete indices\n",
    "m:(10 20 30; 100 200 300)\n",
    ".[m; enlist (0); neg]\n",
    ".[m; (0; ::); neg]\n",
    "\n",
    "/The general form of . for unary functions is,\n",
    "/.[L; I; f]\n",
    "/Here L is a data structure, I is an in-depth sub-domain of L and f is a unary atomic function."
   ]
  },
  {
   "cell_type": "code",
   "execution_count": 197,
   "id": "8c6f43e2-983b-45e9-ae5c-dc6ba83fe2ae",
   "metadata": {},
   "outputs": [
    {
     "data": {
      "text/plain": [
       "10  21  30 \n",
       "100 200 300\n"
      ]
     },
     "execution_count": 197,
     "metadata": {},
     "output_type": "execute_result"
    },
    {
     "data": {
      "text/plain": [
       "10  21  30 \n",
       "100 202 300\n"
      ]
     },
     "execution_count": 197,
     "metadata": {},
     "output_type": "execute_result"
    },
    {
     "data": {
      "text/plain": [
       "`d\n"
      ]
     },
     "execution_count": 197,
     "metadata": {},
     "output_type": "execute_result"
    },
    {
     "data": {
      "text/plain": [
       "a| 42 200 300\n",
       "b| 42 500\n",
       "c| ,42\n"
      ]
     },
     "execution_count": 197,
     "metadata": {},
     "output_type": "execute_result"
    }
   ],
   "source": [
    "/Applying a binary function at specific positions Apply Operator\n",
    "/The form of functional . for a binary function is:\n",
    "/.[L; I; g; v]\n",
    "/Here L is a data structure, I is an in-depth sub-domain of L, \n",
    "    /g is a binary function and v is an atom (for g atomic) or a \n",
    "    /vector that conforms to I. To apply in place use pass-by-name.\n",
    "\n",
    "m:(10 20 30; 100 200 300)\n",
    "\n",
    ".[m; 0 1; +; 1]\n",
    "\n",
    ".[m; (::; 1); +; 1 2]\n",
    "\n",
    "/Assigning values\n",
    "d:`a`b`c!(100 200 300; 400 500; enlist 600)\n",
    ".[`d; (::; 0); :; 42]\n",
    "d"
   ]
  },
  {
   "cell_type": "code",
   "execution_count": null,
   "id": "67726f5e-d087-4a41-8180-217de7070b8c",
   "metadata": {},
   "outputs": [],
   "source": []
  }
 ],
 "metadata": {
  "kernelspec": {
   "display_name": "Q (kdb+)",
   "language": "q",
   "name": "qpk"
  },
  "language_info": {
   "file_extension": ".q",
   "mimetype": "text/x-q",
   "name": "q",
   "version": "4.0"
  }
 },
 "nbformat": 4,
 "nbformat_minor": 5
}
