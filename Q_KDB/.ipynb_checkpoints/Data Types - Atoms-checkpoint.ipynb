{
 "cells": [
  {
   "cell_type": "markdown",
   "id": "04388d5d-b206-4bb5-9ced-5fb926bf244d",
   "metadata": {},
   "source": [
    "### These notes are from reading Q For Mortals"
   ]
  },
  {
   "cell_type": "code",
   "execution_count": 67,
   "id": "497e6b13-07e5-4ed9-90f8-91eee4faf0bc",
   "metadata": {},
   "outputs": [],
   "source": [
    "/We can comment using a single forward slash\n",
    "/Q is a vectorized language with operations being optimized to handle vector operations\n",
    "/A simple list is just values separated by a space in Q so be careful"
   ]
  },
  {
   "cell_type": "markdown",
   "id": "fa275404-b2ae-4ae0-98ad-9e6367416a61",
   "metadata": {
    "tags": []
   },
   "source": [
    "# Assigment"
   ]
  },
  {
   "cell_type": "code",
   "execution_count": 66,
   "id": "4146b137-de9a-460a-ab04-43bdee26335c",
   "metadata": {},
   "outputs": [
    {
     "data": {
      "text/plain": [
       "2\n"
      ]
     },
     "execution_count": 66,
     "metadata": {},
     "output_type": "execute_result"
    },
    {
     "data": {
      "text/plain": [
       "5\n"
      ]
     },
     "execution_count": 66,
     "metadata": {},
     "output_type": "execute_result"
    },
    {
     "data": {
      "text/plain": [
       "4\n"
      ]
     },
     "execution_count": 66,
     "metadata": {},
     "output_type": "execute_result"
    },
    {
     "data": {
      "text/plain": [
       "110\n"
      ]
     },
     "execution_count": 66,
     "metadata": {},
     "output_type": "execute_result"
    },
    {
     "data": {
      "text/plain": [
       "100\n"
      ]
     },
     "execution_count": 66,
     "metadata": {},
     "output_type": "execute_result"
    }
   ],
   "source": [
    "/We use : for initialization\n",
    "/Spaces before or after colon do not matter\n",
    "\n",
    "/Initializing a value\n",
    "A:2\n",
    "A\n",
    "\n",
    "/Assignment does not have to be a standalone statement with assignment being on the left\n",
    "/We can assign variables in the middle of an expression\n",
    "1 + C:4\n",
    "C\n",
    "\n",
    "/A is assigned to 10 + 100 where b is assigned to a 100\n",
    "/So A is 110 and B is 100\n",
    "a:10 + b:100\n",
    "a\n",
    "b"
   ]
  },
  {
   "cell_type": "markdown",
   "id": "be8ffa56-af7b-43f3-8881-c9d34367c952",
   "metadata": {},
   "source": [
    "# Data Types"
   ]
  },
  {
   "cell_type": "code",
   "execution_count": 1,
   "id": "f4d31540-922d-4e71-a458-25ed25a0fd79",
   "metadata": {},
   "outputs": [
    {
     "data": {
      "text/plain": [
       "\"Int\"\n"
      ]
     },
     "execution_count": 1,
     "metadata": {},
     "output_type": "execute_result"
    },
    {
     "data": {
      "text/plain": [
       "2\n"
      ]
     },
     "execution_count": 1,
     "metadata": {},
     "output_type": "execute_result"
    }
   ],
   "source": [
    "/As seen above we do not need to specify the type when initializing but we still need to know about them\n",
    "\"Int\"\n",
    "A:2 / Int\n",
    "A"
   ]
  },
  {
   "cell_type": "code",
   "execution_count": 3,
   "id": "e0d0bae4-2d05-49d1-bc99-f5378a6cc1c3",
   "metadata": {},
   "outputs": [
    {
     "data": {
      "text/plain": [
       "\"Float\"\n"
      ]
     },
     "execution_count": 3,
     "metadata": {},
     "output_type": "execute_result"
    },
    {
     "data": {
      "text/plain": [
       "2.5\n"
      ]
     },
     "execution_count": 3,
     "metadata": {},
     "output_type": "execute_result"
    },
    {
     "data": {
      "text/plain": [
       "1.235e+07\n"
      ]
     },
     "execution_count": 3,
     "metadata": {},
     "output_type": "execute_result"
    },
    {
     "data": {
      "text/plain": [
       "1.235e+07\n"
      ]
     },
     "execution_count": 3,
     "metadata": {},
     "output_type": "execute_result"
    },
    {
     "data": {
      "text/plain": [
       "1.235e-07\n"
      ]
     },
     "execution_count": 3,
     "metadata": {},
     "output_type": "execute_result"
    }
   ],
   "source": [
    "\"Float\"\n",
    "B:2.5 / Float or double\n",
    "B\n",
    "\n",
    "/Scientific notation of float\n",
    "1.235e07\n",
    "1.235e7\n",
    "1.235e-07"
   ]
  },
  {
   "cell_type": "code",
   "execution_count": 4,
   "id": "f797dcac-bc02-44e0-b182-a547135ce13a",
   "metadata": {},
   "outputs": [
    {
     "data": {
      "text/plain": [
       "\"Boolean\"\n"
      ]
     },
     "execution_count": 4,
     "metadata": {},
     "output_type": "execute_result"
    },
    {
     "data": {
      "text/plain": [
       "0b\n"
      ]
     },
     "execution_count": 4,
     "metadata": {},
     "output_type": "execute_result"
    },
    {
     "data": {
      "text/plain": [
       "1b\n"
      ]
     },
     "execution_count": 4,
     "metadata": {},
     "output_type": "execute_result"
    }
   ],
   "source": [
    "\"Boolean\"\n",
    "/Getting ahead of ourseleves but = is equality comparison operator and we use it get bool\n",
    "C:2=3 / Boolean\n",
    "C\n",
    "/We can also get bool by trailing b after 0 or 1\n",
    "CC:1b\n",
    "CC"
   ]
  },
  {
   "cell_type": "code",
   "execution_count": 5,
   "id": "a9206c8d-26a9-4687-94c1-874e089f6848",
   "metadata": {},
   "outputs": [
    {
     "data": {
      "text/plain": [
       "\"Char\"\n"
      ]
     },
     "execution_count": 5,
     "metadata": {},
     "output_type": "execute_result"
    },
    {
     "data": {
      "text/plain": [
       "\"A\"\n"
      ]
     },
     "execution_count": 5,
     "metadata": {},
     "output_type": "execute_result"
    },
    {
     "data": {
      "text/plain": [
       "\"b\"\n"
      ]
     },
     "execution_count": 5,
     "metadata": {},
     "output_type": "execute_result"
    }
   ],
   "source": [
    "\"Char\"\n",
    "/Char holds an individual ASCII character. Use double quotations.\n",
    "Ch:\"A\"\n",
    "Ch\n",
    "/Very similar to python and other languages that use ASCII, we denote special characters such as newline and tab by using \\n and \\t\n",
    "/You can also get an ASCII char by using \\ followed by its ASCII code\n",
    "/Eg b has code 142\n",
    "\"\\142\""
   ]
  },
  {
   "cell_type": "code",
   "execution_count": 6,
   "id": "5a8b6a89-34f8-46b0-9d48-27df94d257c9",
   "metadata": {},
   "outputs": [
    {
     "data": {
      "text/plain": [
       "\"Date\"\n"
      ]
     },
     "execution_count": 6,
     "metadata": {},
     "output_type": "execute_result"
    },
    {
     "data": {
      "text/plain": [
       "2010.01.01\n"
      ]
     },
     "execution_count": 6,
     "metadata": {},
     "output_type": "execute_result"
    },
    {
     "data": {
      "text/plain": [
       "1b\n"
      ]
     },
     "execution_count": 6,
     "metadata": {},
     "output_type": "execute_result"
    },
    {
     "data": {
      "text/plain": [
       "3653i\n"
      ]
     },
     "execution_count": 6,
     "metadata": {},
     "output_type": "execute_result"
    }
   ],
   "source": [
    "\"Date\"\n",
    "D:2010.01.01 /This is date ype. Form YYYY.MM.DD\n",
    "/Date under the covers is days since millenium so 2000.01.01 under the covers is 0\n",
    "/A date before the start of millenium is displayed as a negative number\n",
    "D\n",
    "1999.12.31=-1 /Shows true\n",
    "/To get the under the cover value that is the days since millenium you can cast it to an int\n",
    "`int$D"
   ]
  },
  {
   "cell_type": "code",
   "execution_count": 7,
   "id": "c1e200e9-32e3-4e3e-924c-1ea21de2f61d",
   "metadata": {},
   "outputs": [
    {
     "data": {
      "text/plain": [
       "\"Timespan\"\n"
      ]
     },
     "execution_count": 7,
     "metadata": {},
     "output_type": "execute_result"
    },
    {
     "data": {
      "text/plain": [
       "0D12:00:00.000000000\n"
      ]
     },
     "execution_count": 7,
     "metadata": {},
     "output_type": "execute_result"
    },
    {
     "data": {
      "text/plain": [
       "43200000i\n"
      ]
     },
     "execution_count": 7,
     "metadata": {},
     "output_type": "execute_result"
    },
    {
     "data": {
      "text/plain": [
       "43200000110000\n"
      ]
     },
     "execution_count": 7,
     "metadata": {},
     "output_type": "execute_result"
    }
   ],
   "source": [
    "\"Timespan\"\n",
    "EE:12:00:00.0000 /This is time. Form HH:MM:SS.MMMM where M is anywhere from 1 to 4 digits\n",
    "E:12:00:00.000000000 /This is timespan. Form HH:MM:SS.NNNNN where N is anywhere from 5 to 9 digits\n",
    "/1-4 digits is of type time and 5-9 is timespan \n",
    "/Under the cover timespan is integer count of the number of nanoseconds since midnight.\n",
    "/Note that HH is in 24 hour clock format\n",
    "E\n",
    "/To get the milliseconds if you have 1-4 digits or to get nanosceond if you have 5+ digits, just cast to int for milliseconds and long for nanoseconds\n",
    "`int$12:00:00.000\n",
    "`long$12:00:00.00011"
   ]
  },
  {
   "cell_type": "code",
   "execution_count": 8,
   "id": "4d67c711-f211-48e1-b4ee-e8e8a558a2e4",
   "metadata": {},
   "outputs": [
    {
     "data": {
      "text/plain": [
       "\"Timestamp\"\n"
      ]
     },
     "execution_count": 8,
     "metadata": {},
     "output_type": "execute_result"
    },
    {
     "data": {
      "text/plain": [
       "2010.01.01D12:00:00.000000000\n"
      ]
     },
     "execution_count": 8,
     "metadata": {},
     "output_type": "execute_result"
    },
    {
     "data": {
      "text/plain": [
       "2010.01.01D12:00:00.000000000\n"
      ]
     },
     "execution_count": 8,
     "metadata": {},
     "output_type": "execute_result"
    },
    {
     "data": {
      "text/plain": [
       "0Wi\n"
      ]
     },
     "execution_count": 8,
     "metadata": {},
     "output_type": "execute_result"
    },
    {
     "data": {
      "text/plain": [
       "0Wi\n"
      ]
     },
     "execution_count": 8,
     "metadata": {},
     "output_type": "execute_result"
    },
    {
     "data": {
      "text/plain": [
       "315662400000000000\n"
      ]
     },
     "execution_count": 8,
     "metadata": {},
     "output_type": "execute_result"
    },
    {
     "data": {
      "text/plain": [
       "315662400000000000\n"
      ]
     },
     "execution_count": 8,
     "metadata": {},
     "output_type": "execute_result"
    }
   ],
   "source": [
    "\"Timestamp\"\n",
    "/Timestamp is the lexical combination of a date and timespan sepaarted by D. Under the cover it is nanoseconds since millenium\n",
    "/Timestamp only has nanosecond version not millisecond version regardless of decimal places you have in seconds\n",
    "DD: 2010.01.01D12:00:00.00\n",
    "DD\n",
    "DDD: 2010.01.01D12:00:00.00000\n",
    "DD\n",
    "/Cast as int to get nanoseconds since millenium.\n",
    "`int$DD\n",
    "`int$DDD\n",
    "/Since it only works for nanoseconds we need to use long\n",
    "`long$DD\n",
    "`long$DDD"
   ]
  },
  {
   "cell_type": "code",
   "execution_count": 9,
   "id": "2b89d81d-d42d-4527-bd24-19abb488a646",
   "metadata": {},
   "outputs": [
    {
     "data": {
      "text/plain": [
       "\"Month\"\n"
      ]
     },
     "execution_count": 9,
     "metadata": {},
     "output_type": "execute_result"
    },
    {
     "data": {
      "text/plain": [
       "2015.11m\n"
      ]
     },
     "execution_count": 9,
     "metadata": {},
     "output_type": "execute_result"
    },
    {
     "data": {
      "text/plain": [
       "190i\n"
      ]
     },
     "execution_count": 9,
     "metadata": {},
     "output_type": "execute_result"
    }
   ],
   "source": [
    "\"Month\"\n",
    "/Month type. Denoted by YYYY.MM with trailing indicator m. It is the count of months since the beginning of the millenium 2000.01.01\n",
    "/If you dont have trailing m then its just a numeric float value\n",
    "M:2015.11m\n",
    "M\n",
    "/Cast to int to get number of months since millenium\n",
    "`int$M"
   ]
  },
  {
   "cell_type": "code",
   "execution_count": 10,
   "id": "6e614e47-9bfc-4430-8a67-263a3d74fee7",
   "metadata": {},
   "outputs": [
    {
     "data": {
      "text/plain": [
       "\"Minute\"\n"
      ]
     },
     "execution_count": 10,
     "metadata": {},
     "output_type": "execute_result"
    },
    {
     "data": {
      "text/plain": [
       "12:30\n"
      ]
     },
     "execution_count": 10,
     "metadata": {},
     "output_type": "execute_result"
    },
    {
     "data": {
      "text/plain": [
       "750i\n"
      ]
     },
     "execution_count": 10,
     "metadata": {},
     "output_type": "execute_result"
    },
    {
     "data": {
      "text/plain": [
       "1410i\n"
      ]
     },
     "execution_count": 10,
     "metadata": {},
     "output_type": "execute_result"
    },
    {
     "data": {
      "text/plain": [
       "1b\n"
      ]
     },
     "execution_count": 10,
     "metadata": {},
     "output_type": "execute_result"
    },
    {
     "data": {
      "text/plain": [
       "1b\n"
      ]
     },
     "execution_count": 10,
     "metadata": {},
     "output_type": "execute_result"
    },
    {
     "data": {
      "text/plain": [
       "0b\n"
      ]
     },
     "execution_count": 10,
     "metadata": {},
     "output_type": "execute_result"
    }
   ],
   "source": [
    "\"Minute\"\n",
    "/Minute type. Denoted by HH:MM. It counts the number of minutes from midnight. It is in 24 hour clock format\n",
    "Mi: 12:30\n",
    "Mii: 23:30\n",
    "Mi\n",
    "/Cast to int to get minutes\n",
    "`int$Mi\n",
    "`int$Mii\n",
    "/It is equivalent to its time and timespan counterparts\n",
    "12:00:00.0000=12:00 /Gives true\n",
    "12:00:00.0000000=12:00 /Gives true\n",
    "12:00:00.0000001=12:00 /Gives false"
   ]
  },
  {
   "cell_type": "code",
   "execution_count": 11,
   "id": "29833f67-3e26-4f6f-aba7-a7a0e8b07bcd",
   "metadata": {},
   "outputs": [
    {
     "data": {
      "text/plain": [
       "\"Second\"\n"
      ]
     },
     "execution_count": 11,
     "metadata": {},
     "output_type": "execute_result"
    },
    {
     "data": {
      "text/plain": [
       "45012i\n"
      ]
     },
     "execution_count": 11,
     "metadata": {},
     "output_type": "execute_result"
    }
   ],
   "source": [
    "\"Second\"\n",
    "/Second type. Denoted by HH:MM:SS. It counts the number of seconds from midnight. It is in 24 hour clock format\n",
    "S: 12:30:12\n",
    "/Cast to int to get seconds\n",
    "`int$S\n",
    "/Just like minutes it is equivalent to time and timespan counterparts"
   ]
  },
  {
   "cell_type": "code",
   "execution_count": 12,
   "id": "1e4c926f-7c63-4453-8b41-61b5b9b3dc0a",
   "metadata": {},
   "outputs": [
    {
     "data": {
      "text/plain": [
       "\"Extraction from Time Variables\"\n"
      ]
     },
     "execution_count": 12,
     "metadata": {},
     "output_type": "execute_result"
    },
    {
     "data": {
      "text/plain": [
       "2010i\n"
      ]
     },
     "execution_count": 12,
     "metadata": {},
     "output_type": "execute_result"
    },
    {
     "data": {
      "text/plain": [
       "1i\n"
      ]
     },
     "execution_count": 12,
     "metadata": {},
     "output_type": "execute_result"
    },
    {
     "data": {
      "text/plain": [
       "1i\n"
      ]
     },
     "execution_count": 12,
     "metadata": {},
     "output_type": "execute_result"
    },
    {
     "data": {
      "text/plain": [
       "12i\n"
      ]
     },
     "execution_count": 12,
     "metadata": {},
     "output_type": "execute_result"
    },
    {
     "data": {
      "text/plain": [
       "0i\n"
      ]
     },
     "execution_count": 12,
     "metadata": {},
     "output_type": "execute_result"
    },
    {
     "data": {
      "text/plain": [
       "12i\n"
      ]
     },
     "execution_count": 12,
     "metadata": {},
     "output_type": "execute_result"
    },
    {
     "data": {
      "text/plain": [
       "2010i\n"
      ]
     },
     "execution_count": 12,
     "metadata": {},
     "output_type": "execute_result"
    },
    {
     "data": {
      "text/plain": [
       "2010.01m\n"
      ]
     },
     "execution_count": 12,
     "metadata": {},
     "output_type": "execute_result"
    },
    {
     "data": {
      "text/plain": [
       "1i\n"
      ]
     },
     "execution_count": 12,
     "metadata": {},
     "output_type": "execute_result"
    },
    {
     "data": {
      "text/plain": [
       "1i\n"
      ]
     },
     "execution_count": 12,
     "metadata": {},
     "output_type": "execute_result"
    },
    {
     "data": {
      "text/plain": [
       "12i\n"
      ]
     },
     "execution_count": 12,
     "metadata": {},
     "output_type": "execute_result"
    },
    {
     "data": {
      "text/plain": [
       "0i\n"
      ]
     },
     "execution_count": 12,
     "metadata": {},
     "output_type": "execute_result"
    },
    {
     "data": {
      "text/plain": [
       "12i\n"
      ]
     },
     "execution_count": 12,
     "metadata": {},
     "output_type": "execute_result"
    }
   ],
   "source": [
    "\"Extraction from Time Variables\"\n",
    "\n",
    "/We can extract the constituents for the various date and time types above by using dot\n",
    "D.year /Get year\n",
    "D.mm /Get month\n",
    "D.dd /Get day\n",
    "Mi.hh /Get hour\n",
    "E.mm /Get minutes. Same as month but depends on the type of variable we are running the code on.\n",
    "S.ss /Get seconds\n",
    "/The unfortuante news is that this dot notation doesnt work inside functions.\n",
    "/Good news is that we can work around that by simply casting these variables\n",
    "`year$D /Extracts year\n",
    "`month$D /Extract Month variable aka YYYY.MM\n",
    "`mm$D /Extracts the month\n",
    "`dd$D /Extracts the day\n",
    "`hh$Mi /Get hour\n",
    "`mm$E /Get minutes. \n",
    "`ss$S /Get seconds"
   ]
  },
  {
   "cell_type": "code",
   "execution_count": 13,
   "id": "c719c1df-dada-4114-b1b2-6c7712be7abb",
   "metadata": {},
   "outputs": [
    {
     "data": {
      "text/plain": [
       "\"Symbols\"\n"
      ]
     },
     "execution_count": 13,
     "metadata": {},
     "output_type": "execute_result"
    },
    {
     "data": {
      "text/plain": [
       "`HelloWorld\n"
      ]
     },
     "execution_count": 13,
     "metadata": {},
     "output_type": "execute_result"
    }
   ],
   "source": [
    "\"Symbols\"\n",
    "/Symbols in q are similar to varchar in SQL\n",
    "/q does have strings but they are something different so dont confuse them\n",
    "/Declare them by starting with `\n",
    "F:`HelloWorld\n",
    "F"
   ]
  },
  {
   "cell_type": "code",
   "execution_count": 14,
   "id": "7cb8ac4a-c61f-4b1e-a8f1-ae075aa8e00a",
   "metadata": {},
   "outputs": [
    {
     "data": {
      "text/plain": [
       "\"Arithmeic infinities and nulls\"\n"
      ]
     },
     "execution_count": 14,
     "metadata": {},
     "output_type": "execute_result"
    },
    {
     "data": {
      "text/plain": [
       "0W\n"
      ]
     },
     "execution_count": 14,
     "metadata": {},
     "output_type": "execute_result"
    },
    {
     "data": {
      "text/plain": [
       "1b\n"
      ]
     },
     "execution_count": 14,
     "metadata": {},
     "output_type": "execute_result"
    },
    {
     "data": {
      "text/plain": [
       "1b\n"
      ]
     },
     "execution_count": 14,
     "metadata": {},
     "output_type": "execute_result"
    },
    {
     "data": {
      "text/plain": [
       "`boolean$()\n"
      ]
     },
     "execution_count": 14,
     "metadata": {},
     "output_type": "execute_result"
    }
   ],
   "source": [
    "\"Arithmeic infinities and nulls\"\n",
    "/0w is positive float infinity. Positive number divided by 0\n",
    "/20/0\n",
    "/-0w is negative float infinity. Negative number divided by 0\n",
    "/-20/0\n",
    "/0n is Null float; NaN; Not a number. One way to get this is 0 divided by 0.\n",
    "/0/0\n",
    "/0W is positive long infinity\n",
    "9223372036854775806+1\n",
    "/-0W is negative long infinity\n",
    "/0N is null long\n",
    "/Order is 0N < -0W < normal integer < 0W\n",
    "/We have unqiue null values for each type:\n",
    "    /0N for int\n",
    "    /0Nj for long\n",
    "    /0n for float\n",
    "    /\"\" for char\n",
    "    /0Np for timestamp\n",
    "    /0Nm for month\n",
    "    /0Nd for date\n",
    "    /0Nz for datetime\n",
    "    /0Nn for timespan\n",
    "    /0Nu for minute\n",
    "    /0Nv for second\n",
    "    /0Nt for time\n",
    "    /` for symbol\n",
    "/Thus to check null values for a type we need to check against the correct one\n",
    "/Since it is hard to keep traack of each null type of each type, we can simply use null to check if its null since it checks it against the appropriate value\n",
    "null 0N /Check value using null\n",
    "0N = 0N /Check value using correct type\n",
    "0Nd = \"\" /Check value using wrong type"
   ]
  }
 ],
 "metadata": {
  "kernelspec": {
   "display_name": "Q (kdb+)",
   "language": "q",
   "name": "qpk"
  },
  "language_info": {
   "file_extension": ".q",
   "mimetype": "text/x-q",
   "name": "q",
   "version": "4.0"
  }
 },
 "nbformat": 4,
 "nbformat_minor": 5
}
