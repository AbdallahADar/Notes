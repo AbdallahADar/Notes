{
 "cells": [
  {
   "cell_type": "markdown",
   "id": "e0935d51-bdaf-4565-93ba-81199e83e668",
   "metadata": {},
   "source": [
    "# Basic Operators"
   ]
  },
  {
   "cell_type": "code",
   "execution_count": 1,
   "id": "da34f8d4-4ed1-4fae-83b8-609a891b0f37",
   "metadata": {
    "tags": []
   },
   "outputs": [
    {
     "data": {
      "text/plain": [
       "\"Addition\"\n"
      ]
     },
     "execution_count": 1,
     "metadata": {},
     "output_type": "execute_result"
    },
    {
     "data": {
      "text/plain": [
       "5\n"
      ]
     },
     "execution_count": 1,
     "metadata": {},
     "output_type": "execute_result"
    },
    {
     "data": {
      "text/plain": [
       "5\n"
      ]
     },
     "execution_count": 1,
     "metadata": {},
     "output_type": "execute_result"
    },
    {
     "data": {
      "text/plain": [
       "15\n"
      ]
     },
     "execution_count": 1,
     "metadata": {},
     "output_type": "execute_result"
    },
    {
     "data": {
      "text/plain": [
       "68\n"
      ]
     },
     "execution_count": 1,
     "metadata": {},
     "output_type": "execute_result"
    },
    {
     "data": {
      "text/plain": [
       "3 4 5 6\n"
      ]
     },
     "execution_count": 1,
     "metadata": {},
     "output_type": "execute_result"
    },
    {
     "data": {
      "text/plain": [
       "5 5 5 5\n"
      ]
     },
     "execution_count": 1,
     "metadata": {},
     "output_type": "execute_result"
    },
    {
     "data": {
      "text/plain": [
       "101 102 103\n",
       "104 105 106\n"
      ]
     },
     "execution_count": 1,
     "metadata": {},
     "output_type": "execute_result"
    },
    {
     "data": {
      "text/plain": [
       "2010.01.11\n"
      ]
     },
     "execution_count": 1,
     "metadata": {},
     "output_type": "execute_result"
    },
    {
     "data": {
      "text/plain": [
       "0D12:00:00.000000001\n"
      ]
     },
     "execution_count": 1,
     "metadata": {},
     "output_type": "execute_result"
    },
    {
     "data": {
      "text/plain": [
       "0D12:00:00.000000001\n"
      ]
     },
     "execution_count": 1,
     "metadata": {},
     "output_type": "execute_result"
    },
    {
     "data": {
      "text/plain": [
       "12:00:00.001\n"
      ]
     },
     "execution_count": 1,
     "metadata": {},
     "output_type": "execute_result"
    }
   ],
   "source": [
    "A:2\n",
    "B: 1 2 3 4\n",
    "C:3\n",
    "D: 4 3 2 1\n",
    "NL: ((1;2;3);(4,5,6))\n",
    "E: 2010.01.01\n",
    "F1:12:00:00.000000000\n",
    "F2:12:00:00.00000\n",
    "F3:12:00:00.0000\n",
    "\n",
    "\"Addition\"\n",
    "/Simple Addition b/w two numbers\n",
    "A+C\n",
    "\n",
    "/We are getting ahead of ourselves but just know that all operators in essence are functions\n",
    "/Thus they also follow the generic function syntax.\n",
    "/Function f with inputs a and b can be called with the syntax f[a;b]\n",
    "/Thus + can also be called using the following syntax\n",
    "+[A;C]\n",
    "/+[A;C;10] This wont work because the + function is built to take in two arguments\n",
    "/It can be written as:\n",
    "+[A;+[C;10]]\n",
    "\n",
    "/An even more comlicated way of doing this is using the functional notation along with the\n",
    "    /infix notation. A+B is the infix notation.\n",
    "(2+)[66]\n",
    "\n",
    "/Atomic functions aka +, - etc extend their actions to a list automatically\n",
    "/That is they extend to element wise operations\n",
    "\n",
    "/Addition b/w number and vector is just an element wise operation\n",
    "A+B\n",
    "\n",
    "/Addition b/w two vectors is element wise\n",
    "B+D\n",
    "\n",
    "/The element wise operations also works on nested lists\n",
    "100+NL\n",
    "\n",
    "/Adding days to a date by simply adding an integer to it because undercover date is days since millenium\n",
    "E+10\n",
    "\n",
    "/Adding seconds to a timespan is as simple as adding an integer but this is tricky\n",
    "/This where the different datatypes within timespan play a role\n",
    "/If the nanosecond digits are anywhere from 5-9 then adding 1 is adding a nanosecond aka 1 to 9th decimal place\n",
    "/If the nanosecond digits are anywhere from 1-4 then adding 1 is adding a millisecond aka 1 to 3rd decimal place\n",
    "F1+1\n",
    "F2+1\n",
    "F3+1"
   ]
  },
  {
   "cell_type": "code",
   "execution_count": 2,
   "id": "52550d88-9ca9-4416-bc8f-d5e2bc1da1f3",
   "metadata": {
    "tags": []
   },
   "outputs": [
    {
     "data": {
      "text/plain": [
       "\"Subtraction\"\n"
      ]
     },
     "execution_count": 2,
     "metadata": {},
     "output_type": "execute_result"
    },
    {
     "data": {
      "text/plain": [
       "-1\n"
      ]
     },
     "execution_count": 2,
     "metadata": {},
     "output_type": "execute_result"
    },
    {
     "data": {
      "text/plain": [
       "1 0 -1 -2\n"
      ]
     },
     "execution_count": 2,
     "metadata": {},
     "output_type": "execute_result"
    },
    {
     "data": {
      "text/plain": [
       "-3 -1 1 3\n"
      ]
     },
     "execution_count": 2,
     "metadata": {},
     "output_type": "execute_result"
    },
    {
     "data": {
      "text/plain": [
       "\"------------------\"\n"
      ]
     },
     "execution_count": 2,
     "metadata": {},
     "output_type": "execute_result"
    },
    {
     "data": {
      "text/plain": [
       "\"Multiplication\"\n"
      ]
     },
     "execution_count": 2,
     "metadata": {},
     "output_type": "execute_result"
    },
    {
     "data": {
      "text/plain": [
       "6\n"
      ]
     },
     "execution_count": 2,
     "metadata": {},
     "output_type": "execute_result"
    },
    {
     "data": {
      "text/plain": [
       "2 4 6 8\n"
      ]
     },
     "execution_count": 2,
     "metadata": {},
     "output_type": "execute_result"
    },
    {
     "data": {
      "text/plain": [
       "4 6 6 4\n"
      ]
     },
     "execution_count": 2,
     "metadata": {},
     "output_type": "execute_result"
    },
    {
     "data": {
      "text/plain": [
       "\"------------------\"\n"
      ]
     },
     "execution_count": 2,
     "metadata": {},
     "output_type": "execute_result"
    },
    {
     "data": {
      "text/plain": [
       "\"Division\"\n"
      ]
     },
     "execution_count": 2,
     "metadata": {},
     "output_type": "execute_result"
    },
    {
     "data": {
      "text/plain": [
       "0.6666667\n"
      ]
     },
     "execution_count": 2,
     "metadata": {},
     "output_type": "execute_result"
    },
    {
     "data": {
      "text/plain": [
       "2 1 0.6666667 0.5\n"
      ]
     },
     "execution_count": 2,
     "metadata": {},
     "output_type": "execute_result"
    },
    {
     "data": {
      "text/plain": [
       "0.5 1 1.5 2\n"
      ]
     },
     "execution_count": 2,
     "metadata": {},
     "output_type": "execute_result"
    },
    {
     "data": {
      "text/plain": [
       "0.25 0.6666667 1.5 4\n"
      ]
     },
     "execution_count": 2,
     "metadata": {},
     "output_type": "execute_result"
    },
    {
     "data": {
      "text/plain": [
       "\"------------------\"\n"
      ]
     },
     "execution_count": 2,
     "metadata": {},
     "output_type": "execute_result"
    },
    {
     "data": {
      "text/plain": [
       "\"Negation\"\n"
      ]
     },
     "execution_count": 2,
     "metadata": {},
     "output_type": "execute_result"
    },
    {
     "data": {
      "text/plain": [
       "-2\n"
      ]
     },
     "execution_count": 2,
     "metadata": {},
     "output_type": "execute_result"
    },
    {
     "data": {
      "text/plain": [
       "-1 -2 -3 -4\n"
      ]
     },
     "execution_count": 2,
     "metadata": {},
     "output_type": "execute_result"
    }
   ],
   "source": [
    "/The above rules hold for subtraction, multiplication and division as well\n",
    "\"Subtraction\"\n",
    "A-C\n",
    "A-B\n",
    "B-D\n",
    "\"------------------\"\n",
    "\"Multiplication\"\n",
    "A*C\n",
    "A*B\n",
    "B*D\n",
    "\"------------------\"\n",
    "\"Division\"\n",
    "/% is for division. This is confusing because other languages use it for modulo\n",
    "/Division always results in a float\n",
    "A%C\n",
    "A%B / A/B_i (A divided by each element)\n",
    "B%A / B_i/A (Each element divided by A)\n",
    "B%D\n",
    "\"------------------\"\n",
    "\"Negation\"\n",
    "neg A\n",
    "/Element wise operation\n",
    "neg B"
   ]
  },
  {
   "cell_type": "code",
   "execution_count": 3,
   "id": "fe314963-7266-4f09-94cc-e6123325bd10",
   "metadata": {
    "tags": []
   },
   "outputs": [
    {
     "data": {
      "text/plain": [
       "\"Match\"\n"
      ]
     },
     "execution_count": 3,
     "metadata": {},
     "output_type": "execute_result"
    },
    {
     "data": {
      "text/plain": [
       "1b\n"
      ]
     },
     "execution_count": 3,
     "metadata": {},
     "output_type": "execute_result"
    },
    {
     "data": {
      "text/plain": [
       "0b\n"
      ]
     },
     "execution_count": 3,
     "metadata": {},
     "output_type": "execute_result"
    },
    {
     "data": {
      "text/plain": [
       "1b\n"
      ]
     },
     "execution_count": 3,
     "metadata": {},
     "output_type": "execute_result"
    },
    {
     "data": {
      "text/plain": [
       "0b\n"
      ]
     },
     "execution_count": 3,
     "metadata": {},
     "output_type": "execute_result"
    },
    {
     "data": {
      "text/plain": [
       "0b\n"
      ]
     },
     "execution_count": 3,
     "metadata": {},
     "output_type": "execute_result"
    }
   ],
   "source": [
    "\"Match\"\n",
    "\n",
    "/Non atomic nimary match operator returns true if the two are identical\n",
    "/For two to be identical, they must have the same shape, same type and same values but they\n",
    "    /can occupy separate storage locations\n",
    "\n",
    "5 ~ 5 /Match\n",
    "\n",
    "5 ~ 5.0 /Don't match\n",
    "\n",
    "(1;2;3)~1 2 3 /Match\n",
    "\n",
    "(1;2;3) ~ (3,2,1) /Dont match\n",
    "\n",
    "(1;2;3;4;5) ~((1;2;3);(4;5)) /Dont match"
   ]
  },
  {
   "cell_type": "code",
   "execution_count": 4,
   "id": "ee1dc5cf-e6dd-4db9-bca4-1e7b26f24b4f",
   "metadata": {
    "tags": []
   },
   "outputs": [
    {
     "data": {
      "text/plain": [
       "\"Equality\"\n"
      ]
     },
     "execution_count": 4,
     "metadata": {},
     "output_type": "execute_result"
    },
    {
     "data": {
      "text/plain": [
       "1b\n"
      ]
     },
     "execution_count": 4,
     "metadata": {},
     "output_type": "execute_result"
    },
    {
     "data": {
      "text/plain": [
       "0b\n"
      ]
     },
     "execution_count": 4,
     "metadata": {},
     "output_type": "execute_result"
    },
    {
     "data": {
      "text/plain": [
       "1b\n"
      ]
     },
     "execution_count": 4,
     "metadata": {},
     "output_type": "execute_result"
    }
   ],
   "source": [
    "\"Equality\"\n",
    "\n",
    "/= is different from ~ because it is atomic and it checks for each element\n",
    "/In equality all atoms of numeric, temporal and char type are mutually compatible for equality\n",
    "/Symbols are only compatible with symbols\n",
    "/So this means that equality checks if the two atoms have the same value regardless of type\n",
    "5=5.0\n",
    "/5=`5 /But the symbol would return error\n",
    "5=\"5\" /False because char is converted to int to compare and the ASCII value is not 5\n",
    "42=\"*\" /True because ASCII value of char matches int"
   ]
  },
  {
   "cell_type": "code",
   "execution_count": 5,
   "id": "9d7d31e1-09df-423d-8fc6-c13a9c85bbc5",
   "metadata": {
    "tags": []
   },
   "outputs": [
    {
     "data": {
      "text/plain": [
       "\"Disequality\"\n"
      ]
     },
     "execution_count": 5,
     "metadata": {},
     "output_type": "execute_result"
    },
    {
     "data": {
      "text/plain": [
       "0b\n"
      ]
     },
     "execution_count": 5,
     "metadata": {},
     "output_type": "execute_result"
    },
    {
     "data": {
      "text/plain": [
       "1b\n"
      ]
     },
     "execution_count": 5,
     "metadata": {},
     "output_type": "execute_result"
    },
    {
     "data": {
      "text/plain": [
       "0b\n"
      ]
     },
     "execution_count": 5,
     "metadata": {},
     "output_type": "execute_result"
    },
    {
     "data": {
      "text/plain": [
       "1b\n"
      ]
     },
     "execution_count": 5,
     "metadata": {},
     "output_type": "execute_result"
    },
    {
     "data": {
      "text/plain": [
       "\"------------------\"\n"
      ]
     },
     "execution_count": 5,
     "metadata": {},
     "output_type": "execute_result"
    },
    {
     "data": {
      "text/plain": [
       "\"Not\"\n"
      ]
     },
     "execution_count": 5,
     "metadata": {},
     "output_type": "execute_result"
    },
    {
     "data": {
      "text/plain": [
       "0b\n"
      ]
     },
     "execution_count": 5,
     "metadata": {},
     "output_type": "execute_result"
    },
    {
     "data": {
      "text/plain": [
       "1b\n"
      ]
     },
     "execution_count": 5,
     "metadata": {},
     "output_type": "execute_result"
    },
    {
     "data": {
      "text/plain": [
       "0b\n"
      ]
     },
     "execution_count": 5,
     "metadata": {},
     "output_type": "execute_result"
    },
    {
     "data": {
      "text/plain": [
       "1b\n"
      ]
     },
     "execution_count": 5,
     "metadata": {},
     "output_type": "execute_result"
    },
    {
     "data": {
      "text/plain": [
       "0b\n"
      ]
     },
     "execution_count": 5,
     "metadata": {},
     "output_type": "execute_result"
    },
    {
     "data": {
      "text/plain": [
       "1b\n"
      ]
     },
     "execution_count": 5,
     "metadata": {},
     "output_type": "execute_result"
    },
    {
     "data": {
      "text/plain": [
       "1b\n"
      ]
     },
     "execution_count": 5,
     "metadata": {},
     "output_type": "execute_result"
    },
    {
     "data": {
      "text/plain": [
       "0b\n"
      ]
     },
     "execution_count": 5,
     "metadata": {},
     "output_type": "execute_result"
    }
   ],
   "source": [
    "\"Disequality\"\n",
    "\n",
    "/We use the <> to check for disequality. It follows the same rules as equality\n",
    "\n",
    "5<>5.0 /False\n",
    "5<>\"5\" /True\n",
    "42<>\"*\" /False\n",
    "\n",
    "/Note that <> operator actually just does not A=B for A<>B\n",
    "/So we can do that directly as well\n",
    "not 5=\"5\" /Gives true\n",
    "\n",
    "\"------------------\"\n",
    "\"Not\"\n",
    "\n",
    "/Not is a unary atomic word that results on boolean and works on numeric, temporal and char types\n",
    "/Is not defined for symbol\n",
    "\n",
    "not 1b /Will give false\n",
    "\n",
    "not 0b /Will give true\n",
    "\n",
    "not 98.6 /Will give false beacuse any non zero numeric is true\n",
    "\n",
    "not 0 /Will give true\n",
    "\n",
    "not \"5\" /Will give false b/c ASCII value is non zero\n",
    "\n",
    "/Stroke of midnight is 0 for time vars and stroke of midnight at start of the millenium is 0 for dates\n",
    "\n",
    "not 2000.01.01 /This gives true because this is at midnight at start of millenium\n",
    "\n",
    "not 00:00:00 /This gives true b/c stroke of midnight is 0\n",
    "not 12:00:00 /This gives false b/c 12pm is not midnight so not 0"
   ]
  },
  {
   "cell_type": "code",
   "execution_count": 6,
   "id": "3eaf79d6-68ab-4c45-9d3e-c9616daee0b4",
   "metadata": {
    "tags": []
   },
   "outputs": [
    {
     "data": {
      "text/plain": [
       "\"Less than, Greater than\"\n"
      ]
     },
     "execution_count": 6,
     "metadata": {},
     "output_type": "execute_result"
    }
   ],
   "source": [
    "\"Less than, Greater than\"\n",
    "\n",
    "/We use the generic symbols >,<,<=,>=\n",
    "/They are atomic and defined for all compatible types with numerics \n",
    "    /and char types being compatible with eachother. Symbols are only compatible with themselves."
   ]
  },
  {
   "cell_type": "code",
   "execution_count": 7,
   "id": "c35b30ae-84a4-4b04-8497-0a134e718cf3",
   "metadata": {
    "tags": []
   },
   "outputs": [
    {
     "data": {
      "text/plain": [
       "\"Modulus aka Remainder\"\n"
      ]
     },
     "execution_count": 7,
     "metadata": {},
     "output_type": "execute_result"
    },
    {
     "data": {
      "text/plain": [
       "2\n"
      ]
     },
     "execution_count": 7,
     "metadata": {},
     "output_type": "execute_result"
    },
    {
     "data": {
      "text/plain": [
       "0 0 2 2\n"
      ]
     },
     "execution_count": 7,
     "metadata": {},
     "output_type": "execute_result"
    },
    {
     "data": {
      "text/plain": [
       "1 0 1 0\n"
      ]
     },
     "execution_count": 7,
     "metadata": {},
     "output_type": "execute_result"
    },
    {
     "data": {
      "text/plain": [
       "1 2 1 0\n"
      ]
     },
     "execution_count": 7,
     "metadata": {},
     "output_type": "execute_result"
    }
   ],
   "source": [
    "\"Modulus aka Remainder\"\n",
    "A mod C\n",
    "A mod B / A mod B_i (A mod by each element)\n",
    "B mod A / B_i mod A (Each element mod by A)\n",
    "B mod D"
   ]
  },
  {
   "cell_type": "code",
   "execution_count": 8,
   "id": "d4b483fc-3000-4e9d-a52d-31c660785438",
   "metadata": {
    "tags": []
   },
   "outputs": [
    {
     "data": {
      "text/plain": [
       "\"Div aka Quotient\"\n"
      ]
     },
     "execution_count": 8,
     "metadata": {},
     "output_type": "execute_result"
    },
    {
     "data": {
      "text/plain": [
       "0\n"
      ]
     },
     "execution_count": 8,
     "metadata": {},
     "output_type": "execute_result"
    },
    {
     "data": {
      "text/plain": [
       "2 1 0 0\n"
      ]
     },
     "execution_count": 8,
     "metadata": {},
     "output_type": "execute_result"
    },
    {
     "data": {
      "text/plain": [
       "0 1 1 2\n"
      ]
     },
     "execution_count": 8,
     "metadata": {},
     "output_type": "execute_result"
    },
    {
     "data": {
      "text/plain": [
       "0 0 1 4\n"
      ]
     },
     "execution_count": 8,
     "metadata": {},
     "output_type": "execute_result"
    }
   ],
   "source": [
    "\"Div aka Quotient\"\n",
    "/Left operand is the dividend and right operator is the divisor\n",
    "/5 divided by 2 means 5 is dividend and 2 is divisor\n",
    "/Atomic function\n",
    "A div C\n",
    "A div B / A div B_i (A mod by each element)\n",
    "B div A / B_i div A (Each element mod by A)\n",
    "B div D"
   ]
  },
  {
   "cell_type": "code",
   "execution_count": 9,
   "id": "c76201a2-474d-49bc-92a6-e130512abae1",
   "metadata": {
    "tags": []
   },
   "outputs": [
    {
     "data": {
      "text/plain": [
       "\"Power\"\n"
      ]
     },
     "execution_count": 9,
     "metadata": {},
     "output_type": "execute_result"
    },
    {
     "data": {
      "text/plain": [
       "8f\n"
      ]
     },
     "execution_count": 9,
     "metadata": {},
     "output_type": "execute_result"
    },
    {
     "data": {
      "text/plain": [
       "2 4 8 16f\n"
      ]
     },
     "execution_count": 9,
     "metadata": {},
     "output_type": "execute_result"
    },
    {
     "data": {
      "text/plain": [
       "1 4 9 16f\n"
      ]
     },
     "execution_count": 9,
     "metadata": {},
     "output_type": "execute_result"
    },
    {
     "data": {
      "text/plain": [
       "1 8 9 4f\n"
      ]
     },
     "execution_count": 9,
     "metadata": {},
     "output_type": "execute_result"
    }
   ],
   "source": [
    "\"Power\"\n",
    "A xexp C\n",
    "A xexp B / A^B_i (A raised to each element)\n",
    "B xexp A / B_i^A (Each element raised to A)\n",
    "B xexp D\n",
    "/f after number or vector denotes floating point type even if it may seem like an int"
   ]
  },
  {
   "cell_type": "code",
   "execution_count": 10,
   "id": "f4c1c5e7-9f65-46bf-b1c6-f2cc7d380a9a",
   "metadata": {
    "tags": []
   },
   "outputs": [
    {
     "data": {
      "text/plain": [
       "\"Square Root\"\n"
      ]
     },
     "execution_count": 10,
     "metadata": {},
     "output_type": "execute_result"
    },
    {
     "data": {
      "text/plain": [
       "1.414214\n"
      ]
     },
     "execution_count": 10,
     "metadata": {},
     "output_type": "execute_result"
    },
    {
     "data": {
      "text/plain": [
       "1 1.414214 1.732051 2\n"
      ]
     },
     "execution_count": 10,
     "metadata": {},
     "output_type": "execute_result"
    }
   ],
   "source": [
    "\"Square Root\"\n",
    "/Atomic unary function\n",
    "sqrt 2\n",
    "\n",
    "sqrt B"
   ]
  },
  {
   "cell_type": "code",
   "execution_count": 11,
   "id": "41096192-b086-424c-8a51-b2a3afd004b9",
   "metadata": {
    "tags": []
   },
   "outputs": [
    {
     "data": {
      "text/plain": [
       "\"E exponential\"\n"
      ]
     },
     "execution_count": 11,
     "metadata": {},
     "output_type": "execute_result"
    },
    {
     "data": {
      "text/plain": [
       "20.08554\n"
      ]
     },
     "execution_count": 11,
     "metadata": {},
     "output_type": "execute_result"
    },
    {
     "data": {
      "text/plain": [
       "2.718282 7.389056 20.08554 54.59815\n"
      ]
     },
     "execution_count": 11,
     "metadata": {},
     "output_type": "execute_result"
    }
   ],
   "source": [
    "\"E exponential\"\n",
    "/Atomic unary function\n",
    "exp C\n",
    "exp B / e^B_i (e raised to each element)"
   ]
  },
  {
   "cell_type": "code",
   "execution_count": 12,
   "id": "acb910f7-0a4c-4069-a90f-80057367d92b",
   "metadata": {
    "tags": []
   },
   "outputs": [
    {
     "data": {
      "text/plain": [
       "\"Natural Log\"\n"
      ]
     },
     "execution_count": 12,
     "metadata": {},
     "output_type": "execute_result"
    },
    {
     "data": {
      "text/plain": [
       "0f\n"
      ]
     },
     "execution_count": 12,
     "metadata": {},
     "output_type": "execute_result"
    },
    {
     "data": {
      "text/plain": [
       "1.609438\n"
      ]
     },
     "execution_count": 12,
     "metadata": {},
     "output_type": "execute_result"
    },
    {
     "data": {
      "text/plain": [
       "0 0.6931472 1.098612 1.386294\n"
      ]
     },
     "execution_count": 12,
     "metadata": {},
     "output_type": "execute_result"
    }
   ],
   "source": [
    "\"Natural Log\"\n",
    "/Atomic unary function\n",
    "/Natural logarithm aka ln\n",
    "\n",
    "log 1\n",
    "\n",
    "log 5\n",
    "\n",
    "log B"
   ]
  },
  {
   "cell_type": "code",
   "execution_count": 13,
   "id": "e7c2bba1-79c8-4a66-b30e-602c2f79518a",
   "metadata": {
    "tags": []
   },
   "outputs": [
    {
     "data": {
      "text/plain": [
       "\"Log\"\n"
      ]
     },
     "execution_count": 13,
     "metadata": {},
     "output_type": "execute_result"
    },
    {
     "data": {
      "text/plain": [
       "1.861353\n"
      ]
     },
     "execution_count": 13,
     "metadata": {},
     "output_type": "execute_result"
    },
    {
     "data": {
      "text/plain": [
       "1.609438\n"
      ]
     },
     "execution_count": 13,
     "metadata": {},
     "output_type": "execute_result"
    }
   ],
   "source": [
    "\"Log\"\n",
    "/Atomic unary function\n",
    "/Returns log of the right operand with respect to the base of the left operand\n",
    "\n",
    "5 xlog 20 /log 20 base 5\n",
    "\n",
    "(exp 1) xlog 5 /equivalent to ln 5"
   ]
  },
  {
   "cell_type": "code",
   "execution_count": 14,
   "id": "1a0022fc-1b7a-4dac-b43c-841518a9b0f8",
   "metadata": {
    "tags": []
   },
   "outputs": [
    {
     "data": {
      "text/plain": [
       "\"Higher Value\"\n"
      ]
     },
     "execution_count": 14,
     "metadata": {},
     "output_type": "execute_result"
    },
    {
     "data": {
      "text/plain": [
       "3\n"
      ]
     },
     "execution_count": 14,
     "metadata": {},
     "output_type": "execute_result"
    },
    {
     "data": {
      "text/plain": [
       "2 2 3 4\n"
      ]
     },
     "execution_count": 14,
     "metadata": {},
     "output_type": "execute_result"
    },
    {
     "data": {
      "text/plain": [
       "4 3 3 4\n"
      ]
     },
     "execution_count": 14,
     "metadata": {},
     "output_type": "execute_result"
    }
   ],
   "source": [
    "\"Higher Value\"\n",
    "/ | returns the higher value. They are atomic\n",
    "A | C\n",
    "A | B /A vs B_i\n",
    "B | D /b_i vs D_i\n",
    "\n",
    "/It reduces to logical or for binary operands"
   ]
  },
  {
   "cell_type": "code",
   "execution_count": 15,
   "id": "ea532260-51cc-4f42-96ff-694f76204be0",
   "metadata": {
    "tags": []
   },
   "outputs": [
    {
     "data": {
      "text/plain": [
       "\"Lower Value\"\n"
      ]
     },
     "execution_count": 15,
     "metadata": {},
     "output_type": "execute_result"
    },
    {
     "data": {
      "text/plain": [
       "2\n"
      ]
     },
     "execution_count": 15,
     "metadata": {},
     "output_type": "execute_result"
    },
    {
     "data": {
      "text/plain": [
       "1 2 2 2\n"
      ]
     },
     "execution_count": 15,
     "metadata": {},
     "output_type": "execute_result"
    },
    {
     "data": {
      "text/plain": [
       "1 2 2 1\n"
      ]
     },
     "execution_count": 15,
     "metadata": {},
     "output_type": "execute_result"
    }
   ],
   "source": [
    "\"Lower Value\"\n",
    "/ | returns the higher value. They are atomic\n",
    "A & C\n",
    "A & B /A vs B_i\n",
    "B & D /b_i vs D_i\n",
    "\n",
    "/It reduces to logical and for binary operands"
   ]
  },
  {
   "cell_type": "code",
   "execution_count": 16,
   "id": "b20dcf15-4b0b-4804-9d09-384530268287",
   "metadata": {
    "tags": []
   },
   "outputs": [
    {
     "data": {
      "text/plain": [
       "\"Operator Precedence\"\n"
      ]
     },
     "execution_count": 16,
     "metadata": {},
     "output_type": "execute_result"
    },
    {
     "data": {
      "text/plain": [
       "14\n"
      ]
     },
     "execution_count": 16,
     "metadata": {},
     "output_type": "execute_result"
    },
    {
     "data": {
      "text/plain": [
       "14\n"
      ]
     },
     "execution_count": 16,
     "metadata": {},
     "output_type": "execute_result"
    },
    {
     "data": {
      "text/plain": [
       "10\n"
      ]
     },
     "execution_count": 16,
     "metadata": {},
     "output_type": "execute_result"
    }
   ],
   "source": [
    "\"Operator Precedence\"\n",
    "\n",
    "/There is mo operator precedence. Thats why you need to add parenthesis when necessary\n",
    "/The expressions are evaluated from right to left. This is also called left of right.\n",
    "\n",
    "2*3+4 /Will be 3+4 then *2\n",
    "\n",
    "2*(3+4) /Equivalent to the above one\n",
    "\n",
    "(2*3)+4 /Different"
   ]
  },
  {
   "cell_type": "code",
   "execution_count": 18,
   "id": "ab82df1e-4c19-47de-af1f-4db8ce89bd7a",
   "metadata": {
    "tags": []
   },
   "outputs": [
    {
     "data": {
      "text/plain": [
       "\"Amend operator\"\n"
      ]
     },
     "execution_count": 18,
     "metadata": {},
     "output_type": "execute_result"
    },
    {
     "data": {
      "text/plain": [
       "8\n"
      ]
     },
     "execution_count": 18,
     "metadata": {},
     "output_type": "execute_result"
    },
    {
     "data": {
      "text/plain": [
       "10\n"
      ]
     },
     "execution_count": 18,
     "metadata": {},
     "output_type": "execute_result"
    },
    {
     "data": {
      "text/plain": [
       "101 102 103 104\n"
      ]
     },
     "execution_count": 18,
     "metadata": {},
     "output_type": "execute_result"
    },
    {
     "data": {
      "text/plain": [
       "201 102 103 104\n"
      ]
     },
     "execution_count": 18,
     "metadata": {},
     "output_type": "execute_result"
    },
    {
     "data": {
      "text/plain": [
       "201 102 123 124\n"
      ]
     },
     "execution_count": 18,
     "metadata": {},
     "output_type": "execute_result"
    },
    {
     "data": {
      "text/plain": [
       "201 102 123 124 5\n"
      ]
     },
     "execution_count": 18,
     "metadata": {},
     "output_type": "execute_result"
    },
    {
     "data": {
      "text/plain": [
       "201 102 123 124 5 9 8 7\n"
      ]
     },
     "execution_count": 18,
     "metadata": {},
     "output_type": "execute_result"
    }
   ],
   "source": [
    "\"Amend operator\"\n",
    "\n",
    "/This is similar to other languages where x+=3 means x=x+3\n",
    "\n",
    "x: 3\n",
    "x +:5\n",
    "x\n",
    "\n",
    "/We can even amend a variable that hasnt been assigned yet.\n",
    "/No amend is taking place but we get no syntax error\n",
    "yyyyyyy+:5\n",
    "yyyyyyy\n",
    "\n",
    "/Amending with lists\n",
    "L:1 2 3 4\n",
    "\n",
    "L+:100\n",
    "L\n",
    "\n",
    "L[0]+:100\n",
    "L\n",
    "\n",
    "L[2 3]+: 20\n",
    "L\n",
    "\n",
    "/There is a shortcut for list append using amend\n",
    "L,:5\n",
    "L\n",
    "\n",
    "L,:(9;8;7)\n",
    "L"
   ]
  },
  {
   "cell_type": "code",
   "execution_count": 19,
   "id": "bb354ae8-aaee-4205-ac70-75d9573ed43a",
   "metadata": {
    "tags": []
   },
   "outputs": [
    {
     "data": {
      "text/plain": [
       "\"Signum\"\n"
      ]
     },
     "execution_count": 19,
     "metadata": {},
     "output_type": "execute_result"
    },
    {
     "data": {
      "text/plain": [
       "1i\n"
      ]
     },
     "execution_count": 19,
     "metadata": {},
     "output_type": "execute_result"
    },
    {
     "data": {
      "text/plain": [
       "-1i\n"
      ]
     },
     "execution_count": 19,
     "metadata": {},
     "output_type": "execute_result"
    },
    {
     "data": {
      "text/plain": [
       "1 1 1 -1 1 -1i\n"
      ]
     },
     "execution_count": 19,
     "metadata": {},
     "output_type": "execute_result"
    }
   ],
   "source": [
    "\"Signum\"\n",
    "\n",
    "/Atomic unary operator that returns int representing sign of its input\n",
    "/1i for positive and -1i for negative and 0i for 0\n",
    "\n",
    "signum 4\n",
    "\n",
    "signum -4\n",
    "\n",
    "signum 2 3 4 -5 6 -7"
   ]
  },
  {
   "cell_type": "code",
   "execution_count": 20,
   "id": "e6173f5b-463f-4264-a34a-6512c7c1829b",
   "metadata": {
    "tags": []
   },
   "outputs": [
    {
     "data": {
      "text/plain": [
       "\"Reciprocal\"\n"
      ]
     },
     "execution_count": 20,
     "metadata": {},
     "output_type": "execute_result"
    },
    {
     "data": {
      "text/plain": [
       "0.5\n"
      ]
     },
     "execution_count": 20,
     "metadata": {},
     "output_type": "execute_result"
    },
    {
     "data": {
      "text/plain": [
       "0w\n"
      ]
     },
     "execution_count": 20,
     "metadata": {},
     "output_type": "execute_result"
    },
    {
     "data": {
      "text/plain": [
       "1b\n"
      ]
     },
     "execution_count": 20,
     "metadata": {},
     "output_type": "execute_result"
    }
   ],
   "source": [
    "\"Reciprocal\"\n",
    "\n",
    "/Atomic unary that retruns the float result of 1 divided by the input\n",
    "\n",
    "reciprocal 2\n",
    "\n",
    "reciprocal 2 = (1%2) /0w. Why? Because it will do 1%2 to get 0.5 then do 2=1 to geth 0 and reciprocal of 0\n",
    "/To check reciprocal is doing what we thought use the below syntax\n",
    "(reciprocal 2) = (1%2) /True"
   ]
  },
  {
   "cell_type": "code",
   "execution_count": 21,
   "id": "f52b2e39-e72a-4242-a66d-2e0814361c94",
   "metadata": {
    "tags": []
   },
   "outputs": [
    {
     "data": {
      "text/plain": [
       "\"Floor\"\n"
      ]
     },
     "execution_count": 21,
     "metadata": {},
     "output_type": "execute_result"
    },
    {
     "data": {
      "text/plain": [
       "4\n"
      ]
     },
     "execution_count": 21,
     "metadata": {},
     "output_type": "execute_result"
    },
    {
     "data": {
      "text/plain": [
       "4 4 4\n"
      ]
     },
     "execution_count": 21,
     "metadata": {},
     "output_type": "execute_result"
    },
    {
     "data": {
      "text/plain": [
       "4.1234\n"
      ]
     },
     "execution_count": 21,
     "metadata": {},
     "output_type": "execute_result"
    }
   ],
   "source": [
    "\"Floor\"\n",
    "\n",
    "/Atomic unary function\n",
    "/Largest integer less than or equal to input\n",
    "\n",
    "floor 4.2\n",
    "\n",
    "floor (4.2;4.5;4.7)\n",
    "\n",
    "/Floor operator can be used to truncate or round floating values to a specific number of digits\n",
    "X: 4.123456789\n",
    "\n",
    "/Rounding to 4 decimal places\n",
    "0.0001 * floor 10000*X"
   ]
  },
  {
   "cell_type": "code",
   "execution_count": 22,
   "id": "b607d571-d8d6-4dd3-bda9-0649107b7734",
   "metadata": {
    "tags": []
   },
   "outputs": [
    {
     "data": {
      "text/plain": [
       "\"Ceiling\"\n"
      ]
     },
     "execution_count": 22,
     "metadata": {},
     "output_type": "execute_result"
    },
    {
     "data": {
      "text/plain": [
       "5\n"
      ]
     },
     "execution_count": 22,
     "metadata": {},
     "output_type": "execute_result"
    },
    {
     "data": {
      "text/plain": [
       "5 5 5\n"
      ]
     },
     "execution_count": 22,
     "metadata": {},
     "output_type": "execute_result"
    }
   ],
   "source": [
    "\"Ceiling\"\n",
    "\n",
    "/Atomic unary function\n",
    "/Smallest integer greater than or equal to input\n",
    "\n",
    "ceiling 4.2\n",
    "\n",
    "ceiling (4.2;4.5;4.7)"
   ]
  },
  {
   "cell_type": "code",
   "execution_count": 23,
   "id": "d48d4435-ac14-41a1-8dc8-331db58a23ef",
   "metadata": {
    "tags": []
   },
   "outputs": [
    {
     "data": {
      "text/plain": [
       "\"Absolute Value\"\n"
      ]
     },
     "execution_count": 23,
     "metadata": {},
     "output_type": "execute_result"
    },
    {
     "data": {
      "text/plain": [
       "4.2\n"
      ]
     },
     "execution_count": 23,
     "metadata": {},
     "output_type": "execute_result"
    },
    {
     "data": {
      "text/plain": [
       "4.2\n"
      ]
     },
     "execution_count": 23,
     "metadata": {},
     "output_type": "execute_result"
    },
    {
     "data": {
      "text/plain": [
       "4.2\n"
      ]
     },
     "execution_count": 23,
     "metadata": {},
     "output_type": "execute_result"
    },
    {
     "data": {
      "text/plain": [
       "4\n"
      ]
     },
     "execution_count": 23,
     "metadata": {},
     "output_type": "execute_result"
    },
    {
     "data": {
      "text/plain": [
       "1 2 3 4 5\n"
      ]
     },
     "execution_count": 23,
     "metadata": {},
     "output_type": "execute_result"
    }
   ],
   "source": [
    "\"Absolute Value\"\n",
    "\n",
    "/Atomic unary function\n",
    "/Returns absolute value\n",
    "\n",
    "abs -4.2 /Error because there is no unary -\n",
    "\n",
    "abs 0-4.2 /This works\n",
    "\n",
    "abs neg 4.2 /This is the correct way\n",
    "\n",
    "abs 4 /Returns as is\n",
    "\n",
    "abs (1;2;3;4;neg 5)"
   ]
  },
  {
   "cell_type": "code",
   "execution_count": 24,
   "id": "b071a54d-d740-424d-9806-79eb10f7d92c",
   "metadata": {
    "tags": []
   },
   "outputs": [
    {
     "data": {
      "text/plain": [
       "\"Temporal Discussion\"\n"
      ]
     },
     "execution_count": 24,
     "metadata": {},
     "output_type": "execute_result"
    },
    {
     "data": {
      "text/plain": [
       "12:20:21\n"
      ]
     },
     "execution_count": 24,
     "metadata": {},
     "output_type": "execute_result"
    },
    {
     "data": {
      "text/plain": [
       "00:29:38\n"
      ]
     },
     "execution_count": 24,
     "metadata": {},
     "output_type": "execute_result"
    },
    {
     "data": {
      "text/plain": [
       "1b\n"
      ]
     },
     "execution_count": 24,
     "metadata": {},
     "output_type": "execute_result"
    },
    {
     "data": {
      "text/plain": [
       "0b\n"
      ]
     },
     "execution_count": 24,
     "metadata": {},
     "output_type": "execute_result"
    }
   ],
   "source": [
    "\"Temporal Discussion\"\n",
    "\n",
    "/It ends up being integer arithmetic from their underlying integer form.\n",
    "/If different temporal types, they are promoted to the wider one\n",
    "\n",
    "M: 12:20:22 /Integer form is seconds \n",
    "M-1 /So should be 12:120:21\n",
    "\n",
    "/Against a different type. The values get promoted to the wider type\n",
    "12:50-M\n",
    "\n",
    "/Note that Q handles the promotion\n",
    "/Doing it manually by casting them to int using `int$M would be problematic \n",
    "    /because integer values are of different units.\n",
    "\n",
    "/For comparison, they are promoted to the most granular type and then compared\n",
    "\n",
    "2000.01.01=2000.01.01D00:00:00.000000000 /True because we convert to wider form\n",
    "\n",
    "2000.01.01=2000.01.01D00:00:11.000000000 /False because convert to wider form and seconds would be off"
   ]
  },
  {
   "cell_type": "code",
   "execution_count": 25,
   "id": "fbcec34f-9499-4014-a884-ec030ea9dea4",
   "metadata": {
    "tags": []
   },
   "outputs": [
    {
     "data": {
      "text/plain": [
       "\"Alias\"\n"
      ]
     },
     "execution_count": 25,
     "metadata": {},
     "output_type": "execute_result"
    },
    {
     "data": {
      "text/plain": [
       "4\n"
      ]
     },
     "execution_count": 25,
     "metadata": {},
     "output_type": "execute_result"
    },
    {
     "data": {
      "text/plain": [
       "5\n"
      ]
     },
     "execution_count": 25,
     "metadata": {},
     "output_type": "execute_result"
    },
    {
     "data": {
      "text/plain": [
       "2\n"
      ]
     },
     "execution_count": 25,
     "metadata": {},
     "output_type": "execute_result"
    },
    {
     "data": {
      "text/plain": [
       "3\n"
      ]
     },
     "execution_count": 25,
     "metadata": {},
     "output_type": "execute_result"
    },
    {
     "data": {
      "text/plain": [
       "13\n"
      ]
     },
     "execution_count": 25,
     "metadata": {},
     "output_type": "execute_result"
    },
    {
     "data": {
      "text/plain": [
       "a| b  \n",
       "x| Fun\n",
       "y| Fun\n"
      ]
     },
     "execution_count": 25,
     "metadata": {},
     "output_type": "execute_result"
    },
    {
     "data": {
      "text/plain": [
       "a  | ,`b\n",
       "x  | `Fun`Fun2\n",
       "y  | ,`Fun\n",
       "Fun| ,`Fun2\n"
      ]
     },
     "execution_count": 25,
     "metadata": {},
     "output_type": "execute_result"
    },
    {
     "data": {
      "text/plain": [
       "c1 c2 c3   \n",
       "-----------\n",
       "a  20 99.5 \n",
       "b  15 99.45\n",
       "c  10 99.42\n",
       "a  20 99.4 \n"
      ]
     },
     "execution_count": 25,
     "metadata": {},
     "output_type": "execute_result"
    },
    {
     "data": {
      "text/plain": [
       "sym px  \n",
       "--------\n",
       "a   99.5\n",
       "a   99.4\n"
      ]
     },
     "execution_count": 25,
     "metadata": {},
     "output_type": "execute_result"
    },
    {
     "data": {
      "text/plain": [
       "`t\n"
      ]
     },
     "execution_count": 25,
     "metadata": {},
     "output_type": "execute_result"
    },
    {
     "data": {
      "text/plain": [
       "sym px\n",
       "------\n",
       "a   42\n",
       "a   42\n"
      ]
     },
     "execution_count": 25,
     "metadata": {},
     "output_type": "execute_result"
    },
    {
     "data": {
      "text/plain": [
       "a  | ,`b\n",
       "x  | `Fun`Fun2\n",
       "y  | ,`Fun\n",
       "Fun| ,`Fun2\n",
       "t  | ,`v\n"
      ]
     },
     "execution_count": 25,
     "metadata": {},
     "output_type": "execute_result"
    }
   ],
   "source": [
    "\"Alias\"\n",
    "\n",
    "/Alias is a variable that is an expression and not the result of the expression\n",
    "/What does this mean? If b is set as alias of a and a is changed to 42 then b is also changed to 42\n",
    "    /whereas if b was set to a, it wouldn't have changed when a changed, it would've stayed original value\n",
    "a: 4\n",
    "b:: a /Left operand is alias of right operand\n",
    "c: a /Set equal to\n",
    "a: 5\n",
    "c /Will remain 4 because it was set to value of a at that time which was 4\n",
    "b /Will become 5 because b is reevaluated when it is called and uses latest value of a\n",
    "\n",
    "/Very useful as it can be used as a lambda function of sorts with global inputs\n",
    "/But changing the named variables in it chamges values\n",
    "\n",
    "Fun:: (x*x)+(y*y)\n",
    "x:2\n",
    "x\n",
    "y:3\n",
    "y\n",
    "Fun /Should be 13\n",
    "\n",
    "/Alias vs function:\n",
    "/Function takes arguments explicitly whereas you have to keep track in alias\n",
    "/Function recalculates itself when called again even if inputs havent changed\n",
    "\n",
    "/Alias have dependencies which can be hard to keep track of\n",
    "/Thankfully there's an easy way to do see all depdencies\n",
    "/The following syntax generates a list\n",
    "/The right column is the things that depend on something and left column is what they depend on\n",
    ".z.b\n",
    "\n",
    "/You can create another alias using an alias\n",
    "Fun2:: Fun+x\n",
    "/Lets look at dependency dict again\n",
    ".z.b\n",
    "/You'll see that Fun2 depends on Fun and x, it doesn't show y as well which it depends on indirectly\n",
    "/So we have this chain of dependency that we need to be mindful of and track ourseleves when generating nested dependencies\n",
    "\n",
    "/A dependency chain that would create a loop will be detected and result in an error\n",
    "\n",
    "/Another application of alias is Viewing\n",
    "/Aliasing is commonly used to provide a databse view by specifying a query as the expression\n",
    "\n",
    "/We are getting ahead of ourselves with table construction and queries and view but disregard that and focus on the magic of aliasing\n",
    "t:([]c1:`a`b`c`a;c2:20 15 10 20;c3:99.5 99.45 99.42 99.4) /Create table\n",
    "t\n",
    "\n",
    "v:: select sym:c1,px:c3 from t where c1=`a /Alias a query\n",
    "\n",
    "v\n",
    "\n",
    "/Change table\n",
    "update c3:42.0 from `t where c1=`a\n",
    "\n",
    "v /Result gets updated\n",
    "\n",
    "/Refreshed dependencies in .z.b\n",
    ".z.b"
   ]
  }
 ],
 "metadata": {
  "kernelspec": {
   "display_name": "Q (kdb+)",
   "language": "q",
   "name": "qpk"
  },
  "language_info": {
   "file_extension": ".q",
   "mimetype": "text/x-q",
   "name": "q",
   "version": "4.0"
  }
 },
 "nbformat": 4,
 "nbformat_minor": 5
}
