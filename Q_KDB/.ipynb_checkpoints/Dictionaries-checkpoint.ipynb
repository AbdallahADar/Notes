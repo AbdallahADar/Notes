{
 "cells": [
  {
   "cell_type": "markdown",
   "id": "41389d3d-c129-407d-bb61-1f2bff3576c9",
   "metadata": {},
   "source": [
    "# Dictionaries:"
   ]
  },
  {
   "cell_type": "code",
   "execution_count": 1,
   "id": "b0ae6d26-9455-4037-92e1-158cc7df44ef",
   "metadata": {
    "tags": []
   },
   "outputs": [
    {
     "data": {
      "text/plain": [
       "10| 1.1\n",
       "20| 2.2\n",
       "30| 3.3\n"
      ]
     },
     "execution_count": 1,
     "metadata": {},
     "output_type": "execute_result"
    }
   ],
   "source": [
    "/A dict has an explicit key and value list.\n",
    "/Key list needs to be unique\n",
    "/It can be considered as key-value pairs but logically it is stored physically as\n",
    "    /a pair of lists\n",
    "\n",
    "/A dictionary is sometimes called an association\n",
    "/Syntax is: keys!values\n",
    "\n",
    "10 20 30!1.1 2.2 3.3"
   ]
  },
  {
   "cell_type": "code",
   "execution_count": 2,
   "id": "07f37955-d2ed-40ae-9858-faf0cfa1f780",
   "metadata": {
    "tags": []
   },
   "outputs": [
    {
     "data": {
      "text/plain": [
       "1001| Arthur Dent      \n",
       "1002| Zaphod Beeblebrox\n",
       "1003| Ford   Prefect   \n"
      ]
     },
     "execution_count": 2,
     "metadata": {},
     "output_type": "execute_result"
    },
    {
     "data": {
      "text/plain": [
       "a| 1\n",
       "b| 2\n",
       "c| 3\n"
      ]
     },
     "execution_count": 2,
     "metadata": {},
     "output_type": "execute_result"
    },
    {
     "data": {
      "text/plain": [
       "`a`b`c\n"
      ]
     },
     "execution_count": 2,
     "metadata": {},
     "output_type": "execute_result"
    },
    {
     "data": {
      "text/plain": [
       "1 2 3\n"
      ]
     },
     "execution_count": 2,
     "metadata": {},
     "output_type": "execute_result"
    },
    {
     "data": {
      "text/plain": [
       "3\n"
      ]
     },
     "execution_count": 2,
     "metadata": {},
     "output_type": "execute_result"
    }
   ],
   "source": [
    "/Neither keys nor values have to be simple lists\n",
    "1001 1002 1003!(`Arthur`Dent; `Zaphod`Beeblebrox; `Ford`Prefect)\n",
    "\n",
    "d: `a`b`c!1 2 3\n",
    "d\n",
    "\n",
    "/Decompose list into key and value using the keywords\n",
    "key d\n",
    "value d\n",
    "\n",
    "/Since the length of keys and values need to match, we can easily get count of pairs in dict\n",
    "count d"
   ]
  },
  {
   "cell_type": "code",
   "execution_count": 3,
   "id": "7dc70d14-6f9d-4415-b492-11172c81701c",
   "metadata": {
    "tags": []
   },
   "outputs": [
    {
     "data": {
      "text/plain": [
       "0b\n"
      ]
     },
     "execution_count": 3,
     "metadata": {},
     "output_type": "execute_result"
    }
   ],
   "source": [
    "/Order of pairs is significant in dicts just as positional order is significant for lists\n",
    "/Not identical even though the pairs are matching, the wrong order cause them to not be identical\n",
    "(`a`b`c!1 2 3)~`a`c`b!1 3 2"
   ]
  },
  {
   "cell_type": "code",
   "execution_count": 4,
   "id": "b448dc97-b79a-4733-8904-f13fce2874fb",
   "metadata": {
    "tags": []
   },
   "outputs": [
    {
     "data": {
      "text/plain": [
       "\"Creating empty Dicts\"\n"
      ]
     },
     "execution_count": 4,
     "metadata": {},
     "output_type": "execute_result"
    },
    {
     "data": {
      "text/plain": []
     },
     "execution_count": 4,
     "metadata": {},
     "output_type": "execute_result"
    },
    {
     "data": {
      "text/plain": []
     },
     "execution_count": 4,
     "metadata": {},
     "output_type": "execute_result"
    },
    {
     "data": {
      "text/plain": [
       "x| 1\n"
      ]
     },
     "execution_count": 4,
     "metadata": {},
     "output_type": "execute_result"
    }
   ],
   "source": [
    "\"Creating empty Dicts\"\n",
    "()!()\n",
    "\n",
    "/Create a typed empty dict using typed empty key and typed empty value list\n",
    "(`symbol$())!`float$()\n",
    "\n",
    "/Creating dict requires both key and values to be list\n",
    "/To create a dict with single pair we need to leverage the enlist function\n",
    "(enlist `x)!enlist 1\n",
    "\n",
    "/`x!1 will yield an enumerated value for a link column"
   ]
  },
  {
   "cell_type": "code",
   "execution_count": 5,
   "id": "59135a5f-7bac-4470-83ac-0949b6361a65",
   "metadata": {
    "tags": []
   },
   "outputs": [
    {
     "data": {
      "text/plain": [
       "\"Lookup\"\n"
      ]
     },
     "execution_count": 5,
     "metadata": {},
     "output_type": "execute_result"
    },
    {
     "data": {
      "text/plain": [
       "1\n"
      ]
     },
     "execution_count": 5,
     "metadata": {},
     "output_type": "execute_result"
    },
    {
     "data": {
      "text/plain": [
       "1\n"
      ]
     },
     "execution_count": 5,
     "metadata": {},
     "output_type": "execute_result"
    },
    {
     "data": {
      "text/plain": [
       "0N\n"
      ]
     },
     "execution_count": 5,
     "metadata": {},
     "output_type": "execute_result"
    },
    {
     "data": {
      "text/plain": [
       "1 3\n"
      ]
     },
     "execution_count": 5,
     "metadata": {},
     "output_type": "execute_result"
    },
    {
     "data": {
      "text/plain": [
       "1 3\n"
      ]
     },
     "execution_count": 5,
     "metadata": {},
     "output_type": "execute_result"
    }
   ],
   "source": [
    "\"Lookup\"\n",
    "d: `a`b`c!1 2 3\n",
    "/Look at the value using its key\n",
    "d[`a]\n",
    "/As with lists you can skip the brackets and use spaces\n",
    "d `a\n",
    "/Looking up a key that doesn not exist returns null\n",
    "d `x\n",
    "/Similar to list indexing where you can provide multiple indexes\n",
    "d[`a`c]\n",
    "/Set a list and use that as key input\n",
    "ks: `a`c\n",
    "d ks"
   ]
  },
  {
   "cell_type": "code",
   "execution_count": 6,
   "id": "291fac9c-47c9-440a-b46c-cb616767b2bb",
   "metadata": {
    "tags": []
   },
   "outputs": [
    {
     "data": {
      "text/plain": [
       "1\n"
      ]
     },
     "execution_count": 6,
     "metadata": {},
     "output_type": "execute_result"
    },
    {
     "data": {
      "text/plain": [
       "`a\n"
      ]
     },
     "execution_count": 6,
     "metadata": {},
     "output_type": "execute_result"
    },
    {
     "data": {
      "text/plain": [
       "`\n"
      ]
     },
     "execution_count": 6,
     "metadata": {},
     "output_type": "execute_result"
    }
   ],
   "source": [
    "/Recall that ? on alist returns the index of the first occurence\n",
    "10 20 30 20?20\n",
    "/We can extend this to dictionaries and use it to find the key for a value\n",
    "dd: (`a`b`c`d)!1 2 3 1\n",
    "/Note that if two keys have the same value it returns the first key\n",
    "dd?1\n",
    "/If a value has no key then we get null\n",
    "dd?45"
   ]
  },
  {
   "cell_type": "code",
   "execution_count": 7,
   "id": "c2434152-ed21-4f24-96c2-c69e7b7ad586",
   "metadata": {
    "tags": []
   },
   "outputs": [
    {
     "data": {
      "text/plain": [
       "\"Dict vs Lists\"\n"
      ]
     },
     "execution_count": 7,
     "metadata": {},
     "output_type": "execute_result"
    },
    {
     "data": {
      "text/plain": [
       "10\n"
      ]
     },
     "execution_count": 7,
     "metadata": {},
     "output_type": "execute_result"
    },
    {
     "data": {
      "text/plain": [
       "10\n"
      ]
     },
     "execution_count": 7,
     "metadata": {},
     "output_type": "execute_result"
    },
    {
     "data": {
      "text/plain": [
       "20 30\n"
      ]
     },
     "execution_count": 7,
     "metadata": {},
     "output_type": "execute_result"
    },
    {
     "data": {
      "text/plain": [
       "20 30\n"
      ]
     },
     "execution_count": 7,
     "metadata": {},
     "output_type": "execute_result"
    },
    {
     "data": {
      "text/plain": [
       "0b\n"
      ]
     },
     "execution_count": 7,
     "metadata": {},
     "output_type": "execute_result"
    }
   ],
   "source": [
    "\"Dict vs Lists\"\n",
    "/We can create a dict that very much works like an equivalent list\n",
    "L: 10 20 30\n",
    "d: 0 1 2!10 20 30\n",
    "L 0\n",
    "d 0\n",
    "L 1 2\n",
    "d 1 2\n",
    "d~L /Not same even though we aligned the index/keys"
   ]
  },
  {
   "cell_type": "code",
   "execution_count": 8,
   "id": "2a045dcd-9c75-457a-b17f-7174ae214298",
   "metadata": {
    "tags": []
   },
   "outputs": [
    {
     "data": {
      "text/plain": [
       "\"Adding two dicts\"\n"
      ]
     },
     "execution_count": 8,
     "metadata": {},
     "output_type": "execute_result"
    },
    {
     "data": {
      "text/plain": [
       "0    | 110\n",
       "100  | 20\n",
       "5000 | 30\n",
       "99   | 200\n",
       "10000| 300\n"
      ]
     },
     "execution_count": 8,
     "metadata": {},
     "output_type": "execute_result"
    }
   ],
   "source": [
    "\"Adding two dicts\"\n",
    "/The operation is done based on matching keys\n",
    "d1: 0 100 5000!10 20 30\n",
    "d2: 0 99 10000!100 200 300\n",
    "d1+d2"
   ]
  },
  {
   "cell_type": "code",
   "execution_count": 9,
   "id": "add68aa5-afa9-446f-b144-9ff50bc4cb75",
   "metadata": {
    "tags": []
   },
   "outputs": [
    {
     "data": {
      "text/plain": [
       "\"Non unique keys and values\"\n"
      ]
     },
     "execution_count": 9,
     "metadata": {},
     "output_type": "execute_result"
    },
    {
     "data": {
      "text/plain": [
       "a| 10\n",
       "b| 20\n",
       "a| 30\n",
       "c| 20\n"
      ]
     },
     "execution_count": 9,
     "metadata": {},
     "output_type": "execute_result"
    },
    {
     "data": {
      "text/plain": [
       "`b`c\n"
      ]
     },
     "execution_count": 9,
     "metadata": {},
     "output_type": "execute_result"
    }
   ],
   "source": [
    "\"Non unique keys and values\"\n",
    "/Technically you can have non-unique keys during initialization\n",
    "    /but lookup only looks at first occurence\n",
    "ddup:`a`b`a`c!10 20 30 20\n",
    "ddup\n",
    "/We can find all keys matching to a value by\n",
    "where ddup=20"
   ]
  },
  {
   "cell_type": "code",
   "execution_count": 10,
   "id": "0c20934d-9e42-412a-8e63-b91c1f12d1ae",
   "metadata": {
    "tags": []
   },
   "outputs": [
    {
     "data": {
      "text/plain": [
       "`a`b  | 10\n",
       "`c`d`e| 20\n",
       ",`f   | 30\n"
      ]
     },
     "execution_count": 10,
     "metadata": {},
     "output_type": "execute_result"
    },
    {
     "data": {
      "text/plain": [
       "30\n"
      ]
     },
     "execution_count": 10,
     "metadata": {},
     "output_type": "execute_result"
    },
    {
     "data": {
      "text/plain": [
       "`c`d`e\n"
      ]
     },
     "execution_count": 10,
     "metadata": {},
     "output_type": "execute_result"
    },
    {
     "data": {
      "text/plain": [
       "a| 10 20\n",
       "b| 30 40 50\n",
       "c| ,60\n"
      ]
     },
     "execution_count": 10,
     "metadata": {},
     "output_type": "execute_result"
    },
    {
     "data": {
      "text/plain": [
       "30 40 50\n"
      ]
     },
     "execution_count": 10,
     "metadata": {},
     "output_type": "execute_result"
    },
    {
     "data": {
      "text/plain": [
       "`b\n"
      ]
     },
     "execution_count": 10,
     "metadata": {},
     "output_type": "execute_result"
    },
    {
     "data": {
      "text/plain": [
       "0N\n"
      ]
     },
     "execution_count": 10,
     "metadata": {},
     "output_type": "execute_result"
    },
    {
     "data": {
      "text/plain": [
       "30\n"
      ]
     },
     "execution_count": 10,
     "metadata": {},
     "output_type": "execute_result"
    },
    {
     "data": {
      "text/plain": [
       "0N\n"
      ]
     },
     "execution_count": 10,
     "metadata": {},
     "output_type": "execute_result"
    },
    {
     "data": {
      "text/plain": [
       "30\n"
      ]
     },
     "execution_count": 10,
     "metadata": {},
     "output_type": "execute_result"
    }
   ],
   "source": [
    "/Neither keys nor values are required to be atoms or uniform\n",
    "/Either can be nested lists\n",
    "/Nested lists for keys\n",
    "d:(`a`b; `c`d`e; enlist `f)!10 20 30\n",
    "d\n",
    "d `f\n",
    "d?20\n",
    "/Nested lists for values\n",
    "d:`a`b`c!(10 20; 30 40 50; enlist 60)\n",
    "d\n",
    "d `b\n",
    "d? 30 40 50\n",
    "/An irregular key or value list will mess up looup and reverse lookup\n",
    "/An irregular list would be where we have nested lists but one is just a number\n",
    "d_irregular: (1 2; 3 4 5; 6; 7 8)!10 20 30 40\n",
    "/6 in the keys list does nto conform so returns null value\n",
    "d_irregular 6\n",
    "/Fix have enlist 6\n",
    "d_regular: (1 2; 3 4 5; enlist 6; 7 8)!10 20 30 40\n",
    "d_regular 6\n",
    "/Similar story for irregularity in value list and reverse lookup\n",
    "d_irregular:10 20 30 40!(1 2; 3 4 5; 6; 7 8)\n",
    "d_irregular?6 /Returns null\n",
    "d_regular:10 20 30 40!(1 2; 3 4 5; enlist 6; 7 8)\n",
    "d_regular?6"
   ]
  },
  {
   "cell_type": "code",
   "execution_count": 11,
   "id": "d1928a0d-8983-4c6b-b466-a1ce2ee18d5b",
   "metadata": {
    "tags": []
   },
   "outputs": [
    {
     "data": {
      "text/plain": [
       "\"Operations on dict\"\n"
      ]
     },
     "execution_count": 11,
     "metadata": {},
     "output_type": "execute_result"
    },
    {
     "data": {
      "text/plain": [
       "a| 10\n",
       "b| 22\n",
       "c| 30\n",
       "x| 100\n"
      ]
     },
     "execution_count": 11,
     "metadata": {},
     "output_type": "execute_result"
    }
   ],
   "source": [
    "\"Operations on dict\"\n",
    "/Just like with lists we can modify via assignment to a key. In the case of lists the key is the index\n",
    "d:`a`b`c!10 20 30\n",
    "d[`b]: 22\n",
    "/In contrast to lists, dicts can be extended via assignment\n",
    "d[`x]: 100\n",
    "d\n",
    "/So using an existing key is an update and using a new key is an insert.\n",
    "/This behavior is sometimes called upsert."
   ]
  },
  {
   "cell_type": "code",
   "execution_count": 12,
   "id": "7b9629f2-f1b7-40f0-a292-22b42f18f29b",
   "metadata": {
    "tags": []
   },
   "outputs": [
    {
     "data": {
      "text/plain": [
       "\"Extracting sub-dictionary\"\n"
      ]
     },
     "execution_count": 12,
     "metadata": {},
     "output_type": "execute_result"
    },
    {
     "data": {
      "text/plain": [
       "10 30\n"
      ]
     },
     "execution_count": 12,
     "metadata": {},
     "output_type": "execute_result"
    },
    {
     "data": {
      "text/plain": [
       "a| 10\n",
       "c| 30\n"
      ]
     },
     "execution_count": 12,
     "metadata": {},
     "output_type": "execute_result"
    }
   ],
   "source": [
    "\"Extracting sub-dictionary\"\n",
    "/We can extract both the key and values using the Take operator #\n",
    "/Left operand is a list of keys and right operand is source dict\n",
    "/It returns a sub-dict of the specific keys\n",
    "d:`a`b`c!10 20 30\n",
    "d `a`c\n",
    "`a`c#d\n",
    "/In the event of dup keys only first is extracted\n",
    "/It also works with non simple keys"
   ]
  },
  {
   "cell_type": "code",
   "execution_count": 14,
   "id": "109264c6-3d65-49d0-a0a6-0ac0f8eea990",
   "metadata": {
    "tags": []
   },
   "outputs": [
    {
     "data": {
      "text/plain": [
       "\"Removing entries\"\n"
      ]
     },
     "execution_count": 14,
     "metadata": {},
     "output_type": "execute_result"
    },
    {
     "data": {
      "text/plain": [
       "b| 20\n"
      ]
     },
     "execution_count": 14,
     "metadata": {},
     "output_type": "execute_result"
    },
    {
     "data": {
      "text/plain": [
       "a| 10\n",
       "b| 20\n",
       "a| 40\n"
      ]
     },
     "execution_count": 14,
     "metadata": {},
     "output_type": "execute_result"
    },
    {
     "data": {
      "text/plain": [
       "b| 20\n"
      ]
     },
     "execution_count": 14,
     "metadata": {},
     "output_type": "execute_result"
    },
    {
     "data": {
      "text/plain": [
       "a| 10\n",
       "b| 20\n",
       "a| 40\n"
      ]
     },
     "execution_count": 14,
     "metadata": {},
     "output_type": "execute_result"
    },
    {
     "data": {
      "text/plain": [
       "b| 20\n",
       "c| 30\n",
       "a| 40\n"
      ]
     },
     "execution_count": 14,
     "metadata": {},
     "output_type": "execute_result"
    },
    {
     "data": {
      "text/plain": [
       "b| 20\n",
       "c| 30\n"
      ]
     },
     "execution_count": 14,
     "metadata": {},
     "output_type": "execute_result"
    }
   ],
   "source": [
    "\"Removing entries\"\n",
    "/The operator _ removes key value pairs.\n",
    "/The left operand is keys to remove and right operand is dict\n",
    "/It returns thee dict obtained from removing key-value pairs of specified keys\n",
    "/Note that we need space before _ because _ can be a part of a symbol cauing syntax issues\n",
    "d:`a`b`c`a!10 20 30 40\n",
    "`a`c _ d\n",
    "/Keys that do not exist have no effect. No error for invalid key\n",
    "`x`c _ d\n",
    "/Note that for duplicate keys it removes all occurences\n",
    "/The binary keyword \"cut\" is the same as _\n",
    "`a`c cut d\n",
    "`x`c cut d\n",
    "/Another syntax for this which is seldom used is\n",
    "/Dict on the right and single key on the left\n",
    "/Doesnt work for more than one key\n",
    "d _ `a\n",
    "/Another key difference between the single remove vs the usual syntax\n",
    "/The single remove is built for removing single key-value pair\n",
    "/So it only removes first instance\n",
    "/Thus the above syntax remove one pair with key `a\n",
    "/whereas syntax below will remove both pairs with `a\n",
    "`a _ d"
   ]
  },
  {
   "cell_type": "code",
   "execution_count": 15,
   "id": "14c46e7c-2649-491b-9f30-7aaa24c0a353",
   "metadata": {
    "tags": []
   },
   "outputs": [
    {
     "data": {
      "text/plain": [
       "\"Basic operations on dicts\"\n"
      ]
     },
     "execution_count": 15,
     "metadata": {},
     "output_type": "execute_result"
    },
    {
     "data": {
      "text/plain": [
       "1| -5\n",
       "2| -6\n",
       "3| -7\n",
       "4| -8\n"
      ]
     },
     "execution_count": 15,
     "metadata": {},
     "output_type": "execute_result"
    },
    {
     "data": {
      "text/plain": [
       "1| 10\n",
       "2| 12\n",
       "3| 14\n",
       "4| 16\n"
      ]
     },
     "execution_count": 15,
     "metadata": {},
     "output_type": "execute_result"
    },
    {
     "data": {
      "text/plain": [
       "1| 0\n",
       "2| 0\n",
       "3| 0\n",
       "4| 0\n"
      ]
     },
     "execution_count": 15,
     "metadata": {},
     "output_type": "execute_result"
    },
    {
     "data": {
      "text/plain": [
       "1| 25\n",
       "2| 36\n",
       "3| 49\n",
       "4| 64\n"
      ]
     },
     "execution_count": 15,
     "metadata": {},
     "output_type": "execute_result"
    },
    {
     "data": {
      "text/plain": [
       "1| 50\n",
       "2| 6\n",
       "3| 140\n",
       "4| 240\n",
       "5| 40\n"
      ]
     },
     "execution_count": 15,
     "metadata": {},
     "output_type": "execute_result"
    },
    {
     "data": {
      "text/plain": [
       "1| 15\n",
       "2| 6\n",
       "3| 27\n",
       "4| 38\n",
       "3| 9\n",
       "5| 40\n"
      ]
     },
     "execution_count": 15,
     "metadata": {},
     "output_type": "execute_result"
    },
    {
     "data": {
      "text/plain": [
       "1| 15\n",
       "3| 27\n",
       "4| 38\n",
       "5| 40\n",
       "2| 6\n"
      ]
     },
     "execution_count": 15,
     "metadata": {},
     "output_type": "execute_result"
    },
    {
     "data": {
      "text/plain": [
       "1| 15\n",
       "2| 6\n",
       "3| 27\n",
       "4| 38\n",
       "3| 9\n",
       "5| 40\n"
      ]
     },
     "execution_count": 15,
     "metadata": {},
     "output_type": "execute_result"
    },
    {
     "data": {
      "text/plain": [
       "1| 15\n",
       "3| 27\n",
       "4| 38\n",
       "5| 40\n",
       "3| 100\n",
       "2| 6\n"
      ]
     },
     "execution_count": 15,
     "metadata": {},
     "output_type": "execute_result"
    }
   ],
   "source": [
    "\"Basic operations on dicts\"\n",
    "/Any function applied to dict applies to its value list\n",
    "/Recall with dict addition visted above, the keys are used to decide what values to add\n",
    "/The keys themselves never change\n",
    "d: 1 2 3 4!5 6 7 8\n",
    "d2: 1 3 4 5!10 20 30 40\n",
    "neg d /Only affects values\n",
    "2*d\n",
    "d=20\n",
    "d*d\n",
    "/When key list is different we get dict with union of the key lists\n",
    "/Operation only happens on matching keys\n",
    "/Nothing happens to unmacthed keys\n",
    "d*d2\n",
    "/What if their are duplicate keys in one of them\n",
    "d: 1 2 3 4 3!5 6 7 8 9\n",
    "d2: 1 3 4 5!10 20 30 40\n",
    "/If the first one has duplicates then operation happends only on first occurence\n",
    "d+d2\n",
    "/If the second one has duplicates then the non-first occurence is dropped\n",
    "d2+d\n",
    "/What id both have duplicate keys\n",
    "d: 1 2 3 4 3!5 6 7 8 9\n",
    "d2: 1 3 4 5 3!10 20 30 40 100\n",
    "/Operation only happens based on first occurence. Non first occurence of second dict is omitted\n",
    "d+d2\n",
    "/Operation only happens on first occurence. Non first occurence of second dict aka right operand are omitted\n",
    "d2+d"
   ]
  },
  {
   "cell_type": "code",
   "execution_count": 16,
   "id": "2014e8d2-1373-4743-bf0f-6a056793a996",
   "metadata": {
    "tags": []
   },
   "outputs": [
    {
     "data": {
      "text/plain": [
       "\"Join operator merges two dicts\"\n"
      ]
     },
     "execution_count": 16,
     "metadata": {},
     "output_type": "execute_result"
    },
    {
     "data": {
      "text/plain": [
       "a| 100\n",
       "b| 20\n",
       "c| 200\n",
       "d| 300\n"
      ]
     },
     "execution_count": 16,
     "metadata": {},
     "output_type": "execute_result"
    },
    {
     "data": {
      "text/plain": [
       "a| 100\n",
       "b| 20\n",
       "c| 200\n",
       "a| 40\n",
       "d| 300\n"
      ]
     },
     "execution_count": 16,
     "metadata": {},
     "output_type": "execute_result"
    },
    {
     "data": {
      "text/plain": [
       "a| 100\n",
       "b| 20\n",
       "c| 400\n",
       "a| 40\n",
       "d| 300\n"
      ]
     },
     "execution_count": 16,
     "metadata": {},
     "output_type": "execute_result"
    },
    {
     "data": {
      "text/plain": [
       "a| 40\n",
       "c| 30\n",
       "d| 300\n",
       "c| 400\n",
       "b| 20\n"
      ]
     },
     "execution_count": 16,
     "metadata": {},
     "output_type": "execute_result"
    }
   ],
   "source": [
    "\"Join operator merges two dicts\"\n",
    "/For overlapping keys b/w the two dicts the value of the right operand prevails\n",
    "/Syntax is same as lists\n",
    "d1:`a`b`c!10 20 30\n",
    "d2:`a`c`d!100 200 300\n",
    "d1,d2\n",
    "/Since we take the right operand values you can thing of this is each\n",
    "    /key value pair on the right being upserted into the left\n",
    "/Since we take the value of right operand in cases of overlap the order in joining matters\n",
    "/Again we think about duplicates\n",
    "/The result is very similar to how the other operators handled duplicates\n",
    "d1:`a`b`c`a!10 20 30 40\n",
    "d2:`a`c`d!100 200 300\n",
    "/If duplicate in left operand, we only perform potential coalesce on first occurence\n",
    "d1,d2\n",
    "/If duplicate on right operand we omit the non first occurence\n",
    "/If both have duplicates, things get tricky\n",
    "/But its easy to follow it if you break it down into the upserted calculations\n",
    "/If we have d1,d2\n",
    "/d1[key from d2] d2 value\n",
    "/If d1 has duplicate key, only first occurence changes b/c update operator can only retrieve first occurence\n",
    "/If d2 has duplicate keys `x for e.g\n",
    "/Then first we do d1[`x]=val1 and then we do d1[`x]=val2\n",
    "/Thus d1[`x] will have the last occurence because thats what we set\n",
    "d1:`a`b`c`a!10 20 30 40\n",
    "d2:`a`c`d`c!100 200 300 400\n",
    "/These follow the upsert chain as described above\n",
    "d1,d2\n",
    "d2,d1"
   ]
  },
  {
   "cell_type": "code",
   "execution_count": 17,
   "id": "cae9d792-7e2e-459a-a6f2-7cc4e3d4fc86",
   "metadata": {
    "tags": []
   },
   "outputs": [
    {
     "data": {
      "text/plain": [
       "\"Coalesce\"\n"
      ]
     },
     "execution_count": 17,
     "metadata": {},
     "output_type": "execute_result"
    },
    {
     "data": {
      "text/plain": [
       "a| 10\n",
       "b| 200\n",
       "c| 30\n",
       "d| 400\n"
      ]
     },
     "execution_count": 17,
     "metadata": {},
     "output_type": "execute_result"
    }
   ],
   "source": [
    "\"Coalesce\"\n",
    "/The coalesce operator is similar to join in that it employs upsert semantics\n",
    "    /to merge two dicts\n",
    "/The difference is that the right values prevail over the left except for nulls\n",
    "d1:`a`b`c!10 0N 30\n",
    "d2:`b`c`d!200 0N 400\n",
    "d1^d2"
   ]
  },
  {
   "cell_type": "code",
   "execution_count": 18,
   "id": "cc1a62c2-9499-40c6-adc9-a7bb306bc6f6",
   "metadata": {
    "tags": []
   },
   "outputs": [
    {
     "data": {
      "text/plain": [
       "\"Arithmetic and relational operators\"\n"
      ]
     },
     "execution_count": 18,
     "metadata": {},
     "output_type": "execute_result"
    },
    {
     "data": {
      "text/plain": [
       "a| 0\n",
       "b| 1\n",
       "c| 0\n",
       "d| 0\n"
      ]
     },
     "execution_count": 18,
     "metadata": {},
     "output_type": "execute_result"
    },
    {
     "data": {
      "text/plain": [
       "a| 1\n",
       "b| 1\n",
       "c| 0\n",
       "d| 1\n"
      ]
     },
     "execution_count": 18,
     "metadata": {},
     "output_type": "execute_result"
    },
    {
     "data": {
      "text/plain": [
       "a| 1\n",
       "b| 1\n",
       "c| 0\n",
       "d| 1\n"
      ]
     },
     "execution_count": 18,
     "metadata": {},
     "output_type": "execute_result"
    },
    {
     "data": {
      "text/plain": [
       "a| 0\n",
       "b| 1\n",
       "c| 0\n",
       "d| 1\n"
      ]
     },
     "execution_count": 18,
     "metadata": {},
     "output_type": "execute_result"
    }
   ],
   "source": [
    "\"Arithmetic and relational operators\"\n",
    "/In arithmetic operators, the operation is performed on common keys\n",
    "/Disjoint keys are kept as is\n",
    "/For equality and comparison, operation is performed over common keys\n",
    "/For disjoint keys the appropriate null value is returned\n",
    "/If a disjoint key has null value then it will show false\n",
    "/Because if we reference a non existing key in a dict we get null\n",
    "/So wehn comparing it to the dict that doesnt have it we will still get null for both resulting in True\n",
    "(`a`b`c!10 20 30)=`b`c`d!20 300 400 /b:20 is only key value pair matching\n",
    "(`a`b`c!0N 20 30)=`b`c`d!20 300 0N /b matches and a and d should return true because they are null and disjointed\n",
    "/Duplicate keys, what happens\n",
    "/Only first occurence is considered regardless of right or left operand\n",
    "/Non first occurence omitted\n",
    "(`a`b`c`a!10 20 30 10)=`b`c`d`a!20 300 0N 10\n",
    "/Both sides have duplicates? Still only first occurence checked and the rest omitted\n",
    "(`a`b`c`d`a!10 20 300 0N 20) = `a`b`c`a!20 20 30 10"
   ]
  },
  {
   "cell_type": "code",
   "execution_count": 19,
   "id": "feda863a-b4fa-4e35-b41b-e987ccd84ee2",
   "metadata": {
    "tags": []
   },
   "outputs": [
    {
     "data": {
      "text/plain": [
       "\"Column Dictionary\"\n"
      ]
     },
     "execution_count": 19,
     "metadata": {},
     "output_type": "execute_result"
    },
    {
     "data": {
      "text/plain": [
       "c1| a  b  c \n",
       "c2| 10 20 30\n"
      ]
     },
     "execution_count": 19,
     "metadata": {},
     "output_type": "execute_result"
    },
    {
     "data": {
      "text/plain": [
       "name| Dent Beeblebrox Prefect\n",
       "iq  | 42   98         126    \n"
      ]
     },
     "execution_count": 19,
     "metadata": {},
     "output_type": "execute_result"
    },
    {
     "data": {
      "text/plain": [
       "`Dent`Beeblebrox`Prefect\n"
      ]
     },
     "execution_count": 19,
     "metadata": {},
     "output_type": "execute_result"
    },
    {
     "data": {
      "text/plain": [
       "`Beeblebrox\n"
      ]
     },
     "execution_count": 19,
     "metadata": {},
     "output_type": "execute_result"
    },
    {
     "data": {
      "text/plain": [
       "`Beeblebrox\n"
      ]
     },
     "execution_count": 19,
     "metadata": {},
     "output_type": "execute_result"
    },
    {
     "data": {
      "text/plain": [
       "name| `Beeblebrox\n",
       "iq  | 98\n"
      ]
     },
     "execution_count": 19,
     "metadata": {},
     "output_type": "execute_result"
    },
    {
     "data": {
      "text/plain": [
       "c| 10 20 30\n"
      ]
     },
     "execution_count": 19,
     "metadata": {},
     "output_type": "execute_result"
    }
   ],
   "source": [
    "\"Column Dictionary\"\n",
    "/A dictionary where each key corresponds to vector/list is called a column dictionary\n",
    "`c1`c2!(`a`b`c; 10 20 30)\n",
    "/We think of c1..cn:v1..vn where ci is column\n",
    "/Lets look at an example\n",
    "travelers:`name`iq!(`Dent`Beeblebrox`Prefect;42 98 126)\n",
    "travelers\n",
    "\n",
    "/Name column\n",
    "travelers[`name]\n",
    "\n",
    "/Get the specific value in columns\n",
    "travelers[`name][1]\n",
    "\n",
    "/Whenever we encounter repeated indexing, we can write is as indexing at depth\n",
    "travelers[`name;1]\n",
    "\n",
    "/We do not specify the column, just the position\n",
    "travelers[;1]\n",
    "\n",
    "/COlumn dict with single column\n",
    "(enlist `c)!enlist 10 20 30"
   ]
  },
  {
   "cell_type": "code",
   "execution_count": 20,
   "id": "3af98d7e-5f12-42e5-940d-cbd6f6422af4",
   "metadata": {},
   "outputs": [
    {
     "data": {
      "text/plain": [
       "\"Transposing dictionaries\"\n"
      ]
     },
     "execution_count": 20,
     "metadata": {},
     "output_type": "execute_result"
    },
    {
     "data": {
      "text/plain": [
       "name       iq \n",
       "--------------\n",
       "Dent       42 \n",
       "Beeblebrox 98 \n",
       "Prefect    126\n"
      ]
     },
     "execution_count": 20,
     "metadata": {},
     "output_type": "execute_result"
    },
    {
     "data": {
      "text/plain": [
       "98\n"
      ]
     },
     "execution_count": 20,
     "metadata": {},
     "output_type": "execute_result"
    },
    {
     "data": {
      "text/plain": [
       "42 98 126\n"
      ]
     },
     "execution_count": 20,
     "metadata": {},
     "output_type": "execute_result"
    },
    {
     "data": {
      "text/plain": [
       "name| `Beeblebrox\n",
       "iq  | 98\n"
      ]
     },
     "execution_count": 20,
     "metadata": {},
     "output_type": "execute_result"
    }
   ],
   "source": [
    "\"Transposing dictionaries\"\n",
    "/he columns become the vertical columns as we are used to seeing them\n",
    "/The inexes flip so column index comes second\n",
    "travelers:`name`iq!(`Dent`Beeblebrox`Prefect;42 98 126)\n",
    "t: flip travelers\n",
    "t\n",
    "\n",
    "/Get value\n",
    "t[1;`iq]\n",
    "\n",
    "/Get column\n",
    "t[;`iq]\n",
    "\n",
    "/Get row\n",
    "t[1;]"
   ]
  }
 ],
 "metadata": {
  "kernelspec": {
   "display_name": "Q (kdb+)",
   "language": "q",
   "name": "qpk"
  },
  "language_info": {
   "file_extension": ".q",
   "mimetype": "text/x-q",
   "name": "q",
   "version": "4.0"
  }
 },
 "nbformat": 4,
 "nbformat_minor": 5
}
