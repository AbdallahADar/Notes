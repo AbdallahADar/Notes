{
 "cells": [
  {
   "cell_type": "markdown",
   "id": "9316157f-9711-40cd-8c59-529ad473c5f5",
   "metadata": {},
   "source": [
    "# Transforming Data"
   ]
  },
  {
   "cell_type": "code",
   "execution_count": 1,
   "id": "1d01a719-7cb6-4faf-af9c-c86cddb1c88f",
   "metadata": {},
   "outputs": [],
   "source": [
    "/Casting is a way to convert a value of one type to a compatible type\n",
    "/Sometimes the conversion is exact, sometimes information is lost"
   ]
  },
  {
   "cell_type": "code",
   "execution_count": 4,
   "id": "cbd6aed1-3778-482f-9d93-bf84335eea73",
   "metadata": {},
   "outputs": [
    {
     "name": "stdout",
     "output_type": "stream",
     "text": [
      "type      type symbol type char type num\n",
      "----------------------------------------\n",
      "boolean   `boolean    B         1h      \n",
      "guid      `guid       G         2h      \n",
      "byte      `byte       X         4h      \n",
      "short     `short      H         5h      \n",
      "int       `int        I         6h      \n",
      "long      `long       J         7h      \n",
      "real      `real       E         8h      \n",
      "float     `float      F         9h      \n",
      "char      `char       C         10h     \n",
      "symbol    `           S         11h     \n",
      "timestamp `timestamp  P         12h     \n",
      "month     `month      M         13h     \n",
      "date      `date       D         14h     \n",
      "datetime  `datetime   Z         15h     \n",
      "timespan  `timespan   N         16h     \n",
      "minute    `minute     U         17h     \n",
      "second    `second     V         18h     \n",
      "time      `time       T         19h     \n"
     ]
    }
   ],
   "source": [
    "/A type can be specified in three equivalent ways: symbol, char and num\n",
    "/We are getting ahead of ourselves and loading a csv but ignore the syntax and just view the table for now\n",
    "\n",
    "show data:(\"SSSS\";enlist\",\") 0: `:types.csv"
   ]
  },
  {
   "cell_type": "code",
   "execution_count": 12,
   "id": "7c00ebee-628d-4e17-b5f5-5b1a1835a248",
   "metadata": {},
   "outputs": [
    {
     "data": {
      "text/plain": [
       "\"Type Operator\"\n"
      ]
     },
     "execution_count": 12,
     "metadata": {},
     "output_type": "execute_result"
    },
    {
     "data": {
      "text/plain": [
       "-7h\n"
      ]
     },
     "execution_count": 12,
     "metadata": {},
     "output_type": "execute_result"
    },
    {
     "data": {
      "text/plain": [
       "7h\n"
      ]
     },
     "execution_count": 12,
     "metadata": {},
     "output_type": "execute_result"
    },
    {
     "data": {
      "text/plain": [
       "9h\n"
      ]
     },
     "execution_count": 12,
     "metadata": {},
     "output_type": "execute_result"
    },
    {
     "data": {
      "text/plain": [
       "-10h\n"
      ]
     },
     "execution_count": 12,
     "metadata": {},
     "output_type": "execute_result"
    },
    {
     "data": {
      "text/plain": [
       "10h\n"
      ]
     },
     "execution_count": 12,
     "metadata": {},
     "output_type": "execute_result"
    },
    {
     "data": {
      "text/plain": [
       "-11h\n"
      ]
     },
     "execution_count": 12,
     "metadata": {},
     "output_type": "execute_result"
    },
    {
     "data": {
      "text/plain": [
       "0h\n"
      ]
     },
     "execution_count": 12,
     "metadata": {},
     "output_type": "execute_result"
    },
    {
     "data": {
      "text/plain": [
       "99h\n"
      ]
     },
     "execution_count": 12,
     "metadata": {},
     "output_type": "execute_result"
    },
    {
     "data": {
      "text/plain": [
       "98h\n"
      ]
     },
     "execution_count": 12,
     "metadata": {},
     "output_type": "execute_result"
    },
    {
     "data": {
      "text/plain": [
       "99h\n"
      ]
     },
     "execution_count": 12,
     "metadata": {},
     "output_type": "execute_result"
    }
   ],
   "source": [
    "\"Type Operator\"\n",
    "\n",
    "/Returns data type expressed as short.\n",
    "/It is a feature of q that data type of an atom is negative whereas\n",
    "    /datattype of a simple list is positive\n",
    "\n",
    "type 42\n",
    "\n",
    "type 10 20 30\n",
    "\n",
    "type 1.1 2.2 3.3\n",
    "\n",
    "type \"z\"\n",
    "\n",
    "type \"abc\" /Is positive because a string is a simple list of chars\n",
    "\n",
    "type `A\n",
    "\n",
    "/Type of any general list is 0h\n",
    "type (1.1;2;3)\n",
    "\n",
    "/Type of any dictionary is 99h\n",
    "type (`a`b`c!1 2 3)\n",
    "\n",
    "/Type of any table is 98h\n",
    "type ([] c1:`a`b`c; c2:10 20 30)\n",
    "\n",
    "/However a keyed in table has the same type as a dict i.e 99h\n",
    "type ([k:`a`b`c] v:10 20 30)"
   ]
  },
  {
   "cell_type": "code",
   "execution_count": 13,
   "id": "2bdba2a6-2cb2-44fa-bb49-ddb613140f00",
   "metadata": {},
   "outputs": [
    {
     "data": {
      "text/plain": [
       "-7h\n"
      ]
     },
     "execution_count": 13,
     "metadata": {},
     "output_type": "execute_result"
    },
    {
     "data": {
      "text/plain": [
       "-10h\n"
      ]
     },
     "execution_count": 13,
     "metadata": {},
     "output_type": "execute_result"
    }
   ],
   "source": [
    "/The type of a variable is the type of the value associated with the variable's name.\n",
    "/So if we reassign a variable to a different type of value\n",
    "/Its type changes\n",
    "\n",
    "a: 42\n",
    "type a\n",
    "\n",
    "a:\"S\"\n",
    "type a"
   ]
  },
  {
   "cell_type": "code",
   "execution_count": 18,
   "id": "810448e7-9a06-4020-88be-1dedf53b5e37",
   "metadata": {},
   "outputs": [
    {
     "data": {
      "text/plain": [
       "\"Casting\"\n"
      ]
     },
     "execution_count": 18,
     "metadata": {},
     "output_type": "execute_result"
    },
    {
     "data": {
      "text/plain": [
       "42\n"
      ]
     },
     "execution_count": 18,
     "metadata": {},
     "output_type": "execute_result"
    },
    {
     "data": {
      "text/plain": [
       "42i\n"
      ]
     },
     "execution_count": 18,
     "metadata": {},
     "output_type": "execute_result"
    },
    {
     "data": {
      "text/plain": [
       "42f\n"
      ]
     },
     "execution_count": 18,
     "metadata": {},
     "output_type": "execute_result"
    },
    {
     "data": {
      "text/plain": [
       "42\n"
      ]
     },
     "execution_count": 18,
     "metadata": {},
     "output_type": "execute_result"
    },
    {
     "data": {
      "text/plain": [
       "42i\n"
      ]
     },
     "execution_count": 18,
     "metadata": {},
     "output_type": "execute_result"
    },
    {
     "data": {
      "text/plain": [
       "42f\n"
      ]
     },
     "execution_count": 18,
     "metadata": {},
     "output_type": "execute_result"
    },
    {
     "data": {
      "text/plain": [
       "42\n"
      ]
     },
     "execution_count": 18,
     "metadata": {},
     "output_type": "execute_result"
    },
    {
     "data": {
      "text/plain": [
       "42i\n"
      ]
     },
     "execution_count": 18,
     "metadata": {},
     "output_type": "execute_result"
    },
    {
     "data": {
      "text/plain": [
       "42f\n"
      ]
     },
     "execution_count": 18,
     "metadata": {},
     "output_type": "execute_result"
    }
   ],
   "source": [
    "\"Casting\"\n",
    "\n",
    "/We use the binary operator $\n",
    "/Right operand is the source value and left operand specifies the target type\n",
    "/There are three ways to specify the target type:\n",
    "    /Short type value (type num in table above). No need to put negative sign.\n",
    "    /Char type value (type char in table above)\n",
    "    /Symbol type value (type symbol in table above)\n",
    "\n",
    "\n",
    "7h$42i /Int to long\n",
    "6h$42 /Long to int\n",
    "9h$42 /Long to float\n",
    "\n",
    "\n",
    "/It is more readable to use Char type instead of short type\n",
    "\"j\"$42i /Int to long\n",
    "\"i\"$42 /Long to int\n",
    "\"f\"$42 /Long to float\n",
    "\n",
    "/It is most readable to use Symbol type instead of char or short type\n",
    "`long$42i /Int to long\n",
    "`int$42 /Long to int\n",
    "`float$42 /Long to float"
   ]
  },
  {
   "cell_type": "code",
   "execution_count": 24,
   "id": "9bdc9583-fbb9-4add-a403-4cf18cbab2b2",
   "metadata": {},
   "outputs": [
    {
     "data": {
      "text/plain": [
       "99i\n"
      ]
     },
     "execution_count": 24,
     "metadata": {},
     "output_type": "execute_result"
    },
    {
     "data": {
      "text/plain": [
       "\"c\"\n"
      ]
     },
     "execution_count": 24,
     "metadata": {},
     "output_type": "execute_result"
    }
   ],
   "source": [
    "/Converting chars to ints, we get their ASCII values\n",
    "`int$\"c\"\n",
    "\n",
    "/Likewise, converting ints to char, we get the char with the ASCII\n",
    "    /value corresponding to the int\n",
    "`char$99"
   ]
  },
  {
   "cell_type": "code",
   "execution_count": 25,
   "id": "4bf9fb44-2707-4f28-8999-d5ac9c47837d",
   "metadata": {},
   "outputs": [
    {
     "data": {
      "text/plain": [
       "2000.01.01\n"
      ]
     },
     "execution_count": 25,
     "metadata": {},
     "output_type": "execute_result"
    },
    {
     "data": {
      "text/plain": [
       "366i\n"
      ]
     },
     "execution_count": 25,
     "metadata": {},
     "output_type": "execute_result"
    }
   ],
   "source": [
    "/The value of a date is its count of days from millenium so we can cast to and from int\n",
    "\n",
    "`date$0\n",
    "\n",
    "`int$2001.01.01"
   ]
  },
  {
   "cell_type": "code",
   "execution_count": 27,
   "id": "483417d7-24d9-4147-9dee-261546817cb9",
   "metadata": {},
   "outputs": [
    {
     "data": {
      "text/plain": [
       "43200000000000\n"
      ]
     },
     "execution_count": 27,
     "metadata": {},
     "output_type": "execute_result"
    },
    {
     "data": {
      "text/plain": [
       "0D00:00:00.000000000\n"
      ]
     },
     "execution_count": 27,
     "metadata": {},
     "output_type": "execute_result"
    }
   ],
   "source": [
    "/The underlying value of a timespan is its count of nanoseconds from midnight\n",
    "/So we can cast it to and from long\n",
    "\n",
    "`long$12:00:00.000000000\n",
    "\n",
    "`timespan$0"
   ]
  },
  {
   "cell_type": "code",
   "execution_count": 40,
   "id": "76711355-b9ae-43ad-8d37-a0d741b2af3e",
   "metadata": {},
   "outputs": [
    {
     "data": {
      "text/plain": [
       "\"Casts that Narrow\"\n"
      ]
     },
     "execution_count": 40,
     "metadata": {},
     "output_type": "execute_result"
    },
    {
     "data": {
      "text/plain": [
       "12\n"
      ]
     },
     "execution_count": 40,
     "metadata": {},
     "output_type": "execute_result"
    },
    {
     "data": {
      "text/plain": [
       "0Wh\n"
      ]
     },
     "execution_count": 40,
     "metadata": {},
     "output_type": "execute_result"
    }
   ],
   "source": [
    "\"Casts that Narrow\"\n",
    "\n",
    "/Some casst lose information\n",
    "\n",
    "\n",
    "`long$12.14 /Float to int\n",
    "\n",
    "/Wider ints to narrower ones\n",
    "`short$123456"
   ]
  },
  {
   "cell_type": "code",
   "execution_count": 44,
   "id": "42e4c055-b33e-4cd8-8710-e01529a12f44",
   "metadata": {},
   "outputs": [
    {
     "data": {
      "text/plain": [
       "\"Casting to Booleans\"\n"
      ]
     },
     "execution_count": 44,
     "metadata": {},
     "output_type": "execute_result"
    },
    {
     "data": {
      "text/plain": [
       "0b\n"
      ]
     },
     "execution_count": 44,
     "metadata": {},
     "output_type": "execute_result"
    },
    {
     "data": {
      "text/plain": [
       "0b\n"
      ]
     },
     "execution_count": 44,
     "metadata": {},
     "output_type": "execute_result"
    },
    {
     "data": {
      "text/plain": [
       "1b\n"
      ]
     },
     "execution_count": 44,
     "metadata": {},
     "output_type": "execute_result"
    },
    {
     "data": {
      "text/plain": [
       "1b\n"
      ]
     },
     "execution_count": 44,
     "metadata": {},
     "output_type": "execute_result"
    },
    {
     "data": {
      "text/plain": [
       "1b\n"
      ]
     },
     "execution_count": 44,
     "metadata": {},
     "output_type": "execute_result"
    }
   ],
   "source": [
    "\"Casting to Booleans\"\n",
    "\n",
    "/Zeros are False aka 0b and everything else is True aka 1b\n",
    "\n",
    "`boolean$0\n",
    "`boolean$0.0\n",
    "\n",
    "`boolean$123\n",
    "`boolean$1.23\n",
    "`boolean$\"c\""
   ]
  },
  {
   "cell_type": "code",
   "execution_count": 48,
   "id": "7b3a6e63-6e7d-4175-b647-b77f24435384",
   "metadata": {},
   "outputs": [
    {
     "data": {
      "text/plain": [
       "\"Extract Constituents from Complex types\"\n"
      ]
     },
     "execution_count": 48,
     "metadata": {},
     "output_type": "execute_result"
    },
    {
     "data": {
      "text/plain": [
       "2015.01.02\n"
      ]
     },
     "execution_count": 48,
     "metadata": {},
     "output_type": "execute_result"
    },
    {
     "data": {
      "text/plain": [
       "2015i\n"
      ]
     },
     "execution_count": 48,
     "metadata": {},
     "output_type": "execute_result"
    },
    {
     "data": {
      "text/plain": [
       "2015.01m\n"
      ]
     },
     "execution_count": 48,
     "metadata": {},
     "output_type": "execute_result"
    },
    {
     "data": {
      "text/plain": [
       "1i\n"
      ]
     },
     "execution_count": 48,
     "metadata": {},
     "output_type": "execute_result"
    },
    {
     "data": {
      "text/plain": [
       "2i\n"
      ]
     },
     "execution_count": 48,
     "metadata": {},
     "output_type": "execute_result"
    },
    {
     "data": {
      "text/plain": [
       "10i\n"
      ]
     },
     "execution_count": 48,
     "metadata": {},
     "output_type": "execute_result"
    },
    {
     "data": {
      "text/plain": [
       "10:20\n"
      ]
     },
     "execution_count": 48,
     "metadata": {},
     "output_type": "execute_result"
    },
    {
     "data": {
      "text/plain": [
       "20i\n"
      ]
     },
     "execution_count": 48,
     "metadata": {},
     "output_type": "execute_result"
    },
    {
     "data": {
      "text/plain": [
       "10:20:30\n"
      ]
     },
     "execution_count": 48,
     "metadata": {},
     "output_type": "execute_result"
    },
    {
     "data": {
      "text/plain": [
       "30i\n"
      ]
     },
     "execution_count": 48,
     "metadata": {},
     "output_type": "execute_result"
    }
   ],
   "source": [
    "\"Extract Constituents from Complex types\"\n",
    "\n",
    "`date$2015.01.02D10:20:30.123456789\n",
    "\n",
    "`year$2015.01.02D10:20:30.123456789\n",
    "\n",
    "`month$2015.01.02D10:20:30.123456789\n",
    "\n",
    "`mm$2015.01.02D10:20:30.123456789\n",
    "\n",
    "`dd$2015.01.02D10:20:30.123456789\n",
    "\n",
    "`hh$2015.01.02D10:20:30.123456789\n",
    "\n",
    "`minute$2015.01.02D10:20:30.123456789\n",
    "\n",
    "`uu$2015.01.02D10:20:30.123456789\n",
    "\n",
    "`second$2015.01.02D10:20:30.123456789\n",
    "\n",
    "`ss$2015.01.02D10:20:30.123456789"
   ]
  },
  {
   "cell_type": "code",
   "execution_count": 49,
   "id": "d02e5dfe-5241-48ca-9e77-d2c3d32be40b",
   "metadata": {},
   "outputs": [
    {
     "data": {
      "text/plain": [
       "\"Casting Integral infinites\"\n"
      ]
     },
     "execution_count": 49,
     "metadata": {},
     "output_type": "execute_result"
    },
    {
     "data": {
      "text/plain": [
       "32767i\n"
      ]
     },
     "execution_count": 49,
     "metadata": {},
     "output_type": "execute_result"
    },
    {
     "data": {
      "text/plain": [
       "2147483647\n"
      ]
     },
     "execution_count": 49,
     "metadata": {},
     "output_type": "execute_result"
    }
   ],
   "source": [
    "\"Casting Integral infinites\"\n",
    "\n",
    "/When integral infinities are cast to integers of wider type, \n",
    "    /they are their underlying bit patterns, reinterpreted. \n",
    "/Since these bit patterns are legitimate values for the wider \n",
    "    /type, the cast results in a finite value.\n",
    "\n",
    "`int$0Wh\n",
    "\n",
    "`long$0Wi"
   ]
  },
  {
   "cell_type": "code",
   "execution_count": 56,
   "id": "a94da31e-57c1-4e6b-890f-188a610e10e2",
   "metadata": {},
   "outputs": [
    {
     "data": {
      "text/plain": [
       "\"Coercing Types\"\n"
      ]
     },
     "execution_count": 57,
     "metadata": {},
     "output_type": "execute_result"
    },
    {
     "ename": "\u001b[0;31mtype\u001b[0m",
     "evalue": "\u001b[0;31mtype\u001b[0m",
     "output_type": "error",
     "traceback": [
      "\u001b[0;31mevaluation error:\n\u001b[0m",
      "\u001b[0;31mtype\u001b[0m",
      "\u001b[0;31m\u001b[0m",
      "\u001b[0;31m  [0]  L[1]: 42h\n           ^\n\u001b[0m"
     ]
    }
   ],
   "source": [
    "\"Coercing Types\"\n",
    "\n",
    "/Casting can be used to coerce type-safe assignment\n",
    "/We know that assignment into a simple list must strictly match the type\n",
    "\n",
    "L: 1 2 3 4 5\n",
    "\n",
    "L[1]: 42h"
   ]
  },
  {
   "cell_type": "code",
   "execution_count": 57,
   "id": "d189b5c5-da78-4b53-a271-60858a53ea78",
   "metadata": {},
   "outputs": [
    {
     "data": {
      "text/plain": [
       "1 42 3 4 5\n"
      ]
     },
     "execution_count": 57,
     "metadata": {},
     "output_type": "execute_result"
    }
   ],
   "source": [
    "/Coerce the type by casting it to that of the target\n",
    "\n",
    "L[1]: (type L)$42h\n",
    "L"
   ]
  },
  {
   "cell_type": "code",
   "execution_count": 58,
   "id": "8799bffd-4d35-4d4d-8bfb-7f5ae9419f3f",
   "metadata": {},
   "outputs": [
    {
     "data": {
      "text/plain": [
       "1 42 3 4 5 430\n"
      ]
     },
     "execution_count": 58,
     "metadata": {},
     "output_type": "execute_result"
    }
   ],
   "source": [
    "/This coercion to the right type is also very useful when appending the list\n",
    "L,:(type L)$430h\n",
    "L"
   ]
  },
  {
   "cell_type": "code",
   "execution_count": 59,
   "id": "8f1f3ddd-665f-44a4-8493-78ed2ca6ee8a",
   "metadata": {},
   "outputs": [],
   "source": [
    "/This is the whole reason why a simple list returns type as positive\n",
    "/So that we can use its type argument to coerce values given the strict\n",
    "    /types in simple lists"
   ]
  },
  {
   "cell_type": "code",
   "execution_count": 64,
   "id": "91dee8c1-7453-48cb-bf00-287810205daf",
   "metadata": {},
   "outputs": [
    {
     "data": {
      "text/plain": [
       "\"Cast is Astomic\"\n"
      ]
     },
     "execution_count": 64,
     "metadata": {},
     "output_type": "execute_result"
    },
    {
     "data": {
      "text/plain": [
       "1 2 3 4i\n"
      ]
     },
     "execution_count": 64,
     "metadata": {},
     "output_type": "execute_result"
    },
    {
     "data": {
      "text/plain": [
       "\"*\"\n",
       "42i\n",
       "42f\n"
      ]
     },
     "execution_count": 64,
     "metadata": {},
     "output_type": "execute_result"
    },
    {
     "data": {
      "text/plain": [
       "\"*\"\n",
       "43i\n",
       "44f\n"
      ]
     },
     "execution_count": 64,
     "metadata": {},
     "output_type": "execute_result"
    },
    {
     "data": {
      "text/plain": [
       "\"*\"\n",
       "43i\n",
       "44f\n"
      ]
     },
     "execution_count": 64,
     "metadata": {},
     "output_type": "execute_result"
    }
   ],
   "source": [
    "\"Cast is Astomic\"\n",
    "\n",
    "/If we apply it to a list, it hapends to all of the atoms in the list\n",
    "\n",
    "`int$1 2 3 4\n",
    "\n",
    "/The above example was of cast being atomic on the right operand\n",
    "/It is also atomic on the left operand\n",
    "\n",
    "`char`int`float$42\n",
    "\n",
    "/Cast is also atomic in both operands simultaneously\n",
    "`char`int`float$42 43 44\n",
    "\n",
    "/A neat way to use the char type casting\n",
    "\"cif\"$42 43 44"
   ]
  },
  {
   "cell_type": "code",
   "execution_count": 67,
   "id": "76c20de2-987e-4d60-94d8-86a89c9245f8",
   "metadata": {},
   "outputs": [
    {
     "data": {
      "text/plain": [
       "\"Data to Strings\"\n"
      ]
     },
     "execution_count": 67,
     "metadata": {},
     "output_type": "execute_result"
    },
    {
     "data": {
      "text/plain": [
       "\"42\"\n"
      ]
     },
     "execution_count": 67,
     "metadata": {},
     "output_type": "execute_result"
    },
    {
     "data": {
      "text/plain": [
       ",\"4\"\n"
      ]
     },
     "execution_count": 67,
     "metadata": {},
     "output_type": "execute_result"
    },
    {
     "data": {
      "text/plain": [
       "\"42\"\n"
      ]
     },
     "execution_count": 67,
     "metadata": {},
     "output_type": "execute_result"
    },
    {
     "data": {
      "text/plain": [
       "\"{x*x}\"\n"
      ]
     },
     "execution_count": 67,
     "metadata": {},
     "output_type": "execute_result"
    },
    {
     "data": {
      "text/plain": [
       "\"Hello\"\n"
      ]
     },
     "execution_count": 67,
     "metadata": {},
     "output_type": "execute_result"
    }
   ],
   "source": [
    "\"Data to Strings\"\n",
    "\n",
    "/Function string can be used on any q entity to produce a text representation\n",
    "/The result is always a list of chars so for single digitds you will\n",
    "    /see a singleton list of a char\n",
    "\n",
    "string 42\n",
    "\n",
    "string 4 /Singleton list\n",
    "\n",
    "a:42\n",
    "\n",
    "string a\n",
    "\n",
    "f:{x*x}\n",
    "\n",
    "string f /Literally the function code is returned\n",
    "\n",
    "string `Hello"
   ]
  },
  {
   "cell_type": "code",
   "execution_count": 66,
   "id": "b4635db3-2282-46e6-aba9-87c1db016542",
   "metadata": {},
   "outputs": [
    {
     "data": {
      "text/plain": [
       ",\"1\"\n",
       ",\"2\"\n",
       ",\"3\"\n"
      ]
     },
     "execution_count": 66,
     "metadata": {},
     "output_type": "execute_result"
    },
    {
     "data": {
      "text/plain": [
       ",\"a\"\n",
       ",\"b\"\n",
       ",\"c\"\n"
      ]
     },
     "execution_count": 66,
     "metadata": {},
     "output_type": "execute_result"
    }
   ],
   "source": [
    "/The string function is not atomic\n",
    "/It is pseudo atomic, in that it recurses into its argumeent and applies to individual atoms\n",
    "\n",
    "string 1 2 3\n",
    "\n",
    "/That is why converting a string to a string results in singleton list of each char\n",
    "string \"abc\""
   ]
  },
  {
   "cell_type": "code",
   "execution_count": 70,
   "id": "bb2bcb88-4dd8-46a9-8f7b-986917e0658d",
   "metadata": {},
   "outputs": [
    {
     "data": {
      "text/plain": [
       "\"Creating Symbols from Strings\"\n"
      ]
     },
     "execution_count": 71,
     "metadata": {},
     "output_type": "execute_result"
    },
    {
     "data": {
      "text/plain": [
       "`abc\n"
      ]
     },
     "execution_count": 71,
     "metadata": {},
     "output_type": "execute_result"
    },
    {
     "data": {
      "text/plain": [
       "`ABD A\n"
      ]
     },
     "execution_count": 71,
     "metadata": {},
     "output_type": "execute_result"
    },
    {
     "ename": "\u001b[0;31mA\u001b[0m",
     "evalue": "\u001b[0;31mA\u001b[0m",
     "output_type": "error",
     "traceback": [
      "\u001b[0;31mevaluation error:\n\u001b[0m",
      "\u001b[0;31mA\u001b[0m",
      "\u001b[0;31m\u001b[0m",
      "\u001b[0;31m  [0]  `ABD A /Space does not work, gives error\n            ^\n\u001b[0m"
     ]
    }
   ],
   "source": [
    "\"Creating Symbols from Strings\"\n",
    "\n",
    "`$\"abc\"\n",
    "\n",
    "/This allows us to add special chars to symbols that would be impossibel when typing out directly\n",
    "`$\"ABD A\"\n",
    "\n",
    "`ABD A /Space does not work, gives error"
   ]
  },
  {
   "cell_type": "code",
   "execution_count": 75,
   "id": "7b3f9274-64aa-4433-aef9-1464eb47e2d8",
   "metadata": {},
   "outputs": [
    {
     "data": {
      "text/plain": [
       "\"Parsing Data from Strings\"\n"
      ]
     },
     "execution_count": 75,
     "metadata": {},
     "output_type": "execute_result"
    },
    {
     "data": {
      "text/plain": [
       "52 50i\n"
      ]
     },
     "execution_count": 75,
     "metadata": {},
     "output_type": "execute_result"
    },
    {
     "data": {
      "text/plain": [
       "52 50i\n"
      ]
     },
     "execution_count": 75,
     "metadata": {},
     "output_type": "execute_result"
    },
    {
     "data": {
      "text/plain": [
       "42i\n"
      ]
     },
     "execution_count": 75,
     "metadata": {},
     "output_type": "execute_result"
    },
    {
     "data": {
      "text/plain": [
       "42f\n"
      ]
     },
     "execution_count": 75,
     "metadata": {},
     "output_type": "execute_result"
    },
    {
     "data": {
      "text/plain": [
       "42f\n"
      ]
     },
     "execution_count": 75,
     "metadata": {},
     "output_type": "execute_result"
    },
    {
     "data": {
      "text/plain": [
       "0Ni\n"
      ]
     },
     "execution_count": 75,
     "metadata": {},
     "output_type": "execute_result"
    }
   ],
   "source": [
    "\"Parsing Data from Strings\"\n",
    "\n",
    "/$ operator is overloaded to parse strings into data of any type.\n",
    "/The overload is invoked by using an uppercase type char as target left operand\n",
    "    /and string on right operand\n",
    "/If parse cannot be performed, a null of traget type is returned\n",
    "\n",
    "/Returns int of \"4\" and \"2\" as seen below\n",
    "\"i\"$\"42\"\n",
    "\"i\"$(\"4\";\"2\")\n",
    "\n",
    "/To get it for 42, we need to invoke overload using uppercase\n",
    "\n",
    "\"I\"$\"42\"\n",
    "\"F\"$\"42\"\n",
    "\"F\"$\"42.0\"\n",
    "\"I\"$\"42.0\" /Returns null"
   ]
  },
  {
   "cell_type": "code",
   "execution_count": 82,
   "id": "2fdc6754-ddf9-49c1-8aa3-56f6e194d46a",
   "metadata": {},
   "outputs": [
    {
     "data": {
      "text/plain": [
       "\"Date Parsing\"\n"
      ]
     },
     "execution_count": 82,
     "metadata": {},
     "output_type": "execute_result"
    },
    {
     "data": {
      "text/plain": [
       "2014.12.31\n"
      ]
     },
     "execution_count": 82,
     "metadata": {},
     "output_type": "execute_result"
    },
    {
     "data": {
      "text/plain": [
       "2014.12.31\n"
      ]
     },
     "execution_count": 82,
     "metadata": {},
     "output_type": "execute_result"
    },
    {
     "data": {
      "text/plain": [
       "2014.12.31\n"
      ]
     },
     "execution_count": 82,
     "metadata": {},
     "output_type": "execute_result"
    },
    {
     "data": {
      "text/plain": [
       "2014.12.01\n"
      ]
     },
     "execution_count": 82,
     "metadata": {},
     "output_type": "execute_result"
    },
    {
     "data": {
      "text/plain": [
       "2014.12.31\n"
      ]
     },
     "execution_count": 82,
     "metadata": {},
     "output_type": "execute_result"
    },
    {
     "data": {
      "text/plain": [
       "0Nd\n"
      ]
     },
     "execution_count": 82,
     "metadata": {},
     "output_type": "execute_result"
    },
    {
     "data": {
      "text/plain": [
       "0Nd\n"
      ]
     },
     "execution_count": 82,
     "metadata": {},
     "output_type": "execute_result"
    },
    {
     "data": {
      "text/plain": [
       "0Nd\n"
      ]
     },
     "execution_count": 82,
     "metadata": {},
     "output_type": "execute_result"
    },
    {
     "data": {
      "text/plain": [
       "0Nd\n"
      ]
     },
     "execution_count": 82,
     "metadata": {},
     "output_type": "execute_result"
    }
   ],
   "source": [
    "\"Date Parsing\"\n",
    "\n",
    "/Date parsing is flexible with respect to the format of the date\n",
    "\n",
    "\"D\"$\"12.31.2014\"\n",
    "\n",
    "\"D\"$\"12-31-2014\"\n",
    "\n",
    "\"D\"$\"12/31/2014\"\n",
    "\n",
    "\"D\"$\"12/1/2014\"\n",
    "\n",
    "\"D\"$\"2014/12/31\"\n",
    "\n",
    "\n",
    "/The format MM/DD just does not work and returns null\n",
    "\"D\"$\"31.12.2014\"\n",
    "\"D\"$\"31-12-2014\"\n",
    "\"D\"$\"31/12/2014\"\n",
    "\"D\"$\"2014/31/12\""
   ]
  },
  {
   "cell_type": "code",
   "execution_count": 85,
   "id": "d39f57d0-218a-4908-be0a-24c540d58495",
   "metadata": {},
   "outputs": [
    {
     "data": {
      "text/plain": [
       "\"Function Parsing\"\n"
      ]
     },
     "execution_count": 85,
     "metadata": {},
     "output_type": "execute_result"
    },
    {
     "data": {
      "text/plain": [
       "4\n"
      ]
     },
     "execution_count": 85,
     "metadata": {},
     "output_type": "execute_result"
    },
    {
     "data": {
      "text/plain": [
       "4\n"
      ]
     },
     "execution_count": 85,
     "metadata": {},
     "output_type": "execute_result"
    }
   ],
   "source": [
    "\"Function Parsing\"\n",
    "\n",
    "/Create a function from a string use the built in value which is the\n",
    "    /q interpreter or parse which is the parse step of the q interpreter\n",
    "\n",
    "f: value \"{x*x}\"\n",
    "f 2\n",
    "\n",
    "ff: parse \"{x*x}\"\n",
    "ff 2"
   ]
  },
  {
   "cell_type": "code",
   "execution_count": 88,
   "id": "7534dd4a-eba0-493b-923f-c685404f5ed5",
   "metadata": {},
   "outputs": [
    {
     "data": {
      "text/plain": [
       "\"Creating Typed Empty \"\n"
      ]
     },
     "execution_count": 89,
     "metadata": {},
     "output_type": "execute_result"
    },
    {
     "data": {
      "text/plain": [
       "0h\n"
      ]
     },
     "execution_count": 89,
     "metadata": {},
     "output_type": "execute_result"
    },
    {
     "data": {
      "text/plain": [
       "0h\n"
      ]
     },
     "execution_count": 89,
     "metadata": {},
     "output_type": "execute_result"
    },
    {
     "data": {
      "text/plain": [
       "7h\n"
      ]
     },
     "execution_count": 89,
     "metadata": {},
     "output_type": "execute_result"
    },
    {
     "ename": "\u001b[0;31mtype\u001b[0m",
     "evalue": "\u001b[0;31mtype\u001b[0m",
     "output_type": "error",
     "traceback": [
      "\u001b[0;31mevaluation error:\n\u001b[0m",
      "\u001b[0;31mtype\u001b[0m",
      "\u001b[0;31m\u001b[0m",
      "\u001b[0;31m  [0]  L,: 42.4 /Gives error\n        ^\n\u001b[0m"
     ]
    }
   ],
   "source": [
    "\"Creating Typed Empty \"\n",
    "\n",
    "/The general empty list has type 0 since it has no items and \n",
    "    /therefore affords no canonical way to determine a type.\n",
    "\n",
    "type ()\n",
    "\n",
    "/An issue arises when appending an item in place to a general \n",
    "    /empty list, Namely, if that item is an atom, the resulting \n",
    "    /singleton list is now a simple list of the type of the atom.\n",
    "/Recall that a general list returns 0h as well\n",
    "/So if we get a non 0h type value for a list, it is a simple list\n",
    "\n",
    "L:()\n",
    "type L\n",
    "L,:42\n",
    "type L\n",
    "\n",
    "L,: 42.4 /Gives error"
   ]
  },
  {
   "cell_type": "code",
   "execution_count": 95,
   "id": "d0959892-d175-47ed-a7f2-771659409d52",
   "metadata": {},
   "outputs": [
    {
     "data": {
      "text/plain": [
       "42 98.6\n"
      ]
     },
     "execution_count": 96,
     "metadata": {},
     "output_type": "execute_result"
    },
    {
     "ename": "\u001b[0;31mtype\u001b[0m",
     "evalue": "\u001b[0;31mtype\u001b[0m",
     "output_type": "error",
     "traceback": [
      "\u001b[0;31mevaluation error:\n\u001b[0m",
      "\u001b[0;31mtype\u001b[0m",
      "\u001b[0;31m\u001b[0m",
      "\u001b[0;31m  [0]  c1,: 44 /Error\n         ^\n\u001b[0m"
     ]
    }
   ],
   "source": [
    "/To avoid this, cast the empty list using the name of the desired \n",
    "    /type, which makes it an empty simple list of that type.\n",
    "\n",
    "/This takes out the guessing game. Our first entry maybe a long when we\n",
    "    /intended it to be alist of floats but adding a long first types it\n",
    "    /to longs so its better to type it ourselves.\n",
    "\n",
    "c1:`float$()\n",
    "c1,:42.0\n",
    "c1,:98.6\n",
    "c1\n",
    "\n",
    "c1,: 44 /Error"
   ]
  },
  {
   "cell_type": "code",
   "execution_count": 104,
   "id": "6b93171e-5752-4024-b6af-245a71cf152a",
   "metadata": {},
   "outputs": [
    {
     "data": {
      "text/plain": [
       "1 2\n"
      ]
     },
     "execution_count": 104,
     "metadata": {},
     "output_type": "execute_result"
    },
    {
     "data": {
      "text/plain": [
       "3 4\n"
      ]
     },
     "execution_count": 104,
     "metadata": {},
     "output_type": "execute_result"
    },
    {
     "data": {
      "text/plain": [
       "1 2 3 4 1 2 3 4 1 2 3 4\n"
      ]
     },
     "execution_count": 104,
     "metadata": {},
     "output_type": "execute_result"
    },
    {
     "data": {
      "text/plain": [
       "15 15 15 15 15 15 15 15 15 15\n"
      ]
     },
     "execution_count": 104,
     "metadata": {},
     "output_type": "execute_result"
    },
    {
     "data": {
      "text/plain": [
       "`long$()\n"
      ]
     },
     "execution_count": 104,
     "metadata": {},
     "output_type": "execute_result"
    },
    {
     "data": {
      "text/plain": [
       "`int$()\n"
      ]
     },
     "execution_count": 104,
     "metadata": {},
     "output_type": "execute_result"
    },
    {
     "data": {
      "text/plain": [
       "`int$()\n"
      ]
     },
     "execution_count": 104,
     "metadata": {},
     "output_type": "execute_result"
    },
    {
     "data": {
      "text/plain": [
       "`float$()\n"
      ]
     },
     "execution_count": 104,
     "metadata": {},
     "output_type": "execute_result"
    },
    {
     "data": {
      "text/plain": [
       "`symbol$()\n"
      ]
     },
     "execution_count": 104,
     "metadata": {},
     "output_type": "execute_result"
    }
   ],
   "source": [
    "/Recall the take operator\n",
    "/Left operand is the n values to take from front or back depending on sign\n",
    "/Negative sign is for taking from the back of the list. May remind you of pop function from python lists\n",
    "A: 1 2 3 4\n",
    "2 # A\n",
    "-2 # A\n",
    "\n",
    "/If you extract more items than length of list, it just restarts from the beginning of list and continues extracting\n",
    "12 # A\n",
    "\n",
    "/This repetition feature is very useful we can use this to get a list of size n of the same value. Eg 10 15s\n",
    "10#15\n",
    "\n",
    "/If we take 0 items from a list, we get an empty list that retains the type of the list it is taking from\n",
    "0#10 20 30\n",
    "0#10 20 30i\n",
    "\n",
    "/This yields a clever way to create typed empty lists\n",
    "0#0i\n",
    "0#0f\n",
    "0#`"
   ]
  },
  {
   "cell_type": "code",
   "execution_count": 106,
   "id": "512020d3-7f03-4a3d-b306-2811b47f6f92",
   "metadata": {},
   "outputs": [
    {
     "data": {
      "text/plain": [
       "\"Enumerations\"\n"
      ]
     },
     "execution_count": 106,
     "metadata": {},
     "output_type": "execute_result"
    }
   ],
   "source": [
    "\"Enumerations\"\n",
    "\n",
    "/To recap: a binary Cast operator $ trasnforms the right operand\n",
    "    /into a conforming entity of the left operand\n",
    "/Now we look at casting extended to user deifned target domains,\n",
    "    /providing a functional version of enumerated types."
   ]
  },
  {
   "cell_type": "code",
   "execution_count": 107,
   "id": "3bbe965e-d051-4f05-a136-cf870c215c29",
   "metadata": {},
   "outputs": [
    {
     "data": {
      "text/plain": [
       "\"Traditional Enumerations\"\n"
      ]
     },
     "execution_count": 107,
     "metadata": {},
     "output_type": "execute_result"
    }
   ],
   "source": [
    "\"Traditional Enumerations\"\n",
    "\n",
    "/In traditional languages, am enumerated type is a way of associating\n",
    "    /a series of names with a corresponding set of integral values."
   ]
  },
  {
   "cell_type": "code",
   "execution_count": 136,
   "id": "48e6252b-3222-48f4-aef3-9c167610e700",
   "metadata": {},
   "outputs": [
    {
     "data": {
      "text/plain": [
       "\"Data Normalization\"\n"
      ]
     },
     "execution_count": 136,
     "metadata": {},
     "output_type": "execute_result"
    },
    {
     "data": {
      "text/plain": [
       "`g`aapl`msft`ibm\n"
      ]
     },
     "execution_count": 136,
     "metadata": {},
     "output_type": "execute_result"
    },
    {
     "data": {
      "text/plain": [
       "`g`aapl`msft`ibm`g`aapl`msft`ibm`g`aapl`msft`ibm`g`aapl`msft`ibm\n"
      ]
     },
     "execution_count": 136,
     "metadata": {},
     "output_type": "execute_result"
    },
    {
     "data": {
      "text/plain": [
       "0 1 2 3 0 1 2 3 0 1 2 3 0 1 2 3\n"
      ]
     },
     "execution_count": 136,
     "metadata": {},
     "output_type": "execute_result"
    },
    {
     "data": {
      "text/plain": [
       "`g`aapl`msft`ibm`g`aapl`msft`ibm`g`aapl`msft`ibm`g`aapl`msft`ibm\n"
      ]
     },
     "execution_count": 136,
     "metadata": {},
     "output_type": "execute_result"
    },
    {
     "data": {
      "text/plain": [
       "1b\n"
      ]
     },
     "execution_count": 136,
     "metadata": {},
     "output_type": "execute_result"
    }
   ],
   "source": [
    "\"Data Normalization\"\n",
    "\n",
    "/A powerful use of enumeration is normalizing data.\n",
    "\n",
    "/Data normalization seeks to eliminate duplication, retaining only\n",
    "    /the minimum required data.\n",
    "\n",
    "/Lets create a repetitive list\n",
    "u: `g`aapl`msft`ibm\n",
    "u\n",
    "v:16#u\n",
    "v\n",
    "\n",
    "/As you can see we have a list of symbols v drawn from a unique list u\n",
    "\n",
    "/Consider a new list k that represents the position in u of each item of v\n",
    "\n",
    "k: u?v\n",
    "k\n",
    "\n",
    "/Key observation is that u and k together carry the same info as v\n",
    "/Indeed they can be used to reconstitute v\n",
    "\n",
    "u[k]\n",
    "\n",
    "v~u[k]\n",
    "\n",
    "/So u and k exactly constitute a traditional enumeration\n",
    "/v is time consuming to search whereas k is integers and is fast and\n",
    "    /easy to traverse.\n",
    "/SO we say u and k normalize v. u stores each symbol once and reading\n",
    "    /and writing the index list k is a block operation that will be\n",
    "    /very fast"
   ]
  },
  {
   "cell_type": "code",
   "execution_count": 138,
   "id": "220d0e72-361b-43a1-9e43-c8b86ec68b9c",
   "metadata": {},
   "outputs": [
    {
     "data": {
      "text/plain": [
       "\"Enumerating Symbols\"\n"
      ]
     },
     "execution_count": 138,
     "metadata": {},
     "output_type": "execute_result"
    },
    {
     "data": {
      "text/plain": [
       "`u$`g`aapl`msft`ibm`g`aapl`msft`ibm`g`aapl`msft`ibm`g`aapl`msft`ibm\n"
      ]
     },
     "execution_count": 138,
     "metadata": {},
     "output_type": "execute_result"
    },
    {
     "data": {
      "text/plain": [
       "0 1 2 3 0 1 2 3 0 1 2 3 0 1 2 3i\n"
      ]
     },
     "execution_count": 138,
     "metadata": {},
     "output_type": "execute_result"
    },
    {
     "data": {
      "text/plain": [
       "1b\n"
      ]
     },
     "execution_count": 138,
     "metadata": {},
     "output_type": "execute_result"
    }
   ],
   "source": [
    "\"Enumerating Symbols\"\n",
    "\n",
    "/Process of converting a list of symbols to the equivalent list of \n",
    "    /indices described above is called enumeration.\n",
    "/It uses another overload of $ with the name of the variable holding \n",
    "    /the unique symbols as left operand and a list of symbols drawn \n",
    "    /from that domain on the right.\n",
    "\n",
    "u: `g`aapl`msft`ibm\n",
    "v:16#u\n",
    "k: u?v\n",
    "\n",
    "/Basic form of enumerated symbol is:\n",
    "`u$v\n",
    "\n",
    "/You can recovery underlying integer values by casting to int\n",
    "ev: `u$v\n",
    "`int$ev\n",
    "\n",
    "/Check equal\n",
    "(`int$k)~`int$ev\n",
    "\n",
    "/We call u the domain\n",
    "/The projection`u$ is enumeration over u"
   ]
  },
  {
   "cell_type": "code",
   "execution_count": 148,
   "id": "865f1924-02a4-4155-9ee6-31ced5ff1238",
   "metadata": {},
   "outputs": [
    {
     "data": {
      "text/plain": [
       "\"Using Enumerated Symbols\"\n"
      ]
     },
     "execution_count": 148,
     "metadata": {},
     "output_type": "execute_result"
    },
    {
     "data": {
      "text/plain": [
       "`ibm\n"
      ]
     },
     "execution_count": 148,
     "metadata": {},
     "output_type": "execute_result"
    },
    {
     "data": {
      "text/plain": [
       "`sym$`ibm\n"
      ]
     },
     "execution_count": 148,
     "metadata": {},
     "output_type": "execute_result"
    },
    {
     "data": {
      "text/plain": [
       "`g`aapl`msft`aapl`tsla`g`aapl`msft`ibm`tsla`g`aapl`msft`ibm`tsla`g`aapl`msft`..\n"
      ]
     },
     "execution_count": 148,
     "metadata": {},
     "output_type": "execute_result"
    },
    {
     "data": {
      "text/plain": [
       "0 5 10 15 20\n"
      ]
     },
     "execution_count": 148,
     "metadata": {},
     "output_type": "execute_result"
    },
    {
     "data": {
      "text/plain": [
       "0 5 10 15 20\n"
      ]
     },
     "execution_count": 148,
     "metadata": {},
     "output_type": "execute_result"
    },
    {
     "data": {
      "text/plain": [
       "1\n"
      ]
     },
     "execution_count": 148,
     "metadata": {},
     "output_type": "execute_result"
    },
    {
     "data": {
      "text/plain": [
       "1\n"
      ]
     },
     "execution_count": 148,
     "metadata": {},
     "output_type": "execute_result"
    },
    {
     "data": {
      "text/plain": [
       "1000010010100101001010010b\n"
      ]
     },
     "execution_count": 148,
     "metadata": {},
     "output_type": "execute_result"
    },
    {
     "data": {
      "text/plain": [
       "1000010010100101001010010b\n"
      ]
     },
     "execution_count": 148,
     "metadata": {},
     "output_type": "execute_result"
    },
    {
     "data": {
      "text/plain": [
       "1b\n"
      ]
     },
     "execution_count": 148,
     "metadata": {},
     "output_type": "execute_result"
    },
    {
     "data": {
      "text/plain": [
       "1111111111111111111111111b\n"
      ]
     },
     "execution_count": 148,
     "metadata": {},
     "output_type": "execute_result"
    },
    {
     "data": {
      "text/plain": [
       "0b\n"
      ]
     },
     "execution_count": 148,
     "metadata": {},
     "output_type": "execute_result"
    }
   ],
   "source": [
    "\"Using Enumerated Symbols\"\n",
    "\n",
    "sym: `g`aapl`msft`ibm`tsla\n",
    "\n",
    "v: 25#sym\n",
    "\n",
    "/Enumerated v\n",
    "ev: `sym$v\n",
    "\n",
    "/Enumerated v ev can be subsituted fpr original v in nearly all\n",
    "    /situations\n",
    "v[3]\n",
    "ev[3]\n",
    "\n",
    "v[3]:`aapl\n",
    "ev[3]:`aapl\n",
    "v\n",
    "\n",
    "where v=`g\n",
    "where ev=`g\n",
    "\n",
    "v?`aapl\n",
    "ev?`aapl\n",
    "\n",
    "v in `g`ibm\n",
    "ev in `g`ibm\n",
    "\n",
    "/While the enumerated version is item-wise equal to the original\n",
    "    /the entries are not identical\n",
    "/Equal element wise\n",
    "all v=ev\n",
    "v=ev\n",
    "\n",
    "/Entity wise not equal\n",
    "v~ev"
   ]
  },
  {
   "cell_type": "code",
   "execution_count": 153,
   "id": "025fa41b-71e8-43b4-a7b6-0ae2b1c88788",
   "metadata": {},
   "outputs": [
    {
     "data": {
      "text/plain": [
       "\"Types of Enumeration\"\n"
      ]
     },
     "execution_count": 153,
     "metadata": {},
     "output_type": "execute_result"
    },
    {
     "data": {
      "text/plain": [
       "20h\n"
      ]
     },
     "execution_count": 153,
     "metadata": {},
     "output_type": "execute_result"
    },
    {
     "data": {
      "text/plain": [
       "-20h\n"
      ]
     },
     "execution_count": 153,
     "metadata": {},
     "output_type": "execute_result"
    }
   ],
   "source": [
    "\"Types of Enumeration\"\n",
    "\n",
    "sym: `g`aapl`msft`ibm`tsla\n",
    "\n",
    "/Type of enumeration\n",
    "type `sym$25#sym\n",
    "\n",
    "/The convention of negative for atoms as below and positive for simple\n",
    "    /lists as in the previous hold true\n",
    "type `sym$`g"
   ]
  },
  {
   "cell_type": "code",
   "execution_count": 157,
   "id": "9881eda4-8978-45a9-9385-43f95f58177b",
   "metadata": {},
   "outputs": [
    {
     "data": {
      "text/plain": [
       "\"Updating an Enumerated List\"\n"
      ]
     },
     "execution_count": 157,
     "metadata": {},
     "output_type": "execute_result"
    },
    {
     "data": {
      "text/plain": [
       "`meta`aapl`msft`ibm`tsla\n"
      ]
     },
     "execution_count": 157,
     "metadata": {},
     "output_type": "execute_result"
    },
    {
     "data": {
      "text/plain": [
       "`sym$`meta`aapl`msft`ibm`tsla`meta`aapl`msft`ibm`tsla`meta`aapl`msft`ibm`tsla..\n"
      ]
     },
     "execution_count": 157,
     "metadata": {},
     "output_type": "execute_result"
    },
    {
     "data": {
      "text/plain": [
       "`meta`aapl`msft`ibm`tsla`meta`aapl`msft`ibm`tsla`meta`aapl`msft`ibm`tsla`meta..\n"
      ]
     },
     "execution_count": 157,
     "metadata": {},
     "output_type": "execute_result"
    }
   ],
   "source": [
    "\"Updating an Enumerated List\"\n",
    "\n",
    "/The normalization provided by an enumeration reduces updating all\n",
    "    /occurences of a given value to a single operation.\n",
    "/This can have significant performance implications for large lists\n",
    "    /with many repetitions.\n",
    "\n",
    "/Just updating your domain is enough as ev gets updated\n",
    "\n",
    "sym: `g`aapl`msft`ibm`tsla\n",
    "v: 25#sym\n",
    "ev: `sym$25#sym\n",
    "\n",
    "sym[0]: `meta\n",
    "sym\n",
    "ev\n",
    "\n",
    "/In contrast updating in v would require changing every occurence\n",
    "/Dont worry about the syntax right now\n",
    "@[v; where v=`g; :; `meta]"
   ]
  },
  {
   "cell_type": "code",
   "execution_count": 166,
   "id": "5aec2346-3494-4d98-90ba-8bf8acd9bacf",
   "metadata": {},
   "outputs": [
    {
     "data": {
      "text/plain": [
       "\"Dynamically Appending to Enumeration Domain\"\n"
      ]
     },
     "execution_count": 166,
     "metadata": {},
     "output_type": "execute_result"
    },
    {
     "data": {
      "text/plain": [
       "`sym$`g`aapl`msft`ibm`tsla`g`aapl`msft`ibm`tsla`meta\n"
      ]
     },
     "execution_count": 166,
     "metadata": {},
     "output_type": "execute_result"
    },
    {
     "data": {
      "text/plain": [
       "`sym$`twtr\n"
      ]
     },
     "execution_count": 166,
     "metadata": {},
     "output_type": "execute_result"
    },
    {
     "data": {
      "text/plain": [
       "`sym$`g\n"
      ]
     },
     "execution_count": 166,
     "metadata": {},
     "output_type": "execute_result"
    },
    {
     "data": {
      "text/plain": [
       "`g`aapl`msft`ibm`tsla`meta`twtr\n"
      ]
     },
     "execution_count": 166,
     "metadata": {},
     "output_type": "execute_result"
    },
    {
     "data": {
      "text/plain": [
       "`sym$`g`aapl`msft`ibm`tsla`g`aapl`msft`ibm`tsla`meta`nvd\n"
      ]
     },
     "execution_count": 166,
     "metadata": {},
     "output_type": "execute_result"
    }
   ],
   "source": [
    "\"Dynamically Appending to Enumeration Domain\"\n",
    "\n",
    "/An numeration is more complicated than working with denormalized\n",
    "    /data when you want to add a new value\n",
    "\n",
    "/We can only add values to a list if that value is in the domain\n",
    "/So we must first add it to the enumeration domain and then add to\n",
    "    /our list.\n",
    "\n",
    "sym: `g`aapl`msft`ibm`tsla\n",
    "v: 10#sym\n",
    "ev: `sym$10#sym\n",
    "\n",
    "/ev,: `meta /Wont work and gives error\n",
    "\n",
    "sym,: `meta\n",
    "ev,: `meta /Now it will work since enumeration domain has it\n",
    "ev\n",
    "\n",
    "/So this process has an order\n",
    "/First we need to check if enumerated domain has it or not\n",
    "/Add to it if it doesnt and then append to our list\n",
    "/If you do not know the full extend of the enumeration domain\n",
    "    /you can use an overload of ? to create the domain on the fly.\n",
    "/The syntax is similar to the enumeration overload version of $\n",
    "    /where the name of unique list of symbols is left operand and\n",
    "    /a source symbol as right operand\n",
    "`sym?`twtr /Adds twtr\n",
    "`sym?`g /Doesnt do anything since g is already there\n",
    "sym\n",
    "\n",
    "/So we can add it to the list and domain dynamically\n",
    "ev,: `sym?`nvd\n",
    "ev"
   ]
  },
  {
   "cell_type": "code",
   "execution_count": 168,
   "id": "8e845103-4704-4bad-8865-e298535be46c",
   "metadata": {},
   "outputs": [
    {
     "data": {
      "text/plain": [
       "\"Resolving an Enumeration\"\n"
      ]
     },
     "execution_count": 168,
     "metadata": {},
     "output_type": "execute_result"
    },
    {
     "data": {
      "text/plain": [
       "`g`aapl`msft`ibm`tsla`g`aapl`msft`ibm`tsla\n"
      ]
     },
     "execution_count": 168,
     "metadata": {},
     "output_type": "execute_result"
    },
    {
     "data": {
      "text/plain": [
       "1b\n"
      ]
     },
     "execution_count": 168,
     "metadata": {},
     "output_type": "execute_result"
    }
   ],
   "source": [
    "\"Resolving an Enumeration\"\n",
    "\n",
    "/An enumerated symbol can be susbstituted for its equivalent value in\n",
    "    /most expressions. However, there are some situations in which\n",
    "    /you need non enumerated values.\n",
    "/One case is from converting from one enumerated domain to another, \n",
    "    /which happens when copying from one kdb+ database to another\n",
    "    /or merging two databases.\n",
    "\n",
    "/Given an enuemrated symbol or list you can recover the un-enumerated\n",
    "    /values by applying the built in value function\n",
    "\n",
    "sym: `g`aapl`msft`ibm`tsla\n",
    "v: 10#sym\n",
    "ev: `sym$10#sym\n",
    "\n",
    "/Get un-enumerated values\n",
    "value ev\n",
    "\n",
    "v~value ev"
   ]
  }
 ],
 "metadata": {
  "kernelspec": {
   "display_name": "Q (kdb+)",
   "language": "q",
   "name": "qpk"
  },
  "language_info": {
   "file_extension": ".q",
   "mimetype": "text/x-q",
   "name": "q",
   "version": "4.0"
  }
 },
 "nbformat": 4,
 "nbformat_minor": 5
}
