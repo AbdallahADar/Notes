{
 "cells": [
  {
   "cell_type": "markdown",
   "id": "b56a4f48-a577-4549-9191-0c0261343b06",
   "metadata": {},
   "source": [
    "# Functions:"
   ]
  },
  {
   "cell_type": "code",
   "execution_count": 1,
   "id": "faadd285-b156-4360-a613-917e954adc21",
   "metadata": {},
   "outputs": [
    {
     "data": {
      "text/plain": [
       "25\n"
      ]
     },
     "execution_count": 1,
     "metadata": {},
     "output_type": "execute_result"
    },
    {
     "data": {
      "text/plain": [
       "25\n"
      ]
     },
     "execution_count": 1,
     "metadata": {},
     "output_type": "execute_result"
    },
    {
     "data": {
      "text/plain": [
       "13\n"
      ]
     },
     "execution_count": 1,
     "metadata": {},
     "output_type": "execute_result"
    },
    {
     "data": {
      "text/plain": [
       "3\n"
      ]
     },
     "execution_count": 1,
     "metadata": {},
     "output_type": "execute_result"
    },
    {
     "data": {
      "text/plain": [
       "{[x;y] a:x*x; b:y*y; a+b}[2 3]\n"
      ]
     },
     "execution_count": 1,
     "metadata": {},
     "output_type": "execute_result"
    },
    {
     "data": {
      "text/plain": [
       "25\n"
      ]
     },
     "execution_count": 1,
     "metadata": {},
     "output_type": "execute_result"
    },
    {
     "data": {
      "text/plain": [
       "25\n"
      ]
     },
     "execution_count": 1,
     "metadata": {},
     "output_type": "execute_result"
    }
   ],
   "source": [
    "/Function definition is delimited by { } and immediately after the opening brace, the formal parameters are enclosed in [ ]\n",
    "/and separated by semi-colons\n",
    "/So for is Name:{[x;y] x+y}\n",
    "/We can have multiple expressions and separate them by ;\n",
    "/Value of final expression is returned as output value of the function\n",
    "/If we have semi colon after last expression we get not return value. It is used to suppress a return\n",
    "\n",
    "/Square function\n",
    "sq:{[x] x*x}\n",
    "\n",
    "/Sum of squares\n",
    "ssq:{[x;y] a:x*x; b:y*y; a+b}\n",
    "\n",
    "/Calling a function\n",
    "sq[5]\n",
    "sq 5\n",
    "ssq[2;3]\n",
    "ssq 2;3 /This does not work\n",
    "ssq 2 3 /This does not work either\n",
    "\n",
    "/Calling function without ever creating it\n",
    "{[x] x*x}[5]\n",
    "{[x] x*x} 5"
   ]
  },
  {
   "cell_type": "code",
   "execution_count": 1,
   "id": "0904e89d-085a-41f3-ac52-47727d74fcd2",
   "metadata": {},
   "outputs": [
    {
     "ename": "\u001b[0;31mrank\u001b[0m",
     "evalue": "\u001b[0;31mrank\u001b[0m",
     "output_type": "error",
     "traceback": [
      "\u001b[0;31mevaluation error:\n\u001b[0m",
      "\u001b[0;31mrank\u001b[0m",
      "\u001b[0;31m\u001b[0m",
      "\u001b[0;31m  [0]  sq[1;2]\n       ^\n\u001b[0m"
     ]
    }
   ],
   "source": [
    "/Inputting more inputs than needed gives rank error\n",
    "sq:{[x] x*x}\n",
    "\n",
    "sq[1;2]"
   ]
  },
  {
   "cell_type": "code",
   "execution_count": 2,
   "id": "020a4c70-bbdd-45c9-8ba2-bccd4d971e57",
   "metadata": {},
   "outputs": [
    {
     "data": {
      "text/plain": [
       "4\n"
      ]
     },
     "execution_count": 2,
     "metadata": {},
     "output_type": "execute_result"
    }
   ],
   "source": [
    "/Inputting more inputs than needed in a function without inputs needed works and does not give error\n",
    "sq:{[] 2*2}\n",
    "\n",
    "sq[1]"
   ]
  },
  {
   "cell_type": "code",
   "execution_count": 3,
   "id": "9c497d4d-8ea1-4882-97d0-826648b5476e",
   "metadata": {},
   "outputs": [],
   "source": [
    "/Functions without return value\n",
    "/We get nothing back, there is no error\n",
    "fvoid:{[x] `a set x;}\n",
    "\n",
    "fvoid 42"
   ]
  },
  {
   "cell_type": "code",
   "execution_count": 4,
   "id": "e6fde5a1-0864-4728-8176-db4fa32b39d3",
   "metadata": {},
   "outputs": [
    {
     "data": {
      "text/plain": [
       "25\n"
      ]
     },
     "execution_count": 4,
     "metadata": {},
     "output_type": "execute_result"
    },
    {
     "data": {
      "text/plain": [
       "25\n"
      ]
     },
     "execution_count": 4,
     "metadata": {},
     "output_type": "execute_result"
    }
   ],
   "source": [
    "/When we save a named function\n",
    "/We can use the symbol name of the variable in place of the variable itself\n",
    "sq:{[x] x*x}\n",
    "\n",
    "sq[5]\n",
    "\n",
    "/Symbol name\n",
    "`sq 5"
   ]
  },
  {
   "cell_type": "code",
   "execution_count": 5,
   "id": "4a7daf4a-5b6a-49a6-8cc5-8690631bbc85",
   "metadata": {},
   "outputs": [
    {
     "data": {
      "text/plain": [
       "14\n"
      ]
     },
     "execution_count": 5,
     "metadata": {},
     "output_type": "execute_result"
    },
    {
     "data": {
      "text/plain": [
       "{x+z}[1;2]\n"
      ]
     },
     "execution_count": 5,
     "metadata": {},
     "output_type": "execute_result"
    },
    {
     "data": {
      "text/plain": [
       "4\n"
      ]
     },
     "execution_count": 5,
     "metadata": {},
     "output_type": "execute_result"
    }
   ],
   "source": [
    "/If you do not explicitly define input parameters q automatically considers x,y,z to be the first three inputs in that order\n",
    "/But nothing beyond that\n",
    "{a:x*x ; b:y*y ; c:z*z ; a+b+c} [1;2;3] /x is 1, y is 2 and z is 3\n",
    "\n",
    "/What if we use x and z?\n",
    "/Then we need to input y even if it is ignored because the default order is x,y,z\n",
    "s: {x+z}\n",
    "\n",
    "s[1;2] /Does not work because we need 3 inputs\n",
    "\n",
    "s[1;2;3] /Second input is ignored"
   ]
  },
  {
   "cell_type": "code",
   "execution_count": 6,
   "id": "ceab6e7e-c454-40a1-9cef-6e4b548c59e8",
   "metadata": {},
   "outputs": [
    {
     "data": {
      "text/plain": [
       "\"Anonymous function\"\n"
      ]
     },
     "execution_count": 6,
     "metadata": {},
     "output_type": "execute_result"
    },
    {
     "data": {
      "text/plain": [
       "{x*x}\n"
      ]
     },
     "execution_count": 6,
     "metadata": {},
     "output_type": "execute_result"
    },
    {
     "data": {
      "text/plain": [
       "25\n"
      ]
     },
     "execution_count": 6,
     "metadata": {},
     "output_type": "execute_result"
    }
   ],
   "source": [
    "\"Anonymous function\"\n",
    "/A function without a name is then called an anonymous function\n",
    "\n",
    "/We can use anonymous functions to dispatch functions in a container\n",
    "powers:({1}; {x}; {x*x}; {x*x*x})\n",
    "\n",
    "selected: 2\n",
    "\n",
    "/Just see the function. Follow this by input paameters to run it\n",
    "powers[selected]\n",
    "\n",
    "/Run the function after calling it\n",
    "powers[selected] 5"
   ]
  },
  {
   "cell_type": "code",
   "execution_count": 7,
   "id": "f495abc1-3c7d-472c-89c4-d8f14f87d731",
   "metadata": {},
   "outputs": [
    {
     "data": {
      "text/plain": [
       "\"Identity function\"\n"
      ]
     },
     "execution_count": 7,
     "metadata": {},
     "output_type": "execute_result"
    },
    {
     "data": {
      "text/plain": [
       "42\n"
      ]
     },
     "execution_count": 7,
     "metadata": {},
     "output_type": "execute_result"
    },
    {
     "data": {
      "text/plain": [
       "`a`b`c\n"
      ]
     },
     "execution_count": 7,
     "metadata": {},
     "output_type": "execute_result"
    },
    {
     "data": {
      "text/plain": [
       "42\n"
      ]
     },
     "execution_count": 7,
     "metadata": {},
     "output_type": "execute_result"
    }
   ],
   "source": [
    "\"Identity function\"\n",
    "/When :: is used with function application syntax, it is the identity function – i.e., \n",
    "    /it returns its input as output.\n",
    "/The naked identity function cannot be used with prefix syntax; it must be enclosed in parentheses.\n",
    "\n",
    "::[42]\n",
    "\n",
    "::[`a`b`c]\n",
    "\n",
    "/:: 42 / error\n",
    "\n",
    "(::) 42\n",
    "\n",
    "/Syntax is similar to alias"
   ]
  },
  {
   "cell_type": "code",
   "execution_count": 8,
   "id": "56ab751f-25fa-4e88-bfb8-1ad1a5ac3219",
   "metadata": {},
   "outputs": [
    {
     "data": {
      "text/plain": [
       "{x*x}\n",
       "{2*x}\n"
      ]
     },
     "execution_count": 8,
     "metadata": {},
     "output_type": "execute_result"
    },
    {
     "data": {
      "text/plain": [
       "{2*x}\n"
      ]
     },
     "execution_count": 8,
     "metadata": {},
     "output_type": "execute_result"
    },
    {
     "data": {
      "text/plain": [
       "10\n"
      ]
     },
     "execution_count": 8,
     "metadata": {},
     "output_type": "execute_result"
    }
   ],
   "source": [
    "/As we've seen previously functions can easily be passed in containers as ints and floats are\n",
    "f:{x*x}\n",
    "g:{2*x}\n",
    "\n",
    "/List of functions\n",
    "(f; g)\n",
    "\n",
    "(f; g)[1] /Shows the function in the position\n",
    "\n",
    "/Run list of functions\n",
    "/First tells us which value to get and second tells us input\n",
    "/There is no second depth so the second value is fucntion input\n",
    "(f; g)[1;5]"
   ]
  },
  {
   "cell_type": "code",
   "execution_count": 9,
   "id": "159ddb7d-a3e8-47e7-854e-6395b7af3183",
   "metadata": {},
   "outputs": [
    {
     "data": {
      "text/plain": [
       "25\n"
      ]
     },
     "execution_count": 9,
     "metadata": {},
     "output_type": "execute_result"
    },
    {
     "data": {
      "text/plain": [
       "25 4 9\n"
      ]
     },
     "execution_count": 9,
     "metadata": {},
     "output_type": "execute_result"
    }
   ],
   "source": [
    "/Apply functions can easily be created\n",
    "apply:{x y} /Apply x on input y\n",
    "\n",
    "sq:{x*x}\n",
    "\n",
    "apply[sq; 5]\n",
    "\n",
    "apply[sq; (5;2;3)]\n",
    "\n",
    "/A function that operates on other functions is called a higher-order function"
   ]
  },
  {
   "cell_type": "code",
   "execution_count": 10,
   "id": "881e2cce-7c86-4b5f-a442-2a9a8e80a15b",
   "metadata": {},
   "outputs": [
    {
     "data": {
      "text/plain": [
       "\"Call by name\"\n"
      ]
     },
     "execution_count": 10,
     "metadata": {},
     "output_type": "execute_result"
    },
    {
     "data": {
      "text/plain": [
       "42\n"
      ]
     },
     "execution_count": 10,
     "metadata": {},
     "output_type": "execute_result"
    },
    {
     "data": {
      "text/plain": [
       "`a\n"
      ]
     },
     "execution_count": 10,
     "metadata": {},
     "output_type": "execute_result"
    },
    {
     "data": {
      "text/plain": [
       "50\n"
      ]
     },
     "execution_count": 10,
     "metadata": {},
     "output_type": "execute_result"
    }
   ],
   "source": [
    "\"Call by name\"\n",
    "/Ordinary function application in q uses call-by-value, meaning that arguments \n",
    "    /are reduced to values at the start of application. In the process, copies are \n",
    "    /made so that any original values are undisturbed. When the size of the input \n",
    "    /data is large, this copy may be prohibitive. In this case, there is an alternative \n",
    "    /method of application, call-by-name, in which names of (global) variables are passed \n",
    "    /instead of their values.\n",
    "\n",
    "a: 42\n",
    "\n",
    "/One example of a function that uses call-by-name is the built-in function get\n",
    "get `a\n",
    "\n",
    "/Another example is binary set, which does the actual work of global assignment. It expects \n",
    "    /the name of a global variable and the value to be assigned.\n",
    "`a set 50\n",
    "\n",
    "a"
   ]
  },
  {
   "cell_type": "code",
   "execution_count": 11,
   "id": "2ac4ea6d-d609-4cf9-a4fc-78531ebb5814",
   "metadata": {},
   "outputs": [
    {
     "data": {
      "text/plain": [
       "\"Global Variable\"\n"
      ]
     },
     "execution_count": 11,
     "metadata": {},
     "output_type": "execute_result"
    },
    {
     "data": {
      "text/plain": [
       "42\n"
      ]
     },
     "execution_count": 11,
     "metadata": {},
     "output_type": "execute_result"
    }
   ],
   "source": [
    "\"Global Variable\"\n",
    "/A variable assigned outside any function definition is called a global \n",
    "    /variable. Global variables are visible inside any function body.\n",
    "b:7\n",
    "f:{b*x}\n",
    "\n",
    "f[6]"
   ]
  },
  {
   "cell_type": "code",
   "execution_count": 12,
   "id": "99d4fd68-7ae3-4e2f-95a4-a7a32a64b372",
   "metadata": {},
   "outputs": [
    {
     "data": {
      "text/plain": [
       "\"Local variable\"\n"
      ]
     },
     "execution_count": 12,
     "metadata": {},
     "output_type": "execute_result"
    },
    {
     "data": {
      "text/plain": [
       "47\n"
      ]
     },
     "execution_count": 12,
     "metadata": {},
     "output_type": "execute_result"
    },
    {
     "data": {
      "text/plain": [
       "250\n"
      ]
     },
     "execution_count": 12,
     "metadata": {},
     "output_type": "execute_result"
    },
    {
     "data": {
      "text/plain": [
       "210\n"
      ]
     },
     "execution_count": 12,
     "metadata": {},
     "output_type": "execute_result"
    }
   ],
   "source": [
    "\"Local variable\"\n",
    "/A variable that is assigned with : within a function body is called a local variable. \n",
    "    /For example, a is a local variable in the following function.\n",
    "f:{a:42; a+x}\n",
    "f 5\n",
    "\n",
    "/Q does not have lexicol scoping\n",
    "/Local variable a and local function helper\n",
    "g:{[p1] a:42; helper:{[p2] a*p2}; helper p1}\n",
    "g 5\n",
    "/Why is this 250 instead of 210 we expected? Because the local a does not enter local helper\n",
    "/Instead it ends up using global a which we defined as 43 in the previous cell\n",
    "\n",
    "/How to fix this? Have it be an input of the local function\n",
    "g2:{[p1] a:42; helper:{[a;p2] a*p2}; helper[a;p1]}\n",
    "g2 5"
   ]
  },
  {
   "cell_type": "code",
   "execution_count": 13,
   "id": "b1660483-6d8b-425e-9ab6-997268bcdb6b",
   "metadata": {},
   "outputs": [
    {
     "data": {
      "text/plain": [
       "\"Projection\"\n"
      ]
     },
     "execution_count": 13,
     "metadata": {},
     "output_type": "execute_result"
    },
    {
     "data": {
      "text/plain": [
       "6\n"
      ]
     },
     "execution_count": 13,
     "metadata": {},
     "output_type": "execute_result"
    },
    {
     "data": {
      "text/plain": [
       "210\n"
      ]
     },
     "execution_count": 13,
     "metadata": {},
     "output_type": "execute_result"
    },
    {
     "data": {
      "text/plain": [
       "9\n"
      ]
     },
     "execution_count": 13,
     "metadata": {},
     "output_type": "execute_result"
    },
    {
     "data": {
      "text/plain": [
       "210\n"
      ]
     },
     "execution_count": 13,
     "metadata": {},
     "output_type": "execute_result"
    }
   ],
   "source": [
    "\"Projection\"\n",
    "/Projection means specifying only some of the parameters in function application, resulting \n",
    "    /in a function of the remaining parameters.\n",
    "/So projection is when we input less input variables then required resulting in nothing\n",
    "/But we can then enter the remaining inputs and get an output\n",
    "plus:{x+y+z}\n",
    "\n",
    "/A projection.\n",
    "/If we add the last input then we will get output\n",
    "aa: plus[1;2]\n",
    "\n",
    "/We get aa[1;2;3]\n",
    "aa 3\n",
    "\n",
    "/We can use projection to make local function syntax even simpler\n",
    "/We will use the example from previous cell\n",
    "/Make the helper function a projection by adding a as an input right away\n",
    "g3:{[p1] a:42; helper:{[a;p2] a*p2}[a]; helper p1}\n",
    "g3 5\n",
    "\n",
    "/A chain of projections\n",
    "plus[2][3][4]\n",
    "\n",
    "/To make your code more readable, it is always recommended to use ; after the input when using a projection\n",
    "/This shows that there are more inputs remaining\n",
    "g4:{[p1] a:42; helper:{[a;p2] a*p2}[a;]; helper p1}\n",
    "g4 5"
   ]
  },
  {
   "cell_type": "code",
   "execution_count": 14,
   "id": "551c37d9-a0d5-46ba-885f-a42a485e57ea",
   "metadata": {},
   "outputs": [
    {
     "data": {
      "text/plain": [
       "{x-y}[42;]\n"
      ]
     },
     "execution_count": 14,
     "metadata": {},
     "output_type": "execute_result"
    },
    {
     "data": {
      "text/plain": [
       "36\n"
      ]
     },
     "execution_count": 14,
     "metadata": {},
     "output_type": "execute_result"
    },
    {
     "data": {
      "text/plain": [
       "{x-y}[42;]\n"
      ]
     },
     "execution_count": 14,
     "metadata": {},
     "output_type": "execute_result"
    },
    {
     "data": {
      "text/plain": [
       "36\n"
      ]
     },
     "execution_count": 14,
     "metadata": {},
     "output_type": "execute_result"
    }
   ],
   "source": [
    "/The function body in a projection is captured at \n",
    "    /the time it is first encountered by the interpreter.\n",
    "/Thus if the underlying function is subsequently changed, the projection is not.\n",
    "\n",
    "f:{x-y}\n",
    "\n",
    "g:f[42;]\n",
    "\n",
    "g\n",
    "\n",
    "g[6]\n",
    "\n",
    "f:{x+y}\n",
    "\n",
    "g /Unchanged\n",
    "\n",
    "g[6] /Unchanged"
   ]
  },
  {
   "cell_type": "code",
   "execution_count": 15,
   "id": "1de5df71-7280-4e14-a106-c4b48e15ca51",
   "metadata": {},
   "outputs": [
    {
     "data": {
      "text/plain": [
       "`a\n"
      ]
     },
     "execution_count": 15,
     "metadata": {},
     "output_type": "execute_result"
    },
    {
     "data": {
      "text/plain": [
       "20\n"
      ]
     },
     "execution_count": 15,
     "metadata": {},
     "output_type": "execute_result"
    }
   ],
   "source": [
    "/Assigning global variables within a function\n",
    "f:{a:98.6; `a set x}\n",
    "f 20\n",
    "a"
   ]
  },
  {
   "cell_type": "code",
   "execution_count": 16,
   "id": "fdf15fac-575f-4787-8760-97e7dbaa51c1",
   "metadata": {},
   "outputs": [
    {
     "data": {
      "text/plain": [
       "\"Operator Projection\"\n"
      ]
     },
     "execution_count": 16,
     "metadata": {},
     "output_type": "execute_result"
    },
    {
     "data": {
      "text/plain": [
       "42\n"
      ]
     },
     "execution_count": 16,
     "metadata": {},
     "output_type": "execute_result"
    },
    {
     "data": {
      "text/plain": [
       "56\n"
      ]
     },
     "execution_count": 16,
     "metadata": {},
     "output_type": "execute_result"
    }
   ],
   "source": [
    "\"Operator Projection\"\n",
    "\n",
    "/When used in infix form, a q operator can be projected by fixing its \n",
    "    /left operand (only). This requires parentheses. For example, the \n",
    "    /projection of * onto its right operand is:\n",
    "(7*) 6\n",
    "\n",
    "/Left projection?\n",
    "/We cant follow the same syntax as above to have a projection on to the left operand\n",
    "/Since each operator is a function we can use [] to specify right operand & create projection\n",
    "-[;42] 98"
   ]
  },
  {
   "cell_type": "code",
   "execution_count": 17,
   "id": "d74908ff-0ef6-4113-8a0b-bdebd7034fab",
   "metadata": {},
   "outputs": [
    {
     "data": {
      "text/plain": [
       "\"Multiple Projections\"\n"
      ]
     },
     "execution_count": 17,
     "metadata": {},
     "output_type": "execute_result"
    },
    {
     "data": {
      "text/plain": [
       "6\n"
      ]
     },
     "execution_count": 17,
     "metadata": {},
     "output_type": "execute_result"
    },
    {
     "data": {
      "text/plain": [
       "6\n"
      ]
     },
     "execution_count": 17,
     "metadata": {},
     "output_type": "execute_result"
    },
    {
     "data": {
      "text/plain": [
       "6\n"
      ]
     },
     "execution_count": 17,
     "metadata": {},
     "output_type": "execute_result"
    }
   ],
   "source": [
    "\"Multiple Projections\"\n",
    "/We can project a function with more than two inputs (also called having greater than\n",
    "    /two valence) multiple ways\n",
    "\n",
    "/Project onto the second input\n",
    "{x+y+z}[1;;3] 2\n",
    "\n",
    "/Project onto second and third input\n",
    "{x+y+z}[1;;][2;3]\n",
    "\n",
    "{x+y+z}[1;;][;3] 2"
   ]
  },
  {
   "cell_type": "code",
   "execution_count": 18,
   "id": "170ff9c0-6bf9-4ff6-ad67-22074af9a79b",
   "metadata": {},
   "outputs": [
    {
     "data": {
      "text/plain": [
       "\"Element wise operation\"\n"
      ]
     },
     "execution_count": 18,
     "metadata": {},
     "output_type": "execute_result"
    },
    {
     "data": {
      "text/plain": [
       "4 25\n"
      ]
     },
     "execution_count": 18,
     "metadata": {},
     "output_type": "execute_result"
    },
    {
     "data": {
      "text/plain": [
       "4 25\n"
      ]
     },
     "execution_count": 18,
     "metadata": {},
     "output_type": "execute_result"
    },
    {
     "data": {
      "text/plain": [
       "9\n"
      ]
     },
     "execution_count": 18,
     "metadata": {},
     "output_type": "execute_result"
    },
    {
     "data": {
      "text/plain": [
       "8 29\n"
      ]
     },
     "execution_count": 18,
     "metadata": {},
     "output_type": "execute_result"
    },
    {
     "data": {
      "text/plain": [
       "{(x*x) + y}[2 5]\n"
      ]
     },
     "execution_count": 18,
     "metadata": {},
     "output_type": "execute_result"
    }
   ],
   "source": [
    "\"Element wise operation\"\n",
    "/If we input a list when only on input was needed, we get elementwise\n",
    "f:{x*x}\n",
    "f[(2;5)]\n",
    "f[2 5]\n",
    "\n",
    "/But if there were two inputs then they are taken in as x and y\n",
    "f:{(x*x) + y}\n",
    "f[2;5]\n",
    "f[(2;5)] 4 /Doesnt work. Is a projection as (2;5) is seen as x inputs and 4 is y\n",
    "f[2 5] /Doesnt work\n",
    "\n",
    "/Notice the syntax difference as well\n",
    "/Input a list is element wise operations\n",
    "/Input ; separated then its inputs\n",
    "/ 2;5 is not a list. (2;5) is list or 2 5"
   ]
  },
  {
   "cell_type": "code",
   "execution_count": 19,
   "id": "07eda24f-842f-4162-af5f-f2ae2cc97d6c",
   "metadata": {},
   "outputs": [
    {
     "data": {
      "text/plain": [
       "\"Atomic functions\"\n"
      ]
     },
     "execution_count": 19,
     "metadata": {},
     "output_type": "execute_result"
    },
    {
     "data": {
      "text/plain": [
       "-1 -2 -3 -4\n"
      ]
     },
     "execution_count": 19,
     "metadata": {},
     "output_type": "execute_result"
    },
    {
     "data": {
      "text/plain": [
       "11\n"
      ]
     },
     "execution_count": 19,
     "metadata": {},
     "output_type": "execute_result"
    },
    {
     "data": {
      "text/plain": [
       "11 21 31\n"
      ]
     },
     "execution_count": 19,
     "metadata": {},
     "output_type": "execute_result"
    },
    {
     "data": {
      "text/plain": [
       "11 21 31\n"
      ]
     },
     "execution_count": 19,
     "metadata": {},
     "output_type": "execute_result"
    },
    {
     "data": {
      "text/plain": [
       "11 22 33\n"
      ]
     },
     "execution_count": 19,
     "metadata": {},
     "output_type": "execute_result"
    },
    {
     "data": {
      "text/plain": [
       "-1\n"
      ]
     },
     "execution_count": 19,
     "metadata": {},
     "output_type": "execute_result"
    },
    {
     "data": {
      "text/plain": [
       "2 7 14 23 34\n"
      ]
     },
     "execution_count": 19,
     "metadata": {},
     "output_type": "execute_result"
    },
    {
     "data": {
      "text/plain": [
       "1.414214\n"
      ]
     },
     "execution_count": 19,
     "metadata": {},
     "output_type": "execute_result"
    },
    {
     "data": {
      "text/plain": [
       "1.414214 2.236068 3.162278\n"
      ]
     },
     "execution_count": 19,
     "metadata": {},
     "output_type": "execute_result"
    },
    {
     "data": {
      "text/plain": [
       "1.414214 2.828427 4.242641\n"
      ]
     },
     "execution_count": 19,
     "metadata": {},
     "output_type": "execute_result"
    }
   ],
   "source": [
    "\"Atomic functions\"\n",
    "\n",
    "/Unary functions such as neg when applied to a list act as for each\n",
    "neg 1 2 3 4\n",
    "\n",
    "/Binary functions aka arithmetic, relational and comparison functions are atomic in boht operands\n",
    "/This leads to 4 cases:\n",
    "/1. atom with atom\n",
    "1+10\n",
    "/2. atom with list\n",
    "1+10 20 30\n",
    "/3. list with atom\n",
    "10 20 30 + 1\n",
    "/4. list with list\n",
    "1 2 3+10 20 30\n",
    "\n",
    "/Creating atomic functions?\n",
    "/Best way to build atomic functions is to use atomic functions to compose it\n",
    "/Unary atomic function created\n",
    "f:{(x*x)+(2*x)-1}\n",
    "f 0\n",
    "f 1 2 3 4 5\n",
    "/Binary atomic function created\n",
    "pyth:{sqrt (x*x)+y*y}\n",
    "pyth[1; 1]\n",
    "pyth[1; 1 2 3]\n",
    "pyth[1 2 3; 1 2 3]"
   ]
  },
  {
   "cell_type": "code",
   "execution_count": 20,
   "id": "74749564-ec82-42ee-9928-9518072aae85",
   "metadata": {},
   "outputs": [
    {
     "data": {
      "text/plain": [
       "\"Iterators\"\n"
      ]
     },
     "execution_count": 20,
     "metadata": {},
     "output_type": "execute_result"
    },
    {
     "data": {
      "text/plain": [
       "-1 -2 -3\n",
       "-4 -5\n"
      ]
     },
     "execution_count": 20,
     "metadata": {},
     "output_type": "execute_result"
    },
    {
     "data": {
      "text/plain": [
       "2\n"
      ]
     },
     "execution_count": 20,
     "metadata": {},
     "output_type": "execute_result"
    },
    {
     "data": {
      "text/plain": [
       "3 2\n"
      ]
     },
     "execution_count": 20,
     "metadata": {},
     "output_type": "execute_result"
    },
    {
     "data": {
      "text/plain": [
       "3 2\n"
      ]
     },
     "execution_count": 20,
     "metadata": {},
     "output_type": "execute_result"
    },
    {
     "data": {
      "text/plain": [
       "3 2\n",
       "2 3\n"
      ]
     },
     "execution_count": 20,
     "metadata": {},
     "output_type": "execute_result"
    },
    {
     "data": {
      "text/plain": [
       "3 2\n",
       "2 3\n"
      ]
     },
     "execution_count": 20,
     "metadata": {},
     "output_type": "execute_result"
    },
    {
     "data": {
      "text/plain": [
       "\"everything\"\n",
       "\"and\"\n",
       "\"universe\"\n",
       "\"the\"\n",
       "\"life\"\n"
      ]
     },
     "execution_count": 20,
     "metadata": {},
     "output_type": "execute_result"
    },
    {
     "data": {
      "text/plain": [
       "\"efil\"\n",
       "\"eht\"\n",
       "\"esrevinu\"\n",
       "\"dna\"\n",
       "\"gnihtyreve\"\n"
      ]
     },
     "execution_count": 20,
     "metadata": {},
     "output_type": "execute_result"
    },
    {
     "data": {
      "text/plain": [
       "1001\n",
       "1002\n",
       "1004\n",
       "1003\n"
      ]
     },
     "execution_count": 20,
     "metadata": {},
     "output_type": "execute_result"
    },
    {
     "data": {
      "text/plain": [
       "1001\n",
       "1002\n",
       "1004\n",
       "1003\n"
      ]
     },
     "execution_count": 20,
     "metadata": {},
     "output_type": "execute_result"
    }
   ],
   "source": [
    "\"Iterators\"\n",
    "/Iterators are higher-order functions that modify the behavior of functions \n",
    "    /for application on lists.\n",
    "/Not every function is atomic, but we may still want to apply it to individual \n",
    "    /items of a data structure without loopy code. Iterators to the rescue.\n",
    "\n",
    "/We have seen that an atomic function automatically applies to the atoms in a nested list.\n",
    "neg (1 2 3; 4 5)\n",
    "\n",
    "/Clearly a function that aggregates a list into an atom cannot be atomic since it collapses \n",
    "    /the list structure. In particular, aggregate functions operate only at the top level of \n",
    "    /a nested list.\n",
    "count (10 20 30; 40 50)\n",
    "\n",
    "/Suppose instead that we want to count each of the two items in our nested list. \n",
    "/This is precisely what the each iterator does. It modifies a unary function so that it \n",
    "    /applies to each item in a list rather than to the list as a whole. When used infix, \n",
    "    /each follows the function after (required) whitespace.\n",
    "count each (10 20 30; 40 50)\n",
    "\n",
    "/Alternate syntax\n",
    "each[count] (10 20 30; 40 50)\n",
    "\n",
    "/We could say informally that each makes a non-atomic function act atomically… at least \n",
    "    /at one level. For deeply nested lists, you need to iterate each to apply a function \n",
    "    /at deeper levels.\n",
    "(count each) each ((1 2 3; 3 4); (100 200; 300 400 500))\n",
    "each[each[count]] ((1 2 3; 3 4); (100 200; 300 400 500))\n",
    "\n",
    "/Each can be used with any unary function\n",
    "reverse (\"life\"; \"the\"; \"universe\"; \"and\"; \"everything\")\n",
    "\n",
    "reverse each (\"life\"; \"the\"; \"universe\"; \"and\"; \"everything\")\n",
    "\n",
    "\n",
    "/Trick to get nx1 vector\n",
    "enlist each 1001 1002 1004 1003\n",
    "\n",
    "/Note that flip is faster\n",
    "flip enlist 1001 1002 1004 1003"
   ]
  },
  {
   "cell_type": "code",
   "execution_count": 21,
   "id": "492175ce-10b5-49d7-bece-bfb76fe0fed2",
   "metadata": {},
   "outputs": [
    {
     "data": {
      "text/plain": [
       "\"Iterators on binary functions\"\n"
      ]
     },
     "execution_count": 21,
     "metadata": {},
     "output_type": "execute_result"
    },
    {
     "data": {
      "text/plain": [
       "11 22 33\n"
      ]
     },
     "execution_count": 21,
     "metadata": {},
     "output_type": "execute_result"
    },
    {
     "data": {
      "text/plain": [
       "\"abcde\"\n"
      ]
     },
     "execution_count": 21,
     "metadata": {},
     "output_type": "execute_result"
    },
    {
     "data": {
      "text/plain": [
       "\"abc\"\n",
       "\"uv\"\n",
       "\"de\"\n",
       "\"xyz\"\n"
      ]
     },
     "execution_count": 21,
     "metadata": {},
     "output_type": "execute_result"
    },
    {
     "data": {
      "text/plain": [
       "\"abcde\"\n",
       "\"uvxyz\"\n"
      ]
     },
     "execution_count": 21,
     "metadata": {},
     "output_type": "execute_result"
    },
    {
     "data": {
      "text/plain": [
       "c1 c2\n",
       "-----\n",
       "1  a \n",
       "2  b \n",
       "3  c \n"
      ]
     },
     "execution_count": 21,
     "metadata": {},
     "output_type": "execute_result"
    },
    {
     "data": {
      "text/plain": [
       "\"abc>\"\n",
       "\"de>\"\n",
       "\"f>\"\n"
      ]
     },
     "execution_count": 21,
     "metadata": {},
     "output_type": "execute_result"
    },
    {
     "data": {
      "text/plain": [
       "\"</abc\"\n",
       "\"</de\"\n",
       "\"</f\"\n"
      ]
     },
     "execution_count": 21,
     "metadata": {},
     "output_type": "execute_result"
    }
   ],
   "source": [
    "\"Iterators on binary functions\"\n",
    "\n",
    "/An atomic operator automatically applies to corresponding pairs of items \n",
    "    /when applied to lists of the same length.\n",
    "1 2 3+10 20 30\n",
    "\n",
    "/Binary join is not atomic\n",
    "\"abc\",\"de\"\n",
    "\n",
    "(\"abc\"; \"uv\"),(\"de\"; \"xyz\")\n",
    "\n",
    "/The iterator Each ' modifies a binary function (operator, keyword) to apply \n",
    "    /pairwise to corresponding list items.\n",
    "(\"abc\"; \"uv\"),'(\"de\"; \"xyz\")\n",
    "\n",
    "/A function modified by Each has the usual properties of atomic binary functions. \n",
    "/For example, you get a length error if arguments don't line up.\n",
    "/(\"abc\"; \"uv\"),'(\"de\"; \"xyz\"; \"uhoh\") /Error\n",
    "\n",
    "/Getting ahad of ourseleves but:\n",
    "/A nice example of ,' arises when both operands are tables. Since a table is a list of \n",
    "    /records, it is possible to apply ,' to tables with the same number of rows. The \n",
    "    /record dictionaries in each row are upserted, resulting in a sideways join of the \n",
    "    /tables, as in the following example. (Cbind of sorts)\n",
    "t1:([] c1:1 2 3)\n",
    "t2:([] c2:`a`b`c)\n",
    "t1,'t2\n",
    "\n",
    "\n",
    "/An atomic operator also extends an atom in the right operand to match a list on the left.\n",
    "/To achieve this we use Each left iterator \\:\n",
    "(\"abc\"; \"de\"; enlist \"f\") ,\\: \">\"\n",
    "\n",
    "/An atomic operator extends an atom in the left operand to match a list on the right.\n",
    "/To achieve this we use Each left iterator /:\n",
    "\"</\" ,/: (\"abc\"; \"de\"; enlist \"f\")\n",
    "\n",
    "/Recap:\n",
    "/List to list is operator followed by '\n",
    "/List to atom is \\:\n",
    "/Atom to list is /:"
   ]
  },
  {
   "cell_type": "code",
   "execution_count": 22,
   "id": "31c17b2e-e56a-4f80-8283-a4c02a8d0467",
   "metadata": {},
   "outputs": [
    {
     "data": {
      "text/plain": [
       "\"Cross Product\"\n"
      ]
     },
     "execution_count": 22,
     "metadata": {},
     "output_type": "execute_result"
    },
    {
     "data": {
      "text/plain": [
       "1 10 1 20\n",
       "2 10 2 20\n",
       "3 10 3 20\n"
      ]
     },
     "execution_count": 22,
     "metadata": {},
     "output_type": "execute_result"
    },
    {
     "data": {
      "text/plain": [
       "1 10\n",
       "1 20\n",
       "2 10\n",
       "2 20\n",
       "3 10\n",
       "3 20\n"
      ]
     },
     "execution_count": 22,
     "metadata": {},
     "output_type": "execute_result"
    },
    {
     "data": {
      "text/plain": [
       "1 10\n",
       "1 20\n",
       "2 10\n",
       "2 20\n",
       "3 10\n",
       "3 20\n"
      ]
     },
     "execution_count": 22,
     "metadata": {},
     "output_type": "execute_result"
    }
   ],
   "source": [
    "\"Cross Product\"\n",
    "/A cross (Cartesian) product of two lists pairs each item on the left with each \n",
    "    /item on the right.\n",
    "1 2 3,/:\\:10 20\n",
    "/If we compose Join with Each Right and Each Left, we are almost there, except that \n",
    "    /there is an extra level of nesting, which we eliminate with the built-in raze.\n",
    "raze 1 2 3,/:\\:10 20\n",
    "\n",
    "/The built-in operator cross computes this cross product.\n",
    "1 2 3 cross 10 20"
   ]
  },
  {
   "cell_type": "code",
   "execution_count": 23,
   "id": "fe06ba3a-cdbd-4b9f-aaf7-f914e23905bb",
   "metadata": {},
   "outputs": [
    {
     "data": {
      "text/plain": [
       "\"Over\"\n"
      ]
     },
     "execution_count": 23,
     "metadata": {},
     "output_type": "execute_result"
    },
    {
     "data": {
      "text/plain": [
       "6\n"
      ]
     },
     "execution_count": 23,
     "metadata": {},
     "output_type": "execute_result"
    },
    {
     "data": {
      "text/plain": [
       "6\n"
      ]
     },
     "execution_count": 23,
     "metadata": {},
     "output_type": "execute_result"
    },
    {
     "data": {
      "text/plain": [
       "-4\n"
      ]
     },
     "execution_count": 23,
     "metadata": {},
     "output_type": "execute_result"
    },
    {
     "data": {
      "text/plain": [
       "6\n"
      ]
     },
     "execution_count": 23,
     "metadata": {},
     "output_type": "execute_result"
    },
    {
     "data": {
      "text/plain": [
       "0.1666667\n"
      ]
     },
     "execution_count": 23,
     "metadata": {},
     "output_type": "execute_result"
    },
    {
     "data": {
      "text/plain": [
       "55\n"
      ]
     },
     "execution_count": 23,
     "metadata": {},
     "output_type": "execute_result"
    },
    {
     "data": {
      "text/plain": [
       "55\n"
      ]
     },
     "execution_count": 23,
     "metadata": {},
     "output_type": "execute_result"
    }
   ],
   "source": [
    "\"Over\"\n",
    "/The Over iterator / is a higher-order function that provides the principal mechanism for recursion in q. \n",
    "/In its simplest form it modifies a binary function to accumulate results over a list.\n",
    "\n",
    "/We know that we can do element wise operations in between two lists or a list and a number\n",
    "/But there is also a simple way to do basic iterative operations on a list\n",
    "/ +/ or any basic operator followed by / tells us that it is iterating over itself\n",
    "/In q this is called Over\n",
    "0 +/ 1 2 3 /We specify initial value in the accumulator and then modify + with iterator /\n",
    "/The initial accumulator value is the left operand and the list to accumulate over is the \n",
    "    /right operand. Under the covers, each item of the list is progressively added into the \n",
    "    /accumulator, moving across the list until the end is reached\n",
    "\n",
    "/Alternatively if we want the first item of the list to be to be the start then we do the following\n",
    "(+/) 1 2 3\n",
    "/Other basic operators\n",
    "(-/) 1 2 3\n",
    "(*/) 1 2 3\n",
    "(%/) 1 2 3\n",
    "\n",
    "/Alt syntax\n",
    "+/[0; 1 2 3 4 5 6 7 8 9 10] /With left operand\n",
    "+/[1 2 3 4 5 6 7 8 9 10] /Without left operand"
   ]
  },
  {
   "cell_type": "code",
   "execution_count": 24,
   "id": "eb78b6ed-f203-4a44-9d31-9a6639fbea68",
   "metadata": {},
   "outputs": [
    {
     "data": {
      "text/plain": [
       "4\n"
      ]
     },
     "execution_count": 24,
     "metadata": {},
     "output_type": "execute_result"
    },
    {
     "data": {
      "text/plain": [
       "1\n"
      ]
     },
     "execution_count": 24,
     "metadata": {},
     "output_type": "execute_result"
    }
   ],
   "source": [
    "/This is very useful technique because this way we can get max and min using advanced operators \n",
    "    /such as | and &\n",
    "(|/) 1 4 2 /Get maximum\n",
    "(&/) 2 4 1 /Get minimum"
   ]
  },
  {
   "cell_type": "code",
   "execution_count": 25,
   "id": "7b7fb5fa-52d8-4bf0-9307-8f0fef31164d",
   "metadata": {},
   "outputs": [
    {
     "data": {
      "text/plain": [
       "822\n"
      ]
     },
     "execution_count": 25,
     "metadata": {},
     "output_type": "execute_result"
    },
    {
     "data": {
      "text/plain": [
       "822\n"
      ]
     },
     "execution_count": 25,
     "metadata": {},
     "output_type": "execute_result"
    }
   ],
   "source": [
    "/Over on custom functions\n",
    "\n",
    "f:{2*x+y}\n",
    "\n",
    "100 f/ 1 2 3\n",
    "/How does this work?\n",
    "ret1 : f[100;1]\n",
    "ret2 : f[ret1;2]\n",
    "f[ret2;3]"
   ]
  },
  {
   "cell_type": "code",
   "execution_count": 26,
   "id": "e9f7a00e-73be-4cc7-a80e-ffeafdc83dbe",
   "metadata": {},
   "outputs": [
    {
     "data": {
      "text/plain": [
       "1 1 2 3 5 8 13 21 34 55 89 144\n"
      ]
     },
     "execution_count": 26,
     "metadata": {},
     "output_type": "execute_result"
    }
   ],
   "source": [
    "/We can use Over to do recursion on unary functions\n",
    "/In this version of /, the left operand is a natural number indicating how \n",
    "    /many times to perform the iteration and the right operand is the initial value.\n",
    "\n",
    "fib:{x,sum -2#x}\n",
    "\n",
    "/Left operand tells us how many times to recurse and ight operand is input\n",
    "10 fib/ 1 1"
   ]
  },
  {
   "cell_type": "code",
   "execution_count": 27,
   "id": "d4d7daf3-a024-4986-a387-de777fa22803",
   "metadata": {},
   "outputs": [
    {
     "data": {
      "text/plain": [
       "\"Recursion until converegence\"\n"
      ]
     },
     "execution_count": 27,
     "metadata": {},
     "output_type": "execute_result"
    },
    {
     "data": {
      "text/plain": [
       "1.414214\n"
      ]
     },
     "execution_count": 27,
     "metadata": {},
     "output_type": "execute_result"
    },
    {
     "data": {
      "text/plain": [
       "1f\n"
      ]
     },
     "execution_count": 27,
     "metadata": {},
     "output_type": "execute_result"
    }
   ],
   "source": [
    "\"Recursion until converegence\"\n",
    "/Another version of / runs the recursion until convergence, or until a loop is detected. \n",
    "\n",
    "/Example uses Newton Raphson Method\n",
    "f:{-2+x*x}\n",
    "secant:{[f;x;e] (f[x+e]-f x-e)%2*e}\n",
    "{x-f[x]%secant[f; x; 1e-6]}/[1.5]\n",
    "/How does q determine convergence? At each step the result is compared to that of the previous \n",
    "    /step. If the two agree within equality tolerance (10-14) the algorithm is considered to \n",
    "    /have converged and the recursion is complete; otherwise it continues.\n",
    "\n",
    "/Mathematically, it is possible to generate an infinite loop with Newton-Raphson. To wit, \n",
    "    /we select the function x3 – 2x + 2 and choose the initial value 0, which causes the \n",
    "    /algorithm to go into a cycle.\n",
    "newtcycle:{[xn] xn-((xn*xn*xn)+(-2*xn)+2)%-2+3*xn*xn}\n",
    "newtcycle/[0.0]\n",
    "/How did q detect the cycle and stop the iteration? At each step it compares the result with \n",
    "    /the initial value. If they match, a cycle has occurred and the recursion is halted; \n",
    "    /otherwise it continues."
   ]
  },
  {
   "cell_type": "code",
   "execution_count": 28,
   "id": "1a1a7b43-8769-484f-9ada-6f80c3987099",
   "metadata": {},
   "outputs": [
    {
     "data": {
      "text/plain": [
       "\"While loop equivalent\"\n"
      ]
     },
     "execution_count": 28,
     "metadata": {},
     "output_type": "execute_result"
    },
    {
     "data": {
      "text/plain": [
       "1 1 2 3 5 8 13 21 34 55 89 144 233 377 610 987 1597\n"
      ]
     },
     "execution_count": 28,
     "metadata": {},
     "output_type": "execute_result"
    }
   ],
   "source": [
    "\"While loop equivalent\"\n",
    "/The final overload of / is equivalent to a “while” loop in imperative programming. \n",
    "/It provides a declarative way to specify a test to end the iteration. Thinking functionally, \n",
    "    /we provide a predicate function that is applied to the result at each step. The iteration \n",
    "    /continues as long as the predicate result is 1b and stops otherwise. For example, we stop \n",
    "    /the computation of the Fibonacci sequence once it exceeds 1000 as follows.\n",
    "\n",
    "fib:{x,sum -2#x}\n",
    "fib/[{1000>last x}; 1 1]"
   ]
  },
  {
   "cell_type": "code",
   "execution_count": 29,
   "id": "0e673399-a394-4451-a051-7ca57d2a59a6",
   "metadata": {},
   "outputs": [
    {
     "data": {
      "text/plain": [
       "6\n"
      ]
     },
     "execution_count": 29,
     "metadata": {},
     "output_type": "execute_result"
    },
    {
     "data": {
      "text/plain": [
       "6\n"
      ]
     },
     "execution_count": 29,
     "metadata": {},
     "output_type": "execute_result"
    },
    {
     "data": {
      "text/plain": [
       "4\n"
      ]
     },
     "execution_count": 29,
     "metadata": {},
     "output_type": "execute_result"
    },
    {
     "data": {
      "text/plain": [
       "1\n"
      ]
     },
     "execution_count": 29,
     "metadata": {},
     "output_type": "execute_result"
    }
   ],
   "source": [
    "/Some of these combos have named operations which are aliases\n",
    "sum 1 2 3 / +/\n",
    "prd 1 2 3 / */\n",
    "max 1 4 2 / |/\n",
    "min 2 4 1 / &/"
   ]
  },
  {
   "cell_type": "code",
   "execution_count": 30,
   "id": "0f83836f-3f57-422a-b503-d9e055dbab84",
   "metadata": {},
   "outputs": [
    {
     "data": {
      "text/plain": [
       "\"Power Trick\"\n"
      ]
     },
     "execution_count": 30,
     "metadata": {},
     "output_type": "execute_result"
    },
    {
     "data": {
      "text/plain": [
       "100000\n"
      ]
     },
     "execution_count": 30,
     "metadata": {},
     "output_type": "execute_result"
    }
   ],
   "source": [
    "\"Power Trick\"\n",
    "/This gives us a cool way to get power of a number\n",
    "/We use # and */ to do it\n",
    "/We know X#V is a list of X Vs\n",
    "/And if we (*/) that list then we have V^X\n",
    "(*/) 5#10"
   ]
  },
  {
   "cell_type": "code",
   "execution_count": 31,
   "id": "0cf943d6-7f84-493e-aa55-897cba360a22",
   "metadata": {},
   "outputs": [
    {
     "data": {
      "text/plain": [
       "\"Scan\"\n"
      ]
     },
     "execution_count": 31,
     "metadata": {},
     "output_type": "execute_result"
    },
    {
     "data": {
      "text/plain": [
       "1 3 6\n"
      ]
     },
     "execution_count": 31,
     "metadata": {},
     "output_type": "execute_result"
    },
    {
     "data": {
      "text/plain": [
       "1 -1 -4\n"
      ]
     },
     "execution_count": 31,
     "metadata": {},
     "output_type": "execute_result"
    },
    {
     "data": {
      "text/plain": [
       "1 2 6\n"
      ]
     },
     "execution_count": 31,
     "metadata": {},
     "output_type": "execute_result"
    },
    {
     "data": {
      "text/plain": [
       "1\n",
       "0.5\n",
       "0.1666667\n"
      ]
     },
     "execution_count": 31,
     "metadata": {},
     "output_type": "execute_result"
    },
    {
     "data": {
      "text/plain": [
       "1 4 4\n"
      ]
     },
     "execution_count": 31,
     "metadata": {},
     "output_type": "execute_result"
    },
    {
     "data": {
      "text/plain": [
       "2 2 1\n"
      ]
     },
     "execution_count": 31,
     "metadata": {},
     "output_type": "execute_result"
    },
    {
     "data": {
      "text/plain": [
       "202 408 822\n"
      ]
     },
     "execution_count": 31,
     "metadata": {},
     "output_type": "execute_result"
    }
   ],
   "source": [
    "\"Scan\"\n",
    "/We know that Over aka operator followed by / gives us the final output, but if we \n",
    "    /want to get intermediate outputs as well we use its sibling called Scan which \n",
    "    /is operator followed by \\\n",
    "(+\\) 1 2 3\n",
    "(-\\) 1 2 3\n",
    "(*\\) 1 2 3\n",
    "(%\\) 1 2 3\n",
    "(|\\) 1 4 2 /Get maximum\n",
    "(&\\) 2 4 1 /Get minimum\n",
    "\n",
    "/All the variations of Over are also available with Scan. \n",
    "/Switching to Scan can be useful to see intermediate results of an accumulation.\n",
    "\n",
    "/See the intermediate operations on custom functions\n",
    "f:{2*x+y}\n",
    "100 f\\ 1 2 3"
   ]
  },
  {
   "cell_type": "code",
   "execution_count": 32,
   "id": "e65d5d73-75ed-4b07-8f6d-386f7a844f16",
   "metadata": {},
   "outputs": [
    {
     "data": {
      "text/plain": [
       "1 3 6\n"
      ]
     },
     "execution_count": 32,
     "metadata": {},
     "output_type": "execute_result"
    },
    {
     "data": {
      "text/plain": [
       "1 2 6\n"
      ]
     },
     "execution_count": 32,
     "metadata": {},
     "output_type": "execute_result"
    },
    {
     "data": {
      "text/plain": [
       "1 4 4\n"
      ]
     },
     "execution_count": 32,
     "metadata": {},
     "output_type": "execute_result"
    },
    {
     "data": {
      "text/plain": [
       "2 2 1\n"
      ]
     },
     "execution_count": 32,
     "metadata": {},
     "output_type": "execute_result"
    }
   ],
   "source": [
    "/Just as for Over, Scan has named operations for some of these combos which are aliases\n",
    "sums 1 2 3 / +\\\n",
    "prds 1 2 3 / *\\\n",
    "maxs 1 4 2 / |\\\n",
    "mins 2 4 1 / &\\"
   ]
  },
  {
   "cell_type": "code",
   "execution_count": 33,
   "id": "d0efc045-8873-4d85-b7d4-7cc07212c608",
   "metadata": {},
   "outputs": [
    {
     "data": {
      "text/plain": [
       "\"Each Prior\"\n"
      ]
     },
     "execution_count": 33,
     "metadata": {},
     "output_type": "execute_result"
    },
    {
     "data": {
      "text/plain": [
       "0 -1 2 1 -1\n"
      ]
     },
     "execution_count": 33,
     "metadata": {},
     "output_type": "execute_result"
    },
    {
     "data": {
      "text/plain": [
       "100 -1 2 1 -1\n"
      ]
     },
     "execution_count": 33,
     "metadata": {},
     "output_type": "execute_result"
    }
   ],
   "source": [
    "\"Each Prior\"\n",
    "/The iterator Each Prior ': provides a declarative way to perform a binary operation \n",
    "    /on each item of a list with its predecessor.\n",
    "\n",
    "/Since initial value does not have predecessor, we must provide one in the left operand\n",
    "100 -': 100 99 101 102 101\n",
    "\n",
    "/As with the other iterators, there is a unary form of Each Prior\n",
    "/It may come as a surprise that the unary form does not choose the initial item of the input \n",
    "    /list as the initial predecessor. Rather, it returns the initial item of the input as is\n",
    "(-':)100 99 101 102 101"
   ]
  },
  {
   "cell_type": "code",
   "execution_count": 34,
   "id": "160821cd-1e02-4cad-b4b7-d6a38aadd63c",
   "metadata": {},
   "outputs": [
    {
     "data": {
      "text/plain": [
       "100 -1 2 1 -1\n"
      ]
     },
     "execution_count": 34,
     "metadata": {},
     "output_type": "execute_result"
    },
    {
     "data": {
      "text/plain": [
       "100 0.99 1.020202 1.009901 0.9901961\n"
      ]
     },
     "execution_count": 34,
     "metadata": {},
     "output_type": "execute_result"
    }
   ],
   "source": [
    "/Named versions of Each Prior\n",
    "/ -': is called deltas\n",
    "/It is only for the unary version\n",
    "deltas 100 99 101 102 101\n",
    "\n",
    "/%': is called ratios\n",
    "ratios 100 99 101 102 101"
   ]
  },
  {
   "cell_type": "code",
   "execution_count": 35,
   "id": "a4b1c67c-0567-4916-91e3-fa5548c1df4e",
   "metadata": {},
   "outputs": [
    {
     "data": {
      "text/plain": [
       "011010001101b\n"
      ]
     },
     "execution_count": 35,
     "metadata": {},
     "output_type": "execute_result"
    },
    {
     "data": {
      "text/plain": [
       "100101110010b\n"
      ]
     },
     "execution_count": 35,
     "metadata": {},
     "output_type": "execute_result"
    },
    {
     "data": {
      "text/plain": [
       "100101110010b\n"
      ]
     },
     "execution_count": 35,
     "metadata": {},
     "output_type": "execute_result"
    },
    {
     "data": {
      "text/plain": [
       "0 3 5 6 7 10\n"
      ]
     },
     "execution_count": 35,
     "metadata": {},
     "output_type": "execute_result"
    },
    {
     "data": {
      "text/plain": [
       "1 1 1\n",
       "2 2\n",
       ",3\n",
       ",4\n",
       "5 5 5\n",
       "6 6\n"
      ]
     },
     "execution_count": 35,
     "metadata": {},
     "output_type": "execute_result"
    }
   ],
   "source": [
    "/A powerful idiom with Each Prior uses Match ~ to test if successive items are identical.\n",
    "(~':) 1 1 1 2 2 3 4 5 5 5 6 6\n",
    "\n",
    "not (~':) 1 1 1 2 2 3 4 5 5 5 6 6\n",
    "\n",
    "/not (~':) has a named version\n",
    "differ 1 1 1 2 2 3 4 5 5 5 6 6\n",
    "\n",
    "L:1 1 1 2 2 3 4 5 5 5 6 6\n",
    "where differ L\n",
    "\n",
    "/Observe that the 1b values in the result of differ are the start points for runs of identical \n",
    "    /items, so where yields their indices. Then use cut to split them out.\n",
    "(where differ L) cut L"
   ]
  },
  {
   "cell_type": "code",
   "execution_count": 36,
   "id": "2c3ce8a7-41ce-4148-abb3-c45c424a7cd8",
   "metadata": {},
   "outputs": [
    {
     "data": {
      "text/plain": [
       "1 1 2\n"
      ]
     },
     "execution_count": 36,
     "metadata": {},
     "output_type": "execute_result"
    },
    {
     "data": {
      "text/plain": [
       "1 1 2 3 5 8 13 21 34 55 89 144\n"
      ]
     },
     "execution_count": 36,
     "metadata": {},
     "output_type": "execute_result"
    },
    {
     "data": {
      "text/plain": [
       "1 1 2 3 5 8 13 21 34 55 89 144\n"
      ]
     },
     "execution_count": 36,
     "metadata": {},
     "output_type": "execute_result"
    },
    {
     "data": {
      "text/plain": [
       "1 1 2 3 5 8 13 21 34 55 89 144\n"
      ]
     },
     "execution_count": 36,
     "metadata": {},
     "output_type": "execute_result"
    }
   ],
   "source": [
    "/Special function: Fibonacci sequence\n",
    "/We use what we learned about functions and the list operators to create a Fibonacci function\n",
    "/We know fibonacci starts with 1 1 with every subsequent element being a sum of the previous 2\n",
    "/Given a Fib sequence we give the next value in the sequence\n",
    "/No input specified so by default first input would be x\n",
    "/We have , because we want to display input aka x followed by next value in fibonacci sequence\n",
    "/ -2# takes last two values of list and sum adds them\n",
    "Fib:{x,sum -2#x}\n",
    "Fib 1 1\n",
    "/The above function is fairly limited since it has to give us the Fibonacci sequence before the desired point to get it\n",
    "/We know that 1 1 is the start, what if we could set this function recursively where the user only had to specify the\n",
    "/number of values he wanted from the Fibonacci sequence \n",
    "/There is an overload of / where we can specify number of time to resurse and the base case\n",
    "10 {x,sum -2#x}/ 1 1 /N {Func}/ [base case]\n",
    "/We can write this as a function which inputs number of recursions. NOte it will leverage nested functions\n",
    "Fib_new:{x {x,sum -2#x}/ 1 1} \n",
    "/Dont get confused by x being used twice for different values. For readability a better way to write it would be:\n",
    "Fib_new2:{[N] N {x,sum -2#x}/ 1 1} \n",
    "Fib_new 10\n",
    "Fib_new2 10"
   ]
  },
  {
   "cell_type": "code",
   "execution_count": 37,
   "id": "bd2ebf56-e418-49f9-b8c6-d76fd7b1bb1b",
   "metadata": {},
   "outputs": [
    {
     "data": {
      "text/plain": [
       "\"Operator @\"\n"
      ]
     },
     "execution_count": 37,
     "metadata": {},
     "output_type": "execute_result"
    },
    {
     "data": {
      "text/plain": [
       "20\n"
      ]
     },
     "execution_count": 37,
     "metadata": {},
     "output_type": "execute_result"
    },
    {
     "data": {
      "text/plain": [
       "4\n"
      ]
     },
     "execution_count": 37,
     "metadata": {},
     "output_type": "execute_result"
    },
    {
     "data": {
      "text/plain": [
       "4\n"
      ]
     },
     "execution_count": 37,
     "metadata": {},
     "output_type": "execute_result"
    },
    {
     "data": {
      "text/plain": [
       "100 400 900 1600\n"
      ]
     },
     "execution_count": 37,
     "metadata": {},
     "output_type": "execute_result"
    }
   ],
   "source": [
    "\"Operator @\"\n",
    "/Basic application comprises retrieving a list item by index, looking up a dictionary \n",
    "    /value by key, or evaluating a unary function. These are all instances of application \n",
    "    /of a univalent mathematical mapping. These are to be distinguished from indexing at depth\n",
    "    /which uses operator apply\n",
    "/The higher-order function @ is the true form of basic application in q. \n",
    "/It applies a unary mapping to an argument.\n",
    "\n",
    "L:10 20 30 40\n",
    "\n",
    "L@1\n",
    "\n",
    "count@L\n",
    "@[count; L]\n",
    "\n",
    "{x*x}@L"
   ]
  },
  {
   "cell_type": "code",
   "execution_count": 38,
   "id": "0172afa3-271e-41a1-a136-3b7dbb9a8183",
   "metadata": {},
   "outputs": [
    {
     "data": {
      "text/plain": [
       "\"Operator Apply\"\n"
      ]
     },
     "execution_count": 38,
     "metadata": {},
     "output_type": "execute_result"
    },
    {
     "data": {
      "text/plain": [
       "40 50\n",
       "10 20 30\n"
      ]
     },
     "execution_count": 38,
     "metadata": {},
     "output_type": "execute_result"
    },
    {
     "data": {
      "text/plain": [
       "40\n"
      ]
     },
     "execution_count": 38,
     "metadata": {},
     "output_type": "execute_result"
    },
    {
     "data": {
      "text/plain": [
       "40\n"
      ]
     },
     "execution_count": 38,
     "metadata": {},
     "output_type": "execute_result"
    },
    {
     "data": {
      "text/plain": [
       "44\n"
      ]
     },
     "execution_count": 38,
     "metadata": {},
     "output_type": "execute_result"
    },
    {
     "data": {
      "text/plain": [
       "3\n"
      ]
     },
     "execution_count": 38,
     "metadata": {},
     "output_type": "execute_result"
    },
    {
     "data": {
      "text/plain": [
       "3\n"
      ]
     },
     "execution_count": 38,
     "metadata": {},
     "output_type": "execute_result"
    },
    {
     "data": {
      "text/plain": [
       "3\n"
      ]
     },
     "execution_count": 38,
     "metadata": {},
     "output_type": "execute_result"
    }
   ],
   "source": [
    "\"Operator Apply\"\n",
    "/Indexing a list at depth, retrieving a nested value from a dictionary and evaluating a function \n",
    "    /with multiple parameters are all instances of applying a multi-variate mapping. \n",
    "/The higher-order function . is the true form of multi-variate application in q. \n",
    "/It applies a multi-variate mapping to multiple arguments and can be written infix or prefix.\n",
    "\n",
    "/The right argument of . must be a list.\n",
    "\n",
    "L:(10 20 30; 40 50)\n",
    "\n",
    "L 1 0\n",
    "\n",
    "L[1; 0]\n",
    "\n",
    "L . 1 0\n",
    "\n",
    "\n",
    "d:`a`b`c!(10 20 30; 44 50; enlist 60)\n",
    "d . (`b; 0)\n",
    "\n",
    "\n",
    "g:{x+y}\n",
    "g[1; 2]\n",
    "g . 1 2\n",
    "\n",
    ".[g; 1 2]\n",
    "\n",
    "/We conclude that . can apply a function of any valence and that @ is actually unnecessary."
   ]
  },
  {
   "cell_type": "code",
   "execution_count": 39,
   "id": "2c572a12-ef33-4a2e-9c5e-8dcfe64ba9e5",
   "metadata": {},
   "outputs": [
    {
     "data": {
      "text/plain": [
       "a| -10\n",
       "b| 20\n",
       "c| -30\n"
      ]
     },
     "execution_count": 39,
     "metadata": {},
     "output_type": "execute_result"
    },
    {
     "data": {
      "text/plain": [
       "a| 10\n",
       "b| 20\n",
       "c| 30\n"
      ]
     },
     "execution_count": 39,
     "metadata": {},
     "output_type": "execute_result"
    },
    {
     "data": {
      "text/plain": [
       "`d\n"
      ]
     },
     "execution_count": 39,
     "metadata": {},
     "output_type": "execute_result"
    },
    {
     "data": {
      "text/plain": [
       "a| -10\n",
       "b| 20\n",
       "c| -30\n"
      ]
     },
     "execution_count": 39,
     "metadata": {},
     "output_type": "execute_result"
    }
   ],
   "source": [
    "/Applying a unary function at specific positions @ Operator\n",
    "d:`a`b`c!10 20 30\n",
    "ks:`a`c\n",
    "@[d; ks; neg]\n",
    "d\n",
    "\n",
    "/As you can see the original doesnt change since it uses a copy\n",
    "/If we want it to be an inline function, we use the following code\n",
    "@[`d; ks; neg]\n",
    "d"
   ]
  },
  {
   "cell_type": "code",
   "execution_count": 40,
   "id": "300e823d-2327-441c-a5e0-05a0a48a577e",
   "metadata": {},
   "outputs": [
    {
     "data": {
      "text/plain": [
       "110 220 30 40\n"
      ]
     },
     "execution_count": 40,
     "metadata": {},
     "output_type": "execute_result"
    }
   ],
   "source": [
    "/Applying a binary function at specific positions @ Operator\n",
    "L:10 20 30 40\n",
    "/Specifiy positions to get left operand and then the right opeand is specified\n",
    "@[L; 0 1; +; 100 200]\n",
    "\n",
    "\n",
    "/The general form of functional @ for a binary atomic function is:\n",
    "/@[L; I; g; v]\n",
    "/The notation is suggestive of lists, but L can be any data structure, viewed as a mapping. \n",
    "/Here I is a top-level sub-domain of L; g is a binary function; and v is an atom or list \n",
    "    /conforming to I."
   ]
  },
  {
   "cell_type": "code",
   "execution_count": 41,
   "id": "97366e44-9140-4c96-8f80-99b49fbc4c5a",
   "metadata": {},
   "outputs": [
    {
     "data": {
      "text/plain": [
       "42 20 43 40\n"
      ]
     },
     "execution_count": 41,
     "metadata": {},
     "output_type": "execute_result"
    },
    {
     "data": {
      "text/plain": [
       "10 20 30 40\n"
      ]
     },
     "execution_count": 41,
     "metadata": {},
     "output_type": "execute_result"
    },
    {
     "data": {
      "text/plain": [
       "`L\n"
      ]
     },
     "execution_count": 41,
     "metadata": {},
     "output_type": "execute_result"
    },
    {
     "data": {
      "text/plain": [
       "42 20 43 40\n"
      ]
     },
     "execution_count": 41,
     "metadata": {},
     "output_type": "execute_result"
    }
   ],
   "source": [
    "/A useful case of binary application uses the assignment operator : to modify values along \n",
    "    /the sub-domain\n",
    "L:10 20 30 40\n",
    "@[L; 0 2; :; 42 43]\n",
    "L\n",
    "\n",
    "/As in the unary case, to apply to the original in place, instead of to a copy, use pass-by-name.\n",
    "@[`L; 0 2; :; 42 43]\n",
    "L"
   ]
  },
  {
   "cell_type": "code",
   "execution_count": 42,
   "id": "ff5512e0-2023-4f60-b8ef-08d1d6ce92ab",
   "metadata": {},
   "outputs": [
    {
     "data": {
      "text/plain": [
       "10  -20 30 \n",
       "100 200 300\n"
      ]
     },
     "execution_count": 42,
     "metadata": {},
     "output_type": "execute_result"
    },
    {
     "data": {
      "text/plain": [
       "10  20  30 \n",
       "100 200 300\n"
      ]
     },
     "execution_count": 42,
     "metadata": {},
     "output_type": "execute_result"
    },
    {
     "data": {
      "text/plain": [
       "`m\n"
      ]
     },
     "execution_count": 42,
     "metadata": {},
     "output_type": "execute_result"
    },
    {
     "data": {
      "text/plain": [
       "10  -20 30 \n",
       "100 200 300\n"
      ]
     },
     "execution_count": 42,
     "metadata": {},
     "output_type": "execute_result"
    },
    {
     "data": {
      "text/plain": [
       "-10 -20 -30\n",
       "100 200 300\n"
      ]
     },
     "execution_count": 42,
     "metadata": {},
     "output_type": "execute_result"
    },
    {
     "data": {
      "text/plain": [
       "-10 -20 -30\n",
       "100 200 300\n"
      ]
     },
     "execution_count": 42,
     "metadata": {},
     "output_type": "execute_result"
    }
   ],
   "source": [
    "/Applying a unary function at specific positions Apply Operator\n",
    "m:(10 20 30; 100 200 300)\n",
    "\n",
    ".[m; 0 1; neg]\n",
    "m\n",
    "\n",
    "/if we want it to be inplace\n",
    ".[`m; 0 1; neg]\n",
    "m\n",
    "\n",
    "/Ellided indices instead of enlist or incomplete indices\n",
    "m:(10 20 30; 100 200 300)\n",
    ".[m; enlist (0); neg]\n",
    ".[m; (0; ::); neg]\n",
    "\n",
    "/The general form of . for unary functions is,\n",
    "/.[L; I; f]\n",
    "/Here L is a data structure, I is an in-depth sub-domain of L and f is a unary atomic function."
   ]
  },
  {
   "cell_type": "code",
   "execution_count": 43,
   "id": "4b03ac3a-fed3-42c5-bfde-6afde333fa50",
   "metadata": {},
   "outputs": [
    {
     "data": {
      "text/plain": [
       "10  21  30 \n",
       "100 200 300\n"
      ]
     },
     "execution_count": 43,
     "metadata": {},
     "output_type": "execute_result"
    },
    {
     "data": {
      "text/plain": [
       "10  21  30 \n",
       "100 202 300\n"
      ]
     },
     "execution_count": 43,
     "metadata": {},
     "output_type": "execute_result"
    },
    {
     "data": {
      "text/plain": [
       "`d\n"
      ]
     },
     "execution_count": 43,
     "metadata": {},
     "output_type": "execute_result"
    },
    {
     "data": {
      "text/plain": [
       "a| 42 200 300\n",
       "b| 42 500\n",
       "c| ,42\n"
      ]
     },
     "execution_count": 43,
     "metadata": {},
     "output_type": "execute_result"
    }
   ],
   "source": [
    "/Applying a binary function at specific positions Apply Operator\n",
    "/The form of functional . for a binary function is:\n",
    "/.[L; I; g; v]\n",
    "/Here L is a data structure, I is an in-depth sub-domain of L, \n",
    "    /g is a binary function and v is an atom (for g atomic) or a \n",
    "    /vector that conforms to I. To apply in place use pass-by-name.\n",
    "\n",
    "m:(10 20 30; 100 200 300)\n",
    "\n",
    ".[m; 0 1; +; 1]\n",
    "\n",
    ".[m; (::; 1); +; 1 2]\n",
    "\n",
    "/Assigning values\n",
    "d:`a`b`c!(100 200 300; 400 500; enlist 600)\n",
    ".[`d; (::; 0); :; 42]\n",
    "d"
   ]
  }
 ],
 "metadata": {
  "kernelspec": {
   "display_name": "Q (kdb+)",
   "language": "q",
   "name": "qpk"
  },
  "language_info": {
   "file_extension": ".q",
   "mimetype": "text/x-q",
   "name": "q",
   "version": "4.0"
  }
 },
 "nbformat": 4,
 "nbformat_minor": 5
}
