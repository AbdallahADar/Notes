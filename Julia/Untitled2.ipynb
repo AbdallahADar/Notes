{
 "cells": [
  {
   "cell_type": "code",
   "execution_count": 9,
   "id": "3b6337f4",
   "metadata": {},
   "outputs": [],
   "source": [
    "import numpy as np\n",
    "from scipy.spatial.distance import cdist\n",
    "from sklearn.metrics import confusion_matrix\n",
    "from skimage.measure import label, regionprops, moments, moments_central, moments_normalized, moments_hu\n",
    "from skimage import io,exposure\n",
    "import matplotlib.pyplot as plt\n",
    "from matplotlib.patches import Rectangle\n",
    "import pickle"
   ]
  },
  {
   "cell_type": "code",
   "execution_count": 7,
   "id": "cfbe6f42",
   "metadata": {},
   "outputs": [
    {
     "name": "stdout",
     "output_type": "stream",
     "text": [
      "Requirement already satisfied: scikit-image in /Users/abdallahdar/opt/anaconda3/lib/python3.8/site-packages (0.16.2)\n",
      "Requirement already satisfied: pillow>=4.3.0 in /Users/abdallahdar/opt/anaconda3/lib/python3.8/site-packages (from scikit-image) (7.2.0)\n",
      "Requirement already satisfied: scipy>=0.19.0 in /Users/abdallahdar/opt/anaconda3/lib/python3.8/site-packages (from scikit-image) (1.5.0)\n",
      "Requirement already satisfied: PyWavelets>=0.4.0 in /Users/abdallahdar/opt/anaconda3/lib/python3.8/site-packages (from scikit-image) (1.1.1)\n",
      "Requirement already satisfied: imageio>=2.3.0 in /Users/abdallahdar/opt/anaconda3/lib/python3.8/site-packages (from scikit-image) (2.9.0)\n",
      "Requirement already satisfied: matplotlib!=3.0.0,>=2.0.0 in /Users/abdallahdar/opt/anaconda3/lib/python3.8/site-packages (from scikit-image) (3.4.3)\n",
      "Requirement already satisfied: networkx>=2.0 in /Users/abdallahdar/opt/anaconda3/lib/python3.8/site-packages (from scikit-image) (2.6.3)\n",
      "Requirement already satisfied: numpy>=1.14.5 in /Users/abdallahdar/opt/anaconda3/lib/python3.8/site-packages (from scipy>=0.19.0->scikit-image) (1.19.5)\n",
      "Requirement already satisfied: kiwisolver>=1.0.1 in /Users/abdallahdar/opt/anaconda3/lib/python3.8/site-packages (from matplotlib!=3.0.0,>=2.0.0->scikit-image) (1.2.0)\n",
      "Requirement already satisfied: cycler>=0.10 in /Users/abdallahdar/opt/anaconda3/lib/python3.8/site-packages (from matplotlib!=3.0.0,>=2.0.0->scikit-image) (0.10.0)\n",
      "Requirement already satisfied: python-dateutil>=2.7 in /Users/abdallahdar/opt/anaconda3/lib/python3.8/site-packages (from matplotlib!=3.0.0,>=2.0.0->scikit-image) (2.8.1)\n",
      "Requirement already satisfied: pyparsing>=2.2.1 in /Users/abdallahdar/opt/anaconda3/lib/python3.8/site-packages (from matplotlib!=3.0.0,>=2.0.0->scikit-image) (2.4.7)\n",
      "Requirement already satisfied: six in /Users/abdallahdar/opt/anaconda3/lib/python3.8/site-packages (from cycler>=0.10->matplotlib!=3.0.0,>=2.0.0->scikit-image) (1.15.0)\n",
      "Note: you may need to restart the kernel to use updated packages.\n"
     ]
    }
   ],
   "source": []
  },
  {
   "cell_type": "code",
   "execution_count": null,
   "id": "082459aa",
   "metadata": {},
   "outputs": [],
   "source": []
  }
 ],
 "metadata": {
  "kernelspec": {
   "display_name": "Python 3",
   "language": "python",
   "name": "python3"
  },
  "language_info": {
   "codemirror_mode": {
    "name": "ipython",
    "version": 3
   },
   "file_extension": ".py",
   "mimetype": "text/x-python",
   "name": "python",
   "nbconvert_exporter": "python",
   "pygments_lexer": "ipython3",
   "version": "3.8.3"
  }
 },
 "nbformat": 4,
 "nbformat_minor": 5
}
