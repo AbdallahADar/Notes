{
 "cells": [
  {
   "cell_type": "code",
   "execution_count": 1,
   "metadata": {},
   "outputs": [],
   "source": [
    "#Import library\n",
    "\n",
    "import numpy as np\n",
    "\n",
    "#if we use import numpy only, we would have to use numpy.function each time, this way we can simply use np.function"
   ]
  },
  {
   "cell_type": "markdown",
   "metadata": {},
   "source": [
    "### Arrays:"
   ]
  },
  {
   "cell_type": "code",
   "execution_count": 2,
   "metadata": {},
   "outputs": [],
   "source": [
    "#A 1D numpy ndarray is an optimized list for vector operations.\n",
    "#Numpy is written in the C language making it faster and more optimized"
   ]
  },
  {
   "cell_type": "code",
   "execution_count": 6,
   "metadata": {},
   "outputs": [
    {
     "name": "stdout",
     "output_type": "stream",
     "text": [
      "range(0, 4)\n",
      "[0 1 2 3]\n",
      "[1, 2, 3]\n",
      "[1 2 3]\n",
      "[1, 3, 5, 7, 9]\n",
      "[1 3 5 7 9]\n"
     ]
    }
   ],
   "source": [
    "#Range equivalent: Uses same logic and syntax as the generic list\n",
    "\n",
    "print(range(4))\n",
    "\n",
    "#This is already better because we do not have to cast it to a list or something else to be visible\n",
    "print(np.arange(4))\n",
    "\n",
    "print(list(range(1,4)))\n",
    "print(np.arange(1,4))\n",
    "\n",
    "print(list(range(1,10,2)))\n",
    "print(np.arange(1,10,2))"
   ]
  },
  {
   "cell_type": "code",
   "execution_count": 7,
   "metadata": {},
   "outputs": [
    {
     "name": "stdout",
     "output_type": "stream",
     "text": [
      "<class 'int'>\n",
      "<class 'numpy.int64'>\n"
     ]
    }
   ],
   "source": [
    "#A numpy array does not store Python int,float values, instead it stores efficient C++ style ints and floats\n",
    "l = list(range(4))\n",
    "print(type(l[0]))\n",
    "\n",
    "n = np.arange(4)\n",
    "print(type(n[0]))"
   ]
  },
  {
   "cell_type": "code",
   "execution_count": 8,
   "metadata": {},
   "outputs": [
    {
     "name": "stdout",
     "output_type": "stream",
     "text": [
      "[0, 1, 2, 3]\n",
      "(0, 1, 2, 3)\n"
     ]
    }
   ],
   "source": [
    "#For loops on numpy arrays work the exact same way as other iterables\n",
    "\n",
    "#they can easily be converted to other acceptable basic collection types\n",
    "n = np.arange(4)\n",
    "print(list(n))\n",
    "print(tuple(n))"
   ]
  },
  {
   "cell_type": "code",
   "execution_count": 9,
   "metadata": {},
   "outputs": [],
   "source": [
    "#Initializing a list:\n",
    "#We can create it from another iterable\n",
    "\n",
    "n1 = np.array([1,2,3,4]) #From list\n",
    "n2 = np.array((1,2,3,4)) #From tuple"
   ]
  },
  {
   "cell_type": "code",
   "execution_count": 15,
   "metadata": {},
   "outputs": [
    {
     "name": "stdout",
     "output_type": "stream",
     "text": [
      "<class 'numpy.float64'>\n",
      "[1.  2.  3.  4.4]\n"
     ]
    }
   ],
   "source": [
    "#Unlike a list, every element of ndarray must be of same type, if it isn't then they are upcasted by the function to be of the same type\n",
    "\n",
    "n3 = np.array([1,2,3,4.4]) #Upcasted to floats\n",
    "print(type(n3[0]))\n",
    "print(n3)\n",
    "\n",
    "#If there is a string/char, the numerics will get upcasted to string/char"
   ]
  },
  {
   "cell_type": "code",
   "execution_count": 17,
   "metadata": {},
   "outputs": [
    {
     "name": "stdout",
     "output_type": "stream",
     "text": [
      "[1, 2, 3, 4, 1, 2, 3, 4, 1, 2, 3, 4]\n",
      "[ 3  6  9 12]\n",
      "[2 3 4 5]\n",
      "[1, 2, 3, 4, 1, 2, 3, 4]\n",
      "[2 4 6 8]\n"
     ]
    }
   ],
   "source": [
    "#Array vs List operations:\n",
    "\n",
    "l = [1,2,3,4]\n",
    "n = np.array(l)\n",
    "\n",
    "print(l*3) #Repetition in list\n",
    "print(n*3) #Scalar multiplication\n",
    "\n",
    "#print(l+1) #No such thing for lists\n",
    "print(n+1) #Addition to each element\n",
    "\n",
    "print(l + l) #Concatenation in list\n",
    "print(n + n) #Vector sum"
   ]
  },
  {
   "cell_type": "code",
   "execution_count": 23,
   "metadata": {},
   "outputs": [
    {
     "name": "stdout",
     "output_type": "stream",
     "text": [
      "[2, 3, 4, 5]\n",
      "[2 3 4 5]\n",
      "[0, 1, -8, 6, 7, 8, 9]\n",
      "[ 0  1 -8 -8 -8 -8  6  7  8  9]\n",
      "[ 0  1 -8 -8 -8 -8  6  7  8  9]\n",
      "[  0   2 -16]\n",
      "[  0   2 -16  -8  -8  -8   6   7   8   9]\n",
      "[  0   2 -16  -8  -8  -8   6   7   8   9]\n",
      "[  0   4 -32]\n",
      "[  0   2 -16  -8  -8  -8   6   7   8   9]\n"
     ]
    }
   ],
   "source": [
    "#Array vs List indexing,slicing and views:\n",
    "\n",
    "#Indexing format is same\n",
    "\n",
    "l = list(range(10))\n",
    "n = np.arange(10)\n",
    "\n",
    "print(l[2:6])\n",
    "print(n[2:6])\n",
    "\n",
    "l[2:6] = [-8] #Replaces whole slice with a -8\n",
    "print(l)\n",
    "\n",
    "n[2:6] = -8\n",
    "print(n) #Since slicing in arrays are views, it changes each value in that view to -8\n",
    "\n",
    "#So if you assign a variable to the view and alter the new variable, the original one gets changed as well\n",
    "print(n)\n",
    "n2 = n[:3]\n",
    "n2*=2\n",
    "print(n2)\n",
    "print(n)\n",
    "\n",
    "#So you need to use copies\n",
    "print(n)\n",
    "n2 = n[:3].copy()\n",
    "n2*=2\n",
    "print(n2)\n",
    "print(n)"
   ]
  },
  {
   "cell_type": "code",
   "execution_count": 40,
   "metadata": {},
   "outputs": [
    {
     "name": "stdout",
     "output_type": "stream",
     "text": [
      "2\n",
      "(3, 4)\n",
      "[[ 0  1  2  3]\n",
      " [ 4  5  6  7]\n",
      " [ 8  9 10 11]]\n",
      "[[ 0  1  2  3]\n",
      " [ 4  5  6  7]\n",
      " [ 8  9 10 11]]\n"
     ]
    }
   ],
   "source": [
    "#N-Dimensional Arrays:\n",
    "\n",
    "#We can create multi dimensional arrays using list of list of list.. or tuple of tuple of tuple..\n",
    "\n",
    "a = np.array([[1,2,3,0],[4,5,6,0],[7,8,9,0]])\n",
    "\n",
    "print(a.ndim) #Gives number of dimensions. Equivalent to len of array.shape\n",
    "\n",
    "print(a.shape) #Gives size of all dimensions\n",
    "\n",
    "#We can also create multi dimensional arrays by reshaping\n",
    "#reshape function returns a copy so no change to the original array. It could be a view or copy of the original array so changes to it \n",
    "    #changes original depending on what it is\n",
    "\n",
    "a = np.arange(12)\n",
    "a2 = a.reshape(3,4) #parameters are size of dim1,size of dim2,size of dim3,....\n",
    "print(a2)\n",
    "\n",
    "#You can use -1 as a filler when using reshape asking the function to figure out the value for us. -1 stands for whatever possible value based on element length. \n",
    "#Note we can only input -1 once in the reshape function\n",
    "\n",
    "print(a.reshape(3,-1))"
   ]
  },
  {
   "cell_type": "code",
   "execution_count": 34,
   "metadata": {},
   "outputs": [],
   "source": [
    "#Useful Numpy Array Initialzing functions\n",
    "\n",
    "val = 3.14\n",
    "\n",
    "dim1 = 3\n",
    "dim2 = 4\n",
    "dim3 = 2\n",
    "\n",
    "N = 5\n",
    "\n",
    "A = np.ones((dim1,dim2,dim3)) #Array of 1.0s of shape specified. Specified shape must be in tuple form\n",
    "\n",
    "B = np.zeros((dim1,dim2,dim3)) #Array of 0.0s of shape specified. Specified shape must be in tuple form\n",
    "\n",
    "C = np.full((dim1,dim2,dim3),val) #Array of vals of shape specified. Specified shape must be in tuple form\n",
    "\n",
    "D = np.eye(N) #NxN identity matrix\n",
    "\n",
    "E = np.identity(N) #NxN identity matrix"
   ]
  },
  {
   "cell_type": "code",
   "execution_count": 52,
   "metadata": {},
   "outputs": [
    {
     "name": "stdout",
     "output_type": "stream",
     "text": [
      "[[ 0  1  2  3  4]\n",
      " [ 5  6  7  8  9]\n",
      " [10 11 12 13 14]]\n",
      "[[ 5  6  7]\n",
      " [10 11 12]]\n",
      "[[    0     1     2     3     4]\n",
      " [10000 10000 10000     8     9]\n",
      " [10000 10000 10000    13    14]]\n",
      "[[10000 10000 10000     8     9]\n",
      " [10000 10000 10000    13    14]]\n",
      "[10000 10000 10000     8     9]\n",
      "10000\n",
      "[[    1     2]\n",
      " [10000 10000]\n",
      " [10000 10000]]\n",
      "[[10000 10000 10000     8     9]\n",
      " [10000 10000 10000    13    14]]\n"
     ]
    }
   ],
   "source": [
    "#2D Slicing of Arrays:\n",
    "a1 = np.arange(15).reshape(3,5)\n",
    "print(a1)\n",
    "\n",
    "print(a1[1:,:3]) #The dimensions are separated by ,\n",
    "\n",
    "#Changing values using list\n",
    "a1[1:,:3] = 10000\n",
    "print(a1)\n",
    "\n",
    "#Only indexing/slicing on first dimension\n",
    "print(a1[1:])\n",
    "print(a1[1])\n",
    "\n",
    "#Getting a specific element\n",
    "print(a1[1][2]) #Equivalent to a1[1,2]\n",
    "\n",
    "#Getting all rows and condition on columns\n",
    "print(a1[:,1:3])\n",
    "\n",
    "#Getting all columns and condition on rows\n",
    "print(a1[1:3,:])"
   ]
  },
  {
   "cell_type": "code",
   "execution_count": 56,
   "metadata": {},
   "outputs": [
    {
     "name": "stdout",
     "output_type": "stream",
     "text": [
      "[[ 0  1  2  3  4]\n",
      " [ 5  6  7  8  9]\n",
      " [10 11 12 13 14]]\n",
      "[[ 0  1  2  3  4]\n",
      " [10 11 12 13 14]]\n",
      "[[  0  -1  -2  -3  -4]\n",
      " [  5   6   7   8   9]\n",
      " [-10 -11 -12 -13 -14]]\n",
      "[[  0  -1]\n",
      " [  5   6]\n",
      " [-10 -11]]\n"
     ]
    }
   ],
   "source": [
    "#Boolean Indexing\n",
    "#The True values tell us which index to keep and False is excluded\n",
    "\n",
    "a1 = np.arange(15).reshape(3,5)\n",
    "print(a1)\n",
    "\n",
    "f = [True, False, True]\n",
    "\n",
    "print(a1[f])\n",
    "\n",
    "a1[f]*=-1\n",
    "print(a1)\n",
    "\n",
    "print(a1[:,[True, True, False,False,False]])"
   ]
  },
  {
   "cell_type": "code",
   "execution_count": 66,
   "metadata": {},
   "outputs": [
    {
     "name": "stdout",
     "output_type": "stream",
     "text": [
      "[[ True  True  True  True  True]\n",
      " [ True  True  True  True  True]\n",
      " [False False False False False]]\n",
      "[[ 0 -1 -2 -3 -4]\n",
      " [-5 -6 -7 -8 -9]\n",
      " [10 11 12 13 14]]\n",
      "[[False False False False False]\n",
      " [False False False False False]\n",
      " [False  True False False False]]\n",
      "[[ True  True  True  True  True]\n",
      " [ True  True  True  True  True]\n",
      " [False False False  True  True]]\n",
      "[[ True False False False False]\n",
      " [False False False False False]\n",
      " [ True  True  True  True  True]]\n"
     ]
    }
   ],
   "source": [
    "#Equality, Inequality and Relational Operators:\n",
    "\n",
    "a1 = np.arange(15).reshape(3,5)\n",
    "print(a1<10)\n",
    "\n",
    "#We can combine it with boolean indexing to get results\n",
    "a1[a1<10] *= -1\n",
    "print(a1)\n",
    "\n",
    "#& is used for and, | is used for or, ^ for xor and ~ for invert\n",
    "print((a1>10) & (a1<12)) #And\n",
    "print((a1<2) | (a1>12)) #Or\n",
    "print(~(a1<0)) #Negation/Invert"
   ]
  },
  {
   "cell_type": "code",
   "execution_count": 69,
   "metadata": {},
   "outputs": [
    {
     "name": "stdout",
     "output_type": "stream",
     "text": [
      "[[ 0  1  2  3  4]\n",
      " [ 5  6  7  8  9]\n",
      " [10 11 12 13 14]]\n",
      "[[10 11 12 13 14]\n",
      " [ 0  1  2  3  4]]\n",
      "[[ 4  2  1]\n",
      " [ 9  7  6]\n",
      " [14 12 11]]\n",
      "[ 4 12  6]\n"
     ]
    }
   ],
   "source": [
    "#Integer Indexing Aka Fancy Indexing\n",
    "#Especially useful in chaging the order of row/columns or creating duplicate rows/columns\n",
    "#Will utilize double brackets [[]]\n",
    "\n",
    "a = np.arange(15).reshape(3,5)\n",
    "print(a)\n",
    "\n",
    "print(a[[2,0]]) #Row 2 followed by 0\n",
    "\n",
    "print(a[:,[4,2,1]]) #all rows, column 4 followed by 2 followed by 1\n",
    "\n",
    "#We can create 1D array of select vaues from 2D array using same length lists\n",
    "print(a[[0,2,1],[4,2,1]]) #1D array of values at 0,4 and 2,2 and 1,1"
   ]
  },
  {
   "cell_type": "markdown",
   "metadata": {},
   "source": [
    "### Random Module:"
   ]
  },
  {
   "cell_type": "code",
   "execution_count": null,
   "metadata": {},
   "outputs": [],
   "source": []
  }
 ],
 "metadata": {
  "kernelspec": {
   "display_name": "Python 3",
   "language": "python",
   "name": "python3"
  },
  "language_info": {
   "codemirror_mode": {
    "name": "ipython",
    "version": 3
   },
   "file_extension": ".py",
   "mimetype": "text/x-python",
   "name": "python",
   "nbconvert_exporter": "python",
   "pygments_lexer": "ipython3",
   "version": "3.8.3"
  }
 },
 "nbformat": 4,
 "nbformat_minor": 4
}
