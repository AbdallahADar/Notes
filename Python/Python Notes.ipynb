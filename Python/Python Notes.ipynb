{
 "cells": [
  {
   "cell_type": "markdown",
   "metadata": {},
   "source": [
    "### Initializing Variables:"
   ]
  },
  {
   "cell_type": "code",
   "execution_count": 1,
   "metadata": {},
   "outputs": [],
   "source": [
    "#One can simply initialize variables by setting it equal to a value without specifying the type. Only need to declare the variable when we are initializing it.\n",
    "\n",
    "a = 4 #Int\n",
    "b = 4.0 #Float\n",
    "c = True #Bool. Other is False.\n",
    "d = \"four\" #String. Both single and double quotes are acceptable\n",
    "e = 1e5 #Int can also be specified in this form\n",
    "f = 1.1e5 #Float can also be specified in this form\n",
    "g = 1_000_000 #Int can be specified in this form to make reading easier. It has the same value as e\n",
    "h = 1_000_000.1 #Float can be specified in this form to make reading easier. It has the same value as e\n",
    "\n",
    "i = '\"Hello\", world!' #Nested quotes in strings\n",
    "\n",
    "j = None #None value"
   ]
  },
  {
   "cell_type": "code",
   "execution_count": 2,
   "metadata": {},
   "outputs": [
    {
     "name": "stdout",
     "output_type": "stream",
     "text": [
      "\"Hello\", world!\n"
     ]
    },
    {
     "ename": "NameError",
     "evalue": "name 'i' is not defined",
     "output_type": "error",
     "traceback": [
      "\u001b[0;31m---------------------------------------------------------------------------\u001b[0m",
      "\u001b[0;31mNameError\u001b[0m                                 Traceback (most recent call last)",
      "\u001b[0;32m<ipython-input-2-3685b2bd6939>\u001b[0m in \u001b[0;36m<module>\u001b[0;34m\u001b[0m\n\u001b[1;32m      5\u001b[0m \u001b[0;32mdel\u001b[0m \u001b[0mi\u001b[0m \u001b[0;31m#Delete i\u001b[0m\u001b[0;34m\u001b[0m\u001b[0;34m\u001b[0m\u001b[0m\n\u001b[1;32m      6\u001b[0m \u001b[0;34m\u001b[0m\u001b[0m\n\u001b[0;32m----> 7\u001b[0;31m \u001b[0mprint\u001b[0m\u001b[0;34m(\u001b[0m\u001b[0mi\u001b[0m\u001b[0;34m)\u001b[0m \u001b[0;31m#No longer exists\u001b[0m\u001b[0;34m\u001b[0m\u001b[0;34m\u001b[0m\u001b[0m\n\u001b[0m",
      "\u001b[0;31mNameError\u001b[0m: name 'i' is not defined"
     ]
    }
   ],
   "source": [
    "#Deleting variables\n",
    "\n",
    "print(i)\n",
    "\n",
    "del i #Delete i\n",
    "\n",
    "print(i) #No longer exists"
   ]
  },
  {
   "cell_type": "markdown",
   "metadata": {},
   "source": [
    "### Displaying Values:"
   ]
  },
  {
   "cell_type": "code",
   "execution_count": 3,
   "metadata": {},
   "outputs": [
    {
     "name": "stdout",
     "output_type": "stream",
     "text": [
      "4 \n",
      "\n",
      "4.0\n",
      "\n",
      "True\n",
      "\n",
      "four\n",
      "100000.0\n",
      "110000.0\n",
      "1000000\n",
      "1000000.1\n",
      "4 4.0 True four 100000.0 110000.0 1000000 1000000.1\n",
      "4:4.0:True:four:100000.0:110000.0:1000000:1000000.1\n",
      "\n",
      "\n",
      "4 \t 4.0\n",
      "4 \\ 4.0\n",
      "4 \\ 4.0\n",
      "4 \" 4.0\n",
      "4 ' 4.0\n",
      "1\t2, 3: 4\n",
      "5\n"
     ]
    }
   ],
   "source": [
    "#The variables are printed as the saved value.\n",
    "#The print function automatically adds the newline variable at the end of each print function. If we want a line in between, \n",
    "    #we can either add \"\\n\" to the existing print function or have a separate print function with \"\" in it.\n",
    "print(a,\"\\n\")\n",
    "print(b)\n",
    "print(\"\")\n",
    "print(c)\n",
    "print() #Nothing is same as empty string\n",
    "print(d)\n",
    "print(e)\n",
    "print(f)\n",
    "print(g)\n",
    "print(h)\n",
    "\n",
    "#Print function can display multiple values. The default separator is \" \", we can change the separator to whatever we want\n",
    "print(a,b,c,d,e,f,g,h) #Default\n",
    "print(a,b,c,d,e,f,g,h,sep=\":\") #Specific separator\n",
    "\n",
    "print()\n",
    "print()\n",
    "\n",
    "#Other common print variables: \n",
    "print(a,\"\\t\", b) #Tab\n",
    "print(a,\"\\\\\",b) #Display backslash\n",
    "print(a,\"\\\\\",b) #Display single quote\n",
    "print(a,\"\\\"\",b) #Display double quote\n",
    "print(a,'\\'',b) #Display backslash\n",
    "\n",
    "#We can also specify what we want the end character of print to be. It is newline by default\n",
    "print(1,end=\"\\t\")\n",
    "print(2,end=\", \")\n",
    "print(3,end=\": \")\n",
    "print(4)\n",
    "print(5)\n",
    "\n",
    "#The print function also has other functionalities that we will see later."
   ]
  },
  {
   "cell_type": "markdown",
   "metadata": {},
   "source": [
    "### Arithmetic Operators:"
   ]
  },
  {
   "cell_type": "code",
   "execution_count": 4,
   "metadata": {},
   "outputs": [
    {
     "name": "stdout",
     "output_type": "stream",
     "text": [
      "5\n",
      "1\n",
      "6\n",
      "1.5\n",
      "1\n",
      "9\n"
     ]
    }
   ],
   "source": [
    "print(3 + 2) #Addition\n",
    "print(3 - 2) #Subtraction\n",
    "print(3 * 2) #Multiplication\n",
    "print(3 / 2) #Division (Always yields float)\n",
    "print(3 // 2) #Integer Division (Truncates down to Int)\n",
    "print(3 ** 2) #Power (Exponentiation)"
   ]
  },
  {
   "cell_type": "markdown",
   "metadata": {},
   "source": [
    "### String Operators:"
   ]
  },
  {
   "cell_type": "code",
   "execution_count": 5,
   "metadata": {},
   "outputs": [
    {
     "name": "stdout",
     "output_type": "stream",
     "text": [
      "Hello, world!\n",
      "Hello, Hello, Hello, Hello, \n"
     ]
    }
   ],
   "source": [
    "a = \"Hello, \"\n",
    "b = \"world!\"\n",
    "\n",
    "print(a + b) #Concatenation\n",
    "print(a * 4) #Repetition"
   ]
  },
  {
   "cell_type": "markdown",
   "metadata": {},
   "source": [
    "### Logical and Physical Lines:"
   ]
  },
  {
   "cell_type": "code",
   "execution_count": 6,
   "metadata": {},
   "outputs": [],
   "source": [
    "#Line of code must be contained on a single logical line.\n",
    "\n",
    "#It is an error to split a logical lines across multiple physical lines. (Shown in next cell)\n",
    "\n",
    "#If we use \\, then the logical line is extended to multiple physical lines\n",
    "x = \\\n",
    "2\n",
    "\n",
    "#Code contained within (), [], {} can be extended to multiple physical lines.\n",
    "#() is used for tuples or for defining operator preference or for function parameter input\n",
    "#[] is used for defining lists\n",
    "#{} is used for defining dicts\n",
    "\n",
    "x = ((1 + 2) - \n",
    "    3) #Showing the defining operator preference"
   ]
  },
  {
   "cell_type": "code",
   "execution_count": 7,
   "metadata": {},
   "outputs": [
    {
     "ename": "SyntaxError",
     "evalue": "invalid syntax (<ipython-input-7-c24a26ae4b92>, line 1)",
     "output_type": "error",
     "traceback": [
      "\u001b[0;36m  File \u001b[0;32m\"<ipython-input-7-c24a26ae4b92>\"\u001b[0;36m, line \u001b[0;32m1\u001b[0m\n\u001b[0;31m    x =\u001b[0m\n\u001b[0m        ^\u001b[0m\n\u001b[0;31mSyntaxError\u001b[0m\u001b[0;31m:\u001b[0m invalid syntax\n"
     ]
    }
   ],
   "source": [
    "x = \n",
    "2 #One logical line split into multiple physical lines should give error"
   ]
  },
  {
   "cell_type": "code",
   "execution_count": 8,
   "metadata": {},
   "outputs": [],
   "source": [
    "#A physical line can contain multiple logical lines\n",
    "x = 2; y = 3; z = 4"
   ]
  },
  {
   "cell_type": "markdown",
   "metadata": {},
   "source": [
    "### Functions:"
   ]
  },
  {
   "cell_type": "code",
   "execution_count": 9,
   "metadata": {},
   "outputs": [],
   "source": [
    "#Functions return None by default\n",
    "\n",
    "def Func1(a,b):\n",
    "    ret = a / b\n",
    "    \n",
    "def Func2(a,b):\n",
    "    ret = a / b\n",
    "    return ret\n",
    "\n",
    "#a,b are input parameters. User must provide all the inputs or error will be raised\n",
    "#return is used to specify what is being returned "
   ]
  },
  {
   "cell_type": "code",
   "execution_count": 10,
   "metadata": {},
   "outputs": [
    {
     "name": "stdout",
     "output_type": "stream",
     "text": [
      "None\n",
      "2.6666666666666665\n"
     ]
    },
    {
     "ename": "TypeError",
     "evalue": "Func1() missing 1 required positional argument: 'b'",
     "output_type": "error",
     "traceback": [
      "\u001b[0;31m---------------------------------------------------------------------------\u001b[0m",
      "\u001b[0;31mTypeError\u001b[0m                                 Traceback (most recent call last)",
      "\u001b[0;32m<ipython-input-10-c69b0f861d11>\u001b[0m in \u001b[0;36m<module>\u001b[0;34m\u001b[0m\n\u001b[1;32m      1\u001b[0m \u001b[0mprint\u001b[0m\u001b[0;34m(\u001b[0m\u001b[0mFunc1\u001b[0m\u001b[0;34m(\u001b[0m\u001b[0;36m8\u001b[0m\u001b[0;34m,\u001b[0m\u001b[0;36m3\u001b[0m\u001b[0;34m)\u001b[0m\u001b[0;34m)\u001b[0m \u001b[0;31m#None\u001b[0m\u001b[0;34m\u001b[0m\u001b[0;34m\u001b[0m\u001b[0m\n\u001b[1;32m      2\u001b[0m \u001b[0mprint\u001b[0m\u001b[0;34m(\u001b[0m\u001b[0mFunc2\u001b[0m\u001b[0;34m(\u001b[0m\u001b[0;36m8\u001b[0m\u001b[0;34m,\u001b[0m\u001b[0;36m3\u001b[0m\u001b[0;34m)\u001b[0m\u001b[0;34m)\u001b[0m \u001b[0;31m#Returns addition\u001b[0m\u001b[0;34m\u001b[0m\u001b[0;34m\u001b[0m\u001b[0m\n\u001b[0;32m----> 3\u001b[0;31m \u001b[0mprint\u001b[0m\u001b[0;34m(\u001b[0m\u001b[0mFunc1\u001b[0m\u001b[0;34m(\u001b[0m\u001b[0;36m2\u001b[0m\u001b[0;34m)\u001b[0m\u001b[0;34m)\u001b[0m \u001b[0;31m#Error\u001b[0m\u001b[0;34m\u001b[0m\u001b[0;34m\u001b[0m\u001b[0m\n\u001b[0m",
      "\u001b[0;31mTypeError\u001b[0m: Func1() missing 1 required positional argument: 'b'"
     ]
    }
   ],
   "source": [
    "print(Func1(8,3)) #None\n",
    "print(Func2(8,3)) #Returns addition\n",
    "print(Func1(2)) #Error"
   ]
  },
  {
   "cell_type": "code",
   "execution_count": 11,
   "metadata": {},
   "outputs": [],
   "source": [
    "#To subside the error above, we can define a function with parameters that have default values.\n",
    "#So when the user does not provide a value, the default value is used\n",
    "\n",
    "def Func3(a, b = 5):\n",
    "    ret = a / b\n",
    "    return ret"
   ]
  },
  {
   "cell_type": "code",
   "execution_count": 12,
   "metadata": {},
   "outputs": [
    {
     "name": "stdout",
     "output_type": "stream",
     "text": [
      "1.6\n",
      "4.0\n"
     ]
    }
   ],
   "source": [
    "print(Func3(8))\n",
    "print(Func3(8,2))"
   ]
  },
  {
   "cell_type": "code",
   "execution_count": 13,
   "metadata": {},
   "outputs": [
    {
     "ename": "SyntaxError",
     "evalue": "non-default argument follows default argument (<ipython-input-13-650bd4291202>, line 2)",
     "output_type": "error",
     "traceback": [
      "\u001b[0;36m  File \u001b[0;32m\"<ipython-input-13-650bd4291202>\"\u001b[0;36m, line \u001b[0;32m2\u001b[0m\n\u001b[0;31m    def Func3(a, b = 5, c):\u001b[0m\n\u001b[0m              ^\u001b[0m\n\u001b[0;31mSyntaxError\u001b[0m\u001b[0;31m:\u001b[0m non-default argument follows default argument\n"
     ]
    }
   ],
   "source": [
    "#Just be careful that a non default parameter can't be specified after a default parameter\n",
    "def Func3(a, b = 5, c):\n",
    "    ret = a / b\n",
    "    return ret"
   ]
  },
  {
   "cell_type": "code",
   "execution_count": 14,
   "metadata": {},
   "outputs": [
    {
     "name": "stdout",
     "output_type": "stream",
     "text": [
      "1.6666666666666667\n",
      "0.6\n"
     ]
    }
   ],
   "source": [
    "#We also need not follow the order of the inputs defined in the function. We can explicitly set values to the names input parameters\n",
    "\n",
    "print(Func3(b = 3, a = 5))\n",
    "print(Func3(3,5))"
   ]
  },
  {
   "cell_type": "code",
   "execution_count": 15,
   "metadata": {},
   "outputs": [
    {
     "name": "stdout",
     "output_type": "stream",
     "text": [
      "This is the function docstring\n",
      "***\n",
      "Help on function Func4 in module __main__:\n",
      "\n",
      "Func4(a, b)\n",
      "    This is the function docstring\n",
      "\n",
      "***\n"
     ]
    },
    {
     "data": {
      "text/plain": [
       "\u001b[0;31mSignature:\u001b[0m \u001b[0mFunc4\u001b[0m\u001b[0;34m(\u001b[0m\u001b[0ma\u001b[0m\u001b[0;34m,\u001b[0m \u001b[0mb\u001b[0m\u001b[0;34m)\u001b[0m\u001b[0;34m\u001b[0m\u001b[0;34m\u001b[0m\u001b[0m\n",
       "\u001b[0;31mDocstring:\u001b[0m This is the function docstring\n",
       "\u001b[0;31mFile:\u001b[0m      ~/Documents/Notes/Python/<ipython-input-15-cd53454bdff4>\n",
       "\u001b[0;31mType:\u001b[0m      function\n"
      ]
     },
     "metadata": {},
     "output_type": "display_data"
    }
   ],
   "source": [
    "#We can add a function docstring that we can call on to see. The function descritpion can have anything from parameter \n",
    "    #info to function utility to anything deemed useful\n",
    "    \n",
    "def Func4(a,b):\n",
    "    '''This is the function docstring'''\n",
    "    return a+b\n",
    "\n",
    "print(Func4.__doc__)\n",
    "print(\"***\")\n",
    "help(Func4)\n",
    "print(\"***\")\n",
    "Func4?"
   ]
  },
  {
   "cell_type": "markdown",
   "metadata": {},
   "source": [
    "### Logical Operators:"
   ]
  },
  {
   "cell_type": "code",
   "execution_count": 16,
   "metadata": {},
   "outputs": [
    {
     "name": "stdout",
     "output_type": "stream",
     "text": [
      "True\n",
      "False\n",
      "False\n",
      "True\n",
      "False\n",
      "True\n",
      "False\n",
      "False\n",
      "True\n"
     ]
    }
   ],
   "source": [
    "print(1 == 1) #Equals\n",
    "print(1 != 1) #Not equals\n",
    "print(1 < 1) #Less than\n",
    "print(1 <= 1) #Less and equal than\n",
    "print(1 > 1) #Greater than\n",
    "print(1 >= 1) #Greater and equal than\n",
    "print(not 1 == 1) #Negation\n",
    "print(1 > 1 and 2 > 1) #Logical and\n",
    "print(1 > 1 or 2 > 1) #Logical or"
   ]
  },
  {
   "cell_type": "markdown",
   "metadata": {},
   "source": [
    "### If statements:"
   ]
  },
  {
   "cell_type": "code",
   "execution_count": 17,
   "metadata": {},
   "outputs": [
    {
     "name": "stdout",
     "output_type": "stream",
     "text": [
      "Yes -5\n"
     ]
    }
   ],
   "source": [
    "#Simple if statement\n",
    "if 3 > 2:\n",
    "    a = 3 + 2\n",
    "    b = a - 10\n",
    "    print(\"Yes\",b)"
   ]
  },
  {
   "cell_type": "code",
   "execution_count": 18,
   "metadata": {},
   "outputs": [
    {
     "name": "stdout",
     "output_type": "stream",
     "text": [
      "No\n"
     ]
    }
   ],
   "source": [
    "#If else statement\n",
    "if 3 < 2:\n",
    "    print(\"Yes\")\n",
    "else:\n",
    "    print(\"No\")"
   ]
  },
  {
   "cell_type": "code",
   "execution_count": 19,
   "metadata": {},
   "outputs": [
    {
     "name": "stdout",
     "output_type": "stream",
     "text": [
      "elif\n"
     ]
    }
   ],
   "source": [
    "#If elif else statement\n",
    "if 2 < 2:\n",
    "    print(\"if\")\n",
    "elif 2 == 2:\n",
    "    print(\"elif\")\n",
    "else:\n",
    "    print(\"else\")"
   ]
  },
  {
   "cell_type": "markdown",
   "metadata": {},
   "source": [
    "### While Loop:"
   ]
  },
  {
   "cell_type": "code",
   "execution_count": 20,
   "metadata": {},
   "outputs": [
    {
     "name": "stdout",
     "output_type": "stream",
     "text": [
      "2\n",
      "3\n",
      "4\n"
     ]
    }
   ],
   "source": [
    "a = 2\n",
    "while a < 5:\n",
    "    print(a)\n",
    "    a = a + 1"
   ]
  },
  {
   "cell_type": "markdown",
   "metadata": {},
   "source": [
    "### Multiple Assignment:"
   ]
  },
  {
   "cell_type": "code",
   "execution_count": 21,
   "metadata": {},
   "outputs": [
    {
     "name": "stdout",
     "output_type": "stream",
     "text": [
      "1 2 3\n"
     ]
    }
   ],
   "source": [
    "#Can set multiple variables together\n",
    "i, j, k = 1, 2, 3\n",
    "print(i,j,k)"
   ]
  },
  {
   "cell_type": "code",
   "execution_count": 22,
   "metadata": {},
   "outputs": [
    {
     "name": "stdout",
     "output_type": "stream",
     "text": [
      "3 2\n",
      "3 2\n"
     ]
    }
   ],
   "source": [
    "#Swapping variables\n",
    "\n",
    "#Long way\n",
    "#Want to swap a & b\n",
    "a = 2\n",
    "b = 3\n",
    "\n",
    "c = a\n",
    "a = b\n",
    "b = c\n",
    "\n",
    "print(a,b)\n",
    "\n",
    "#Short way\n",
    "a = 2\n",
    "b = 3\n",
    "\n",
    "a, b = b, a\n",
    "print(a,b)"
   ]
  },
  {
   "cell_type": "markdown",
   "metadata": {},
   "source": [
    "### Assignment Operators:"
   ]
  },
  {
   "cell_type": "code",
   "execution_count": 23,
   "metadata": {},
   "outputs": [],
   "source": [
    "a **= b #a = a ** b\n",
    "a *= b #a = a * b\n",
    "a += b #a = a + b\n",
    "a -= b #a = a - b\n",
    "a /= b #a = a / b"
   ]
  },
  {
   "cell_type": "markdown",
   "metadata": {},
   "source": [
    "### Math Library:"
   ]
  },
  {
   "cell_type": "code",
   "execution_count": 24,
   "metadata": {},
   "outputs": [
    {
     "name": "stdout",
     "output_type": "stream",
     "text": [
      "5\n",
      "5\n",
      "2.718281828459045\n",
      "3.141592653589793\n",
      "-1.0\n",
      "1.2246467991473532e-16\n",
      "5.5\n",
      "120\n"
     ]
    }
   ],
   "source": [
    "#It provides extra mathematical functionality.\n",
    "\n",
    "import math\n",
    "\n",
    "print(math.ceil(4.2)) #ceiling\n",
    "print(math.floor(5.7)) #floor\n",
    "print(math.exp(1)) #e^1\n",
    "print(math.pi) #Pi value\n",
    "print(math.cos(math.pi)) #cosine function\n",
    "print(math.sin(math.pi)) #sine function\n",
    "print(math.fabs(-5.5)) #Absolute value\n",
    "print(math.factorial(5)) #Factorial function"
   ]
  },
  {
   "cell_type": "markdown",
   "metadata": {},
   "source": [
    "### Lists:"
   ]
  },
  {
   "cell_type": "code",
   "execution_count": 25,
   "metadata": {},
   "outputs": [
    {
     "name": "stdout",
     "output_type": "stream",
     "text": [
      "4\n",
      "\n",
      "2\n",
      "5\n",
      "\n",
      "5\n",
      "2\n"
     ]
    },
    {
     "ename": "IndexError",
     "evalue": "list index out of range",
     "output_type": "error",
     "traceback": [
      "\u001b[0;31m---------------------------------------------------------------------------\u001b[0m",
      "\u001b[0;31mIndexError\u001b[0m                                Traceback (most recent call last)",
      "\u001b[0;32m<ipython-input-25-80e803c36129>\u001b[0m in \u001b[0;36m<module>\u001b[0;34m\u001b[0m\n\u001b[1;32m     16\u001b[0m \u001b[0;34m\u001b[0m\u001b[0m\n\u001b[1;32m     17\u001b[0m \u001b[0;31m#Trying to access an element outside the bounds will give an error\u001b[0m\u001b[0;34m\u001b[0m\u001b[0;34m\u001b[0m\u001b[0;34m\u001b[0m\u001b[0m\n\u001b[0;32m---> 18\u001b[0;31m \u001b[0ml\u001b[0m\u001b[0;34m[\u001b[0m\u001b[0;36m5\u001b[0m\u001b[0;34m]\u001b[0m\u001b[0;34m\u001b[0m\u001b[0;34m\u001b[0m\u001b[0m\n\u001b[0m",
      "\u001b[0;31mIndexError\u001b[0m: list index out of range"
     ]
    }
   ],
   "source": [
    "#Initialize 1D list\n",
    "l = [2,3,4,5]\n",
    "\n",
    "#Length of list using len function\n",
    "print(len(l))\n",
    "print()\n",
    "\n",
    "##Indexing (These rules are for all sequences/containers)\n",
    "#Indexing starts from 0 and ends at length - 1\n",
    "print(l[0]) #First element\n",
    "print(l[len(l)-1]) #Accessing last element\n",
    "print()\n",
    "#We can also use negative indexing and it starts from -1 and ends at - length\n",
    "print(l[-1]) #Accessing last element\n",
    "print(l[-len(l)]) #Accessing first element\n",
    "\n",
    "#Trying to access an element outside the bounds will give an error\n",
    "l[5]"
   ]
  },
  {
   "cell_type": "code",
   "execution_count": 26,
   "metadata": {},
   "outputs": [
    {
     "name": "stdout",
     "output_type": "stream",
     "text": [
      "[2, 3, 200, 5]\n"
     ]
    }
   ],
   "source": [
    "#Lists are mutable so we can easily change certain values\n",
    "\n",
    "l[2] = 200\n",
    "print(l)"
   ]
  },
  {
   "cell_type": "code",
   "execution_count": 27,
   "metadata": {},
   "outputs": [
    {
     "name": "stdout",
     "output_type": "stream",
     "text": [
      "[4, 4.0, 'Hello', True]\n"
     ]
    }
   ],
   "source": [
    "#List can also be of different types\n",
    "\n",
    "l2 = [4, 4.0, \"Hello\", True]\n",
    "\n",
    "print(l2)"
   ]
  },
  {
   "cell_type": "code",
   "execution_count": 28,
   "metadata": {},
   "outputs": [
    {
     "name": "stdout",
     "output_type": "stream",
     "text": [
      "[2, 3, 200, 5, 4, 4.0, 'Hello', True]\n",
      "[2, 3, 200, 5, 2, 3, 200, 5, 2, 3, 200, 5]\n"
     ]
    }
   ],
   "source": [
    "#List operators: + and * work just like they did for string\n",
    "\n",
    "print(l + l2) #concatenation\n",
    "print(l * 3) #repetition"
   ]
  },
  {
   "cell_type": "code",
   "execution_count": 29,
   "metadata": {},
   "outputs": [
    {
     "name": "stdout",
     "output_type": "stream",
     "text": [
      "2\t3\t200\t5\n"
     ]
    }
   ],
   "source": [
    "#Printing items in a list element wise\n",
    "print(*l,sep=\"\\t\") #Can use any separator"
   ]
  },
  {
   "cell_type": "code",
   "execution_count": 30,
   "metadata": {},
   "outputs": [
    {
     "name": "stdout",
     "output_type": "stream",
     "text": [
      "[1, 2, 3, 4, 5, 6, 7, 8, 9, 0]\n"
     ]
    }
   ],
   "source": [
    "#List can be initialized across multiple physical regions\n",
    "l3 = [1,2,3,4,\n",
    "     5,6,7\n",
    "     ,8,9,0]\n",
    "\n",
    "print(l3)"
   ]
  },
  {
   "cell_type": "code",
   "execution_count": 31,
   "metadata": {},
   "outputs": [
    {
     "name": "stdout",
     "output_type": "stream",
     "text": [
      "True\n",
      "False\n"
     ]
    }
   ],
   "source": [
    "#Membership test:\n",
    "#in and not in are used to test whether a value is in a sequence/container or not\n",
    "\n",
    "v = [2,3,4,5]\n",
    "\n",
    "print(2 in v)\n",
    "print(10 in v)"
   ]
  },
  {
   "cell_type": "code",
   "execution_count": 32,
   "metadata": {},
   "outputs": [
    {
     "data": {
      "text/plain": [
       "(2, 3, 4, 510)"
      ]
     },
     "execution_count": 32,
     "metadata": {},
     "output_type": "execute_result"
    }
   ],
   "source": [
    "#Unpacking\n",
    "\n",
    "v = [2,3,4,510]\n",
    "\n",
    "a,b,c,d = v #a = v[0], b = v[1], c = v[2], d = v[3]\n",
    "\n",
    "a,b,c,d"
   ]
  },
  {
   "cell_type": "code",
   "execution_count": 33,
   "metadata": {},
   "outputs": [
    {
     "name": "stdout",
     "output_type": "stream",
     "text": [
      "True\n",
      "False\n"
     ]
    }
   ],
   "source": [
    "#We can delete the list variable. This delete functions works for releasing any object from memory\n",
    "\n",
    "v = [2,3,4,5]\n",
    "\n",
    "print(2 in v)\n",
    "print(10 in v)"
   ]
  },
  {
   "cell_type": "code",
   "execution_count": 34,
   "metadata": {},
   "outputs": [
    {
     "name": "stdout",
     "output_type": "stream",
     "text": [
      "[3, 2, 9]\n",
      "[4, 3, 2, 9]\n",
      "[3, 2, 9, 8, 7]\n",
      "[2, 9, 8, 7]\n",
      "[]\n",
      "[4]\n",
      "[2, 9, 8]\n",
      "[3, 2, 9]\n",
      "[]\n",
      "[7, 8, 9, 2, 3, 4]\n"
     ]
    }
   ],
   "source": [
    "#Slicing:\n",
    "\n",
    "v = [4,3,2,9,8,7]\n",
    "\n",
    "#v[m:n] from m through to n-1\n",
    "print(v[1:4])\n",
    "\n",
    "#v[:n] from 0 through to n-1\n",
    "print(v[:4])\n",
    "\n",
    "#v[m:] from m through to len(v)-1 (last element)\n",
    "print(v[1:])\n",
    "\n",
    "#For any container/sequence seq == seq[:n] + seq[n:]\n",
    "v == v[:2] + v[2:]\n",
    "\n",
    "#Recall that indexing out of range gave error but that is not the case for slicing. It always yields a result, will be empty if its beyond thr range\n",
    "print(v[2:123]) #Equivalent to v[2:]\n",
    "print(v[123:]) #Empty list\n",
    "\n",
    "#We can also use slicing to index\n",
    "print(v[0:1])\n",
    "\n",
    "#We can also use negative indexes\n",
    "print(v[-4:-1])\n",
    "\n",
    "#v[:] from 0 through len(v). Note that this is a shallow copy of v and can be used instead of v.copy()\n",
    "print(v[1:4])\n",
    "\n",
    "#Invalid order will give empty list\n",
    "print(v[4:1])\n",
    "\n",
    "#Reversing the order of a list using slice. This is also used to reverse the order of str\n",
    "print(v[::-1])"
   ]
  },
  {
   "cell_type": "code",
   "execution_count": 35,
   "metadata": {},
   "outputs": [
    {
     "name": "stdout",
     "output_type": "stream",
     "text": [
      "[0, 4, 4, 4, 4, 4, 4, 4, 9, 8, 7]\n",
      "[0, 4, 4, 4, 4, 9, 8, 7]\n",
      "[0, 4, 4, 4, 4, 9, 8, 7, 0, 1, 2, 3]\n",
      "[0, 'I', 4, 4, 4, 4, 9, 8, 7, 0, 1, 2, 3]\n",
      "[0, 'I', 'H', 'e', 'y', 4, 4, 4, 4, 9, 8, 7, 0, 1, 2, 3]\n"
     ]
    }
   ],
   "source": [
    "#Assignment to a slice:\n",
    "#Slice being assigned can be of a different size from the iterable it is being set to\n",
    "#list[m:n] = iterable\n",
    "\n",
    "v = [0,3,2,9,8,7]\n",
    "\n",
    "#Different sizes\n",
    "v[1:3] = [4,4,4,4,4,4,4]\n",
    "print(v)\n",
    "\n",
    "#Clearing values using slices\n",
    "v[1:4] = []\n",
    "print(v)\n",
    "\n",
    "#Appending values\n",
    "v[len(v):] = range(4)\n",
    "print(v)\n",
    "\n",
    "#Inserting in a specific location\n",
    "v[1:1] = \"I\"\n",
    "print(v)\n",
    "\n",
    "#Inserting from string\n",
    "v[2:2] = \"Hey\"\n",
    "print(v)"
   ]
  },
  {
   "cell_type": "code",
   "execution_count": 36,
   "metadata": {},
   "outputs": [
    {
     "name": "stdout",
     "output_type": "stream",
     "text": [
      "['h', 'e', 'y']\n",
      "['H', 'e', 'l', 'l', 'o', ' ', 'w', 'o', 'r', 'l', 'd']\n",
      "['Hello', 'world']\n",
      "Hello world\n",
      "1 2 3 4 HI\n"
     ]
    }
   ],
   "source": [
    "#We know that a string is treated like an iterable and we can go from list to string and vice versa\n",
    "\n",
    "#converting word to a list of chars\n",
    "print(list(\"hey\"))\n",
    "\n",
    "#Converting sentence to a list of words\n",
    "print(list(\"Hello world\"))\n",
    "\n",
    "#Converting sentence to a list of words\n",
    "s = \"Hello world\".split(\" \")\n",
    "print(s) #.split(i) tells us to use i as the separator\n",
    "\n",
    "#Convert list to string\n",
    "print(\" \".join(s)) #i.join(s) tells us to use i as the separator between different list elements\n",
    "\n",
    "#Convert list to string\n",
    "#If your list has ints/floats the above method of join won't work. You have to map it to string and then use join\n",
    "print(\" \".join(map(str,[1,2,3,4,\"HI\"]))) #i.join(s) tells us to use i as the separator between different list elements. join(map(type,iterable))"
   ]
  },
  {
   "cell_type": "markdown",
   "metadata": {},
   "source": [
    "### For Loops:"
   ]
  },
  {
   "cell_type": "code",
   "execution_count": 37,
   "metadata": {},
   "outputs": [
    {
     "name": "stdout",
     "output_type": "stream",
     "text": [
      "1\n",
      "2\n",
      "3\n",
      "4\n",
      "5\n",
      "**********\n",
      "1\n",
      "2\n",
      "3\n",
      "4\n",
      "5\n",
      "**********\n",
      "H\n",
      "e\n",
      "l\n",
      "l\n",
      "o\n"
     ]
    }
   ],
   "source": [
    "l2 = [1,2,3,4,5]\n",
    "\n",
    "#Iterating through a list/container using indexing\n",
    "for i in range(len(l2)): #Will talk about range function in more detail later on\n",
    "    print(l2[i])\n",
    "\n",
    "print(\"**********\")\n",
    "    \n",
    "#Iterating through a list/container directly\n",
    "for i in l2:\n",
    "    print(i)\n",
    "    \n",
    "print(\"**********\")\n",
    "    \n",
    "#Note that a string is a container and will follow the above functionality\n",
    "for i in \"Hello\":\n",
    "    print(i)"
   ]
  },
  {
   "cell_type": "code",
   "execution_count": 38,
   "metadata": {},
   "outputs": [],
   "source": [
    "#Range function:\n",
    "#range(n) is 0,1,2,3,...,n-1\n",
    "#range(m,n) is m,m+1,m+2,...,n-1\n",
    "#range(m,n,s) is m,m+s,m+2s,m+3s,...,whatever is the last m+xs before n\n",
    "#range(m,-1,-1) will give values starting from m going back to 0"
   ]
  },
  {
   "cell_type": "code",
   "execution_count": 39,
   "metadata": {},
   "outputs": [
    {
     "name": "stdout",
     "output_type": "stream",
     "text": [
      "[2, 3, 4, 5, 4, 9, 16, 25]\n"
     ]
    }
   ],
   "source": [
    "#Note: Never modify a list/container you are iterating over because you may unknowingly form an infinite loop or have some other unwanted behavior\n",
    "#Always use a shallow copy. copy function is dsicussed in the next section\n",
    "\n",
    "v = [2,3,4,5]\n",
    "\n",
    "for i in v.copy():\n",
    "    v.append(i**2)\n",
    "    \n",
    "print(v)"
   ]
  },
  {
   "cell_type": "markdown",
   "metadata": {},
   "source": [
    "### List Named Operators:"
   ]
  },
  {
   "cell_type": "code",
   "execution_count": 40,
   "metadata": {},
   "outputs": [
    {
     "name": "stdout",
     "output_type": "stream",
     "text": [
      "[2, 3, 4, 5]\n",
      "[2, 3, 4, 5, 1000]\n",
      "[2, 3, 4, 5, 2, 1000]\n",
      "[3, 4, 5, 2]\n",
      "[3, 4, 5, 2, 222, 333]\n",
      "[333, 222, 2, 5, 4, 3]\n",
      "[2, 3, 4, 5, 222, 333]\n",
      "[]\n"
     ]
    }
   ],
   "source": [
    "l = [2,3,4,5]\n",
    "\n",
    "#Functions that return a copy\n",
    "v = l.copy()\n",
    "print(v)\n",
    "\n",
    "#Inplace functions. Functions that do not return a copy\n",
    "l.append(1000) #Add value to end\n",
    "print(l)\n",
    "l.insert(4,2) #list.insert(position,value)\n",
    "print(l)\n",
    "l.remove(2) #rRemoves first instance of the specified value\n",
    "l.pop(4) #Returns the ith element and deletes it from the list. Not providing position is equivalent to inputting -1\n",
    "print(l)\n",
    "l.extend([222,333]) #Extends the list. The input has to be an iterable\n",
    "print(l)\n",
    "l.reverse() #Just reverses the existing order\n",
    "print(l)\n",
    "l.sort() #Ascending sort\n",
    "print(l)\n",
    "l.clear() #Deletes all items so we are left with empty list\n",
    "print(l)"
   ]
  },
  {
   "cell_type": "markdown",
   "metadata": {},
   "source": [
    "### References, Object Identity and Types:"
   ]
  },
  {
   "cell_type": "code",
   "execution_count": 41,
   "metadata": {},
   "outputs": [
    {
     "name": "stdout",
     "output_type": "stream",
     "text": [
      "<class 'int'>\n",
      "<class 'float'>\n",
      "<class 'str'>\n"
     ]
    }
   ],
   "source": [
    "#Variables are references and do not have fixed value or type so their type can change with operations\n",
    "\n",
    "i = 123\n",
    "print(type(i))\n",
    "\n",
    "i /= 2 #Changes to float\n",
    "print(type(i))\n",
    "\n",
    "i = \"Hi\"\n",
    "print(type(i))"
   ]
  },
  {
   "cell_type": "code",
   "execution_count": 42,
   "metadata": {},
   "outputs": [
    {
     "name": "stdout",
     "output_type": "stream",
     "text": [
      "4368587296\n",
      "4368587296\n",
      "4368587296\n"
     ]
    }
   ],
   "source": [
    "#Each object is uniquely identified by its id which may or may not be the memory address\n",
    "\n",
    "#Even literals have ids\n",
    "print(id(7))\n",
    "\n",
    "x = 7 #x is a reference to 7 so will share the id\n",
    "print(id(x))\n",
    "\n",
    "z = 7 #z is also a reference to 7 so will share the id\n",
    "print(id(z))"
   ]
  },
  {
   "cell_type": "code",
   "execution_count": 43,
   "metadata": {},
   "outputs": [
    {
     "name": "stdout",
     "output_type": "stream",
     "text": [
      "140165577194112\n",
      "True\n",
      "140165577003104\n"
     ]
    }
   ],
   "source": [
    "#It is not always the case that objects with equal values have the same id/reference especially for large floats, nts, str and list\n",
    "\n",
    "i = 12345678901234567890\n",
    "print(id(i))\n",
    "\n",
    "j = i - 5\n",
    "k = j + 5\n",
    "print(k == i) #Will be True because values match\n",
    "\n",
    "print(id(k)) #Will not match with id of i"
   ]
  },
  {
   "cell_type": "code",
   "execution_count": 44,
   "metadata": {},
   "outputs": [
    {
     "name": "stdout",
     "output_type": "stream",
     "text": [
      "140165576209216\n",
      "140165575577280\n"
     ]
    }
   ],
   "source": [
    "#Independently defined lists are different objects (have different ids) even if they have the same values and order\n",
    "\n",
    "a = [1,2,3]\n",
    "print(id(a))\n",
    "\n",
    "b=[1,2,3]\n",
    "print(id(b))"
   ]
  },
  {
   "cell_type": "code",
   "execution_count": 45,
   "metadata": {},
   "outputs": [
    {
     "name": "stdout",
     "output_type": "stream",
     "text": [
      "True\n",
      "False\n",
      "True\n"
     ]
    }
   ],
   "source": [
    "#Identity vs Value Comparison\n",
    "# == and != compares values & is and is not compare ids\n",
    "\n",
    "print(a == b)\n",
    "\n",
    "print(a is b)\n",
    "\n",
    "c = a #Not independently defined so they have the same id\n",
    "print(a is c)"
   ]
  },
  {
   "cell_type": "markdown",
   "metadata": {},
   "source": [
    "### Tuple:"
   ]
  },
  {
   "cell_type": "code",
   "execution_count": 46,
   "metadata": {},
   "outputs": [
    {
     "name": "stdout",
     "output_type": "stream",
     "text": [
      "(7, 3, 2, 0)\n",
      "(7, 3, 2, 0)\n",
      "(2,)\n",
      "()\n",
      "(2, 3, 4, 5, 'Hi')\n",
      "2 3 4 510\n"
     ]
    }
   ],
   "source": [
    "t = (7,3,2,0)\n",
    "print(t)\n",
    "\n",
    "#Indexing same as for lists\n",
    "\n",
    "#Tuples are immutable\n",
    "\n",
    "#Tuples can have different types within them\n",
    "\n",
    "#+ and * work same as str and lists\n",
    "\n",
    "#Tuples can be initialized in multiple physical lines\n",
    "t = (7,3,\n",
    "    2,0)\n",
    "print(t)\n",
    "\n",
    "#Creating a one element tuple\n",
    "t2 = (2,)\n",
    "print(t2)\n",
    "\n",
    "#Empty tuple\n",
    "t3 = ()\n",
    "print(t3)\n",
    "\n",
    "#Tuple packing: Dont have to use (). Assigning multiple comma separated values to a single variable results in a tuple.\n",
    "    #Is especially useful when returning more than one variable in a function because since it is immutable, there is\n",
    "    #no chance of accidentally changing those values\n",
    "t4 = 2,3,4,5,\"Hi\"\n",
    "print(t4)\n",
    "\n",
    "#Unpacking is same as for list\n",
    "t5 = 2,3,4,510\n",
    "a,b,c,d = t5\n",
    "print(a,b,c,d)\n",
    "\n",
    "#Values of a tuple cannot be changed, values can be added to it but note that this means a new tuple with a new id is formed"
   ]
  },
  {
   "cell_type": "markdown",
   "metadata": {},
   "source": [
    "### Text Files:"
   ]
  },
  {
   "cell_type": "code",
   "execution_count": 47,
   "metadata": {},
   "outputs": [
    {
     "name": "stdout",
     "output_type": "stream",
     "text": [
      "Hello, world!\n",
      "\n",
      "This is a tester file.\n",
      "\n",
      "To read the components.\n",
      "***********\n",
      "Hello, world!\n",
      "This is a tester file.\n",
      "To read the components\n"
     ]
    }
   ],
   "source": [
    "## Reading Text Files\n",
    "\n",
    "#rt is read text and utf-8 is 8-bit unicode\n",
    "#infile.txt is an existing file\n",
    "fin = open(\"infile.txt\",\"rt\",encoding = \"utf-8\")\n",
    "\n",
    "#The file is an iterable with each line being an item\n",
    "for line in fin:\n",
    "    print(line) #Double spaced because text line has its own newline character and so does the print function\n",
    "    \n",
    "fin.close() #Close the file when we are done using it\n",
    "\n",
    "print(\"***********\")\n",
    "\n",
    "#line itself is an iterable of the words in the line. The last word is newline character\n",
    "\n",
    "fin = open(\"infile.txt\",\"rt\",encoding = \"utf-8\")\n",
    "\n",
    "for line in fin:\n",
    "    #line it\n",
    "    print(line[:-1]) #Excluding the newline character\n",
    "    \n",
    "fin.close() #Close the file when we are done using it"
   ]
  },
  {
   "cell_type": "code",
   "execution_count": 48,
   "metadata": {},
   "outputs": [],
   "source": [
    "## Writing Text Files\n",
    "\n",
    "#wt is write text and utf-8 is 8-bit unicode\n",
    "#outfile.txt is not an existing file, you create it if it doesn't already exist\n",
    "fout = open(\"outfile.txt\",\"wt\",encoding = \"utf-8\")\n",
    "\n",
    "fout.write(\"Hello.\\nWe have written this file ourselves.\\nThank you!\\n\")\n",
    "\n",
    "fout.close()"
   ]
  },
  {
   "cell_type": "markdown",
   "metadata": {},
   "source": [
    "### Sets:"
   ]
  },
  {
   "cell_type": "code",
   "execution_count": 49,
   "metadata": {},
   "outputs": [
    {
     "name": "stdout",
     "output_type": "stream",
     "text": [
      "{1, 4, 5, 6}\n",
      "{(1, 2), 'HI', None}\n"
     ]
    },
    {
     "ename": "TypeError",
     "evalue": "unhashable type: 'list'",
     "output_type": "error",
     "traceback": [
      "\u001b[0;31m---------------------------------------------------------------------------\u001b[0m",
      "\u001b[0;31mTypeError\u001b[0m                                 Traceback (most recent call last)",
      "\u001b[0;32m<ipython-input-49-189842ecfb43>\u001b[0m in \u001b[0;36m<module>\u001b[0;34m\u001b[0m\n\u001b[1;32m     11\u001b[0m \u001b[0mprint\u001b[0m\u001b[0;34m(\u001b[0m\u001b[0ms\u001b[0m\u001b[0;34m)\u001b[0m\u001b[0;34m\u001b[0m\u001b[0;34m\u001b[0m\u001b[0m\n\u001b[1;32m     12\u001b[0m \u001b[0;34m\u001b[0m\u001b[0m\n\u001b[0;32m---> 13\u001b[0;31m \u001b[0ms\u001b[0m \u001b[0;34m=\u001b[0m \u001b[0;34m{\u001b[0m\u001b[0;36m1\u001b[0m\u001b[0;34m,\u001b[0m\u001b[0;36m2\u001b[0m\u001b[0;34m,\u001b[0m\u001b[0;34m[\u001b[0m\u001b[0;36m3\u001b[0m\u001b[0;34m,\u001b[0m\u001b[0;36m4\u001b[0m\u001b[0;34m]\u001b[0m\u001b[0;34m}\u001b[0m \u001b[0;31m#Gives error because list is not hashable\u001b[0m\u001b[0;34m\u001b[0m\u001b[0;34m\u001b[0m\u001b[0m\n\u001b[0m",
      "\u001b[0;31mTypeError\u001b[0m: unhashable type: 'list'"
     ]
    }
   ],
   "source": [
    "#Sets stores unsorted items with no duplicates. Essentially it is usually used to store unique non-repeating values or to get them\n",
    "#The items in sets must be hashable that is they must have an unchanging hash value and be comparable for equality with other objects\n",
    "#int,float,bool,string,None are hashable\n",
    "#List is not hashable\n",
    "#Tuple is hashable if all items in it are hashable\n",
    "\n",
    "s = {1,6,5,4,6,5} #The extra repeated 6 and 5 will be removed\n",
    "print(s)\n",
    "\n",
    "s = {\"HI\",(1,2),None} #all are hashable so allowed\n",
    "print(s)\n",
    "\n",
    "s = {1,2,[3,4]} #Gives error because list is not hashable"
   ]
  },
  {
   "cell_type": "code",
   "execution_count": 50,
   "metadata": {},
   "outputs": [],
   "source": [
    "#Sets are iterable and mutable.\n",
    "#They cannot be sliced because we do not decide the order\n",
    "#Len works"
   ]
  },
  {
   "cell_type": "code",
   "execution_count": 51,
   "metadata": {},
   "outputs": [
    {
     "name": "stdout",
     "output_type": "stream",
     "text": [
      "{1, 2, 3, 4, 5, 9}\n",
      "{1, 2, 3, 5, 9}\n",
      "{2, 3, 5, 9}\n",
      "{3, 5, 9}\n",
      "set()\n"
     ]
    }
   ],
   "source": [
    "#Functions:\n",
    "\n",
    "\n",
    "s = {1,2,3,4,5}\n",
    "\n",
    "s.add(9) #Adds specified value\n",
    "print(s)\n",
    "\n",
    "s.discard(4) #Discards specified value\n",
    "print(s)\n",
    "\n",
    "s.pop() #Removes any element and returns it\n",
    "print(s)\n",
    "\n",
    "s.remove(2) #Removes specified value\n",
    "print(s)\n",
    "\n",
    "#Difference between discard and remove is that remove gives an error if we specify a value not in the set\n",
    "\n",
    "s.clear() #Removes all elements\n",
    "print(s)"
   ]
  },
  {
   "cell_type": "code",
   "execution_count": 52,
   "metadata": {},
   "outputs": [
    {
     "name": "stdout",
     "output_type": "stream",
     "text": [
      "{8, 9, 5}\n",
      "{1, 2, 4}\n",
      "{3, 5, 8, 9}\n",
      "{1, 2, 3, 4, 5, 8, 9}\n",
      "False\n",
      "True\n",
      "False\n",
      "False\n",
      "False\n",
      "False\n"
     ]
    }
   ],
   "source": [
    "#Operators\n",
    "\n",
    "s1 = {1,2,4,5,8,9}\n",
    "s2 = {1,2,3,4}\n",
    "\n",
    "print(s1 - s2) #Set difference. Elements in s1 and not in s2\n",
    "print(s1 & s2) #Set intersection\n",
    "print(s1 ^ s2) #Symmetric difference: (s1-s2)u(s2-s1)\n",
    "print(s1 | s2) #Union\n",
    "print(s1 == s2) #Same elements\n",
    "print(s1 != s2) #Not same elements\n",
    "print(s1 <= s2) #s1 subset of s2 or equal to\n",
    "print(s1 < s2) #s1 subset of s2\n",
    "print(s1 >= s2) #s2 subset of s1 or equal to\n",
    "print(s1 > s2) #s2 subset of s1"
   ]
  },
  {
   "cell_type": "code",
   "execution_count": 53,
   "metadata": {},
   "outputs": [
    {
     "name": "stdout",
     "output_type": "stream",
     "text": [
      "{1, 2, 4, 5, 8, 9}\n",
      "{1, 2, 4}\n",
      "{8, 9, 5}\n",
      "{5, 8, 9}\n",
      "False\n",
      "False\n",
      "True\n",
      "{1, 2, 4, 5, 8, 9}\n"
     ]
    }
   ],
   "source": [
    "#Names operations:\n",
    "\n",
    "s1 = {1,2,4,5,8,9}\n",
    "s2 = {1,2,4}\n",
    "\n",
    "#Can take multiple iterables/sets as inputs\n",
    "print(s1.union(s2))\n",
    "print(s1.intersection(s2))\n",
    "print(s1.difference(s2))\n",
    "\n",
    "#Only one set as input\n",
    "print(s1.symmetric_difference(s2))\n",
    "print(s1.isdisjoint(s2)) #s1 n s2 == null set\n",
    "print(s1.issubset(s2)) #s1 <= s2\n",
    "print(s1.issuperset(s2)) #s1 >= s2\n",
    "\n",
    "s3 = s1.copy() #Shallow copy\n",
    "print(s3)"
   ]
  },
  {
   "cell_type": "code",
   "execution_count": 54,
   "metadata": {},
   "outputs": [
    {
     "name": "stdout",
     "output_type": "stream",
     "text": [
      "{0, 1, 2, 4, 5, 8, 9}\n",
      "{1, 2, 4}\n",
      "{4}\n",
      "{1, 2, 3}\n"
     ]
    }
   ],
   "source": [
    "#The named operations have an update version as well which are essentially inplace functions\n",
    "\n",
    "s1 = {1,2,4,5,8,9}\n",
    "\n",
    "#Can take multiple iterables/sets as inputs\n",
    "s1.update({9,0}) #s1 |= {9,0}. Union\n",
    "print(s1)\n",
    "\n",
    "s1.intersection_update({1,2,3,4}) #s1 &= {1,2,3,4}. Intersection\n",
    "print(s1)\n",
    "\n",
    "s1.difference_update({1,2,3}) #s1 -= {1,2,3}. Difference\n",
    "print(s1)\n",
    "\n",
    "#can take only one iterable/set as input\n",
    "s1.symmetric_difference_update({1,2,3,4}) #s1 ^= {1,2,3,4}. Symmetric difference\n",
    "print(s1)"
   ]
  },
  {
   "cell_type": "code",
   "execution_count": 55,
   "metadata": {},
   "outputs": [
    {
     "name": "stdout",
     "output_type": "stream",
     "text": [
      "<class 'set'>\n"
     ]
    }
   ],
   "source": [
    "#Declaring empty set\n",
    "\n",
    "s = set()\n",
    "\n",
    "print(type(s))"
   ]
  },
  {
   "cell_type": "markdown",
   "metadata": {},
   "source": [
    "### Dicts:"
   ]
  },
  {
   "cell_type": "code",
   "execution_count": 56,
   "metadata": {},
   "outputs": [
    {
     "name": "stdout",
     "output_type": "stream",
     "text": [
      "<class 'dict'>\n",
      "dave@gmail.com\n",
      "{'Dave': 'dave@gmail.com', 'Bob': 'robert@gmail.com'}\n",
      "{'Dave': 'dave@gmail.com', 'Bob': 'robert@gmail.com', 'Dan': 'daniel@gmail.com'}\n",
      "True\n",
      "False\n",
      "*********\n",
      "Dave\n",
      "Bob\n",
      "Dan\n",
      "*********\n",
      "dict_keys(['Dave', 'Bob', 'Dan'])\n",
      "dict_values(['dave@gmail.com', 'robert@gmail.com', 'daniel@gmail.com'])\n",
      "dict_items([('Dave', 'dave@gmail.com'), ('Bob', 'robert@gmail.com'), ('Dan', 'daniel@gmail.com')])\n",
      "*********\n",
      "Dave dave@gmail.com\n",
      "Bob robert@gmail.com\n",
      "Dan daniel@gmail.com\n",
      "*********\n",
      "Dave dave@gmail.com\n",
      "Bob robert@gmail.com\n",
      "Dan daniel@gmail.com\n"
     ]
    }
   ],
   "source": [
    "#Dicts consist of key:value pairs\n",
    "#Items means key:value pairs\n",
    "#Items are stored in order of key creation and keys cannot be duplicated\n",
    "#Keys must be hashable\n",
    "#there is no restriction on values\n",
    "\n",
    "d = {\"Dave\":\"dave@gmail.com\",\n",
    "    \"Bob\":\"robert@gmail.com\"}\n",
    "\n",
    "print(type(d))\n",
    "\n",
    "print(d[\"Dave\"])\n",
    "\n",
    "print(d)\n",
    "\n",
    "#Adding new items\n",
    "\n",
    "d[\"Dan\"] = \"daniel@gmail.com\"\n",
    "\n",
    "print(d)\n",
    "\n",
    "#Dicts are iterable and mutable but cannot be sliced\n",
    "\n",
    "#in checks keys not values\n",
    "print(\"Dan\" in d)\n",
    "print(\"daniel@gmail.com\" in d)\n",
    "\n",
    "print(\"*********\")\n",
    "#When we iterate over dict, we are iterating over the keys\n",
    "for i in d:\n",
    "    print(i)\n",
    "    \n",
    "#d.keys() returns keys of the dict\n",
    "#d.values() return values of the dict\n",
    "#d.items() return key:value pairs of the dict\n",
    "print(\"*********\")\n",
    "print(d.keys())\n",
    "print(d.values())\n",
    "print(d.items())\n",
    "    \n",
    "print(\"*********\")\n",
    "#To get values we can either utilize keys to call on value or use items\n",
    "for i in d: #Keys to call values\n",
    "    print(i,d[i])\n",
    "print(\"*********\")\n",
    "for i,j in d.items(): #Use items\n",
    "    print(i,j)"
   ]
  },
  {
   "cell_type": "code",
   "execution_count": 57,
   "metadata": {},
   "outputs": [
    {
     "name": "stdout",
     "output_type": "stream",
     "text": [
      "{'Dave': 'dave@gmail.com', 'Bob': 'robert@gmail.com', 'Dan': 'daniel@gmail.com', 'Dick': 'richard@gmail.com'}\n",
      "{'Dave': 'dave@gmail.com', 'Bob': 'robert@gmail.com', 'Dan': 'daniel@gmail.com', 'Dick': 'richard@gmail.com'}\n",
      "{'Dave': 'dave@gmail.com', 'Bob': 'robert@gmail.com', 'Dan': 'daniel@gmail.com'}\n",
      "daniel@gmail.com\n",
      "Error Message Get\n",
      "daniel@gmail.com\n",
      "Error Message Pop\n",
      "{}\n"
     ]
    }
   ],
   "source": [
    "#Functions and operations\n",
    "d = {\"Dave\":\"dave@gmail.com\",\n",
    "    \"Bob\":\"robert@gmail.com\",\n",
    "    \"Dan\":\"daniel@gmail.com\",\n",
    "     \"Dick\":\"richard@gmail.com\",\n",
    "    \"Al\":\"alfred@gmail.com\"}\n",
    "\n",
    "del d[\"Al\"] #Removing a specific key:value pair\n",
    "print(d)\n",
    "\n",
    "d2 = d.copy() #Shallow copy\n",
    "print(d2)\n",
    "\n",
    "d.popitem() #Remove the last items from dict and return it\n",
    "print(d)\n",
    "\n",
    "print(d.get(\"Dan\")) #Insert key and get value back\n",
    "#If key is not in dict, we will get an error so to subside that we add an additional parameter which will be returned instead of an error being raised\n",
    "print(d.get(\"Danny\",\"Error Message Get\"))\n",
    "\n",
    "print(d.pop(\"Dan\")) #Insert key to get value back and it is removed from dict\n",
    "#If key is not in dict, we will get an error so to subside that we add an additional parameter which will be returned instead of an error being raised\n",
    "print(d.pop(\"Dan\",\"Error Message Pop\")) #dan will now give error because it was removed\n",
    "\n",
    "d.clear() #Remove all items\n",
    "print(d)"
   ]
  },
  {
   "cell_type": "code",
   "execution_count": 58,
   "metadata": {},
   "outputs": [
    {
     "name": "stdout",
     "output_type": "stream",
     "text": [
      "<class 'dict'>\n"
     ]
    }
   ],
   "source": [
    "#Declaring empty dict\n",
    "\n",
    "d = {}\n",
    "\n",
    "print(type(d))"
   ]
  },
  {
   "cell_type": "code",
   "execution_count": 59,
   "metadata": {},
   "outputs": [
    {
     "name": "stdout",
     "output_type": "stream",
     "text": [
      "{4: 5, 1: 2, 3: 4}\n",
      "{'a': 'b', 'c': 'd', 'e': 'f'}\n",
      "{'a': 1, 'b': 2, 'c': 3}\n"
     ]
    }
   ],
   "source": [
    "#Dict construction\n",
    "\n",
    "#Dict can be constructed from an iterable containing pairs\n",
    "\n",
    "#Set of Tuple pairs\n",
    "t = {(1,2),(3,4),(4,5)}\n",
    "print(dict(t))\n",
    "\n",
    "#List of strings of length 2. Does not work on any other length\n",
    "l = [\"ab\",\"cd\",\"ef\"]\n",
    "print(dict(l))\n",
    "\n",
    "#Dicts can also be constructed using the zip function\n",
    "#zip can be used to create a dict from two iterable\n",
    "k = [\"a\",\"b\",\"c\"]\n",
    "l = [1,2,3]\n",
    "\n",
    "print(dict(zip(k,l))) #First parameter is for keys and second is values"
   ]
  },
  {
   "cell_type": "markdown",
   "metadata": {},
   "source": [
    "### Enumerate:"
   ]
  },
  {
   "cell_type": "code",
   "execution_count": 60,
   "metadata": {},
   "outputs": [
    {
     "name": "stdout",
     "output_type": "stream",
     "text": [
      "(0, 'a')\n",
      "(1, 'b')\n",
      "(2, 'c')\n",
      "(3, 'd')\n",
      "0 a\n",
      "1 b\n",
      "2 c\n",
      "3 d\n",
      "{0: 'a', 1: 'b', 2: 'c', 3: 'd'}\n"
     ]
    }
   ],
   "source": [
    "#Enumerate function is used to get the indexing of the iterable elements. Very useful when we need to keep track of both\n",
    "#Equivalent to zip(range(len(iterable)),iterable)\n",
    "\n",
    "for t in enumerate([\"a\",\"b\",\"c\",\"d\"]):\n",
    "    print(t)\n",
    "    \n",
    "for n,t in enumerate([\"a\",\"b\",\"c\",\"d\"]):\n",
    "    print(n,t)\n",
    "    \n",
    "#We can create a dict from enumerate\n",
    "print(dict(enumerate([\"a\",\"b\",\"c\",\"d\"])))"
   ]
  },
  {
   "cell_type": "markdown",
   "metadata": {},
   "source": [
    "### Comprehension:"
   ]
  },
  {
   "cell_type": "code",
   "execution_count": 61,
   "metadata": {},
   "outputs": [
    {
     "name": "stdout",
     "output_type": "stream",
     "text": [
      "[0, 1, 4, 9, 16]\n",
      "[0, 4, 9, 16]\n",
      "[0, 'Error', 4, 9, 16]\n",
      "[0, 0, 1, 0, 1, 4]\n",
      "[[0, 1, 4, 9, 16], [0, 1, 4, 9, 16], [0, 1, 4, 9, 16]]\n",
      "{0: 0, 1: 1, 2: 4, 3: 9, 4: 16}\n",
      "{0: 0, 2: 4, 3: 9, 4: 16}\n",
      "{0: 0, 'E': 'Error', 4: 2, 9: 3, 16: 4}\n",
      "{1: 0, 2: 1, 3: 4}\n",
      "{0: [0, 1, 4, 9, 16], 1: [0, 1, 4, 9, 16], 2: [0, 1, 4, 9, 16]}\n",
      "(0, 1, 4)\n",
      "<generator object <genexpr> at 0x7f7ad7698b30>\n",
      "(0, 1, 4)\n"
     ]
    }
   ],
   "source": [
    "#Comprehension is a technique of creating containers without having to use for loops or type it out explicitly.\n",
    "#We use for loops and conditionals in a single line for a cleaner and more easily readable look\n",
    "\n",
    "l = [i**2 for i in range(5)] #Squared values\n",
    "print(l)\n",
    "\n",
    "l = [i**2 for i in range(5) if i!=1] #Adding an if conditional\n",
    "print(l)\n",
    "\n",
    "l = [i**2 if i!=1 else \"Error\" for i in range(5)] #Adding if/else conditionals\n",
    "print(l)\n",
    "\n",
    "l = [j**2 for i in range(1,4) for j in range(i)] #Nested for loop. The inner one is the first with the outer ones being nested\n",
    "#for i in range(1,4) for j in range(i) ---> \n",
    "#for i in range(1,4):\n",
    "    #for j in range(i)\n",
    "print(l)\n",
    "\n",
    "l = [[i**2 for i in range(5)] for j in range(3)] #List of list. Note that this is not nested loops\n",
    "print(l)\n",
    "\n",
    "#We've been looking at list comprehension but set comprehension is exactly the same, but we can't have list of list\n",
    "\n",
    "#Dict comprehension follows similar pattern but has key:val pairs and be enclosed by {}\n",
    "l = {i:i**2 for i in range(5)} #Squared values\n",
    "print(l)\n",
    "l = {i:i**2 for i in range(5) if i!=1} #Adding an if conditional\n",
    "print(l)\n",
    "l = {(i**2 if i!=1 else \"E\"):(i if i!=1 else \"Error\") for i in range(5)} #Adding if/else conditionals\n",
    "print(l)\n",
    "l = {i:j**2 for i in range(1,4) for j in range(i)} #Nested for loop. The inner one is the first with the outer ones being nested\n",
    "print(l)\n",
    "l = {j:[i**2 for i in range(5)] for j in range(3)} #List of list. Note that this is not nested loops\n",
    "print(l)\n",
    "\n",
    "#Tuple comprehension creates a generator object and not a tuple object\n",
    "#We can work arond this by creatung an another iterable and casting it to tuple\n",
    "l = [i**2 for i in range(3)]\n",
    "print(tuple(l))\n",
    "g = (i**2 for i in range(3))\n",
    "print(g)\n",
    "print(tuple(g))"
   ]
  },
  {
   "cell_type": "markdown",
   "metadata": {},
   "source": [
    "### Symbol Tables:"
   ]
  },
  {
   "cell_type": "code",
   "execution_count": null,
   "metadata": {},
   "outputs": [],
   "source": [
    "#globals() #Shows all global variables and functions\n",
    "#Not running this because the output would be huge for this file"
   ]
  },
  {
   "cell_type": "code",
   "execution_count": 66,
   "metadata": {},
   "outputs": [
    {
     "name": "stdout",
     "output_type": "stream",
     "text": [
      "locals(): {'a': 1, 'b': 2, 'c': 'Hi'}\n",
      "1 2 Hi 22\n"
     ]
    }
   ],
   "source": [
    "d = 22 #global variable\n",
    "def F1(a,b,c=\"Hi\"):\n",
    "    print(\"locals():\",locals())\n",
    "    print(a,b,c,d) #d is a global variable. So be careful and make sure it is properly defined to the desired value because it is handled outside the function\n",
    "    \n",
    "F1(1,2)"
   ]
  }
 ],
 "metadata": {
  "kernelspec": {
   "display_name": "Python 3",
   "language": "python",
   "name": "python3"
  },
  "language_info": {
   "codemirror_mode": {
    "name": "ipython",
    "version": 3
   },
   "file_extension": ".py",
   "mimetype": "text/x-python",
   "name": "python",
   "nbconvert_exporter": "python",
   "pygments_lexer": "ipython3",
   "version": "3.8.3"
  }
 },
 "nbformat": 4,
 "nbformat_minor": 4
}
